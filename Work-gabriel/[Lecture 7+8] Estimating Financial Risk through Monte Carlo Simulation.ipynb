{
 "cells": [
  {
   "cell_type": "markdown",
   "metadata": {},
   "source": [
    "<div>\n",
    "<h1>Run the cell below to generate the road map (do not modify it)</h1></div>"
   ]
  },
  {
   "cell_type": "code",
   "execution_count": 1,
   "metadata": {
    "collapsed": false
   },
   "outputs": [
    {
     "data": {
      "application/javascript": [
       "var kernel = IPython.notebook.kernel;var thename = window.document.getElementById(\"notebook_name\").innerHTML;var command = \"THE_NOTEBOOK = \" + \"'\"+thename+\"'\";kernel.execute(command);command=\"os.environ['THE_NOTEBOOK'] = THE_NOTEBOOK\";kernel.execute(command);var cell = IPython.notebook.get_cell(2);cell.execute();IPython.notebook.get_cell(3).focus_cell();var x = $('.code_cell');$(x[1]).children('.input').hide();"
      ],
      "text/plain": [
       "<IPython.core.display.Javascript object>"
      ]
     },
     "metadata": {},
     "output_type": "display_data"
    }
   ],
   "source": [
    "%%javascript\n",
    "var kernel = IPython.notebook.kernel;var thename = window.document.getElementById(\"notebook_name\").innerHTML;var command = \"THE_NOTEBOOK = \" + \"'\"+thename+\"'\";kernel.execute(command);command=\"os.environ['THE_NOTEBOOK'] = THE_NOTEBOOK\";kernel.execute(command);var cell = IPython.notebook.get_cell(2);cell.execute();IPython.notebook.get_cell(3).focus_cell();var x = $('.code_cell');$(x[1]).children('.input').hide();"
   ]
  },
  {
   "cell_type": "code",
   "execution_count": 2,
   "metadata": {
    "collapsed": false
   },
   "outputs": [
    {
     "data": {
      "text/html": [
       "\n",
       "   <script src=\"http://code.jquery.com/jquery-latest.min.js\" type=\"text/javascript\"></script>\n",
       "   <script>\n",
       "      (function($){\n",
       "         $(document).ready(function(){\n",
       "\n",
       "         $('#cssmenu li.active').addClass('open').children('ul').show();\n",
       "            $('#cssmenu li.has-sub>a').on('click', function(){\n",
       "               $(this).removeAttr('href');\n",
       "               var margin_left = parseInt($(this).css('padding-left').replace('px', ''));\n",
       "               var element = $(this).parent('li');\n",
       "               if (element.hasClass('open')) {\n",
       "                  element.removeClass('open');\n",
       "                  element.find('li').removeClass('open');\n",
       "                  element.find('ul').slideUp(200);\n",
       "               }\n",
       "               else {\n",
       "                  element.addClass('open');\n",
       "                  element.children('ul').slideDown(200);\n",
       "                  element.siblings('li').children('ul').slideUp(200);\n",
       "                  element.siblings('li').removeClass('open');\n",
       "                  element.siblings('li').find('li').removeClass('open');\n",
       "                  element.siblings('li').find('ul').slideUp(200);\n",
       "                  element.children().find('a').css('padding-left', margin_left + 16 + \"px\");\n",
       "               }\n",
       "            });\n",
       "\n",
       "            var screen_height = $(window).height(); \n",
       "            var headerHeight = $(\"#header\").outerHeight();\n",
       "            var max_height_menu = screen_height - headerHeight;\n",
       "            $(\"#cssmenu\").css('max-height', max_height_menu + 'px');\n",
       "            $(\"#cssmenu\").css('top', headerHeight + 'px');\n",
       "            $(\"#menu-activator\").css('top', headerHeight + 'px');\n",
       "            $(\"#cssmenu\").show();\n",
       "            $(\"#menu-activator\").hide();\n",
       "\n",
       "\n",
       "            $(\"#menu-activator\").mouseover(function(){\n",
       "              $(\"#cssmenu\").show();\n",
       "              $(\"#menu-activator\").hide();\n",
       "            });\n",
       "\n",
       "\n",
       "            $(\"#cssmenu\").mouseleave(function(){\n",
       "              $(\"#cssmenu\").hide();\n",
       "              $(\"#menu-activator\").show();\n",
       "            });\n",
       "\n",
       "            $(\"div.anchor\").parent('div').addClass('bcolor');\n",
       "\n",
       "         });\n",
       "      })(jQuery);\n",
       "   </script>\n",
       "   <style>\n",
       "      @import url(http://fonts.googleapis.com/css?family=Raleway:400,200);\n",
       "      #cssmenu,\n",
       "      #cssmenu ul,\n",
       "      #cssmenu ul li,\n",
       "      #cssmenu ul li a {\n",
       "        margin: 0;\n",
       "        padding: 0;\n",
       "        border: 0;\n",
       "        list-style: none;\n",
       "        line-height: 1;\n",
       "        display: block;\n",
       "        position: relative;\n",
       "        -webkit-box-sizing: border-box;\n",
       "        -moz-box-sizing: border-box;\n",
       "        box-sizing: border-box;\n",
       "      }\n",
       "      #cssmenu {\n",
       "        width: 220px;\n",
       "        font-family: Raleway, sans-serif;\n",
       "        color: #ffffff;\n",
       "        max-height:600px;\n",
       "        overflow-y:scroll;\n",
       "        overflow-x:hidden;\n",
       "        position:fixed;\n",
       "        top:130px;\n",
       "        left:0px;\n",
       "      }\n",
       "      #cssmenu ul ul {\n",
       "        display: none;\n",
       "      }\n",
       "      #cssmenu > ul > li.active > ul {\n",
       "        display: block;\n",
       "      }\n",
       "      .align-right {\n",
       "        float: right;\n",
       "      }\n",
       "      #cssmenu > ul > li > a {\n",
       "        padding: 16px 22px;\n",
       "        cursor: pointer;\n",
       "        z-index: 2;\n",
       "        font-size: 16px;\n",
       "        text-decoration: none;\n",
       "        color: #ffffff;\n",
       "        background: #565656;\n",
       "        -webkit-transition: color .2s ease;\n",
       "        -o-transition: color .2s ease;\n",
       "        transition: color .2s ease;\n",
       "      }\n",
       "      #cssmenu > ul > li > a:hover {\n",
       "        color: #d8f3f0;\n",
       "      }\n",
       "      #cssmenu ul > li.has-sub > a:after {\n",
       "        position: absolute;\n",
       "        right: 26px;\n",
       "        top: 19px;\n",
       "        z-index: 5;\n",
       "        display: block;\n",
       "        height: 10px;\n",
       "        width: 2px;\n",
       "        background: #ffffff;\n",
       "        content: \"\";\n",
       "        -webkit-transition: all 0.1s ease-out;\n",
       "        -moz-transition: all 0.1s ease-out;\n",
       "        -ms-transition: all 0.1s ease-out;\n",
       "        -o-transition: all 0.1s ease-out;\n",
       "        transition: all 0.1s ease-out;\n",
       "      }\n",
       "      #cssmenu ul > li.has-sub > a:before {\n",
       "        position: absolute;\n",
       "        right: 22px;\n",
       "        top: 23px;\n",
       "        display: block;\n",
       "        width: 10px;\n",
       "        height: 2px;\n",
       "        background: #ffffff;\n",
       "        content: \"\";\n",
       "        -webkit-transition: all 0.1s ease-out;\n",
       "        -moz-transition: all 0.1s ease-out;\n",
       "        -ms-transition: all 0.1s ease-out;\n",
       "        -o-transition: all 0.1s ease-out;\n",
       "        transition: all 0.1s ease-out;\n",
       "      }\n",
       "      #cssmenu ul > li.has-sub.open > a:after,\n",
       "      #cssmenu ul > li.has-sub.open > a:before {\n",
       "        -webkit-transform: rotate(45deg);\n",
       "        -moz-transform: rotate(45deg);\n",
       "        -ms-transform: rotate(45deg);\n",
       "        -o-transform: rotate(45deg);\n",
       "        transform: rotate(45deg);\n",
       "      }\n",
       "      #cssmenu ul ul li a {\n",
       "        padding: 14px 22px;\n",
       "        cursor: pointer;\n",
       "        z-index: 2;\n",
       "        font-size: 14px;\n",
       "        text-decoration: none;\n",
       "        color: #dddddd;\n",
       "        background: #49505a;\n",
       "        -webkit-transition: color .2s ease;\n",
       "        -o-transition: color .2s ease;\n",
       "        transition: color .2s ease;\n",
       "      }\n",
       "      #cssmenu ul ul ul li a {\n",
       "        /*padding-left: 32px;*/\n",
       "      }\n",
       "      #cssmenu ul ul li a:hover {\n",
       "        color: #ffffff;\n",
       "      }\n",
       "      #cssmenu ul ul > li.has-sub > a:after {\n",
       "        top: 16px;\n",
       "        right: 26px;\n",
       "        background: #dddddd;\n",
       "      }\n",
       "      #cssmenu ul ul > li.has-sub > a:before {\n",
       "        top: 20px;\n",
       "        background: #dddddd;\n",
       "      }\n",
       "      #menu-activator {\n",
       "        position: fixed;\n",
       "        top: 130px;\n",
       "        left: 0px;\n",
       "        width: 60px;\n",
       "        padding: 16px 20px;\n",
       "        display: block;\n",
       "        background-color: #565656;\n",
       "        font-size: 16px;\n",
       "        color: white;\n",
       "      }\n",
       "\n",
       "      div.bcolor, span.bcolor {\n",
       "      \tborder-radius: 15px; \n",
       "      \tbackground: rgb(224,239,130);\n",
       "      \tpadding:10px;\n",
       "      }\n",
       "\n",
       "      div.answer, div.comment, div.note {\n",
       "        background-color: rgb(255, 235, 218);\n",
       "        padding: 10px;\n",
       "        border-radius: 5px;\n",
       "      }\n",
       "\n",
       "      div.comment::before, div.answer::before, div.note::before {\n",
       "          background-color: yellow;\n",
       "          color: red;\n",
       "          font-weight: bold;\n",
       "          margin-right:5px;\n",
       "          padding:3px;\n",
       "      }\n",
       "\n",
       "      div.comment::before {\n",
       "        content: \"Comment:\";\n",
       "      }\n",
       "\n",
       "      div.answer::before {\n",
       "        content: \"Answer:\";\n",
       "      }\n",
       "\n",
       "      div.note::before {\n",
       "        content: \"Note:\";\n",
       "      }\n",
       "\n",
       "      @media print{\n",
       "      \t#cssmenu {\n",
       "      \t\tdisplay:none;\n",
       "      \t}\n",
       "      }\n",
       "   </style>\n",
       "   <title>Roadmap</title>\n",
       "</head>\n",
       "<body>\n",
       "<div id=\"menu-activator\">O</div>\n",
       "<div id='cssmenu'>\n",
       "<ul>\n",
       "<li class='has-sub'><a href=\"#\">ROADMAP</a>\n",
       "<ul><li class='has-sub'><a href='#Estimating-Financial-Risk-through-Monte-Carlo-Simulation'>Estimating Financial Risk through Monte Carlo Simulation</a><ul><li><a href='#Goals'>Goals</a></li><li><a href='#Steps'>Steps</a></li><li><a href='#Reference'>Reference</a></li></ul></li><li class='has-sub'><a href='#1.-Introduction'>1. Introduction</a><ul><li><a href='#1.1.-Monte-Carlo-Simulation-(MCS)'>1.1. Monte Carlo Simulation (MCS)</a></li><li><a href='#1.2.-How-does-it-work?'>1.2. How does it work?</a></li></ul></li><li class='has-sub'><a href='#2.-Illustrative-example'>2. Illustrative example</a><ul><li class='has-sub'><a href='#2.1.-Unit-sales-and-unit-price'>2.1. Unit sales and unit price</a><ul><li><a href='#Question-1'>Question 1</a></li></ul></li><li><a href='#2.2.-Unit-Cost'>2.2. Unit Cost</a></li><li class='has-sub'><a href='#2.3.-A-Flawed-Model:-using-averages-to-represent-our-random-variables'>2.3. A Flawed Model: using averages to represent our random variables</a><ul><li class='has-sub'><a href='#Question-2'>Question 2</a><ul><li><a href='#Question-2.1'>Question 2.1</a></li><li><a href='#Question-2.2'>Question 2.2</a></li></ul></li></ul></li><li class='has-sub'><a href='#2.4.-Using-the-Monte-Carlo-Simulation-method-to-improve-our-model'>2.4. Using the Monte Carlo Simulation method to improve our model</a><ul><li class='has-sub'><a href='#Question-3'>Question 3</a><ul><li><a href='#Question-3.1'>Question 3.1</a></li><li><a href='#Question-3.2'>Question 3.2</a></li></ul></li></ul></li></ul></li><li><a href='#3.-A-brief-summary-of-the-Monte-Carlo-Simulation-(MCS)-technique'>3. A brief summary of the Monte Carlo Simulation (MCS) technique</a></li><li><a href='#4.-Common-distributions-used-in-MCS'>4. Common distributions used in MCS</a></li><li class='has-sub'><a href='#5.-A-real-use-case:-estimating-the-financial-risk-of-a-portfolio-of-stocks'>5. A real use case: estimating the financial risk of a portfolio of stocks</a><ul><li><a href='#5.1.-Terminology'>5.1. Terminology</a></li><li><a href='#5.2.-The-context-of-our-use-case'>5.2. The context of our use case</a></li><li><a href='#5.3.-The-Data'>5.3. The Data</a></li><li class='has-sub'><a href='#5.4.-Data-preprocessing'>5.4. Data preprocessing</a><ul><li><a href='#Factor-data-pre-processing'>Factor data pre-processing</a></li><li class='has-sub'><a href='#Question-4'>Question 4</a><ul><li><a href='#Question-4.1'>Question 4.1</a></li><li><a href='#Question-4.2'>Question 4.2</a></li></ul></li><li class='has-sub'><a href='#Stock-data-pre-processing'>Stock data pre-processing</a><ul><li><a href='#Question-4.3'>Question 4.3</a></li></ul></li><li class='has-sub'><a href='#Time-alignment-for-our-data'>Time alignment for our data</a><ul><li><a href='#Question-4.4'>Question 4.4</a></li></ul></li><li class='has-sub'><a href='#Dealing-with-missing-values'>Dealing with missing values</a><ul><li><a href='#Question-4.5'>Question 4.5</a></li><li><a href='#Question-4.6'>Question 4.6</a></li></ul></li></ul></li><li><a href='#5.5.-Summary-guidelines-to-apply-the-MCS-method-on-the-data-we-prepared'>5.5. Summary guidelines to apply the MCS method on the data we prepared</a></li><li class='has-sub'><a href='#5.6.-Applying-MCS'>5.6. Applying MCS</a><ul><li><a href='#Step-1:-Defining-relationship-between-market-factors-and-instrument's-returns'>Step 1: Defining relationship between market factors and instrument's returns</a></li><li class='has-sub'><a href='#Question-5'>Question 5</a><ul><li><a href='#Question-5.1'>Question 5.1</a></li><li><a href='#Question-5.2'>Question 5.2</a></li><li><a href='#Question-5.3'>Question 5.3</a></li></ul></li><li><a href='#Step-2:-Defining-the-distributions-for-the-market-conditions'>Step 2: Defining the distributions for the market conditions</a></li><li class='has-sub'><a href='#Question-6'>Question 6</a><ul><li><a href='#Question-6.1'>Question 6.1</a></li><li><a href='#Question-6.2'>Question 6.2</a></li></ul></li><li><a href='#Step-3&4:-Generating-samples,-running-simulation-and-calculating-the-VaR'>Step 3&4: Generating samples, running simulation and calculating the VaR</a></li><li><a href='#Question-7'>Question 7</a></li><li><a href='#Step-5:-Evaluating-the-results-using-backtesting-method'>Step 5: Evaluating the results using backtesting method</a></li><li class='has-sub'><a href='#Question-8'>Question 8</a><ul><li><a href='#Question-8.1'>Question 8.1</a></li><li><a href='#Question-8.2'>Question 8.2</a></li><li><a href='#Question-8.3'>Question 8.3</a></li></ul></li><li><a href='#Question-9'>Question 9</a></li><li><a href='#Question-10'>Question 10</a></li></ul></li></ul></li><li><a href='#6.-Summary'>6. Summary</a></li><li><a href='#References'>References</a></li></ul>\n",
       "</li>\n",
       "<li class='has-sub'><a href=\"#\">QUESTIONS</a>\n",
       "<ul><li><a href='#Question-1'>Question 1</a></li><li class='has-sub'><a href='#Question-2'>Question 2</a><ul><li><a href='#Question-2.1'>Question 2.1</a></li><li><a href='#Question-2.2'>Question 2.2</a></li></ul></li><li class='has-sub'><a href='#Question-3'>Question 3</a><ul><li><a href='#Question-3.1'>Question 3.1</a></li><li><a href='#Question-3.2'>Question 3.2</a></li></ul></li><li class='has-sub'><a href='#Question-4'>Question 4</a><ul><li><a href='#Question-4.1'>Question 4.1</a></li><li><a href='#Question-4.2'>Question 4.2</a></li><li><a href='#Question-4.3'>Question 4.3</a></li><li><a href='#Question-4.4'>Question 4.4</a></li><li><a href='#Question-4.5'>Question 4.5</a></li><li><a href='#Question-4.6'>Question 4.6</a></li></ul></li><li class='has-sub'><a href='#Question-5'>Question 5</a><ul><li><a href='#Question-5.1'>Question 5.1</a></li><li><a href='#Question-5.2'>Question 5.2</a></li><li><a href='#Question-5.3'>Question 5.3</a></li></ul></li><li class='has-sub'><a href='#Question-6'>Question 6</a><ul><li><a href='#Question-6.1'>Question 6.1</a></li><li><a href='#Question-6.2'>Question 6.2</a></li></ul></li><li><a href='#Question-7'>Question 7</a></li><li class='has-sub'><a href='#Question-8'>Question 8</a><ul><li><a href='#Question-8.1'>Question 8.1</a></li><li><a href='#Question-8.2'>Question 8.2</a></li><li><a href='#Question-8.3'>Question 8.3</a></li></ul></li><li><a href='#Question-9'>Question 9</a></li><li><a href='#Question-10'>Question 10</a></li></ul>\n",
       "</li>\n",
       "</ul>\n",
       "</div>\n",
       "\n"
      ],
      "text/plain": [
       "<IPython.core.display.HTML object>"
      ]
     },
     "execution_count": 2,
     "metadata": {},
     "output_type": "execute_result"
    }
   ],
   "source": [
    "outputdir = \"/tmp/tools/\"\n",
    "!mkdir -p $outputdir\n",
    "!wget \"https://www.dropbox.com/s/4g0pigmro4vo1b4/menutemplate?dl=0\" -O /tmp/tools/menutemplate >> /tmp/toollog 2>&1 \n",
    "!wget \"https://www.dropbox.com/s/3flttpzhsja8td7/construct_menu.py?dl=0\" -O /tmp/tools/construct_menu.py >> /tmp/toollog 2>&1 \n",
    "!python /tmp/tools/construct_menu.py \"{THE_NOTEBOOK}.ipynb\" {outputdir}\n",
    "from IPython.core.display import HTML\n",
    "output_file_name = outputdir + THE_NOTEBOOK.replace(\" \", \"\").replace(\"[\", \"\").replace(\"]\", \"\") + \".ipynb.html\"\n",
    "with open(output_file_name) as fp:\n",
    "    html = fp.read()\n",
    "HTML(html)"
   ]
  },
  {
   "cell_type": "markdown",
   "metadata": {},
   "source": [
    "# Estimating Financial Risk through Monte Carlo Simulation\n",
    "Risk analysis is part of every decision we make when faced with uncertainty, ambiguity, and variability. Indeed, even though we have unprecedented access to information, we can't accurately predict the future. In finance, there is a fair amount of uncertainty and risk involved with estimating the future value of financial products, due to the wide variety of potential outcomes. Monte Carlo simulation (also known as the Monte Carlo Method) allows inspecting many possible outcomes of the decision making process, and can be used to assess the impact of risk: this, in turns, allows for better decision making under uncertainty.\n",
    "\n",
    "## Goals\n",
    "The main objectives we set for this Notebook are as follows:\n",
    "1. Develop fudamental knowledge about Risk analysis\n",
    "2. Understand Monte Carlo Simulation (MCS)\n",
    "3. Apply Monte Carlo Simulation for predicting risk\n",
    "\n",
    "\n",
    "## Steps\n",
    "1. First, in section 1, we introduce the basics of MCS\n",
    "2. In section 2, we work on a simple example to where we apply the MCS method\n",
    "3. In section 3, we briefly summarize the main characteristics of the Monte Carlo Simulation (MCS) technique\n",
    "4. In section 4, we overview the common distributions which are often used in MCS\n",
    "5. In section 5, we work on a real use case, that focuses on estimating financial risk. We will use techniques such as featurizing (that is, generating additional features to improve model accuracy), linear regression, kernel density estimation, sampling distributions and so on ...\n",
    "\n",
    "## Reference\n",
    "This Notebook is inspired by Chapter 9 of the book [Advanced Analytics with Spark](http://shop.oreilly.com/product/0636920035091.do) by Josh Wills, Sandy Ryza, Sean Owen, and Uri Laserson. It is strongly suggested to read this Chapter to get a general idea of the topic of this Notebook.\n",
    "\n",
    "# 1. Introduction\n",
    "\n",
    "## 1.1. Monte Carlo Simulation (MCS)\n",
    "Monte Carlo simulation is a computerized mathematical technique that can be applied such that it is possible to account for risk in quantitative analysis and decision making. This technique is used in many different fields, such as R&D, risk management, portfolio management, pricing derivatives, strategic planning, project planning, cost modeling and many more.\n",
    "\n",
    "In general, MCS is a technique that \"converts\" uncertainty on input variables of a model into **probability distributions**. By combining the distributions and randomly selecting values from them, it recalculates the simulated model many times, to determine the probability of the output.\n",
    "\n",
    "Historically, this technique was first used by scientists working on the atomic bomb: it was named after Monte Carlo, the Monaco resort town renowned for its casinos.  Since its introduction in World War II, Monte Carlo simulation has been used to model a variety of physical and conceptual systems.\n",
    "\n",
    "## 1.2. How does it work?\n",
    "Monte Carlo simulation performs risk analysis by building models of possible results by *substituting a range of possible input values, that constitute uncertainty, into a statistical distribution*. It then computes possible outcomes repeatedly, each time using a different set of random values from the probability functions that \"model\" the input. Depending upon the number of random input variables and their distribution, a Monte Carlo simulation could involve thousands or tens of thousands of \"rounds\" before it is complete. When complete, *Monte Carlo simulation produces distributions of possible outcome values*.\n",
    "\n",
    "By using probability distributions instead of actual input samples, it is possible to model more accurately uncertainty: different choices of distributions will yield different outputs."
   ]
  },
  {
   "cell_type": "markdown",
   "metadata": {},
   "source": [
    "# 2. Illustrative example\n",
    "\n",
    "Imagine you are the marketing manager for a firm that is planning to introduce a new product. You need to estimate the first year net profit from this product, which might depend on:\n",
    "\n",
    "- Sales volume in units\n",
    "- Price per unit (also called \"Selling price\")\n",
    "- Unit cost\n",
    "- Fixed costs\n",
    "\n",
    "Net profit will be calculated as $Net Profit = Sales Volume* (Selling Price - Unit cost) - Fixed costs$.  Fixed costs (accounting for various overheads, advertising budget, etc.) are known to be \\$ 120,000, which we assume to be deterministic. All other factors, instead, involve some uncertainty: *sales volume* (in units) can cover quite a large range, the *selling price* per unit will depend on competitor actions, which are hard to predict, and *unit costs* will also vary depending on vendor prices and production experience, for example.\n",
    "\n",
    "Now, to build a risk analysis model, we must first identify the uncertain variables -- which are essentially random variables.  While there's some uncertainty in almost all variables in a business model, we want to focus on variables where the range of values is significant."
   ]
  },
  {
   "cell_type": "markdown",
   "metadata": {},
   "source": [
    "## 2.1. Unit sales and unit price\n",
    "\n",
    "Based on an hypothetical market research you have done, you have beliefs that there are equal chances for the market to be `slow`, `normal`, or `hot`:\n",
    "\n",
    "- In a \"slow\" market, you expect to sell 50,000 units at an average selling price of \\$11.00 per unit\n",
    "- In a \"normal\" market, you expect to sell 75,000 units, but you'll likely realize a lower average selling price of \\$10.00 per unit\n",
    "- In a \"hot\" market, you expect to sell 100,000 units, but this will bring in competitors, who will drive down the average selling price to \\$8.00 per unit"
   ]
  },
  {
   "cell_type": "markdown",
   "metadata": {},
   "source": [
    "![](https://farm2.staticflickr.com/1604/24934700445_833f0a5649_t.jpg)"
   ]
  },
  {
   "cell_type": "markdown",
   "metadata": {},
   "source": [
    "<div class='anchor' ></div>\n",
    "### Question 1\n",
    "\n",
    "Calculate the average units and the unit price that you expect to sell, which depend on the market state. Use the assumptions above to compute the expected quantity of products and their expected unit price. \n"
   ]
  },
  {
   "cell_type": "markdown",
   "metadata": {},
   "source": [
    "```python\n",
    "average_unit = ...\n",
    "average_price = ...\n",
    "print(\"average unit:\", average_unit)\n",
    "print(\"average_price:\", average_price)\n",
    "```"
   ]
  },
  {
   "cell_type": "code",
   "execution_count": 3,
   "metadata": {
    "collapsed": false
   },
   "outputs": [
    {
     "name": "stdout",
     "output_type": "stream",
     "text": [
      "average unit: 75000.0\n",
      "average_price: 9.66666666667\n"
     ]
    }
   ],
   "source": [
    "import numpy as np\n",
    "\n",
    "units = np.array([50000, 75000, 100000])\n",
    "prices = np.array([11.0, 10.0, 8.0])\n",
    "average_unit = np.mean(units)\n",
    "#average_price = np.sum(units*prices)/(np.sum(units))\n",
    "average_price = np.sum(prices)/3\n",
    "print(\"average unit:\", average_unit)\n",
    "print(\"average_price:\", average_price)"
   ]
  },
  {
   "cell_type": "markdown",
   "metadata": {},
   "source": [
    "## 2.2. Unit Cost\n",
    "\n",
    "Another uncertain variable is Unit Cost. In our illustrative example, we assume that your firm's production manager advises you that unit costs may be anywhere from \\$5.50 to \\$7.50, with a most likely expected cost of \\$6.50. In this case, the most likely cost can be considered as the average cost.\n",
    "\n",
    "## 2.3. A Flawed Model: using averages to represent our random variables\n",
    "Our next step is to identify uncertain functions -- also called functions of a random variable.  Recall that Net Profit is calculated as $Net Profit = Sales Volume * (Selling Price - Unit cost) - Fixed costs$.  However, Sales Volume, Selling Price and Unit Cost are all uncertain variables, so Net Profit is an uncertain function.\n",
    "\n",
    "The most simple model to predict the Net Profit is using average of sales volume, average of selling price and average of unit cost for calculating. So, if only consider averages, we can say that the $Net Profit = 75,000*(9.66666666 - 6.5) - 120,000 \\sim 117,500$.\n",
    "\n",
    "However, as [Dr. Sam Savage](http://web.stanford.edu/~savage/faculty/savage/) warns, \"Plans based on average assumptions will be wrong on average.\" The calculated result is far from the actual value: indeed, the **true average Net Profit** is roughly  \\$93,000, as we will see later in the example."
   ]
  },
  {
   "cell_type": "markdown",
   "metadata": {},
   "source": [
    "![](https://farm2.staticflickr.com/1604/24934700445_833f0a5649_t.jpg)"
   ]
  },
  {
   "cell_type": "markdown",
   "metadata": {},
   "source": [
    "<div class='anchor' ></div>\n",
    "### Question 2\n",
    "#### Question 2.1\n",
    "Write a function named `calNetProfit` to calculate the Net Profit using the average of sales volume, the average of selling price and the average of unit cost."
   ]
  },
  {
   "cell_type": "markdown",
   "metadata": {},
   "source": [
    "```python\n",
    "def calNetProfit(average_unit, average_price, average_unitcost, fixed_cost):\n",
    "    return ...\n",
    "\n",
    "average_unitcost = ...\n",
    "fixed_cost = ...\n",
    "NetProfit = calNetProfit(...,...,...,...)\n",
    "print(\"Net profit:\", NetProfit)\n",
    "```"
   ]
  },
  {
   "cell_type": "code",
   "execution_count": 4,
   "metadata": {
    "collapsed": false
   },
   "outputs": [
    {
     "name": "stdout",
     "output_type": "stream",
     "text": [
      "Net profit: 117500.0\n"
     ]
    }
   ],
   "source": [
    "def calNetProfit(average_unit, average_price, average_unitcost, fixed_cost):\n",
    "    return average_unit*(average_price-average_unitcost)-fixed_cost\n",
    "\n",
    "average_unitcost = 6.50\n",
    "fixed_cost = 120000\n",
    "NetProfit = calNetProfit(average_unit,average_price,average_unitcost,fixed_cost)\n",
    "print(\"Net profit:\", NetProfit)"
   ]
  },
  {
   "cell_type": "markdown",
   "metadata": {},
   "source": [
    "<div class='anchor' ></div>\n",
    "#### Question 2.2\n",
    "Verify the warning message of Dr. Sam Savage by calculating the error of our estimated Net Profit using averages only. Recall that the true value is roughly \\$93,000, so we are interested in:\n",
    "\n",
    "$$ error = \\frac{your\\_value - true\\_value}{true\\_value}$$\n",
    "\n",
    "Note also we are interested in displaying the error as a percentage.\n",
    "\n",
    "Looking at the error we make, do you think that we can use the current model that only relies on averages?"
   ]
  },
  {
   "cell_type": "markdown",
   "metadata": {},
   "source": [
    "```python\n",
    "trueNetProfit = ...\n",
    "error = (... - ...) / (...)\n",
    "print(\"Error in percentage:\", error * ...)\n",
    "```"
   ]
  },
  {
   "cell_type": "code",
   "execution_count": 5,
   "metadata": {
    "collapsed": false
   },
   "outputs": [
    {
     "name": "stdout",
     "output_type": "stream",
     "text": [
      "Error in percentage: 26.3440860215\n"
     ]
    }
   ],
   "source": [
    "trueNetProfit = 93000\n",
    "error = (NetProfit - trueNetProfit) / (trueNetProfit)\n",
    "print(\"Error in percentage:\", error * 100)"
   ]
  },
  {
   "cell_type": "markdown",
   "metadata": {},
   "source": [
    "<div class=\"comment\">\n",
    "\n",
    "PUT YOUR COMMENT HERE\n",
    "\n",
    "</div>"
   ]
  },
  {
   "cell_type": "markdown",
   "metadata": {},
   "source": [
    "## 2.4. Using the Monte Carlo Simulation method to improve our model\n",
    "As discussed before, the selling price and selling volume both depend on the state of the market scenario (slow/normal/hot). So, the net profit is the result of two random variables: `market scenario` (which in turn determines `sales volumes` and `selling price`) and `unit cost`.\n",
    "\n",
    "Now, let's assume (this is an *a-priori* assumption we make) that `market scenario` follows a discrete, uniform distribution and that `unit cost` also follows a uniform distribution. Then, we can compute directly the values for selling price and selling volumes based on the outcome of the random variable `market scenario`, as shown in Section 2.1.\n",
    "\n",
    "From these a-priori distributions, in each run (or trial) of our Monte Carlo simulation, we can generate the sample value for each random variable and use it to calculate the Net Profit. The more simulation runs, the more accurate our results will be. For example, if we run the silmulation 100,000 times, the average net profit will amount to roughly \\$92,600. Every time we run the simulation, a different prediction will be output: the average of such predictions will consistently be less than \\$117,500, which we predicted using averages only.\n",
    "\n",
    "Note also that in this simple example, we generate values for the `market scenario` and `unit cost` independently: we consider them to be **independent random variables**. This means that the eventual (and realistic!) correlation between the `market scenario` and `unit cost` variables is ignored. Later, we will learn how to be more precise and account for dependency between random variables.\n"
   ]
  },
  {
   "cell_type": "markdown",
   "metadata": {},
   "source": [
    "![](https://farm2.staticflickr.com/1604/24934700445_833f0a5649_t.jpg)"
   ]
  },
  {
   "cell_type": "markdown",
   "metadata": {},
   "source": [
    "<div class='anchor' ></div>\n",
    "### Question 3\n",
    "#### Question 3.1\n",
    "Write a function named `get_sales_volume_price` that returns the sales volume and price based on the market scenario. In particular, the scenario can get one of three values:\n",
    "\n",
    "* 0: Slow market\n",
    "* 1: Normal market\n",
    "* 2: Hot market\n",
    "\n",
    "The return value is a tuple in the form: `(sales_volume, price)`"
   ]
  },
  {
   "cell_type": "markdown",
   "metadata": {},
   "source": [
    "```python\n",
    "# Get sales volume and  price based on market scenario\n",
    "# the function returns a tuple of (sales_volume, price)\n",
    "def get_sales_volume_price(scenario):\n",
    "    # Slow market\n",
    "    if scenario == 0:\n",
    "        return (...,...)\n",
    "    # Normal market\n",
    "    if ...\n",
    "    # Hot market\n",
    "    if ...\n",
    "```"
   ]
  },
  {
   "cell_type": "code",
   "execution_count": 6,
   "metadata": {
    "collapsed": true
   },
   "outputs": [],
   "source": [
    "# Get sales volume and  price based on market scenario\n",
    "# the function returns a tuple of (sales_volume, price)\n",
    "def get_sales_volume_price(scenario):\n",
    "    # Slow market\n",
    "    if scenario == 0:\n",
    "        return (50000,11)\n",
    "    # Normal market\n",
    "    if scenario == 1:\n",
    "        return (75000,10)\n",
    "    # Hot market\n",
    "    if scenario == 2:\n",
    "        return (100000,8)"
   ]
  },
  {
   "cell_type": "markdown",
   "metadata": {},
   "source": [
    "<div class='anchor' ></div>\n",
    "#### Question 3.2\n",
    "Run 100,000 Monte Carlo simulations and calculate the average net profit they produce. Then, compare the result to the \"average model\" we used in the previous questions (the one we called \"flawed\" model). Put your comments about the discrepancies between a simplistic model, and the more accurate MCS approach.\n",
    "\n",
    "Note that in each iteration, the `unit_cost` and `market_scenario` are generated according to their distributions. Also, recall what we have seen in Section 2.2: your firm account manager helped you with some research, to determine the variability of your random variables.\n",
    "\n",
    "\n",
    "HINT: \n",
    "Funtion `uniform(a,b)` in module `random` generates a number $a<=c<=b$, which is drawn from a uniform distribution.\n",
    "Function `randint(a,b)` helps you generating an integer number $a<=c<=b$"
   ]
  },
  {
   "cell_type": "markdown",
   "metadata": {},
   "source": [
    "```python\n",
    "import random\n",
    "\n",
    "total = 0.0\n",
    "num_simulation = 100000\n",
    "for i in range(0,num_simulation):\n",
    "    unit_cost = ...\n",
    "    market_scenario = ...\n",
    "    sales_volume, price = get_sales_volume_price(...)\n",
    "    netProfit = ...\n",
    "    total = ...\n",
    "\n",
    "print(\"average net profit:\", ...)\n",
    "```"
   ]
  },
  {
   "cell_type": "code",
   "execution_count": 7,
   "metadata": {
    "collapsed": false
   },
   "outputs": [
    {
     "name": "stdout",
     "output_type": "stream",
     "text": [
      "average net profit: 92766.78089868913\n"
     ]
    }
   ],
   "source": [
    "import random\n",
    "\n",
    "fixed_cost = 120000\n",
    "\n",
    "total = 0.0\n",
    "num_simulation = 100000\n",
    "for i in range(0,num_simulation):\n",
    "    unit_cost = np.random.uniform(5.5, 7.5)\n",
    "    market_scenario = np.random.randint(0,3)\n",
    "    sales_volume, price = get_sales_volume_price(market_scenario)\n",
    "    netProfit = sales_volume*(price-unit_cost)-fixed_cost\n",
    "    total += netProfit\n",
    "\n",
    "print(\"average net profit:\", total/num_simulation)"
   ]
  },
  {
   "cell_type": "code",
   "execution_count": 8,
   "metadata": {
    "collapsed": false
   },
   "outputs": [
    {
     "name": "stdout",
     "output_type": "stream",
     "text": [
      "Error in percentage: -0.25077322721598677\n"
     ]
    }
   ],
   "source": [
    "trueNetProfit = 93000\n",
    "error = (total/num_simulation - trueNetProfit) / (trueNetProfit)\n",
    "print(\"Error in percentage:\", error * 100)"
   ]
  },
  {
   "cell_type": "markdown",
   "metadata": {},
   "source": [
    "<div class=\"comment\">\n",
    "PUT YOUR COMMENT HERE\n",
    "</div>"
   ]
  },
  {
   "cell_type": "markdown",
   "metadata": {},
   "source": [
    "\n",
    "# 3. A brief summary of the Monte Carlo Simulation (MCS) technique\n",
    "\n",
    "- A MCS allows several inputs to be used at the same time to compute the probability distribution of one or more outputs\n",
    "- Different types of probability distributions can be assigned to the inputs of the model, depending on any *a-priori* information that is available. When the distribution is completely unknown, a common technique is to use a distribution computed by finding the best fit to the data you have\n",
    "- The MCS method is also called a **stochastic method** because it uses random variables. Note also that the general assumption is for input random variables to be independent from eachother. When this is not the case, there are techniques to account for correlation between random variables.\n",
    "- A MCS generates the output as a range instead of a fixed value and shows how likely the output value is to occur in that range. In other words, the model outputs a probability distribution."
   ]
  },
  {
   "cell_type": "markdown",
   "metadata": {
    "collapsed": true
   },
   "source": [
    "# 4. Common distributions used in MCS\n",
    "In what follows, we summarize the most common probability distributions that are used as *a-priori* distributions for input random variables:\n",
    "\n",
    "- *Normal/Gaussian Distribution*: this is a continuous distribution applied in situations where the mean and the standard deviation of a given input variable are given, and the mean represents the most probable value of the variable. In other words, values \"near\" the mean are most likely to occur.  This is symmetric distribution, and it is not bounded in its co-domain. It is very often used to  describe natural phenomena, such as people’s heights, inflation rates, energy prices, and so on and so forth. An illustration of a normal distribution is given below:\n",
    "![normal_distribution](https://upload.wikimedia.org/wikipedia/commons/thumb/7/74/Normal_Distribution_PDF.svg/320px-Normal_Distribution_PDF.svg.png)\n",
    "\n",
    "- *Lognormal Distribution* : this is a distribution which is appropriate for variables taking values in the range $[0, \\infty]$. Values are positively skewed, not symmetric like a normal distribution.  Examples of variables described by a lognormal distributions include, for example, real estate property values, stock prices, and oil reserves. An illustration of a lognormal distribution is given below:\n",
    "![log_normal_distribution](https://upload.wikimedia.org/wikipedia/commons/thumb/a/ae/PDF-log_normal_distributions.svg/320px-PDF-log_normal_distributions.svg.png) \n",
    "\n",
    "- *Triangular Distribution* : this is a continuous distribution with fixed minimum and maximum values. It is bounded by the minimum and maximum values and can be either symmetrical (the most probable value = mean = median) or asymmetrical. Values around the most likely value (e.g. the mean) are more likely to occur.  Variables that could be described by a triangular distribution include, for example, past sales history per unit of time and inventory levels. An illustration of a triangular distribution is given below:\n",
    "![](https://upload.wikimedia.org/wikipedia/commons/thumb/4/45/Triangular_distribution_PMF.png/320px-Triangular_distribution_PMF.png)\n",
    "\n",
    "- *Uniform Distribution* : this is a continuous distribution bounded by known minimum and maximum values. In contrast to the triangular distribution, the likelihood of occurrence of the values between the minimum and maximum is the same. In other words, all values have an equal chance of occurring, and the distribution is simply characterized by the minimum and maximum values. Examples of variables that can be described by a uniform distribution include manufacturing costs or future sales revenues for a new product. An illustration of the uniform distribution is given below:\n",
    "![](https://upload.wikimedia.org/wikipedia/commons/thumb/9/96/Uniform_Distribution_PDF_SVG.svg/320px-Uniform_Distribution_PDF_SVG.svg.png)\n",
    "\n",
    "- *Exponential Distribution* : this is a continuous distribution used to model the time that pass between independent occurrences, provided that the rate of occurrences is known. An example of the exponential distribution is given below:\n",
    "![](https://upload.wikimedia.org/wikipedia/commons/thumb/e/ec/Exponential_pdf.svg/320px-Exponential_pdf.svg.png)\n",
    "\n",
    "- *Discrete Distribution* : for this kind of distribution, the \"user\" defines specific values that may occur and the likelihood of each of them.  An example might be the results of a lawsuit: 20% chance of positive verdict, 30% change of negative verdict, 40% chance of settlement, and 10% chance of mistrial.\n"
   ]
  },
  {
   "cell_type": "markdown",
   "metadata": {},
   "source": [
    "# 5. A real use case: estimating the financial risk of a portfolio of stocks\n",
    "We hope that by now you have a good understanding about Monte Carlo simulation. Next, we apply this method to a real use case: *financial risk estimation*.\n",
    "\n",
    "Imagine that you are an investor on the stock market. You plan to buy some stocks and you want to estimate the maximum loss you could incur after two weeks of investing. This is the quantity that the financial statistic \"Value at Risk\" (VaR) seeks to measure. [VaR](https://en.wikipedia.org/wiki/Value_at_risk) is defined as a measure of investment risk that can be used as a reasonable estimate of the maximum probable loss for a value of an investment portfolio, over a particular time period. A VaR statistic depends on three parameters: a portfolio, a time period, and a confidence level. A VaR of 1 million dollars with a 95% confidence level over two weeks, indicates the belief that the portfolio stands only a 5% chance of losing more than 1 million dollars over two weeks. VaR has seen widespread use across financial services organizations. This statistic plays a vital role in determining how much cash investors must hold to meet the credit ratings that they seek. In addition, it is also used to understand the risk characteristics of large portfolios: it is a good idea to compute the VaR before executing trades, such that it can help take informed decisions about investments. \n",
    "\n",
    "Our goal is calculating VaR of two weeks interval with 95% confidence level and the associated [VaR confidence interval](http://www.investopedia.com/ask/answers/041615/whats-difference-between-confidence-level-and-confidence-interval-value-risk-var.asp).\n",
    "\n",
    "\n",
    "## 5.1. Terminology\n",
    "In this use case, we will use some terms that might require a proper definition, given the domain. This is what we call the *Domain Knowledge*.\n",
    "\n",
    "- **Instrument**: A tradable asset, such as a bond, loan, option, or stock investment. At any particular time, an instrument is considered to have a value, which is the price for which it can be sold. In the use case of this notebook, instruments are stock investments.\n",
    "- **Portfolio**: A collection of instruments owned by a financial institution. \n",
    "- **Return**: The change in an instrument or portfolio’s value over a time period. \n",
    "- **Loss**: A negative return. \n",
    "- **Index**: An imaginary portfolio of instruments. For example, the NASDAQ Composite index includes about 3,000 stocks and similar instruments for major US and international companies. \n",
    "- **Market factor**: A value that can be used as an indicator of macro aspects of the financial climate at a particular time. For example, the value of an index, the Gross Domestic Product of the United States, or the exchange rate between the dollar and the euro. We will often refer to market factors as just factors.\n",
    "\n",
    "## 5.2. The context of our use case\n",
    "We have a list of instruments that we plan to invest in. The historial data of each instrument has been collected for you. For simplicity, assume that the returns of instruments at a given time, depend on 4 market factors only: \n",
    "\n",
    "- GSPC value\n",
    "- IXIC value \n",
    "- The return of crude oil\n",
    "- The return of treasury bonds\n",
    "\n",
    "Our goal is building a model to predict the loss after two weeks time interval with confidence level set to 95%.\n",
    "\n",
    "As a side note, it is important to realize that the approach presented in this Notebook is a simplified version of what would happen in a real Financial firm. For example, the returns of instruments at a given time often depend on more than 4 market factors only! Moreovoer, the choice of what constitute an appropriate market factor is an art!\n",
    "\n"
   ]
  },
  {
   "cell_type": "markdown",
   "metadata": {},
   "source": [
    "## 5.3. The Data\n",
    "The stock data can be downloaded (or scraped) from Yahoo! by making a series of REST calls. The data includes multiple files. Each file contains the historical information of each instrument that we want to invest in. The data is in the following format (with some samples):\n",
    "```\n",
    "Date, Open, High, Low, Close, Volume, Adj Close\n",
    "2016-01-22,66.239998,68.07,65.449997,67.860001,137400,67.860001\n",
    "2016-01-21,65.410004,66.18,64.459999,65.050003,148000,65.050003\n",
    "2016-01-20,64.279999,66.32,62.77,65.389999,141300,65.389999\n",
    "2016-01-19,67.720001,67.989998,64.720001,65.379997,178400,65.379997\n",
    "```\n",
    "\n",
    "The data of GSPC and IXIC values (our two first market factors) are also available on Yahoo! and use the very same format. \n",
    "\n",
    "The crude oil and treasure bonds data is collected from investing.com, and has a different format, as shown below (with some samples):\n",
    "```\n",
    "Date    Price   Open    High    Low     Vol.    Change %\n",
    "Jan 25, 2016    32.17   32.36   32.44   32.10   -       -0.59%\n",
    "Jan 24, 2016    32.37   32.10   32.62   31.99   -       0.54%\n",
    "Jan 22, 2016    32.19   29.84   32.35   29.53   -       9.01%\n",
    "Jan 21, 2016    29.53   28.35   30.25   27.87   694.04K 11.22%\n",
    "Jan 20, 2016    26.55   28.33   28.58   26.19   32.11K  -6.71%\n",
    "Jan 19, 2016    28.46   29.20   30.21   28.21   188.03K -5.21%\n",
    "```\n",
    "\n",
    "In our use case, the factors' data will be used jointly to build a statiscal model: as a consequence, we first need to preprocess the data to proceed.\n",
    "\n",
    "## 5.4. Data preprocessing\n",
    "In this Notebook, all data files have been downloaded for you, such that you can focus on pre-processing. Next, we will:\n",
    "\n",
    "  - Read the factor data files which are in two different formats, process and merge them together\n",
    "  - Read the stock data and pre-process it\n",
    "  - Trim all data into a specific time region\n",
    "  - Fill in the missing values\n",
    "  - Generate the data of returns in each two weeks time interval window\n",
    "  \n",
    "### Factor data pre-processing\n",
    "\n",
    "We need two functions to read and parse data from Yahoo! and Investing.com respectively. We are interested only in information about the time and the corresponding returns of a factor or an instrument: as a consequence, we will project away many columns of our RAW data, and keep only the information we are interested in.\n",
    "\n",
    "The 3000-instrument and the 4-factor history are small enough to be read and processed locally: we do not need to use the power of parallel computing to proceed. Note that this is true also for larger cases with hundreds of thousands of instruments and thousands of factors. The need for a distributed system like Spark comes in when actually **running** the Monte Carlo simulations, which can require massive amounts of computation on each instrument. "
   ]
  },
  {
   "cell_type": "markdown",
   "metadata": {},
   "source": [
    "![](https://farm2.staticflickr.com/1604/24934700445_833f0a5649_t.jpg)"
   ]
  },
  {
   "cell_type": "markdown",
   "metadata": {},
   "source": [
    "<div class='anchor' ></div>\n",
    "\n",
    "### Question 4\n",
    "#### Question 4.1\n",
    "Write a function named `readInvestingDotComHistory` to parse data from investing.com based on the format specified above (see Section 5.3). Recall that we use two factors here: one that is related to the price of crude oil, one that is related to some specific US bonds. \n",
    "\n",
    "Print the first 5 entries of the first factor (crude oil price) in the parsed data.\n",
    "\n",
    "Note that we are only interested in the date and price of stocks.\n",
    "\n",
    "HINT: You can parse a string to `datetime` object by using the function `strptime(<string>, <dtime_format>)`. In this case, the datetime format is `\"%b %d, %Y\"`. For more information, please follow this [link](https://docs.python.org/2/library/datetime.html#strftime-and-strptime-behavior)."
   ]
  },
  {
   "cell_type": "markdown",
   "metadata": {},
   "source": [
    "In the next cell, we simply copy data from our HDFS cluster (that contains everything we need for this Notebook) to the instance (a Docker container) running your Notebook. This means that you will have \"local\" data that you can process without using Spark. Note the folder location: find and verify that you have correctly downloaded the files!"
   ]
  },
  {
   "cell_type": "code",
   "execution_count": 50,
   "metadata": {
    "collapsed": false
   },
   "outputs": [
    {
     "name": "stdout",
     "output_type": "stream",
     "text": [
      "Downloading prepared data from HDFS. Please wait...\r\n",
      "/bin/sh: hdfs: command not found\r\n",
      "Done!\r\n"
     ]
    }
   ],
   "source": [
    "! [ -d monte-carlo-risk ] || (echo \"Downloading prepared data from HDFS. Please wait...\" ; hdfs dfs -copyToLocal /datasets/monte-carlo-risk . ; echo \"Done!\";)"
   ]
  },
  {
   "cell_type": "markdown",
   "metadata": {},
   "source": [
    "```python\n",
    "from datetime import datetime\n",
    "from datetime import timedelta\n",
    "from itertools import islice\n",
    "%matplotlib inline\n",
    "import numpy as np\n",
    "import statsmodels.api as sm\n",
    "\n",
    "base_folder = \"monte-carlo-risk/\"\n",
    "\n",
    "factors_folder= base_folder + \"factors/\"\n",
    "\n",
    "# read data from local disk\n",
    "def readInvestingDotComHistory(fname):\n",
    "    def process_line(line):\n",
    "        cols = line.split(...)\n",
    "        date = datetime.strptime(..., ...)\n",
    "        value = float(...)\n",
    "        return (date, value)\n",
    "    \n",
    "    with open(fname) as f:\n",
    "        content_w_header = f.readlines()\n",
    "        # remove the first line \n",
    "        # and reverse lines to sort the data by date, in ascending order\n",
    "        content = content_w_header....\n",
    "        return list(map(process_line , content))\n",
    "\n",
    "factor1_files = ['crudeoil.tsv', 'us30yeartreasurybonds.tsv']\n",
    "factor1_files = map(lambda fn: factors_folder + fn, factor1_files)\n",
    "factors1 = [readInvestingDotComHistory(f) for f in factor1_files]\n",
    "\n",
    "print(factors1...)\n",
    "```"
   ]
  },
  {
   "cell_type": "code",
   "execution_count": 9,
   "metadata": {
    "collapsed": false
   },
   "outputs": [
    {
     "name": "stdout",
     "output_type": "stream",
     "text": [
      "[(datetime.datetime(2006, 1, 26, 0, 0), 66.26), (datetime.datetime(2006, 1, 27, 0, 0), 67.76), (datetime.datetime(2006, 1, 30, 0, 0), 68.35), (datetime.datetime(2006, 1, 31, 0, 0), 67.92), (datetime.datetime(2006, 2, 1, 0, 0), 66.56)]\n"
     ]
    }
   ],
   "source": [
    "from datetime import datetime\n",
    "from datetime import timedelta\n",
    "from itertools import islice\n",
    "%matplotlib inline\n",
    "import numpy as np\n",
    "import statsmodels.api as sm\n",
    "\n",
    "# base_folder = \"monte-carlo-risk/\"\n",
    "base_folder = \"/Users/quentinleroy/Documents/Eurecom/AML/Lab7+8/monte-carlo-risk/\"\n",
    "\n",
    "factors_folder= base_folder + \"factors/\"\n",
    "\n",
    "# read data from local disk\n",
    "def readInvestingDotComHistory(fname):\n",
    "    def process_line(line):\n",
    "        cols = line.split(\"\\t\")\n",
    "        date = datetime.strptime(cols[0], \"%b %d, %Y\")\n",
    "        value = float(cols[1])\n",
    "        return (date, value)\n",
    "    \n",
    "    with open(fname) as f:\n",
    "        content_w_header = f.readlines()\n",
    "        # remove the first line \n",
    "        # and reverse lines to sort the data by date, in ascending order\n",
    "        content = content_w_header[:0:-1]\n",
    "        return list(map(process_line , content))\n",
    "\n",
    "factor1_files = ['crudeoil.tsv', 'us30yeartreasurybonds.tsv']\n",
    "factor1_files = map(lambda fn: factors_folder + fn, factor1_files)\n",
    "factors1 = [readInvestingDotComHistory(f) for f in factor1_files]\n",
    "\n",
    "print(factors1[0][:5])"
   ]
  },
  {
   "cell_type": "markdown",
   "metadata": {},
   "source": [
    "Now, the data structure `factors1` is a list, containing data that pertains to two (out of a total of four) factors that influence the market, as obtained by investing.com. Each element in the list is a tuple, containing some sort of timestamp, and the value of one of the two factors discussed above. From now on, we call these elements \"**records**\" or \"**entries**\". Visually, `factors1` looks like this:\n",
    "\n",
    "| 0 (crude oil) | 1 (US bonds)|\n",
    "| --- | --- |\n",
    "| time_stamp, value | time_stamp, value |\n",
    "| ... | ... |\n",
    "| time_stamp, value | time_stamp, value |\n",
    "| ... | ... |\n"
   ]
  },
  {
   "cell_type": "markdown",
   "metadata": {},
   "source": [
    "<div class='anchor' ></div>\n",
    "#### Question 4.2\n",
    "Write a function named `readYahooHistory` to parse data from yahoo.com based on its format, as described in Section 5.3. \n",
    "\n",
    "Print the first 5 entries of the first factor (namely GSPC). Comment the time range of the second batch of data we use in our Notebook.\n",
    "\n",
    "Note that we are only interested in the date and price of stocks.\n",
    "\n",
    "NOTE: The datetime format now is in a different format than the previous one.\n",
    "\n",
    "HINT: Use a terminal (or put the bash commands inline in your Notebook) to list filenames in your local working directory to find and have a look at your local files."
   ]
  },
  {
   "cell_type": "markdown",
   "metadata": {},
   "source": [
    "```python\n",
    "# read data from local disk\n",
    "def readYahooHistory(fname):\n",
    "    def process_line(line):\n",
    "        ...\n",
    "        ...\n",
    "        ...\n",
    "        ...\n",
    "    \n",
    "    with open(fname) as f:\n",
    "        ...\n",
    "        ...\n",
    "        ...\n",
    "        ...\n",
    "    \n",
    "\n",
    "factor2_files = [..., ...]\n",
    "factor2_files = map(lambda fn: factors_folder + fn, factor2_files)\n",
    "\n",
    "factors2 = [readYahooHistory(f) for f in factor2_files]\n",
    "\n",
    "print(factors2[0][:5])\n",
    "```"
   ]
  },
  {
   "cell_type": "code",
   "execution_count": 10,
   "metadata": {
    "collapsed": false
   },
   "outputs": [
    {
     "name": "stdout",
     "output_type": "stream",
     "text": [
      "[(datetime.datetime(1950, 1, 3, 0, 0), 16.66), (datetime.datetime(1950, 1, 4, 0, 0), 16.85), (datetime.datetime(1950, 1, 5, 0, 0), 16.93), (datetime.datetime(1950, 1, 6, 0, 0), 16.98), (datetime.datetime(1950, 1, 9, 0, 0), 17.08)]\n"
     ]
    }
   ],
   "source": [
    "# read data from local disk\n",
    "def readYahooHistory(fname):\n",
    "    def process_line(line):\n",
    "        cols = line.split(\",\")\n",
    "        date = datetime.strptime(cols[0], \"%Y-%m-%d\")\n",
    "        value = float(cols[1])\n",
    "        return (date, value)\n",
    "    \n",
    "    with open(fname) as f:\n",
    "        content_w_header = f.readlines()\n",
    "        # remove the first line \n",
    "        # and reverse lines to sort the data by date, in ascending order\n",
    "        content = content_w_header[:0:-1]\n",
    "        return list(map(process_line , content))\n",
    "    \n",
    "\n",
    "factor2_files = ['GSPC.csv','IXIC.csv']\n",
    "factor2_files = map(lambda fn: factors_folder + fn, factor2_files)\n",
    "\n",
    "factors2 = [readYahooHistory(f) for f in factor2_files]\n",
    "\n",
    "print(factors2[0][:5])"
   ]
  },
  {
   "cell_type": "markdown",
   "metadata": {},
   "source": [
    "<div class=\"comment\">\n",
    "PUT YOUR COMMENT HERE\n",
    "</div>"
   ]
  },
  {
   "cell_type": "markdown",
   "metadata": {},
   "source": [
    "Now, the data structure `factors2` is again list, containing data that pertains to the next two (out of a total of four) factors that influence the market, as obtained by Yahoo!. Each element in the list is a tuple, containing some sort of timestamp, and the value of one of the two factors discussed above. Visually, `factors2` looks like this:\n",
    "\n",
    "| 0 (GSPC) | 1 (IXIC)|\n",
    "| --- | --- |\n",
    "| time_stamp, value | time_stamp, value |\n",
    "| ... | ... |\n",
    "| time_stamp, value | time_stamp, value |\n",
    "| ... | ... |\n"
   ]
  },
  {
   "cell_type": "markdown",
   "metadata": {},
   "source": [
    "### Stock data pre-processing\n",
    "\n",
    "Next, we prepare the data for the instruments we consider in this Notebook (i.e., the stocks we want to invest in). "
   ]
  },
  {
   "cell_type": "markdown",
   "metadata": {},
   "source": [
    "<div class='anchor' ></div>\n",
    "\n",
    "#### Question 4.3\n",
    "In this Notebook, we assume that we want to invest on the first 35 stocks out of the total 3000 stocks present in our datasets.\n",
    "\n",
    "Load and prepare all the data for the considered instruments (the first 35 stocks) which have historical information for more than 5 years. This means that all instruments with less than 5 years of history should be removed.\n",
    "\n",
    "**[HINT]**: we suggest to open a terminal window (not on your local machine, but the Notebook terminal that you can find on the Jupyter dashboard) and visually check the contents of the directories holding our dataset, if you didn't do this before! Have a look at how stock data is organized!"
   ]
  },
  {
   "cell_type": "markdown",
   "metadata": {},
   "source": [
    "```python\n",
    "from os import listdir\n",
    "from os.path import isfile, join\n",
    "\n",
    "stock_folder = base_folder + 'stocks'\n",
    "\n",
    "def process_stock_file(fname):\n",
    "    try:\n",
    "        return ...\n",
    "    except Exception as e:\n",
    "        raise e\n",
    "        return None\n",
    "\n",
    "\n",
    "\n",
    "# select path of all stock data files in \"stock_folder\"\n",
    "files = [join(stock_folder, f) for f in listdir(stock_folder) if isfile(join(stock_folder, f))]\n",
    "\n",
    "# assume that we invest only the first 35 stocks (for faster computation)\n",
    "files = files[:35]\n",
    "\n",
    "# read each line in each file, convert it into the format: (date, value)\n",
    "rawStocks = [... for f in files]\n",
    "\n",
    "# select only instruments which have more than 5 years of history\n",
    "# Note: the number of business days in a year is 260\n",
    "number_of_years = 5\n",
    "rawStocks = list(filter(lambda instrument: ...  , rawStocks))\n",
    "\n",
    "# For testing, print the first 5 entry of the first stock\n",
    "print(rawStocks[0][:5])\n",
    "\n",
    "```"
   ]
  },
  {
   "cell_type": "code",
   "execution_count": 11,
   "metadata": {
    "collapsed": false
   },
   "outputs": [
    {
     "name": "stdout",
     "output_type": "stream",
     "text": [
      "[(datetime.datetime(2005, 9, 27, 0, 0), 21.049999), (datetime.datetime(2005, 9, 28, 0, 0), 19.299999), (datetime.datetime(2005, 9, 29, 0, 0), 20.4), (datetime.datetime(2005, 9, 30, 0, 0), 20.26), (datetime.datetime(2005, 10, 3, 0, 0), 20.9)]\n"
     ]
    }
   ],
   "source": [
    "from os import listdir\n",
    "from os.path import isfile, join\n",
    "\n",
    "stock_folder = base_folder + 'stocks'\n",
    "\n",
    "def process_stock_file(fname):\n",
    "    try:\n",
    "        return readYahooHistory(fname)\n",
    "    except Exception as e:\n",
    "        raise e\n",
    "        return None\n",
    "\n",
    "\n",
    "\n",
    "# select path of all stock data files in \"stock_folder\"\n",
    "files = [join(stock_folder, f) for f in listdir(stock_folder) if isfile(join(stock_folder, f))]\n",
    "\n",
    "# assume that we invest only the first 35 stocks (for faster computation)\n",
    "files = files[:35]\n",
    "# read each line in each file, convert it into the format: (date, value)\n",
    "rawStocks = [process_stock_file(f) for f in files]\n",
    "\n",
    "# select only instruments which have more than 5 years of history\n",
    "# Note: the number of business days in a year is 260\n",
    "number_of_years = 5\n",
    "rawStocks = list(filter(lambda instrument: len(instrument)>=260*number_of_years , rawStocks))\n",
    "\n",
    "# For testing, print the first 5 entry of the first stock\n",
    "print(rawStocks[0][:5])"
   ]
  },
  {
   "cell_type": "markdown",
   "metadata": {},
   "source": [
    "### Time alignment for our data\n",
    "Different types of instruments may trade on different days, or the data may have missing values for other reasons, so it is important to make sure that our different histories align. First, we need to trim all of our time series to the same region in time. Then, we need to fill in missing values. To deal with time series that have missing values at the start and end dates in the time region, we simply fill in those dates with nearby values in the time region."
   ]
  },
  {
   "cell_type": "markdown",
   "metadata": {},
   "source": [
    "<div class='anchor' ></div>\n",
    "\n",
    "#### Question 4.4\n",
    "Assume that we only focus on the data from 23/01/2009 to 23/01/2014. Write a function named `trimToRegion` to select only the records in that time interval. \n",
    "\n",
    "Requirements: after processing, each instrument $i$ has a list of records: $[r_0, r_2,...,r_{m_i}]$ such that $r_0$ and $r_{m_i}$ are assigned, respectively, the first and the last values corresponding to the extremes of the given time interval. For example: $r_0$ should contain the value at date 23/01/2009."
   ]
  },
  {
   "cell_type": "markdown",
   "metadata": {},
   "source": [
    "```python\n",
    "# note that the data of crude oild and treasury is only available starting from 26/01/2006 \n",
    "start = datetime(year=2009, month=1, day=23)\n",
    "end = datetime(year=2014, month=1, day=23)\n",
    "\n",
    "def trimToRegion(history, start, end):\n",
    "    def isInTimeRegion(entry):\n",
    "        (date, value) = entry\n",
    "        return date >= ... and date <= ...\n",
    "\n",
    "    # only select entries which are in the time region\n",
    "    trimmed = list(filter( ..., ...))\n",
    "    \n",
    "    # if the data has incorrect time boundaries, add time boundaries\n",
    "    if trimmed[0][0] != start:\n",
    "        trimmed.insert(0, (..., trimmed[0][1]))\n",
    "    if trimmed[-1][0] != end:\n",
    "        trimmed.append((..., trimmed[-1][1]))\n",
    "    return trimmed\n",
    "    \n",
    "# test our function\n",
    "trimmedStock0  = trimToRegion(stocks[0], start, end)\n",
    "# the first 5 records of stock 0\n",
    "print(trimmedStock0[:5])\n",
    "# the last 5 records of stock 0\n",
    "print(trimmedStock0[-5:]\n",
    "\n",
    "assert(trimmedStock0[0][0] == start), \"the first record must contain the price in the first day of time interval\"\n",
    "assert(trimmedStock0[-1][0] == end), \"the last record must contain the price in the last day of time interval\"\n",
    "```"
   ]
  },
  {
   "cell_type": "code",
   "execution_count": 12,
   "metadata": {
    "collapsed": false
   },
   "outputs": [
    {
     "name": "stdout",
     "output_type": "stream",
     "text": [
      "[(datetime.datetime(2009, 1, 23, 0, 0), 7.1), (datetime.datetime(2009, 1, 26, 0, 0), 7.79), (datetime.datetime(2009, 1, 27, 0, 0), 7.73), (datetime.datetime(2009, 1, 28, 0, 0), 7.04), (datetime.datetime(2009, 1, 29, 0, 0), 7.15)]\n",
      "[(datetime.datetime(2014, 1, 16, 0, 0), 28.940001), (datetime.datetime(2014, 1, 17, 0, 0), 29.299999), (datetime.datetime(2014, 1, 21, 0, 0), 30.66), (datetime.datetime(2014, 1, 22, 0, 0), 30.709999), (datetime.datetime(2014, 1, 23, 0, 0), 30.65)]\n"
     ]
    }
   ],
   "source": [
    "# note that the data of crude oild and treasury is only available starting from 26/01/2006 \n",
    "start = datetime(year=2009, month=1, day=23)\n",
    "end = datetime(year=2014, month=1, day=23)\n",
    "\n",
    "def trimToRegion(history, start, end):\n",
    "    def isInTimeRegion(entry):\n",
    "        (date, value) = entry\n",
    "        return date >= start and date <= end\n",
    "\n",
    "    # only select entries which are in the time region\n",
    "    trimmed = list(filter( lambda record: isInTimeRegion(record), history))\n",
    "    \n",
    "    # if the data has incorrect time boundaries, add time boundaries\n",
    "    if trimmed[0][0] != start:\n",
    "        trimmed.insert(0, (start, trimmed[0][1]))\n",
    "    if trimmed[-1][0] != end:\n",
    "        trimmed.append((end, trimmed[-1][1]))\n",
    "    return trimmed\n",
    "    \n",
    "# test our function\n",
    "trimmedStock0  = trimToRegion(rawStocks[0], start, end) # Changed stocks to rawStocks\n",
    "# the first 5 records of stock 0\n",
    "print(trimmedStock0[:5])\n",
    "# the last 5 records of stock 0\n",
    "print(trimmedStock0[-5:])\n",
    "\n",
    "assert (trimmedStock0[0][0] == start), \"the first record must contain the price in the first day of time interval\"\n",
    "assert (trimmedStock0[-1][0] == end), \"the last record must contain the price in the last day of time interval\""
   ]
  },
  {
   "cell_type": "markdown",
   "metadata": {},
   "source": [
    "### Dealing with missing values\n",
    "We expect that we have the price of instruments and factors **in each business day**. Unfortunately, there are many missing values in our data: this means that we miss data for some days, e.g. we have data for the monday of a certain week, but not for the subsequent tuesday. So, we need a function that helps filling these missing values.\n",
    "\n",
    "Next, we provide to you the function to fill missing value: read it carefully!"
   ]
  },
  {
   "cell_type": "code",
   "execution_count": 13,
   "metadata": {
    "collapsed": true
   },
   "outputs": [],
   "source": [
    "def fillInHistory(history, start, end):\n",
    "    curr = history\n",
    "    filled = []\n",
    "    idx = 0\n",
    "    curDate = start\n",
    "    numEntries = len(history)\n",
    "    while curDate < end:\n",
    "        \n",
    "        # if the next entry is in the same day\n",
    "        # move to the next entry\n",
    "        while idx + 1 < numEntries and curr[idx + 1][0] == curDate:\n",
    "            idx +=1\n",
    "\n",
    "        # only add the last value of instrument in a single day\n",
    "        # check curDate is weekday or not\n",
    "        # 0: Monday -> 5: Saturday, 6: Sunday\n",
    "        if curDate.weekday() < 5:\n",
    "            \n",
    "            filled.append((curDate, curr[idx][1]))\n",
    "            # move to the next business day\n",
    "            curDate += timedelta(days=1)\n",
    "        \n",
    "        # skip the weekends\n",
    "        if curDate.weekday() >= 5:\n",
    "            # if curDate is Sat, skip 2 days, otherwise, skip 1 day\n",
    "            curDate += timedelta(days=(7-curDate.weekday()))\n",
    "\n",
    "    return filled"
   ]
  },
  {
   "cell_type": "markdown",
   "metadata": {},
   "source": [
    "<div class='anchor' ></div>\n",
    "\n",
    "#### Question 4.5\n",
    "Trim data of stocks and factors into the given time interval."
   ]
  },
  {
   "cell_type": "markdown",
   "metadata": {},
   "source": [
    "```python\n",
    "#print rawStocks[0]\n",
    "\n",
    "# trim into a specific time region\n",
    "# and fill up the missing values\n",
    "stocks = list(map(lambda stock: \\\n",
    "            fillInHistory(\n",
    "                trimToRegion(..., ..., ...), \n",
    "            start, end), \n",
    "        rawStocks))\n",
    "\n",
    "\n",
    "\n",
    "# merge two factors, trim each factor into a time region\n",
    "# and fill up the missing values\n",
    "allfactors = factors1 + factors2\n",
    "factors = list(map(\n",
    "            ..., \n",
    "            allfactors\n",
    "            ))\n",
    "            \n",
    "# test our code\n",
    "print(\"the first 5 records of stock 0:\", stocks[0][:5], \"\\n\")\n",
    "print(\"the last 5 records of stock 0:\", stocks[0][-5:], \"\\n\")\n",
    "print(\"the first 5 records of factor 0:\", factors[0][:5], \"\\n\")\n",
    "print(\"the first 5 records of factor 0:\", factors[0][-5:], \"\\n\")\n",
    "```"
   ]
  },
  {
   "cell_type": "code",
   "execution_count": 14,
   "metadata": {
    "collapsed": false
   },
   "outputs": [
    {
     "name": "stdout",
     "output_type": "stream",
     "text": [
      "the first 5 records of stock 0: [(datetime.datetime(2009, 1, 23, 0, 0), 7.1), (datetime.datetime(2009, 1, 26, 0, 0), 7.79), (datetime.datetime(2009, 1, 27, 0, 0), 7.73), (datetime.datetime(2009, 1, 28, 0, 0), 7.04), (datetime.datetime(2009, 1, 29, 0, 0), 7.15)] \n",
      "\n",
      "the last 5 records of stock 0: [(datetime.datetime(2014, 1, 16, 0, 0), 28.940001), (datetime.datetime(2014, 1, 17, 0, 0), 29.299999), (datetime.datetime(2014, 1, 20, 0, 0), 29.299999), (datetime.datetime(2014, 1, 21, 0, 0), 30.66), (datetime.datetime(2014, 1, 22, 0, 0), 30.709999)] \n",
      "\n",
      "the first 5 records of factor 0: [(datetime.datetime(2009, 1, 23, 0, 0), 46.47), (datetime.datetime(2009, 1, 26, 0, 0), 45.73), (datetime.datetime(2009, 1, 27, 0, 0), 41.58), (datetime.datetime(2009, 1, 28, 0, 0), 42.16), (datetime.datetime(2009, 1, 29, 0, 0), 41.44)] \n",
      "\n",
      "the first 5 records of factor 0: [(datetime.datetime(2014, 1, 16, 0, 0), 93.96), (datetime.datetime(2014, 1, 17, 0, 0), 94.37), (datetime.datetime(2014, 1, 20, 0, 0), 93.93), (datetime.datetime(2014, 1, 21, 0, 0), 94.99), (datetime.datetime(2014, 1, 22, 0, 0), 96.73)] \n",
      "\n"
     ]
    }
   ],
   "source": [
    "#print rawStocks[0]\n",
    "\n",
    "# trim into a specific time region\n",
    "# and fill up the missing values\n",
    "stocks = list(map(lambda stock: \\\n",
    "            fillInHistory(\n",
    "                trimToRegion(stock, start, end), \n",
    "            start, end), \n",
    "        rawStocks))\n",
    "\n",
    "\n",
    "\n",
    "# merge two factors, trim each factor into a time region\n",
    "# and fill up the missing values\n",
    "allfactors = factors1 + factors2\n",
    "factors = list(map(lambda stock: \\\n",
    "            fillInHistory(\n",
    "                trimToRegion(stock, start, end), \n",
    "            start, end), \n",
    "            allfactors\n",
    "            ))\n",
    "            \n",
    "# test our code\n",
    "print(\"the first 5 records of stock 0:\", stocks[0][:5], \"\\n\")\n",
    "print(\"the last 5 records of stock 0:\", stocks[0][-5:], \"\\n\")\n",
    "print(\"the first 5 records of factor 0:\", factors[0][:5], \"\\n\")\n",
    "print(\"the first 5 records of factor 0:\", factors[0][-5:], \"\\n\")"
   ]
  },
  {
   "cell_type": "markdown",
   "metadata": {},
   "source": [
    "Recall that Value at Risk (VaR) deals with **losses over a particular time horizon**. We are not concerned with the absolute prices of instruments, but how those prices **change over** a given period of time. In our project, we will set that length to two weeks: we use the sliding window method to transform time series of prices into an overlapping sequence of price change over two-week intervals.\n",
    "\n",
    "The figure below illustrate this process. The returns of market factors after each two-week intervals is calculated in the very same way.\n",
    "\n",
    "![](https://dl.dropboxusercontent.com/s/r9ucsicichb6gjh/two-week-time-interval.svg)"
   ]
  },
  {
   "cell_type": "code",
   "execution_count": 15,
   "metadata": {
    "collapsed": false
   },
   "outputs": [],
   "source": [
    "def buildWindow(seq, k=2):\n",
    "    \"Returns a sliding window (of width k) over data from iterable data structures\"\n",
    "    \"   s -> (s0,s1,...s[k-1]), (s1,s2,...,sk), ...                   \"\n",
    "    it = iter(seq)\n",
    "    result = tuple(islice(it, k))\n",
    "    if len(result) == k:\n",
    "        yield result  \n",
    "    for elem in it:\n",
    "        result = result[1:] + (elem,)\n",
    "        yield result"
   ]
  },
  {
   "cell_type": "markdown",
   "metadata": {},
   "source": [
    "<div class='anchor' ></div>\n",
    "\n",
    "#### Question 4.6\n",
    "Compute the returns of the stocks after each two week time window."
   ]
  },
  {
   "cell_type": "markdown",
   "metadata": {},
   "source": [
    "```python\n",
    "def calculateReturn(window):\n",
    "    # return the change of value after two weeks\n",
    "    return ... - ...\n",
    "\n",
    "def twoWeekReturns(history):\n",
    "    # we use 10 instead of 14 to define the window\n",
    "    # because financial data does not include weekends\n",
    "    return [... for entry in buildWindow(..., 10)]\n",
    "\n",
    "stocksReturns = list(map(twoWeekReturns, stocks))\n",
    "factorsReturns = list(map(twoWeekReturns, factors))\n",
    "\n",
    "# test our functions\n",
    "print(\"the first 5 returns of stock 0:\", stocksReturns[0][:5])\n",
    "print(\"the last 5 returns of stock 0:\", stocksReturns[0][-5:])\n",
    "```"
   ]
  },
  {
   "cell_type": "code",
   "execution_count": 16,
   "metadata": {
    "collapsed": false
   },
   "outputs": [
    {
     "name": "stdout",
     "output_type": "stream",
     "text": [
      "the first 5 returns of stock 0: [-1.7199999999999998, -2.3600000000000003, -2.2800000000000002, -1.79, -2.0100000000000007]\n",
      "the last 5 returns of stock 0: [3.1900009999999988, 2.679998000000001, 2.0999979999999994, 4.289999000000002, 2.4699990000000014]\n"
     ]
    }
   ],
   "source": [
    "def calculateReturn(window):\n",
    "    # return the change of value after two weeks\n",
    "    return window[-1][1] - window[0][1]\n",
    "\n",
    "def twoWeekReturns(history):\n",
    "    # we use 10 instead of 14 to define the window\n",
    "    # because financial data does not include weekends\n",
    "    return [calculateReturn(entry) for entry in buildWindow(history, 10)]\n",
    "\n",
    "stocksReturns = list(map(twoWeekReturns, stocks))\n",
    "factorsReturns = list(map(twoWeekReturns, factors))\n",
    "\n",
    "# test our functions\n",
    "print(\"the first 5 returns of stock 0:\", stocksReturns[0][:5])\n",
    "print(\"the last 5 returns of stock 0:\", stocksReturns[0][-5:])"
   ]
  },
  {
   "cell_type": "markdown",
   "metadata": {},
   "source": [
    "Alright! Now we have data that is properly aligned to start the training process: stocks' returns and factors' returns, per time windows of two weeks. Next, we will apply the MCS method."
   ]
  },
  {
   "cell_type": "markdown",
   "metadata": {},
   "source": [
    "## 5.5. Summary guidelines to apply the MCS method on the data we prepared\n",
    "Next, we overview the steps that you have to follow to build a model of your data, and then use Monte Carlo simulations to produce output distributions:\n",
    "\n",
    "- **Step 1**: Defining the relationship between the market factors and the instrument's returns. This relationship takes the form of a model fitted to historical data.\n",
    "- **Step 2**: Defining the distributions for the market conditions (particularly, the returns of factors) that are straightforward to sample from. These distributions are fitted to historical data. \n",
    "- **Step 3**: Generate the data for each trial of a Monte Carlo run: this amount generates the random values for market conditions along with these distributions.\n",
    "- **Step 4**: For each trial, from the above values of market conditions, and using the relationship built in step 1, we calculate the return for each instrument and the total return. We use the returns to define an empirical distribution over losses. This means that, if we run 100 trials and want to estimate the 5% VaR, we would choose it as the loss from the trial with the fifth greatest loss.\n",
    "- **Step 5**: Evaluating the result"
   ]
  },
  {
   "cell_type": "markdown",
   "metadata": {},
   "source": [
    "## 5.6. Applying MCS\n",
    "\n",
    "### Step 1: Defining relationship between market factors and instrument's returns\n",
    "\n",
    "In our simulation, we will use a simple linear model. By our definition of return , a factor return is a **change** in the value of a market factor **over a particular time period**, e.g. if the value of the S&P 500 moves from 2000 to 2100 over a time interval, its return would be 100.\n",
    "\n",
    "A vector that contains the return of 4 market factors is called a *market factor vector*. Generally, instead of using this vector as features, we derive a set of features from simple transformation of it. In particular, a vector of 4 values is tranformed into a vector of length $m$ by function $F$. In the simplest case $F(v) = v$.\n",
    "\n",
    "Denote $v_t$ the market factor vector, and $f_t$ the transformed features of $v_t$ at time $t$.\n",
    "\n",
    "$f_{tj}$ is the value of feature $j$ in $f_t$.\n",
    "\n",
    "Denote $r_{it}$ the return of instrument $i$ at time $t$ and $c_i$ the [intercept term](http://blog.minitab.com/blog/adventures-in-statistics/regression-analysis-how-to-interpret-the-constant-y-intercept) of instrument $i$.\n",
    "\n",
    "We will use a simple linear function to calculate $r_{it}$ from $f_t$:\n",
    "\n",
    "$$\n",
    "r_{it} = c_i + \\sum_{j=1}^{m}{w_{ij}*f_{tj}}\n",
    "$$\n",
    "\n",
    "where $w_{ij}$ is the weight of feature $j$ for instrument $i$.\n",
    "\n",
    "All that above means that given a market factor vector, we have to \"featurize it\" and then use the result as a surrogate for calculating the return of the instruments, using the above linear function.\n",
    "\n",
    "There are two questions that we should consider: **how to featurize a factor vector ?** and **how to pick values for $w_{ij}$?**\n",
    "\n",
    "**How to featurize a factor vector ?**\n",
    "In fact, the instruments' returns may be non-linear functions of the factor returns. So, we should not use factor returns as features in the the above linear function. Instead, we tranform them into a set of features with different size. In this Notebook, we can include some additional features in our model that we derive from non-linear transformations of the factor returns. We will try adding two more features for each factor return: its square and its square root values. So, we can still assume that our model is a linear model in the sense that the response variable is a linear function of the new features. *Note that the particular feature transformation described here is meant to be an illustrative example of some of the options that are available: it shouldn't be considered as the state of the art in predictive financial modeling!!*.\n",
    "\n",
    "**How to pick values for $w_{ij}$ ?**\n",
    "\n",
    "For all the market factor vectors in our historical data, we tranform them to feature vectors. Now, we have feature vectors in many two-week intervals and the corresponding instrument's returns in these interval. We can use Odinary Least Square (OLS) regression model to estimate the weights for each instrument such that our linear function can fit to the data. The parameters for OLS function are:\n",
    "\n",
    "- `x`: The collection of columns where **each column** is the value of **a feature** in many two-week interval\n",
    "- `y`: The return of an instrument in the corresponding time interval of x."
   ]
  },
  {
   "cell_type": "markdown",
   "metadata": {},
   "source": [
    "The figure below shows the basic idea of the process to build a statistial model for predicting the returns of stock X.\n",
    "\n",
    "![](https://dl.dropboxusercontent.com/s/kbjtwmnr4w31uev/process-build-model3.svg)\n"
   ]
  },
  {
   "cell_type": "markdown",
   "metadata": {},
   "source": [
    "![](https://farm2.staticflickr.com/1604/24934700445_833f0a5649_t.jpg)"
   ]
  },
  {
   "cell_type": "markdown",
   "metadata": {},
   "source": [
    "<div class='anchor' ></div>\n",
    "\n",
    "### Question 5\n",
    "#### Question 5.1\n",
    "\n",
    "Currently, our data is in form of:\n",
    "\n",
    "$$\n",
    "factorsReturns=\n",
    "\\begin{bmatrix}\n",
    " r_{00} & r_{01} & r_{02} & ... & r_{0k} \\\\\n",
    " r_{10} & r_{11} & r_{12} & ... & r_{1k} \\\\\n",
    " ... & ... & ... & ... & ... \\\\\n",
    " r_{n0} & r_{n1} & r_{n2} & ... & r_{nk}\\\\\n",
    "\\end{bmatrix}\n",
    "$$\n",
    "\n",
    "\n",
    "$$\n",
    "stocksReturns=\n",
    "\\begin{bmatrix}\n",
    " s_{00} & s_{01} & s_{02} & ... & s_{0k} \\\\\n",
    " s_{10} & s_{11} & s_{12} & ... & s_{1k} \\\\\n",
    " ... & ... & ... & ... & ... \\\\\n",
    " s_{n0} & s_{n1} & s_{n2} & ... & s_{nk}\\\\\n",
    "\\end{bmatrix}\n",
    "$$\n",
    "\n",
    "Where, $r_{ij}$ is the return of factor $i^{th}$ in time window $j^{th}$, $k$ is the number of time windows, and $n$ is the number of factors. A similar definition goes for $s_{ij}$.\n",
    "\n",
    "In order to use OLS, the parameter must be in form of:\n",
    "\n",
    "$$\n",
    "x=factorsReturns^T =\n",
    "\\begin{bmatrix}\n",
    " r_{00} & r_{10} & ... & r_{n0} \\\\\n",
    " r_{01} & r_{11} & ... & r_{n1} \\\\\n",
    " r_{02} & r_{12} & ... & r_{n2}\\\\\n",
    " ... & ... & ... & ... \\\\\n",
    " r_{0k} & r_{1k} & ... & r_{nk}\\\\\n",
    "\\end{bmatrix}\n",
    "$$\n",
    "\n",
    "\n",
    "Whereas, $y$ can be any row in `stocksReturns`.\n",
    "\n",
    "So, we need a function to transpose a matrix. Write a function named `transpose` to do just that."
   ]
  },
  {
   "cell_type": "markdown",
   "metadata": {},
   "source": [
    "```python\n",
    "def transpose(matrix):\n",
    "    ...\n",
    "    return ...\n",
    "    \n",
    "# test function\n",
    "assert (transpose([[1,2,3], [4,5,6], [7,8,9]]) == [[1, 4, 7], [2, 5, 8], [3, 6, 9]]), \"Function transpose runs incorrectly\"\n",
    "```"
   ]
  },
  {
   "cell_type": "code",
   "execution_count": 17,
   "metadata": {
    "collapsed": false
   },
   "outputs": [],
   "source": [
    "def transpose(matrix):\n",
    "    return [[matrix[j][i] for j in range(len(matrix))] for i in range(len(matrix[0]))]\n",
    "    \n",
    "# test function\n",
    "assert (transpose([[1,2,3], [4,5,6], [7,8,9]]) == [[1, 4, 7], [2, 5, 8], [3, 6, 9]]), \"Function transpose runs incorrectly\""
   ]
  },
  {
   "cell_type": "markdown",
   "metadata": {},
   "source": [
    "<div class='anchor' ></div>\n",
    "\n",
    "#### Question 5.2\n",
    "Write a function named `featurize` that takes a list factor's returns $[x_1, x_2,...,x_k]$ and transform it into a new list of features $[u_1,u_2,..,u_k, v_1, v_2,..,v_k, x_1,x_2,...,x_k]$.\n",
    "\n",
    "Where \n",
    "\n",
    "$u_i$ = $\\left\\{\n",
    "\t\\begin{array}{ll}\n",
    "\t\tx_i^2 & \\mbox{if } x_i \\geq 0 \\\\\n",
    "\t\t-x_i^2 & \\mbox{if } x_i < 0\n",
    "\t\\end{array}\n",
    "\\right.\n",
    "$\n",
    "\n",
    "and\n",
    "\n",
    "$v_i$ = $\\left\\{\n",
    "\t\\begin{array}{ll}\n",
    "\t\t\\sqrt{x_i} & \\mbox{if } x_i \\geq 0 \\\\\n",
    "\t\t-\\sqrt{x_i} & \\mbox{if } x_i < 0\n",
    "\t\\end{array}\n",
    "\\right.\n",
    "$"
   ]
  },
  {
   "cell_type": "markdown",
   "metadata": {},
   "source": [
    "```python\n",
    "def featurize(factorReturns):\n",
    "    squaredReturns = [...]\n",
    "    squareRootedReturns = [...]\n",
    "    # concat new features\n",
    "    return ... + ... + ...\n",
    "\n",
    "# test our function\n",
    "assert (featurize([4, -9, 25]) == [16, -81, 625, 2, -3, 5, 4, -9, 25]), \"Function runs incorrectly\"\n",
    "```"
   ]
  },
  {
   "cell_type": "code",
   "execution_count": 18,
   "metadata": {
    "collapsed": false
   },
   "outputs": [],
   "source": [
    "def sign(number):\n",
    "    if number<=0:\n",
    "        return -1\n",
    "    else:\n",
    "        return 1\n",
    "\n",
    "def featurize(factorReturns):\n",
    "    factorReturns = list(factorReturns)\n",
    "    squaredReturns = [sign(element)*(element)**2 for element in factorReturns]\n",
    "    squareRootedReturns = [sign(element)*abs(element)**0.5 for element in factorReturns]\n",
    "    # concat new features\n",
    "    return squaredReturns + squareRootedReturns + factorReturns\n",
    "\n",
    "# test our function\n",
    "assert (featurize([4, -9, 25]) == [16, -81, 625, 2, -3, 5, 4, -9, 25]), \"Function runs incorrectly\""
   ]
  },
  {
   "cell_type": "markdown",
   "metadata": {},
   "source": [
    "<div class='anchor' ></div>\n",
    "\n",
    "#### Question 5.3\n",
    "Using OLS, estimate the weights for each feature on each stock. What is the shape of `weights` (size of each dimension) ? Explain it."
   ]
  },
  {
   "cell_type": "markdown",
   "metadata": {},
   "source": [
    "```python\n",
    "def estimateParams(y, x):\n",
    "    return sm.OLS(y, x).fit().params\n",
    "\n",
    "# transpose factorsReturns\n",
    "factorMat = ...\n",
    "\n",
    "# featurize each row of factorMat\n",
    "factorFeatures = list(map(...,...))\n",
    "\n",
    "# OLS require parameter is a numpy array\n",
    "factor_columns = np.array(factorFeatures)\n",
    "\n",
    "#add a constant - the intercept term for each instrument i.\n",
    "factor_columns = sm.add_constant(factor_columns, prepend=True)\n",
    "\n",
    "# estimate weights\n",
    "weights = [... for stockReturns in stocksReturns]\n",
    "\n",
    "print(\"weights:\", weights)\n",
    "\n",
    "```"
   ]
  },
  {
   "cell_type": "code",
   "execution_count": 19,
   "metadata": {
    "collapsed": false
   },
   "outputs": [
    {
     "name": "stdout",
     "output_type": "stream",
     "text": [
      "weights: [array([  7.17607665e-02,  -1.38718641e-03,   1.60538322e-01,\n",
      "        -5.11172440e-05,   1.62782244e-05,   7.09760107e-02,\n",
      "         6.06851965e-01,  -6.24919771e-02,   4.10029155e-02,\n",
      "        -7.38639591e-02,  -1.80961171e+00,   1.29479818e-02,\n",
      "        -5.26807007e-04]), array([  1.87238536e-02,  -1.35798610e-04,   5.15219211e-02,\n",
      "         3.54742058e-06,   5.27676775e-07,  -2.04643516e-02,\n",
      "        -4.99634384e-02,   9.48580541e-04,   2.36834040e-03,\n",
      "         8.47010344e-03,   1.10829060e-01,  -5.31736169e-05,\n",
      "        -1.49874337e-04]), array([ -4.64536012e-02,   3.71692873e-03,   2.45388665e+00,\n",
      "         6.64968216e-05,  -2.42323901e-05,   2.18190592e-01,\n",
      "        -4.36908110e-01,  -7.48225216e-03,  -1.34118851e-02,\n",
      "        -1.08754038e-01,   9.69609538e-01,   1.44935942e-03,\n",
      "         1.03239685e-02]), array([ -1.00256488e-01,   2.98422780e-02,  -9.60121629e+00,\n",
      "         9.50737842e-04,  -1.70303406e-04,   1.74188753e+00,\n",
      "         1.34601208e+00,   5.61082010e-01,   2.28217497e-01,\n",
      "        -7.38305237e-01,  -1.02694302e+01,  -5.04752348e-01,\n",
      "         2.91651304e-01]), array([ -3.35827677e-01,   1.88988682e-02,  -1.34272878e+00,\n",
      "        -5.86809193e-05,  -3.04199760e-05,   4.16693457e-01,\n",
      "        -3.19919523e+00,  -1.29729925e-01,   8.34695114e-02,\n",
      "        -2.95869738e-01,   9.42357059e+00,   3.32143779e-02,\n",
      "         1.83694034e-02]), array([ -1.03048484e-01,  -1.40802576e-02,   3.03247761e+00,\n",
      "        -4.30050081e-05,   7.04983149e-06,  -3.98611748e-01,\n",
      "         1.87011316e-01,  -7.49311820e-02,   2.47689938e-02,\n",
      "         3.49588352e-01,   3.60112368e-01,   3.27641065e-02,\n",
      "         4.41011217e-03]), array([ -3.75169749e-02,   1.69170322e-03,  -4.95299635e-01,\n",
      "        -6.96965316e-06,   2.12242647e-06,  -4.74018710e-03,\n",
      "        -1.28294116e-01,   7.25170148e-03,  -1.96910594e-03,\n",
      "        -3.07662175e-04,   4.55273461e-01,  -1.11931462e-03,\n",
      "         3.31880910e-04]), array([  5.67626672e-02,   3.93146406e-03,   1.25359447e+01,\n",
      "         4.61107782e-05,  -5.34162524e-06,   3.30308475e-01,\n",
      "         5.48817157e-01,   6.09036264e-03,   3.91840512e-03,\n",
      "        -1.01995055e-01,  -4.37903713e+00,   1.23267147e-02,\n",
      "         9.44456698e-04]), array([  8.76609018e-03,  -6.84414029e-04,   2.02706645e-01,\n",
      "         3.53286756e-05,  -1.60667565e-05,  -7.29844107e-02,\n",
      "         6.22318485e-02,  -1.11041749e-02,  -3.82277823e-03,\n",
      "         3.61771878e-02,  -4.44338858e-01,   3.78210008e-03,\n",
      "         4.89404807e-03]), array([ -2.44798108e-02,   2.04887317e-03,  -1.18765605e+00,\n",
      "        -4.53070511e-06,   1.57933023e-07,   7.30155218e-02,\n",
      "        -4.37623788e-01,  -1.80021570e-02,   8.44941922e-03,\n",
      "        -5.46792958e-02,   1.55994604e+00,   1.51865350e-03,\n",
      "         6.11521694e-04]), array([  1.34552165e-01,  -4.41486757e-02,   5.15555663e+00,\n",
      "        -1.50070477e-04,   4.17506993e-05,  -4.73994616e-01,\n",
      "         2.83792864e+00,   1.17408267e-01,  -1.11790079e-01,\n",
      "         5.66201533e-01,  -7.87827274e+00,   1.66498435e-03,\n",
      "         6.76958076e-03]), array([ -3.50718792e-02,   5.87572920e-03,  -4.39887550e+00,\n",
      "         2.84231576e-05,   4.35198251e-06,   1.70719469e-01,\n",
      "        -6.75440459e-01,   4.13550866e-02,   1.82500023e-02,\n",
      "        -1.29804591e-01,   2.92752722e+00,  -2.96549885e-03,\n",
      "        -2.86668675e-03]), array([  5.60761854e-03,  -1.97730574e-03,   5.27952547e+00,\n",
      "        -4.16595661e-05,   3.97831730e-05,   9.52519397e-02,\n",
      "         1.57336623e+00,  -1.53633434e-02,   5.28272666e-02,\n",
      "        -1.54765140e-03,  -5.21414171e+00,   1.70287419e-02,\n",
      "        -9.39824371e-03]), array([  7.91388722e-02,   1.03064844e-03,   6.66954167e-01,\n",
      "         4.69350780e-08,  -3.15892281e-06,   3.58179076e-02,\n",
      "        -2.01598796e-02,   3.75977062e-02,  -2.95937624e-02,\n",
      "        -2.10358349e-02,  -5.52642802e-01,  -5.06202063e-03,\n",
      "         4.44022503e-03]), array([  9.45145959e-02,   4.34108771e-03,   6.83675482e-01,\n",
      "        -6.31855761e-05,  -3.19934047e-06,   2.30783499e-01,\n",
      "        -2.95990986e-01,  -1.04014946e-01,   3.76037693e-02,\n",
      "        -1.19472918e-01,  -2.68111284e-01,   1.49892095e-02,\n",
      "         1.55805060e-03]), array([ -3.83188435e-03,   1.96380379e-03,  -1.24176319e+00,\n",
      "        -1.87876415e-05,   7.77926511e-06,   7.76591090e-02,\n",
      "        -4.02663894e-01,   5.71580644e-03,   1.69602824e-02,\n",
      "        -4.68351174e-02,   9.77012112e-01,   5.92244313e-03,\n",
      "        -2.47099176e-04]), array([  9.21242007e-02,  -4.31610680e-03,  -9.13425155e+00,\n",
      "         3.47363794e-05,  -2.63260156e-05,  -2.89085400e-01,\n",
      "        -1.87123110e+00,   7.37912158e-02,  -2.06013237e-02,\n",
      "         1.97822356e-01,   5.93133618e+00,  -1.01181676e-02,\n",
      "         1.58799482e-02]), array([  1.42899602e-02,  -6.25477497e-04,  -1.01661902e+00,\n",
      "         6.51120160e-05,  -1.46206218e-05,  -2.48393138e-02,\n",
      "        -2.01385856e-01,   2.39027406e-02,  -8.81066719e-03,\n",
      "         7.86193467e-04,   5.54246414e-01,  -5.70882755e-03,\n",
      "         6.64410295e-03]), array([ -2.33789079e-02,   8.41136484e-03,   2.27910428e+00,\n",
      "        -7.04981366e-06,   2.41861907e-06,   2.28746381e-01,\n",
      "         7.55433159e-01,  -1.34890554e-03,   2.53820400e-02,\n",
      "        -1.80934535e-01,  -1.67264956e+00,   4.74269705e-03,\n",
      "        -2.62992032e-03]), array([ -3.63899931e-02,  -2.59829476e-03,  -2.43422031e+00,\n",
      "        -8.28289382e-05,  -3.86669239e-06,  -1.06432044e-01,\n",
      "        -2.33913325e-01,  -5.99545185e-02,   2.47822579e-03,\n",
      "         7.33627995e-02,   1.17592298e+00,   1.56456838e-02,\n",
      "         1.65476649e-03]), array([ -3.95819394e-01,   8.10994019e-02,  -1.09063827e+01,\n",
      "        -1.87648325e-05,  -7.72607080e-05,   5.73137947e-01,\n",
      "         2.75413439e+00,  -1.00137710e-01,   1.64591258e-01,\n",
      "        -6.73322819e-01,  -5.55310821e+00,   3.16890107e-02,\n",
      "         3.55210752e-03]), array([  2.70896065e-01,   4.40326506e-03,  -8.74953487e-01,\n",
      "         3.55043689e-05,  -1.06378528e-05,   1.71324799e-01,\n",
      "        -7.21822980e-01,   6.09913618e-02,  -1.67040611e-02,\n",
      "        -1.06505475e-01,   1.27783675e+00,  -1.10509046e-02,\n",
      "         6.50143176e-03]), array([ -2.66781167e-02,   4.51838785e-03,   7.62984979e-01,\n",
      "         1.04350671e-06,   3.77594052e-06,   3.26168760e-02,\n",
      "         6.06852540e-01,   2.75750916e-02,   3.10678895e-03,\n",
      "        -4.36568095e-02,  -1.22624551e+00,  -1.19289151e-03,\n",
      "         5.65094147e-04]), array([  1.45619389e-01,   1.99888430e-03,  -2.62067323e+00,\n",
      "         4.81532037e-05,   2.08450531e-05,  -1.51476985e-01,\n",
      "        -9.96178378e-01,   2.26966401e-02,   5.76868322e-02,\n",
      "         8.18844278e-02,   2.46564896e+00,  -1.40339380e-02,\n",
      "         4.07005890e-03]), array([ -8.62492185e-03,   3.48124830e-05,  -3.43528435e-01,\n",
      "         3.69327570e-06,  -5.41761755e-07,   4.98230379e-03,\n",
      "        -1.38937933e-01,   5.94672208e-03,   6.08821324e-04,\n",
      "         1.91068429e-03,   3.91373355e-01,  -1.24430507e-03,\n",
      "         1.09720891e-03]), array([  4.75105577e-02,  -4.20565608e-03,   1.84039668e+00,\n",
      "        -1.34211514e-05,   9.00376471e-06,  -9.24084040e-02,\n",
      "         5.00554816e-01,  -1.30169891e-04,   1.00870102e-02,\n",
      "         6.51280469e-02,  -1.28827275e+00,   2.32302036e-03,\n",
      "        -2.07503480e-03]), array([ -5.37612004e-02,   5.10030001e-03,   3.00158720e+00,\n",
      "        -1.01145488e-04,  -1.90028755e-05,   1.35286402e-01,\n",
      "        -1.81559508e+00,  -2.20285262e-01,   8.84749256e-03,\n",
      "        -1.75110654e-02,   3.10375342e+00,   4.94362518e-02,\n",
      "         2.94938979e-03]), array([  1.28654686e-02,   6.71059575e-04,   8.84732046e-01,\n",
      "         1.64279434e-05,   4.06505735e-06,   6.29597725e-02,\n",
      "         2.64797942e-01,   1.47698147e-02,   8.26947233e-03,\n",
      "        -2.62605269e-02,  -6.43170596e-01,  -3.32951640e-03,\n",
      "        -9.26577974e-04])]\n"
     ]
    }
   ],
   "source": [
    "def estimateParams(y, x):\n",
    "    return sm.OLS(y, x).fit().params\n",
    "\n",
    "# transpose factorsReturns\n",
    "factorMat = transpose(factorsReturns)\n",
    "\n",
    "# featurize each row of factorMat\n",
    "factorFeatures = list(map(featurize,factorMat))\n",
    "\n",
    "# OLS require parameter is a numpy array\n",
    "factor_columns = np.array(factorFeatures)\n",
    "\n",
    "#add a constant - the intercept term for each instrument i.\n",
    "factor_columns = sm.add_constant(factor_columns, prepend=True)\n",
    "\n",
    "# estimate weights\n",
    "weights = [estimateParams(stockReturns, factor_columns) for stockReturns in stocksReturns]\n",
    "\n",
    "print(\"weights:\", weights)"
   ]
  },
  {
   "cell_type": "markdown",
   "metadata": {},
   "source": [
    "<div class=\"answer\">\n",
    "\n",
    "PUT YOUR ANSWER HERE\n",
    "\n",
    "</div>"
   ]
  },
  {
   "cell_type": "markdown",
   "metadata": {},
   "source": [
    "### Step 2: Defining the distributions for the market conditions\n",
    "Since we can not define the ditributions for the market factors directly, we can only approximate their distribution.\n",
    "The best way to do that, is plotting their value. Howevery, these values may fluctuate quite a lot. \n",
    "\n",
    "Next, we show how to use the Kernel density estimation (KDE) technique to approximate such distributions. In brief, kernel density estimation is a way of smoothing out a histogram: this is achieved by assigning (or centering) a probability distribution (usually a normal distribution) to each data point, and then summing. So a set of two-week-return samples would result in a large number of \"super-imposed\" normal distributions, each with a different mean. \n",
    "\n",
    "To estimate the probability density at a given point, KDE evaluates the PDFs of all the normal distributions at that point and takes their average. The smoothness of a kernel density plot depends on its *bandwidth*, and the standard deviation of each of the normal distributions. For a brief introduction on KDE, please refer to this [link](https://en.wikipedia.org/wiki/Kernel_density_estimation)."
   ]
  },
  {
   "cell_type": "code",
   "execution_count": 20,
   "metadata": {
    "collapsed": false,
    "scrolled": true
   },
   "outputs": [
    {
     "data": {
      "image/png": "[encoded data removed]",
      "text/plain": [
       "<matplotlib.figure.Figure at 0x11080f9b0>"
      ]
     },
     "metadata": {},
     "output_type": "display_data"
    },
    {
     "data": {
      "image/png": "[encoded data removed]",
      "text/plain": [
       "<matplotlib.figure.Figure at 0x1167ab358>"
      ]
     },
     "metadata": {},
     "output_type": "display_data"
    },
    {
     "data": {
      "image/png": "[encoded data removed]",
      "text/plain": [
       "<matplotlib.figure.Figure at 0x116730198>"
      ]
     },
     "metadata": {},
     "output_type": "display_data"
    },
    {
     "data": {
      "image/png": "[encoded data removed]",
      "text/plain": [
       "<matplotlib.figure.Figure at 0x11723dbe0>"
      ]
     },
     "metadata": {},
     "output_type": "display_data"
    }
   ],
   "source": [
    "from statsmodels.nonparametric.kernel_density import KDEMultivariate\n",
    "from statsmodels.nonparametric.kde import KDEUnivariate\n",
    "import matplotlib.pyplot as plt\n",
    "import scipy\n",
    "\n",
    "def plotDistribution(samples):\n",
    "    vmin = min(samples)\n",
    "    vmax = max(samples)\n",
    "    stddev = np.std(samples)\n",
    "    \n",
    "    domain = np.arange(vmin, vmax, (vmax-vmin)/100)\n",
    "    \n",
    "    # a simple heuristic to select bandwidth\n",
    "    bandwidth = 1.06 * stddev * pow(len(samples), -.2)\n",
    "    \n",
    "    # estimate density\n",
    "    kde = KDEUnivariate(samples)\n",
    "    kde.fit(bw=bandwidth)\n",
    "    density = kde.evaluate(domain)\n",
    "    \n",
    "    # plot\n",
    "    plt.plot(domain, density)\n",
    "    plt.show()\n",
    "\n",
    "plotDistribution(factorsReturns[0])\n",
    "plotDistribution(factorsReturns[1])\n",
    "plotDistribution(factorsReturns[2])\n",
    "plotDistribution(factorsReturns[3])"
   ]
  },
  {
   "cell_type": "markdown",
   "metadata": {},
   "source": [
    "For the sake of simplicity, we can say that our smoothed versions of the returns of each factor can be represented quite well by a a normal distribution. Of course, more exotic distributions, perhaps with fatter tails, could fit more closely the data, but it is outside the scope of this Notebook to proceed in this way.\n",
    "\n",
    "Now, the simplest way to sample factors returns is to use a normal distribution for each of the factors, and sample from these distributions independently. However, this approach ignores the fact that market factors are often correlated. For example, when the price of crude oil is down, the price of treasury bonds is down too. We can check our data to verify about the correlation."
   ]
  },
  {
   "cell_type": "markdown",
   "metadata": {},
   "source": [
    "![](https://farm2.staticflickr.com/1604/24934700445_833f0a5649_t.jpg)"
   ]
  },
  {
   "cell_type": "markdown",
   "metadata": {},
   "source": [
    "<div class='anchor' ></div>\n",
    "\n",
    "### Question 6\n",
    "\n",
    "#### Question 6.1\n",
    "Calculate the correlation between market factors and explain the result.\n",
    "\n",
    "HINT: function `np.corrcoef` might be useful."
   ]
  },
  {
   "cell_type": "markdown",
   "metadata": {},
   "source": [
    "```python\n",
    "correlation = ...\n",
    "correlation\n",
    "```"
   ]
  },
  {
   "cell_type": "code",
   "execution_count": 21,
   "metadata": {
    "collapsed": false,
    "scrolled": false
   },
   "outputs": [
    {
     "data": {
      "text/plain": [
       "array([[ 1.        ,  0.39107214,  0.414966  ,  0.44278612],\n",
       "       [ 0.39107214,  1.        ,  0.49872363,  0.5365133 ],\n",
       "       [ 0.414966  ,  0.49872363,  1.        ,  0.92053356],\n",
       "       [ 0.44278612,  0.5365133 ,  0.92053356,  1.        ]])"
      ]
     },
     "execution_count": 21,
     "metadata": {},
     "output_type": "execute_result"
    }
   ],
   "source": [
    "correlation = np.corrcoef(factorsReturns)\n",
    "correlation"
   ]
  },
  {
   "cell_type": "markdown",
   "metadata": {},
   "source": [
    "<div class=\"comment\">\n",
    "\n",
    "PUT YOUR COMMENT HERE\n",
    "\n",
    "</div>"
   ]
  },
  {
   "cell_type": "markdown",
   "metadata": {},
   "source": [
    "It would be interesting to know how those factors evolve over time. For that, we'll plot them on different charts."
   ]
  },
  {
   "cell_type": "code",
   "execution_count": 22,
   "metadata": {
    "collapsed": false
   },
   "outputs": [
    {
     "data": {
      "image/png": "[encoded data removed]",
      "text/plain": [
       "<matplotlib.figure.Figure at 0x114f808d0>"
      ]
     },
     "metadata": {},
     "output_type": "display_data"
    },
    {
     "data": {
      "image/png": "[encoded data removed]",
      "text/plain": [
       "<matplotlib.figure.Figure at 0x11730ab00>"
      ]
     },
     "metadata": {},
     "output_type": "display_data"
    },
    {
     "data": {
      "image/png": "[encoded data removed]",
      "text/plain": [
       "<matplotlib.figure.Figure at 0x11701e400>"
      ]
     },
     "metadata": {},
     "output_type": "display_data"
    },
    {
     "data": {
      "image/png": "[encoded data removed]",
      "text/plain": [
       "<matplotlib.figure.Figure at 0x113f48e80>"
      ]
     },
     "metadata": {},
     "output_type": "display_data"
    }
   ],
   "source": [
    "for factorReturns in factorsReturns:\n",
    "    plt.plot(factorReturns)\n",
    "    plt.show()"
   ]
  },
  {
   "cell_type": "markdown",
   "metadata": {},
   "source": [
    "It would be also nice to see if there is some direct correlation between one factor and the portfolio return. (even if it's very unlikely)"
   ]
  },
  {
   "cell_type": "code",
   "execution_count": 23,
   "metadata": {
    "collapsed": false
   },
   "outputs": [
    {
     "data": {
      "image/png": "[encoded data removed]",
      "text/plain": [
       "<matplotlib.figure.Figure at 0x1167b5da0>"
      ]
     },
     "metadata": {},
     "output_type": "display_data"
    }
   ],
   "source": [
    "portfolioReturns = []\n",
    "for i in range(0, len(stocksReturns[0])):\n",
    "    # calculate the return of each day\n",
    "    returnOfTheDay = sum([ stockReturn[i] for stockReturn in stocksReturns])\n",
    "    portfolioReturns.append(returnOfTheDay)\n",
    "\n",
    "plt.plot(portfolioReturns)\n",
    "plt.show()"
   ]
  },
  {
   "cell_type": "markdown",
   "metadata": {},
   "source": [
    "\n",
    "\n",
    "The multivariate normal distribution can help here by taking the correlation information between the factors into account. Each sample from a multivariate normal distribution can be thought of as a vector. Given values for all of the dimensions but one, the distribution of values along that dimension is normal. But, in their joint distribution, the variables are not independent.\n",
    "\n",
    "For this use case, we can write:\n",
    "\n",
    "$$\n",
    "\\left(\\begin{array}{c}f_{1}\\\\f_{2}\\\\f_{3}\\\\f_{4} \\end{array}\\right)\n",
    "\\sim N \n",
    "\\left[\n",
    "  \\left(\n",
    "    \\begin{array}{c}\n",
    "      \\mu_1\\\\ \\mu_2 \\\\ \\mu_3 \\\\ \\mu_4 \n",
    "    \\end{array}\n",
    "  \\right), \n",
    "  \\left(\n",
    "    \\begin{array}{cccc}\n",
    "      \\sigma^2_1 & \\rho_{12} \\sigma_1\\sigma_2 & \\rho_{13} \\sigma_1\\sigma_3 & \\rho_{14} \\sigma_1\\sigma_4 \\\\ \n",
    "      \\rho_{12}\\sigma_2\\sigma_1 & \\sigma^2_2 & \\rho_{23} \\sigma_2\\sigma_3 & \\rho_{24} \\sigma_2\\sigma_4\\\\\n",
    "      \\rho_{13} \\sigma_3\\sigma_1 & \\rho_{23} \\sigma_3\\sigma_2 & \\sigma^2_3 & \\rho_{34} \\sigma_3\\sigma_4 \\\\ \n",
    "      \\rho_{14} \\sigma_4\\sigma_1 & \\rho_{24} \\sigma_4\\sigma_2 & \\rho_{34} \\sigma_3\\sigma_4 & \\sigma_4^2 \\\\ \n",
    "    \\end{array}\n",
    "  \\right)\n",
    "\\right]\n",
    "$$\n",
    "\n",
    "Or,\n",
    "\n",
    "$$\n",
    "f_t \\sim N(\\mu, \\sum)\n",
    "$$\n",
    "\n",
    "Where $f_1$, $f_2$, $f_3$ and $f_4$ are the market factors, $\\sigma_i$ is the standard deviation of factor $i$, $\\mu$ is a vector of the empirical means of the returns of the factors and $\\sum$ is the empirical covarance matrix of the returns of the factors.\n",
    "\n",
    "The multivariate normal is parameterized with a mean along each dimension and a matrix describing the covariance between each pair of dimensions. When the covariance matrix is diagonal, the multivariate normal reduces to sampling along each dimension independently, but placing non-zero values in the off-diagonals helps capture the relationships between variables. Whenever having the mean of this multivariate normal distribution and it's covariance matrix, we can generate the sample values for market factors.\n",
    "\n",
    "Next, we will calculate the mean and the covariance matrix of this multivariate normal distribution from the historical data.\n"
   ]
  },
  {
   "cell_type": "markdown",
   "metadata": {},
   "source": [
    "<div class='anchor' ></div>\n",
    "\n",
    "#### Question 6.2\n",
    "Calculate the covariance matrix $\\sum$ and the means $\\mu$ of factors' returns then generate a random vector of factors return that follows a multivariate normal distribution $\\sim N(\\mu, \\sum)$\n",
    "\n",
    "HINT:\n",
    "Function `np.cov` can help calculating covariance matrix. Function `np.random.multivariate_normal(<mean>, <cov>)` is often used for generating samples."
   ]
  },
  {
   "cell_type": "markdown",
   "metadata": {},
   "source": [
    "```python\n",
    "factorCov = ...\n",
    "factorMeans = [sum(...)/len(...) for ... in ...]\n",
    "sample = ...\n",
    "print(factorCov)\n",
    "print(factorMeans)\n",
    "print(sample)\n",
    "```"
   ]
  },
  {
   "cell_type": "code",
   "execution_count": 24,
   "metadata": {
    "collapsed": false
   },
   "outputs": [
    {
     "name": "stdout",
     "output_type": "stream",
     "text": [
      "[[  2.03712313e+01   2.63376804e-01   6.74442782e+01   1.63697774e+02]\n",
      " [  2.63376804e-01   2.22650671e-02   2.67976007e+00   6.55741446e+00]\n",
      " [  6.74442782e+01   2.67976007e+00   1.29672509e+03   2.71521187e+03]\n",
      " [  1.63697774e+02   6.55741446e+00   2.71521187e+03   6.70934736e+03]]\n",
      "[0.35908880308880364, -0.0027590733590733448, 6.970339789189207, 18.737721800000003]\n",
      "[  8.07032987  -0.11249237  11.61687783   5.35432792]\n"
     ]
    }
   ],
   "source": [
    "factorCov = np.cov(factorsReturns)\n",
    "factorMeans = [sum(factorReturns)/len(factorReturns) for factorReturns in factorsReturns]\n",
    "sample = np.random.multivariate_normal(factorMeans, factorCov)\n",
    "print(factorCov)\n",
    "print(factorMeans)\n",
    "print(sample)"
   ]
  },
  {
   "cell_type": "markdown",
   "metadata": {},
   "source": [
    "### Step 3&4: Generating samples, running simulation and calculating the VaR"
   ]
  },
  {
   "cell_type": "markdown",
   "metadata": {},
   "source": [
    "We define some functions that helps us calculating VaR 5%. You will see that the functions below are pretty complicated! This is why we provide a solution for you: however, study them well!!\n",
    "\n",
    "The basic idea of calculating VaR 5% is that we need to find a value such that only 5% of the losses are bigger than it. That means the 5th percentile of the losses should be VaR 5%.\n",
    "\n",
    "VaR can sometimes be problematic though, since it does give any information on the extent of the losses which can exceed the VaR estimate. CVar is an extension of VaR that is introduced to deal with this problem. Indeed, CVaR measures the expected value of the loss in those cases where VaR estimate has been exceeded."
   ]
  },
  {
   "cell_type": "code",
   "execution_count": 25,
   "metadata": {
    "collapsed": true
   },
   "outputs": [],
   "source": [
    "def fivePercentVaR(trials):\n",
    "    numTrials = trials.count()\n",
    "    topLosses = trials.takeOrdered(max(round(numTrials/20.0), 1))\n",
    "    return topLosses[-1]\n",
    "\n",
    "# an extension of VaR\n",
    "def fivePercentCVaR(trials):\n",
    "    numTrials = trials.count()\n",
    "    topLosses = trials.takeOrdered(max(round(numTrials/20.0), 1))\n",
    "    return sum(topLosses)/len(topLosses)\n",
    "\n",
    "def bootstrappedConfidenceInterval(\n",
    "      trials, computeStatisticFunction,\n",
    "      numResamples, pValue):\n",
    "    stats = []\n",
    "    for i in range(0, numResamples):\n",
    "        resample = trials.sample(True, 1.0)\n",
    "        stats.append(computeStatisticFunction(resample))\n",
    "    sorted(stats)\n",
    "    lowerIndex = int(numResamples * pValue / 2 - 1)\n",
    "    upperIndex = int(np.ceil(numResamples * (1 - pValue / 2)))\n",
    "    return (stats[lowerIndex], stats[upperIndex])"
   ]
  },
  {
   "cell_type": "markdown",
   "metadata": {},
   "source": [
    "Next, we will run the Monte Carlo simulation 10,000 times, in parallel using Spark. Since your cluster has 12 cores (two Spark worker nodes, each with 6 cores), we can set `parallelism = 12` to dispatch simulation on these cores, across the two machines (remember, those are not really \"physical machines\", they are Docker containers running in our infrastructure)."
   ]
  },
  {
   "cell_type": "markdown",
   "metadata": {},
   "source": [
    "![](https://farm2.staticflickr.com/1604/24934700445_833f0a5649_t.jpg)"
   ]
  },
  {
   "cell_type": "markdown",
   "metadata": {},
   "source": [
    "<div class='anchor' ></div>\n",
    "\n",
    "### Question 7\n",
    "Complete the code below to define the simulation process and calculate VaR 5%."
   ]
  },
  {
   "cell_type": "markdown",
   "metadata": {},
   "source": [
    "```python\n",
    "# RUN SILMULATION\n",
    "def simulateTrialReturns(numTrials, factorMeans, factorCov, weights):\n",
    "    trialReturns = []\n",
    "    for i in range(0, numTrials):\n",
    "        # generate sample of factors' returns\n",
    "        trialFactorReturns = ...\n",
    "        \n",
    "        # featurize the factors' returns\n",
    "        trialFeatures = ...\n",
    "        \n",
    "        # insert weight for intercept term\n",
    "        trialFeatures.insert(0,1)\n",
    "        \n",
    "        trialTotalReturn = 0\n",
    "        \n",
    "        # calculate the return of each instrument\n",
    "        # then calulate the total of return for this trial features\n",
    "        trialTotalReturn = ...\n",
    "        \n",
    "        trialReturns.append(trialTotalReturn)\n",
    "    return trialReturns\n",
    "\n",
    "\n",
    "        \n",
    "parallelism = 12\n",
    "numTrials = 10000\n",
    "trial_indexes = list(range(0, parallelism))\n",
    "seedRDD = sc.parallelize(trial_indexes, parallelism)\n",
    "bFactorWeights = sc.broadcast(weights)\n",
    "\n",
    "trials = seedRDD.flatMap(lambda idx: \\\n",
    "                simulateTrialReturns(\n",
    "                    max(int(numTrials/parallelism), 1), \n",
    "                    ..., ...,\n",
    "                    ...\n",
    "                ))\n",
    "trials.cache()\n",
    "\n",
    "valueAtRisk = fivePercentVaR(...)\n",
    "conditionalValueAtRisk = fivePercentCVaR(...)\n",
    "\n",
    "print \"Value at Risk(VaR) 5%:\", valueAtRisk\n",
    "print \"Conditional Value at Risk(CVaR) 5%:\", conditionalValueAtRisk\n",
    "```"
   ]
  },
  {
   "cell_type": "code",
   "execution_count": 26,
   "metadata": {
    "collapsed": false
   },
   "outputs": [
    {
     "name": "stdout",
     "output_type": "stream",
     "text": [
      "Value at Risk(VaR) 5%: -35.5286326238\n",
      "Conditional Value at Risk(CVaR) 5%: -44.4184381259\n"
     ]
    }
   ],
   "source": [
    "# RUN SILMULATION\n",
    "def simulateTrialReturns(numTrials, factorMeans, factorCov, weights):\n",
    "    trialReturns = []\n",
    "    for i in range(0, numTrials):\n",
    "        # generate sample of factors' returns\n",
    "        trialFactorReturns = np.random.multivariate_normal(factorMeans, factorCov)\n",
    "        \n",
    "        # featurize the factors' returns\n",
    "        trialFeatures = featurize(trialFactorReturns)\n",
    "        \n",
    "        # insert weight for intercept term\n",
    "        trialFeatures.insert(0,1)\n",
    "        \n",
    "        trialTotalReturn = 0\n",
    "        \n",
    "        # calculate the return of each instrument\n",
    "        # then calulate the total of return for this trial features\n",
    "        for stockWeights in weights:\n",
    "            instrumentReturn =  sum([stockWeights[i] * trialFeatures[i] for i in range(len(trialFeatures))])\n",
    "            trialTotalReturn += instrumentReturn\n",
    "        \n",
    "        trialReturns.append(trialTotalReturn)\n",
    "    return trialReturns\n",
    "\n",
    "\n",
    "        \n",
    "parallelism = 2\n",
    "numTrials = 10000\n",
    "trial_indexes = list(range(0, parallelism))\n",
    "seedRDD = sc.parallelize(trial_indexes, parallelism)\n",
    "bFactorWeights = sc.broadcast(weights)\n",
    "\n",
    "trials = seedRDD.flatMap(lambda idx: \\\n",
    "                simulateTrialReturns(\n",
    "                    max(int(numTrials/parallelism), 1), \n",
    "                    factorMeans, factorCov,\n",
    "                    bFactorWeights.value\n",
    "                ))\n",
    "trials.cache()\n",
    "\n",
    "valueAtRisk = fivePercentVaR(trials)\n",
    "conditionalValueAtRisk = fivePercentCVaR(trials)\n",
    "\n",
    "print (\"Value at Risk(VaR) 5%:\", valueAtRisk)\n",
    "print (\"Conditional Value at Risk(CVaR) 5%:\", conditionalValueAtRisk)"
   ]
  },
  {
   "cell_type": "markdown",
   "metadata": {},
   "source": [
    "The value of VaR depends on how many invested stocks and the chosen distribution of random variables. Assume that we get VaR 5% = -2.66,  that means that there is a 0.05 probability that the portfolio will fall in value by more than \\$2.66 over a two weeks period if there is no trading. In other words, the loses are less than \\$2.66 over two weeks period with 95% confidence level. When a loss over two weeks is more than \\$2.66, we call it **failure** (or **exception**). Informally, because of 5% probability, we expect that there are only $0.05*W$ failures out of total $W$ windows."
   ]
  },
  {
   "cell_type": "markdown",
   "metadata": {
    "collapsed": false
   },
   "source": [
    "### Step 5: Evaluating the results using backtesting method\n",
    "In general, the error in a Monte Carlo simulation should be proportional to 1/sqrt(n), where n is the number of trials. This means, for example, that quadrupling the number of trials should approximately cut the error in half. A good way to check the quality of a result is backtesting on historical data. Backtesting is a statistical procedure where actual losses are compared to the estimated VaR. For instance, if the confidence level used to calculate VaR is 95% (or VaR 5%), we expect only 5 failures over 100 two-week time windows.\n",
    "\n",
    "The most common test of a VaR model is counting the number of VaR failures, i.e, in how many windows, the losses exceed VaR estimate. If the number of exceptions is less than selected confidence level would indicate, the VaR model overestimates the risk. On the contrary, if there are too many exceptions, the risk is underestimated. However, it's very hard to observe the amount of failures suggested by the confidence level exactly. Therefore, people try to study whether the number of failures is reasonable or not, or will the model be accepted or rejected.\n",
    "\n",
    "One common test is Kupiec's proportion-of-failures (POF) test. This test considers how the portfolio performed at many historical time intervals and counts the number of times that the losses exceeded the VaR. The null hypothesis is that the VaR is reasonable, and a sufficiently extreme test statistic means that the VaR estimate does not accurately describe the data. The test statistic is computed as:\n",
    "\n",
    "$$\n",
    "-2ln\\Bigg(\\frac{(1-p)^{T-x}p^x}{(1-\\frac{x}{T})^{T-x}(\\frac{x}{T})^x}\\Bigg)\n",
    "$$\n",
    "\n",
    "where:\n",
    "\n",
    "$p$ is the quantile-of-loss of the VaR calculation (e.g, in VaR 5%, p=0.05),\n",
    "\n",
    "$x$ (the number of failures) is the number of historical intervals over which the losses exceeded the VaR \n",
    "\n",
    "$T$ is  the total number of historical intervals considered\n",
    "\n",
    "Or we can expand out the log for better numerical stability:\n",
    "\n",
    "$$\n",
    "\\begin{equation}\n",
    "-2\\Big((T-x)ln(1-p)+x*ln(p)-(T-x)ln(1-\\frac{x}{T})-x*ln(\\frac{x}{T})\\Big)\n",
    "\\end{equation}\n",
    "$$\n",
    "\n",
    "If we assume the null hypothesis that the VaR is reasonable, then this test statistic is drawn from a chi-squared distribution with a single degree of freedom. By using Chi-squared distribution, we can find the `p-value` accompanying our test statistic value.  If `p-value` exceeds the critical value of the Chi-squared distribution, we do have sufficient evidence to reject the null hypothesis that the model is reasonable. Or we can say, in that case, the model is considered as inaccurate.\n",
    "\n",
    "For example, assume that we calculate VaR 5% (the confidence level of the VaR model is 95%) and get value VaR = 2.26. We also observed 50 exceptions over 500 time windows. Using the formular above, the test statistic `p-value` is calculated and equal to `8.08`. Compared to `3.84`, the critical value of Chi-squared distribution with one degree of freedom at probability 5%, the test statistic is larger. So, the model is rejected. The critical values of Chi-squared can be found by following [this link](https://people.richland.edu/james/lecture/m170/tbl-chi.html).\n",
    "However, in this Notebook, it's not a good idea to find the corresponding critical value by looking in a \"messy\" table, especially when we need to change the confidence level. Insteads, from `p-value`, we will calculate the probability of the test statistic in Chi-square thanks to some functions in package `scipy`. If the calculated probability is smaller than the quantile of loss (e.g, 0.05), the model is rejected and vice versa.\n"
   ]
  },
  {
   "cell_type": "markdown",
   "metadata": {},
   "source": [
    "![](https://farm2.staticflickr.com/1604/24934700445_833f0a5649_t.jpg)"
   ]
  },
  {
   "cell_type": "markdown",
   "metadata": {},
   "source": [
    "<div class='anchor' ></div>\n",
    "### Question 8\n",
    "\n",
    "#### Question 8.1\n",
    "Write a function to calculate the number of failures, that is when the losses (in the original data) exceed the VaR.\n",
    "\n",
    "HINT:\n",
    "- First, we need to calculate the total loss in each 2-week time interval\n",
    "- If the total loss of a time interval exceeds VaR, then we say that our VaR fails to estimate the risk in that time interval.\n",
    "- Return the number of failures\n",
    "\n",
    "NOTE: The loss is often has negative value, so, be careful when compare it to VaR."
   ]
  },
  {
   "cell_type": "markdown",
   "metadata": {},
   "source": [
    "```python\n",
    "from scipy import stats\n",
    "import math\n",
    "\n",
    "def countFailures(stocksReturns, valueAtRisk):\n",
    "    failures = 0\n",
    "    # iterate over time intervals\n",
    "    for i in range(0, ...):\n",
    "        # calculate the losses in each time interval\n",
    "        loss = ...\n",
    "        \n",
    "        # if the loss exceeds VaR\n",
    "        if ...:\n",
    "            failures += 1\n",
    "    return failures\n",
    "```"
   ]
  },
  {
   "cell_type": "code",
   "execution_count": 27,
   "metadata": {
    "collapsed": true
   },
   "outputs": [],
   "source": [
    "from scipy import stats\n",
    "import math\n",
    "\n",
    "def countFailures(stocksReturns, valueAtRisk):\n",
    "    failures = 0\n",
    "    # iterate over time intervals\n",
    "    for i in range(0, len(stocksReturns[0])):\n",
    "        # calculate the losses in each time interval\n",
    "        loss = -sum([ stockReturn[i] for stockReturn in stocksReturns])\n",
    "        \n",
    "        # if the loss exceeds VaR\n",
    "        if loss > -valueAtRisk:\n",
    "            failures += 1\n",
    "    return failures"
   ]
  },
  {
   "cell_type": "markdown",
   "metadata": {},
   "source": [
    "<div class='anchor' ></div>\n",
    "\n",
    "#### Question 8.2\n",
    "Write a function named `kupiecTestStatistic` to calculate the test statistic which was described in the above equation."
   ]
  },
  {
   "cell_type": "markdown",
   "metadata": {},
   "source": [
    "```python\n",
    "def kupiecTestStatistic(total, failures, confidenceLevel):\n",
    "    failureRatio = .../...\n",
    "    logNumer = ...\n",
    "    logDenom = ...\n",
    "    return -2 * (logNumer - logDenom)\n",
    "    \n",
    "# test the function\n",
    "assert (round(kupiecTestStatistic(250, 36, 0.1), 2) == 4.80), \"function kupiecTestStatistic runs incorrectly\"\n",
    "```"
   ]
  },
  {
   "cell_type": "code",
   "execution_count": 28,
   "metadata": {
    "collapsed": false
   },
   "outputs": [],
   "source": [
    "def kupiecTestStatistic(total, failures, confidenceLevel):\n",
    "    failureRatio = failures/total\n",
    "    logNumer = (total - failures) * np.log(1-confidenceLevel) + failures * np.log(confidenceLevel)\n",
    "    logDenom = (total - failures) * np.log(1-failureRatio) + failures * np.log(failureRatio)\n",
    "    return -2 * (logNumer - logDenom)\n",
    "    \n",
    "# test the function\n",
    "assert (round(kupiecTestStatistic(250, 36, 0.1), 2) == 4.80), \"function kupiecTestStatistic runs incorrectly\""
   ]
  },
  {
   "cell_type": "markdown",
   "metadata": {},
   "source": [
    "Now we can find the p-value accompanying our test statistic value."
   ]
  },
  {
   "cell_type": "code",
   "execution_count": 29,
   "metadata": {
    "collapsed": false
   },
   "outputs": [
    {
     "name": "stdout",
     "output_type": "stream",
     "text": [
      "VaR confidence interval:  (-35.210868009324152, -35.235478580067586)\n",
      "CVaR confidence interval:  (-44.84087939069466, -44.701608854319204)\n",
      "num failures: 120\n",
      "Kupiec test p-value:  2.4262852798e-10\n"
     ]
    }
   ],
   "source": [
    "def kupiecTestPValue(stocksReturns, valueAtRisk, confidenceLevel):\n",
    "    failures = countFailures(stocksReturns, valueAtRisk)\n",
    "    print(\"num failures:\", failures)\n",
    "    if failures == 0:\n",
    "        # the model is very good\n",
    "        return 1\n",
    "    total = len(stocksReturns[0])\n",
    "    testStatistic = kupiecTestStatistic(total, failures, confidenceLevel)\n",
    "    #return 1 - stats.chi2.cdf(testStatistic, 1.0)\n",
    "    return stats.chisqprob(testStatistic, 1.0)\n",
    "\n",
    "varConfidenceInterval = bootstrappedConfidenceInterval(trials, fivePercentVaR, 100, 0.05)\n",
    "cvarConfidenceInterval = bootstrappedConfidenceInterval(trials, fivePercentCVaR, 100, .05)\n",
    "print(\"VaR confidence interval: \" , varConfidenceInterval)\n",
    "print(\"CVaR confidence interval: \" , cvarConfidenceInterval)\n",
    "print(\"Kupiec test p-value: \" , kupiecTestPValue(stocksReturns, valueAtRisk, 0.05))"
   ]
  },
  {
   "cell_type": "markdown",
   "metadata": {},
   "source": [
    "<div class='anchor' ></div>\n",
    "#### Question 8.3\n",
    "Discuss the results you have obtained"
   ]
  },
  {
   "cell_type": "markdown",
   "metadata": {},
   "source": [
    "<div class=\"answer\">\n",
    "\n",
    "PUT YOUR ANSWER HERE !\n",
    "\n",
    "</div>"
   ]
  },
  {
   "cell_type": "markdown",
   "metadata": {},
   "source": [
    "![](https://farm2.staticflickr.com/1604/24934700445_833f0a5649_t.jpg)"
   ]
  },
  {
   "cell_type": "markdown",
   "metadata": {},
   "source": [
    "<div class='anchor' ></div>\n",
    "### Question 9\n",
    "\n",
    "Assume that we invest in more than 100 stocks. Use the same market factors as for the previous questions to estimate VaR by running MCS, then validate your result.\n",
    "\n",
    "What is the main observation you have, once you answer this question? When you plan to invest in more instruments, how is your ability to predict the risk going to be affected?\n"
   ]
  },
  {
   "cell_type": "code",
   "execution_count": 31,
   "metadata": {
    "collapsed": true
   },
   "outputs": [],
   "source": [
    "def wholeRun(numberOfFiles, factorReturns, factorMeans, factorCov,\n",
    "             start = datetime(year=2009, month=1, day=23),\n",
    "             end = datetime(year=2014, month=1, day=23),\n",
    "             number_of_years = 5):\n",
    "\n",
    "    # select path of all stock data files in \"stock_folder\"\n",
    "    files = [join(stock_folder, f) for f in listdir(stock_folder) if isfile(join(stock_folder, f))]\n",
    "\n",
    "    # assume that we invest only the first 35 stocks (for faster computation)\n",
    "    files = files[:numberOfFiles]\n",
    "    # read each line in each file, convert it into the format: (date, value)\n",
    "    rawStocks = [process_stock_file(f) for f in files]\n",
    "\n",
    "    # select only instruments which have more than 5 years of history\n",
    "    # Note: the number of business days in a year is 260\n",
    "    number_of_years = 5\n",
    "    rawStocks = list(filter(lambda instrument: len(instrument)>=260*number_of_years , rawStocks))\n",
    "\n",
    "    # For testing, print the first 5 entry of the first stock\n",
    "    print(rawStocks[0][:5])\n",
    "\n",
    "    # test our function\n",
    "    trimmedStock0  = trimToRegion(rawStocks[0], start, end) # Changed stocks to rawStocks\n",
    "    # the first 5 records of stock 0\n",
    "    print(trimmedStock0[:5])\n",
    "    # the last 5 records of stock 0\n",
    "    print(trimmedStock0[-5:])\n",
    "\n",
    "    assert (trimmedStock0[0][0] == start), \"the first record must\\\n",
    "    contain the price in the first day of time interval\"\n",
    "    assert (trimmedStock0[-1][0] == end), \"the last record must\\\n",
    "    contain the price in the last day of time interval\"\n",
    "\n",
    "    # trim into a specific time region\n",
    "    # and fill up the missing values\n",
    "    stocks = list(map(lambda stock: \\\n",
    "                fillInHistory(\n",
    "                    trimToRegion(stock, start, end), \n",
    "                start, end), \n",
    "            rawStocks))\n",
    "\n",
    "    # test our code\n",
    "    print(\"the first 5 records of stock 0:\", stocks[0][:5], \"\\n\")\n",
    "    print(\"the last 5 records of stock 0:\", stocks[0][-5:], \"\\n\")\n",
    "\n",
    "    stocksReturns = list(map(twoWeekReturns, stocks))\n",
    "    print(\"the first 5 returns of stock 0:\", stocksReturns[0][:5])\n",
    "    print(\"the last 5 returns of stock 0:\", stocksReturns[0][-5:])\n",
    "\n",
    "    # transpose factorsReturns\n",
    "    factorMat = transpose(factorsReturns)\n",
    "\n",
    "    # featurize each row of factorMat\n",
    "    factorFeatures = list(map(featurize,factorMat))\n",
    "\n",
    "    # OLS require parameter is a numpy array\n",
    "    factor_columns = np.array(factorFeatures)\n",
    "\n",
    "    #add a constant - the intercept term for each instrument i.\n",
    "    factor_columns = sm.add_constant(factor_columns, prepend=True)\n",
    "\n",
    "    # estimate weights\n",
    "    weights = [estimateParams(stockReturns, factor_columns) for stockReturns in stocksReturns]\n",
    "\n",
    "    print(\"weights:\", weights)\n",
    "\n",
    "    parallelism = 2\n",
    "    numTrials = 10000\n",
    "    trial_indexes = list(range(0, parallelism))\n",
    "    seedRDD = sc.parallelize(trial_indexes, parallelism)\n",
    "    bFactorWeights = sc.broadcast(weights)\n",
    "\n",
    "    trials = seedRDD.flatMap(lambda idx: \\\n",
    "                    simulateTrialReturns(\n",
    "                        max(int(numTrials/parallelism), 1), \n",
    "                        factorMeans, factorCov,\n",
    "                        bFactorWeights.value\n",
    "                    ))\n",
    "    trials.cache()\n",
    "\n",
    "    valueAtRisk = fivePercentVaR(trials)\n",
    "    conditionalValueAtRisk = fivePercentCVaR(trials)\n",
    "\n",
    "    print (\"Value at Risk(VaR) 5%:\", valueAtRisk)\n",
    "    print (\"Conditional Value at Risk(CVaR) 5%:\", conditionalValueAtRisk)\n",
    "\n",
    "    varConfidenceInterval = bootstrappedConfidenceInterval(trials, fivePercentVaR, 100, 0.05)\n",
    "    cvarConfidenceInterval = bootstrappedConfidenceInterval(trials, fivePercentCVaR, 100, .05)\n",
    "    print(\"VaR confidence interval: \" , varConfidenceInterval)\n",
    "    print(\"CVaR confidence interval: \" , cvarConfidenceInterval)\n",
    "    print(\"Kupiec test p-value: \" , kupiecTestPValue(stocksReturns, valueAtRisk, 0.05))\n"
   ]
  },
  {
   "cell_type": "code",
   "execution_count": 32,
   "metadata": {
    "collapsed": false,
    "scrolled": false
   },
   "outputs": [
    {
     "name": "stdout",
     "output_type": "stream",
     "text": [
      "[(datetime.datetime(2005, 9, 27, 0, 0), 21.049999), (datetime.datetime(2005, 9, 28, 0, 0), 19.299999), (datetime.datetime(2005, 9, 29, 0, 0), 20.4), (datetime.datetime(2005, 9, 30, 0, 0), 20.26), (datetime.datetime(2005, 10, 3, 0, 0), 20.9)]\n",
      "[(datetime.datetime(2009, 1, 23, 0, 0), 7.1), (datetime.datetime(2009, 1, 26, 0, 0), 7.79), (datetime.datetime(2009, 1, 27, 0, 0), 7.73), (datetime.datetime(2009, 1, 28, 0, 0), 7.04), (datetime.datetime(2009, 1, 29, 0, 0), 7.15)]\n",
      "[(datetime.datetime(2014, 1, 16, 0, 0), 28.940001), (datetime.datetime(2014, 1, 17, 0, 0), 29.299999), (datetime.datetime(2014, 1, 21, 0, 0), 30.66), (datetime.datetime(2014, 1, 22, 0, 0), 30.709999), (datetime.datetime(2014, 1, 23, 0, 0), 30.65)]\n",
      "the first 5 records of stock 0: [(datetime.datetime(2009, 1, 23, 0, 0), 7.1), (datetime.datetime(2009, 1, 26, 0, 0), 7.79), (datetime.datetime(2009, 1, 27, 0, 0), 7.73), (datetime.datetime(2009, 1, 28, 0, 0), 7.04), (datetime.datetime(2009, 1, 29, 0, 0), 7.15)] \n",
      "\n",
      "the last 5 records of stock 0: [(datetime.datetime(2014, 1, 16, 0, 0), 28.940001), (datetime.datetime(2014, 1, 17, 0, 0), 29.299999), (datetime.datetime(2014, 1, 20, 0, 0), 29.299999), (datetime.datetime(2014, 1, 21, 0, 0), 30.66), (datetime.datetime(2014, 1, 22, 0, 0), 30.709999)] \n",
      "\n",
      "the first 5 returns of stock 0: [-1.7199999999999998, -2.3600000000000003, -2.2800000000000002, -1.79, -2.0100000000000007]\n",
      "the last 5 returns of stock 0: [3.1900009999999988, 2.679998000000001, 2.0999979999999994, 4.289999000000002, 2.4699990000000014]\n",
      "weights: [array([  7.17607665e-02,  -1.38718641e-03,   1.60538322e-01,\n",
      "        -5.11172440e-05,   1.62782244e-05,   7.09760107e-02,\n",
      "         6.06851965e-01,  -6.24919771e-02,   4.10029155e-02,\n",
      "        -7.38639591e-02,  -1.80961171e+00,   1.29479818e-02,\n",
      "        -5.26807007e-04]), array([  1.87238536e-02,  -1.35798610e-04,   5.15219211e-02,\n",
      "         3.54742058e-06,   5.27676775e-07,  -2.04643516e-02,\n",
      "        -4.99634384e-02,   9.48580541e-04,   2.36834040e-03,\n",
      "         8.47010344e-03,   1.10829060e-01,  -5.31736169e-05,\n",
      "        -1.49874337e-04]), array([ -4.64536012e-02,   3.71692873e-03,   2.45388665e+00,\n",
      "         6.64968216e-05,  -2.42323901e-05,   2.18190592e-01,\n",
      "        -4.36908110e-01,  -7.48225216e-03,  -1.34118851e-02,\n",
      "        -1.08754038e-01,   9.69609538e-01,   1.44935942e-03,\n",
      "         1.03239685e-02]), array([ -1.00256488e-01,   2.98422780e-02,  -9.60121629e+00,\n",
      "         9.50737842e-04,  -1.70303406e-04,   1.74188753e+00,\n",
      "         1.34601208e+00,   5.61082010e-01,   2.28217497e-01,\n",
      "        -7.38305237e-01,  -1.02694302e+01,  -5.04752348e-01,\n",
      "         2.91651304e-01]), array([ -3.35827677e-01,   1.88988682e-02,  -1.34272878e+00,\n",
      "        -5.86809193e-05,  -3.04199760e-05,   4.16693457e-01,\n",
      "        -3.19919523e+00,  -1.29729925e-01,   8.34695114e-02,\n",
      "        -2.95869738e-01,   9.42357059e+00,   3.32143779e-02,\n",
      "         1.83694034e-02]), array([ -1.03048484e-01,  -1.40802576e-02,   3.03247761e+00,\n",
      "        -4.30050081e-05,   7.04983149e-06,  -3.98611748e-01,\n",
      "         1.87011316e-01,  -7.49311820e-02,   2.47689938e-02,\n",
      "         3.49588352e-01,   3.60112368e-01,   3.27641065e-02,\n",
      "         4.41011217e-03]), array([ -3.75169749e-02,   1.69170322e-03,  -4.95299635e-01,\n",
      "        -6.96965316e-06,   2.12242647e-06,  -4.74018710e-03,\n",
      "        -1.28294116e-01,   7.25170148e-03,  -1.96910594e-03,\n",
      "        -3.07662175e-04,   4.55273461e-01,  -1.11931462e-03,\n",
      "         3.31880910e-04]), array([  5.67626672e-02,   3.93146406e-03,   1.25359447e+01,\n",
      "         4.61107782e-05,  -5.34162524e-06,   3.30308475e-01,\n",
      "         5.48817157e-01,   6.09036264e-03,   3.91840512e-03,\n",
      "        -1.01995055e-01,  -4.37903713e+00,   1.23267147e-02,\n",
      "         9.44456698e-04]), array([  8.76609018e-03,  -6.84414029e-04,   2.02706645e-01,\n",
      "         3.53286756e-05,  -1.60667565e-05,  -7.29844107e-02,\n",
      "         6.22318485e-02,  -1.11041749e-02,  -3.82277823e-03,\n",
      "         3.61771878e-02,  -4.44338858e-01,   3.78210008e-03,\n",
      "         4.89404807e-03]), array([ -2.44798108e-02,   2.04887317e-03,  -1.18765605e+00,\n",
      "        -4.53070511e-06,   1.57933023e-07,   7.30155218e-02,\n",
      "        -4.37623788e-01,  -1.80021570e-02,   8.44941922e-03,\n",
      "        -5.46792958e-02,   1.55994604e+00,   1.51865350e-03,\n",
      "         6.11521694e-04]), array([  1.34552165e-01,  -4.41486757e-02,   5.15555663e+00,\n",
      "        -1.50070477e-04,   4.17506993e-05,  -4.73994616e-01,\n",
      "         2.83792864e+00,   1.17408267e-01,  -1.11790079e-01,\n",
      "         5.66201533e-01,  -7.87827274e+00,   1.66498435e-03,\n",
      "         6.76958076e-03]), array([ -3.50718792e-02,   5.87572920e-03,  -4.39887550e+00,\n",
      "         2.84231576e-05,   4.35198251e-06,   1.70719469e-01,\n",
      "        -6.75440459e-01,   4.13550866e-02,   1.82500023e-02,\n",
      "        -1.29804591e-01,   2.92752722e+00,  -2.96549885e-03,\n",
      "        -2.86668675e-03]), array([  5.60761854e-03,  -1.97730574e-03,   5.27952547e+00,\n",
      "        -4.16595661e-05,   3.97831730e-05,   9.52519397e-02,\n",
      "         1.57336623e+00,  -1.53633434e-02,   5.28272666e-02,\n",
      "        -1.54765140e-03,  -5.21414171e+00,   1.70287419e-02,\n",
      "        -9.39824371e-03]), array([  7.91388722e-02,   1.03064844e-03,   6.66954167e-01,\n",
      "         4.69350780e-08,  -3.15892281e-06,   3.58179076e-02,\n",
      "        -2.01598796e-02,   3.75977062e-02,  -2.95937624e-02,\n",
      "        -2.10358349e-02,  -5.52642802e-01,  -5.06202063e-03,\n",
      "         4.44022503e-03]), array([  9.45145959e-02,   4.34108771e-03,   6.83675482e-01,\n",
      "        -6.31855761e-05,  -3.19934047e-06,   2.30783499e-01,\n",
      "        -2.95990986e-01,  -1.04014946e-01,   3.76037693e-02,\n",
      "        -1.19472918e-01,  -2.68111284e-01,   1.49892095e-02,\n",
      "         1.55805060e-03]), array([ -3.83188435e-03,   1.96380379e-03,  -1.24176319e+00,\n",
      "        -1.87876415e-05,   7.77926511e-06,   7.76591090e-02,\n",
      "        -4.02663894e-01,   5.71580644e-03,   1.69602824e-02,\n",
      "        -4.68351174e-02,   9.77012112e-01,   5.92244313e-03,\n",
      "        -2.47099176e-04]), array([  9.21242007e-02,  -4.31610680e-03,  -9.13425155e+00,\n",
      "         3.47363794e-05,  -2.63260156e-05,  -2.89085400e-01,\n",
      "        -1.87123110e+00,   7.37912158e-02,  -2.06013237e-02,\n",
      "         1.97822356e-01,   5.93133618e+00,  -1.01181676e-02,\n",
      "         1.58799482e-02]), array([  1.42899602e-02,  -6.25477497e-04,  -1.01661902e+00,\n",
      "         6.51120160e-05,  -1.46206218e-05,  -2.48393138e-02,\n",
      "        -2.01385856e-01,   2.39027406e-02,  -8.81066719e-03,\n",
      "         7.86193467e-04,   5.54246414e-01,  -5.70882755e-03,\n",
      "         6.64410295e-03]), array([ -2.33789079e-02,   8.41136484e-03,   2.27910428e+00,\n",
      "        -7.04981366e-06,   2.41861907e-06,   2.28746381e-01,\n",
      "         7.55433159e-01,  -1.34890554e-03,   2.53820400e-02,\n",
      "        -1.80934535e-01,  -1.67264956e+00,   4.74269705e-03,\n",
      "        -2.62992032e-03]), array([ -3.63899931e-02,  -2.59829476e-03,  -2.43422031e+00,\n",
      "        -8.28289382e-05,  -3.86669239e-06,  -1.06432044e-01,\n",
      "        -2.33913325e-01,  -5.99545185e-02,   2.47822579e-03,\n",
      "         7.33627995e-02,   1.17592298e+00,   1.56456838e-02,\n",
      "         1.65476649e-03]), array([ -3.95819394e-01,   8.10994019e-02,  -1.09063827e+01,\n",
      "        -1.87648325e-05,  -7.72607080e-05,   5.73137947e-01,\n",
      "         2.75413439e+00,  -1.00137710e-01,   1.64591258e-01,\n",
      "        -6.73322819e-01,  -5.55310821e+00,   3.16890107e-02,\n",
      "         3.55210752e-03]), array([  2.70896065e-01,   4.40326506e-03,  -8.74953487e-01,\n",
      "         3.55043689e-05,  -1.06378528e-05,   1.71324799e-01,\n",
      "        -7.21822980e-01,   6.09913618e-02,  -1.67040611e-02,\n",
      "        -1.06505475e-01,   1.27783675e+00,  -1.10509046e-02,\n",
      "         6.50143176e-03]), array([ -2.66781167e-02,   4.51838785e-03,   7.62984979e-01,\n",
      "         1.04350671e-06,   3.77594052e-06,   3.26168760e-02,\n",
      "         6.06852540e-01,   2.75750916e-02,   3.10678895e-03,\n",
      "        -4.36568095e-02,  -1.22624551e+00,  -1.19289151e-03,\n",
      "         5.65094147e-04]), array([  1.45619389e-01,   1.99888430e-03,  -2.62067323e+00,\n",
      "         4.81532037e-05,   2.08450531e-05,  -1.51476985e-01,\n",
      "        -9.96178378e-01,   2.26966401e-02,   5.76868322e-02,\n",
      "         8.18844278e-02,   2.46564896e+00,  -1.40339380e-02,\n",
      "         4.07005890e-03]), array([ -8.62492185e-03,   3.48124830e-05,  -3.43528435e-01,\n",
      "         3.69327570e-06,  -5.41761755e-07,   4.98230379e-03,\n",
      "        -1.38937933e-01,   5.94672208e-03,   6.08821324e-04,\n",
      "         1.91068429e-03,   3.91373355e-01,  -1.24430507e-03,\n",
      "         1.09720891e-03]), array([  4.75105577e-02,  -4.20565608e-03,   1.84039668e+00,\n",
      "        -1.34211514e-05,   9.00376471e-06,  -9.24084040e-02,\n",
      "         5.00554816e-01,  -1.30169891e-04,   1.00870102e-02,\n",
      "         6.51280469e-02,  -1.28827275e+00,   2.32302036e-03,\n",
      "        -2.07503480e-03]), array([ -5.37612004e-02,   5.10030001e-03,   3.00158720e+00,\n",
      "        -1.01145488e-04,  -1.90028755e-05,   1.35286402e-01,\n",
      "        -1.81559508e+00,  -2.20285262e-01,   8.84749256e-03,\n",
      "        -1.75110654e-02,   3.10375342e+00,   4.94362518e-02,\n",
      "         2.94938979e-03]), array([  1.28654686e-02,   6.71059575e-04,   8.84732046e-01,\n",
      "         1.64279434e-05,   4.06505735e-06,   6.29597725e-02,\n",
      "         2.64797942e-01,   1.47698147e-02,   8.26947233e-03,\n",
      "        -2.62605269e-02,  -6.43170596e-01,  -3.32951640e-03,\n",
      "        -9.26577974e-04]), array([  8.27977949e-03,   3.69582992e-03,   2.52691093e+00,\n",
      "         1.54472013e-05,  -1.35284211e-05,   5.08220392e-02,\n",
      "         3.11606216e-01,  -1.21323801e-02,   1.60736653e-03,\n",
      "        -6.19273743e-02,  -7.16972291e-01,  -4.61441123e-05,\n",
      "         6.82292532e-03]), array([ -1.26093370e-01,   6.84645158e-03,   2.33773427e+00,\n",
      "         3.71156241e-05,   2.08294665e-05,  -1.86589416e-02,\n",
      "         1.31352788e+00,   2.99928668e-02,   8.73114421e-03,\n",
      "         2.81482240e-02,  -4.10787558e+00,  -1.35528053e-02,\n",
      "         9.96151976e-03]), array([ -8.78200610e-04,   7.55307735e-04,  -1.96188056e-01,\n",
      "        -6.89859657e-06,   5.79376694e-07,   2.32041111e-02,\n",
      "        -1.26615163e-01,  -1.51171578e-03,   2.56728619e-03,\n",
      "        -1.25872948e-02,   2.90873596e-01,   1.53374135e-03,\n",
      "        -2.30256462e-04]), array([ -3.85185391e-02,   1.95394922e-03,  -1.54142098e+00,\n",
      "         9.28683638e-06,  -5.42593548e-06,   2.91849055e-02,\n",
      "        -1.21201663e-01,  -1.27309349e-02,   5.36270825e-03,\n",
      "        -2.65694337e-02,   1.20327535e+00,   3.04638589e-03,\n",
      "         5.94646587e-04]), array([ -5.84808699e-02,   6.73327493e-04,   1.72326221e+00,\n",
      "        -4.13648704e-05,   7.04198047e-07,   1.37114574e-02,\n",
      "         9.56128946e-02,  -2.49968751e-02,   6.70526643e-04,\n",
      "         2.15925023e-02,   2.75922086e-01,   2.58807477e-02,\n",
      "         5.58103221e-03]), array([ -1.00053849e-01,   2.45327201e-03,   1.13963515e+00,\n",
      "        -1.19202923e-05,  -1.20958990e-05,   6.35007384e-02,\n",
      "        -2.12848597e-01,  -2.73813633e-02,  -1.30422409e-02,\n",
      "         3.11264722e-03,   1.40623485e+00,   2.24978418e-02,\n",
      "         8.00333925e-03]), array([  8.89184131e-02,  -6.01443808e-03,  -3.35426768e+00,\n",
      "        -2.40574054e-06,  -6.72025643e-06,  -1.01268696e-01,\n",
      "        -8.88463630e-01,  -4.71532815e-02,  -2.01858372e-02,\n",
      "         9.13290893e-02,   3.40094537e+00,   8.04166493e-03,\n",
      "         7.93036478e-03]), array([  3.75672454e-03,   1.02612734e-05,   6.13047456e-01,\n",
      "         3.28446153e-06,  -6.85692571e-07,   1.08386149e-03,\n",
      "         4.59300802e-02,  -8.83985814e-03,   3.08492438e-03,\n",
      "        -2.69270716e-05,  -3.32311718e-01,   4.37160000e-04,\n",
      "         3.92702434e-04]), array([  9.33964916e-02,  -6.92479611e-04,  -2.19723513e+00,\n",
      "         4.00106343e-05,  -1.84913506e-05,   5.20229464e-02,\n",
      "         6.07237184e-02,  -1.88841828e-02,  -7.38473976e-02,\n",
      "        -3.65836718e-02,   2.22357627e+00,   1.52911734e-02,\n",
      "         1.57158672e-02]), array([ -2.12467697e-02,  -1.05843627e-02,   4.31400739e+00,\n",
      "         2.43901477e-06,  -2.61743343e-06,  -2.59895192e-01,\n",
      "         4.02864130e-01,   5.80655614e-02,  -3.73681285e-02,\n",
      "         1.97455686e-01,  -1.33506662e+00,  -1.24037613e-03,\n",
      "         1.24238626e-02]), array([  4.40985973e-02,   3.04664458e-03,   4.85883528e-01,\n",
      "         1.58238625e-05,  -7.88191115e-06,   1.38148494e-01,\n",
      "         6.09287631e-02,   1.13840055e-02,  -2.48770113e-02,\n",
      "        -7.76475949e-02,  -1.94533055e-01,  -3.28031689e-03,\n",
      "         3.71725779e-03]), array([  6.85055702e-02,  -2.72544448e-03,   1.85955051e+00,\n",
      "        -1.34012731e-04,   2.42530838e-05,  -1.75269487e-01,\n",
      "         6.85423338e-01,  -2.89438717e-02,  -3.77829983e-02,\n",
      "         8.82561887e-02,  -1.90981139e+00,   3.69194905e-02,\n",
      "         4.62269124e-03]), array([ -7.00478646e-02,  -6.53785326e-04,   6.72528326e-01,\n",
      "        -1.11837016e-05,  -6.24283031e-06,   2.51095774e-02,\n",
      "         3.25817672e-02,  -1.12299068e-02,   2.68509364e-03,\n",
      "         1.78815584e-02,   6.47963996e-01,   1.30851042e-02,\n",
      "         3.62872812e-03]), array([ -5.16909500e-02,   2.35605679e-03,   2.23087253e-01,\n",
      "         3.37269535e-07,  -1.04436124e-05,   7.74069372e-02,\n",
      "        -1.68374178e-01,  -5.70640986e-03,  -1.49366301e-02,\n",
      "        -3.01404090e-02,   1.12990426e+00,   1.10465184e-02,\n",
      "         5.00021200e-03]), array([ -1.73258061e-01,  -3.43975834e-03,   2.27321106e+00,\n",
      "        -3.93008993e-06,  -7.85130727e-06,  -8.74864689e-02,\n",
      "        -1.26003143e-02,  -3.47335856e-02,   5.42163523e-03,\n",
      "         1.45351493e-01,   6.09606822e-01,   2.32610021e-02,\n",
      "         5.33896122e-03]), array([ -4.61484445e-02,   2.41433018e-03,   2.88304668e-01,\n",
      "         3.88606545e-06,  -1.19128344e-05,   9.34647175e-02,\n",
      "        -1.67085546e-01,  -7.80761990e-03,  -1.87693131e-02,\n",
      "        -3.34268318e-02,   1.14568335e+00,   1.12964471e-02,\n",
      "         5.29162999e-03]), array([ -8.58449543e-02,   7.58867779e-03,  -8.98573448e-01,\n",
      "         1.54749550e-04,  -4.00512686e-05,   3.44917933e-01,\n",
      "         7.79427474e-01,   6.77670577e-02,  -3.78437683e-02,\n",
      "        -2.05104025e-01,  -5.94709876e-02,  -1.44223201e-02,\n",
      "         2.45551034e-02]), array([ -1.63584412e-01,  -1.39220191e-04,   3.92422715e+00,\n",
      "         7.98563931e-05,   1.08346281e-05,   3.34193570e-02,\n",
      "         1.04458343e+00,   1.01490886e-01,   2.16551938e-02,\n",
      "        -2.98328851e-02,  -3.02728632e+00,  -2.18543253e-02,\n",
      "         9.45479739e-03]), array([  7.60494738e-02,  -2.07957955e-03,   2.28863228e+00,\n",
      "         2.91191987e-05,   1.69743347e-06,  -1.02082689e-01,\n",
      "         2.64289356e-01,  -3.11135835e-02,   2.22125839e-02,\n",
      "         5.04833627e-02,  -1.38123338e+00,  -1.41410274e-03,\n",
      "         1.88390970e-03]), array([  1.53563010e-02,  -9.13421717e-04,   8.17278241e-01,\n",
      "        -3.25840724e-05,   6.70253451e-07,   9.84965771e-03,\n",
      "         1.31839751e-01,  -2.66667798e-02,   3.54774514e-03,\n",
      "         8.74322265e-03,  -7.86836567e-01,   6.94131949e-03,\n",
      "        -5.90736450e-05]), array([ -1.39341965e-01,  -1.12043472e-02,   5.88598905e+00,\n",
      "        -5.71906517e-05,   4.24932043e-05,   1.03091423e-02,\n",
      "         1.32105029e+00,  -7.53294098e-02,   1.08950825e-01,\n",
      "         9.46694511e-02,  -3.27398662e+00,   2.71351975e-02,\n",
      "        -1.23574787e-02]), array([  2.39391343e-01,   4.46084663e-03,  -1.00076613e+00,\n",
      "        -1.08779684e-04,  -3.61691203e-06,   1.98306758e-01,\n",
      "         7.55425136e-01,  -1.77036664e-01,  -3.95723706e-02,\n",
      "        -1.12316468e-01,  -2.24678792e+00,   1.26117614e-02,\n",
      "         2.03515187e-02]), array([ -1.85341692e-03,   3.28631022e-04,   4.03901422e-02,\n",
      "         2.37263769e-06,  -2.80407892e-06,  -1.23494800e-03,\n",
      "        -7.13904473e-02,  -1.27179318e-02,  -4.42975909e-03,\n",
      "        -4.08327104e-04,   1.44132912e-02,   5.82823478e-04,\n",
      "         1.99702468e-03]), array([ -2.61103162e-02,   4.42299136e-03,   5.90969550e-01,\n",
      "        -1.15198517e-05,  -9.52048058e-06,   2.25682286e-02,\n",
      "        -4.16482127e-02,   4.23754109e-03,   1.73774224e-02,\n",
      "        -4.56512687e-02,   5.54955234e-01,   9.24761805e-03,\n",
      "         3.15284750e-03]), array([  3.27976861e-02,  -4.01654157e-03,   6.61503106e+00,\n",
      "        -3.52423177e-04,   1.08771472e-05,   1.12926886e-01,\n",
      "        -3.48509200e-01,  -3.37099389e-01,   7.18815547e-02,\n",
      "         1.37636522e-02,  -1.35843557e+00,   8.42111310e-02,\n",
      "        -1.84303172e-03]), array([  4.64979548e-02,   1.55978820e-03,   7.47698960e-01,\n",
      "        -2.41277792e-05,  -3.62617311e-07,   6.29852010e-02,\n",
      "         2.73026565e-01,  -1.68533515e-02,  -1.18016214e-02,\n",
      "        -3.46573547e-02,  -8.18302033e-01,   5.45647799e-03,\n",
      "         1.31267137e-03]), array([  3.74448761e-03,   1.73075281e-03,  -2.01991405e-01,\n",
      "         5.22002232e-06,  -4.26625727e-06,   4.10906688e-02,\n",
      "        -1.19102594e-01,  -1.05279026e-02,  -3.17652370e-03,\n",
      "        -2.98031098e-02,   2.75010729e-01,   1.92804987e-03,\n",
      "         9.86867212e-04]), array([ -4.47699745e-03,  -1.39454251e-03,   1.08502065e+00,\n",
      "         6.65708496e-06,  -6.79418510e-07,  -3.10966953e-02,\n",
      "         2.15797189e-01,   1.69716884e-02,  -1.08799105e-02,\n",
      "         2.37615905e-02,  -4.55083400e-01,  -2.07615711e-03,\n",
      "         1.25041670e-03]), array([ -2.63312103e-01,   8.96865103e-03,   1.32188373e+00,\n",
      "         2.96635097e-04,  -6.56214558e-05,  -2.55917470e-01,\n",
      "        -8.00864012e-01,   8.39791594e-02,  -8.58703476e-03,\n",
      "         4.24916775e-02,   6.86496803e-01,  -8.42021252e-03,\n",
      "         1.58599057e-02]), array([  4.68475865e-02,   9.25423898e-04,   3.66169676e-02,\n",
      "         9.51363371e-05,   5.60518842e-08,  -8.45979099e-04,\n",
      "        -1.75304271e-01,   6.15573852e-02,   6.99098220e-03,\n",
      "        -3.07446947e-03,   5.71016246e-01,  -1.59828655e-02,\n",
      "         3.29476476e-04]), array([ -1.85302201e-03,   9.52413876e-04,   2.07381197e+00,\n",
      "         6.77777704e-05,  -1.65947046e-05,   9.77958352e-02,\n",
      "        -3.32081868e-02,  -7.27839794e-03,  -1.34961490e-02,\n",
      "        -5.27522229e-02,  -3.89910848e-02,  -2.46167799e-03,\n",
      "         6.12794764e-03]), array([  3.39551516e-02,  -1.17567283e-02,  -2.91875672e+00,\n",
      "        -1.21168608e-04,   2.63165300e-05,  -5.75206965e-02,\n",
      "        -6.64292780e-02,  -5.40499725e-02,  -1.76043635e-02,\n",
      "         1.92380747e-01,   2.57420830e-01,   1.66769538e-03,\n",
      "         5.53466687e-03]), array([  5.41726225e-02,  -1.07215554e-02,  -3.89241029e+00,\n",
      "        -5.43159230e-05,   4.31261723e-05,  -3.69632656e-01,\n",
      "        -7.28466566e-01,   4.85699488e-02,   5.83241571e-02,\n",
      "         2.18188823e-01,   2.22604878e+00,   9.83316180e-03,\n",
      "        -1.06856025e-02]), array([ -3.34524105e-03,   3.06712415e-04,   1.14349424e+00,\n",
      "         1.67890747e-05,  -1.15923502e-05,  -2.03477932e-02,\n",
      "         2.59785253e-01,   6.20142403e-03,  -9.50505856e-03,\n",
      "         9.05027799e-05,  -6.55452375e-01,  -2.77649460e-03,\n",
      "         3.88753010e-03]), array([ -7.28694148e-02,  -1.19657942e-03,  -6.12764470e+00,\n",
      "        -9.46538866e-05,  -6.09534776e-06,   2.82551084e-02,\n",
      "        -1.34388044e+00,  -3.57333968e-02,  -2.67979094e-02,\n",
      "         3.03774247e-02,   4.34320975e+00,   1.85788984e-02,\n",
      "         8.61792699e-03]), array([ -1.25041330e-01,   5.12709847e-03,   1.89913057e+00,\n",
      "        -7.52609693e-05,   1.33996596e-05,   3.24455371e-01,\n",
      "        -1.41846796e-01,  -5.93238084e-02,   5.98475571e-02,\n",
      "        -1.60978966e-01,  -1.44493778e+00,   1.69999204e-02,\n",
      "        -3.31016079e-03]), array([ -5.95167878e-03,  -1.22437965e-07,  -1.03436437e+00,\n",
      "        -3.28928275e-05,   6.06709221e-06,   3.99815082e-03,\n",
      "        -1.06714613e+00,  -1.79142334e-02,   2.13241794e-02,\n",
      "         2.75832545e-03,   2.86727694e+00,   7.81388738e-03,\n",
      "         7.05152371e-05]), array([  5.84612065e-02,   3.69045161e-03,  -9.51792295e+00,\n",
      "        -2.08007760e-04,   3.39952585e-05,   1.65652860e-01,\n",
      "        -2.73899950e+00,  -5.58744543e-02,   3.01589419e-02,\n",
      "         6.01031431e-03,   8.27218697e+00,   2.74688512e-02,\n",
      "        -1.25646361e-03]), array([ -2.85499080e-02,   1.07796360e-03,  -3.60591688e-01,\n",
      "        -1.08477681e-05,  -9.65748139e-06,   2.65010421e-02,\n",
      "        -3.71378791e-01,  -2.26473126e-02,  -2.58755927e-03,\n",
      "        -1.82276695e-02,   1.13113211e+00,   3.81953081e-03,\n",
      "         2.37698588e-03]), array([  2.25921097e-02,   4.36900295e-04,   7.82659378e+00,\n",
      "         1.31777590e-05,   4.08389450e-05,   1.76007209e-01,\n",
      "         1.15004830e+00,   2.73121689e-03,   5.97041996e-02,\n",
      "        -6.17761392e-02,  -4.33125218e+00,   8.46992084e-03,\n",
      "        -5.19572782e-03]), array([ -6.83715485e-02,   7.88170516e-04,   1.09032447e+00,\n",
      "        -4.59997333e-05,   1.47153895e-05,   3.23785011e-02,\n",
      "         2.12957100e-01,  -1.33982040e-02,   3.74104126e-02,\n",
      "        -7.49830456e-03,  -9.49961776e-01,   1.33756274e-02,\n",
      "        -5.06796396e-03]), array([  8.55330843e-02,   2.47387923e-03,  -7.15497787e-01,\n",
      "         1.13767585e-04,  -1.70037335e-05,   1.23721766e-01,\n",
      "        -2.66687592e-01,   2.30565967e-03,  -1.22407694e-02,\n",
      "        -7.57512525e-02,   4.76120168e-01,  -1.73627761e-02,\n",
      "         1.03070673e-02]), array([  4.76290015e-02,   2.91883534e-03,   1.23732664e+01,\n",
      "         2.29287978e-04,   3.36842569e-05,  -7.89122526e-01,\n",
      "        -2.50710302e+00,   1.48841388e-01,   2.08651444e-01,\n",
      "         3.12574785e-01,   2.59258103e-01,   4.76680240e-03,\n",
      "        -2.83514697e-02]), array([  1.27285717e-02,   9.09548001e-04,  -8.00488338e-02,\n",
      "        -7.70117269e-06,  -5.44864601e-08,   6.40609665e-03,\n",
      "        -4.45091423e-01,  -2.64479710e-03,   6.02106445e-03,\n",
      "        -1.06168081e-02,   1.28760782e+00,   1.10825683e-03,\n",
      "         7.37027700e-04]), array([ -1.55594183e-01,   1.00365484e-02,   5.22109555e+00,\n",
      "        -3.16704398e-05,  -1.13533643e-05,   1.71083230e-01,\n",
      "         7.43338938e-01,   8.06115314e-02,   3.84615190e-02,\n",
      "        -1.01121757e-01,  -8.29033558e-01,  -2.40363342e-03,\n",
      "         4.17995269e-03]), array([  2.22963361e-02,  -1.10676043e-02,   7.57521081e+00,\n",
      "         1.35075737e-04,  -9.90572859e-06,  -1.20916931e-03,\n",
      "         3.06877680e+00,  -8.57836724e-03,  -5.22060798e-02,\n",
      "         1.19982326e-01,  -8.99439111e+00,  -2.11266110e-02,\n",
      "         2.40865245e-02]), array([  9.91283339e-02,  -1.20969330e-03,  -1.72915535e+00,\n",
      "        -3.08262097e-05,   4.48826133e-06,  -5.66112915e-02,\n",
      "        -2.73126456e-01,  -5.13743517e-02,   3.02815229e-02,\n",
      "         3.35587704e-02,   4.73878425e-01,   3.46231894e-03,\n",
      "         1.10596125e-03]), array([ -1.46779032e-01,   8.44309418e-03,  -2.23434491e+00,\n",
      "         1.48063055e-04,  -5.95169138e-05,   2.47704353e-01,\n",
      "         1.25073903e-02,   9.54231503e-02,  -8.19799022e-02,\n",
      "        -1.08078806e-01,  -1.20951252e-01,  -7.72123522e-03,\n",
      "         1.89991544e-02]), array([  1.49918535e-01,   8.60402915e-03,   1.01461180e+00,\n",
      "        -1.35570321e-05,   3.89487827e-06,   1.95664237e-01,\n",
      "        -2.11697425e-01,   2.06408017e-02,   2.12666445e-02,\n",
      "        -1.53796910e-01,  -1.74812861e-01,   8.82696593e-03,\n",
      "         5.04017113e-03]), array([  3.34393168e-01,  -1.23299641e-02,  -7.43308470e+00,\n",
      "        -2.04630629e-04,   3.00404935e-05,  -5.92970265e-01,\n",
      "         2.82445047e-01,  -1.95913263e-01,   3.59655334e-02,\n",
      "         1.52639170e-01,   2.55475323e+00,   3.73204494e-02,\n",
      "         6.32475108e-03]), array([ -8.08148946e-02,  -2.64639734e-03,  -1.54854357e+00,\n",
      "         1.49283471e-05,   7.11494013e-06,   8.23004120e-03,\n",
      "         2.35204077e-02,   6.95400785e-03,  -7.56700715e-03,\n",
      "         1.17129868e-02,   2.70367242e-01,  -5.51067227e-03,\n",
      "         4.03660400e-03]), array([  1.05309594e-01,  -2.94583717e-03,   3.74987986e+00,\n",
      "        -1.26422546e-05,  -2.70395335e-06,  -1.26299577e-02,\n",
      "        -1.11211541e+00,  -6.76551351e-02,  -3.46181244e-03,\n",
      "        -3.27644866e-03,  -3.95120644e-01,   1.86287589e-02,\n",
      "         6.62349216e-03]), array([ -1.19555802e-02,   6.15565197e-03,   1.89629273e-01,\n",
      "         2.43705263e-06,   7.35751599e-06,   7.06979640e-02,\n",
      "        -6.06462772e-01,   1.54506425e-02,   3.05129621e-02,\n",
      "        -6.84675767e-02,   1.76046381e+00,  -6.62446172e-03,\n",
      "         3.61288790e-03]), array([  1.96605096e-01,   1.19773980e-02,   3.53403130e+00,\n",
      "         1.84217301e-04,  -7.40047943e-05,   4.42505529e-01,\n",
      "         2.38697826e-01,  -1.29109065e-01,  -5.95992472e-03,\n",
      "        -2.48689985e-01,  -3.75655712e+00,  -1.55623382e-02,\n",
      "         3.27192780e-02]), array([  1.39431608e-01,   1.19979970e-02,   5.75301362e+00,\n",
      "         1.07850371e-04,   4.51085233e-06,   3.55933968e-01,\n",
      "        -4.28220312e-01,   3.94812378e-02,   8.33325382e-02,\n",
      "        -2.06548879e-01,  -7.38449450e-01,   1.41596620e-03,\n",
      "         1.69824345e-03]), array([  2.84018476e-02,   3.59342651e-04,   1.71385605e+00,\n",
      "         3.68134124e-05,  -1.13997986e-06,   1.71136500e-02,\n",
      "         3.32281689e-01,   1.32838352e-02,   5.65893550e-03,\n",
      "        -1.64811130e-02,  -1.21191660e+00,  -1.12737271e-03,\n",
      "        -6.34888641e-05]), array([  4.13084633e-02,   4.43110480e-04,   8.30022607e-01,\n",
      "         3.19796465e-05,  -6.91497909e-06,  -3.89507006e-02,\n",
      "         1.11190825e-01,   3.26796894e-02,  -1.84336927e-03,\n",
      "         5.54738951e-03,  -5.98618734e-01,  -8.51522124e-03,\n",
      "         2.71249915e-03]), array([ -8.20407175e-02,   4.19602620e-03,  -3.35864131e-01,\n",
      "         3.84772211e-06,  -9.92955650e-06,   5.74128829e-02,\n",
      "        -2.09473696e-01,  -2.83788499e-02,  -1.23714053e-03,\n",
      "        -5.27717871e-02,   7.51661661e-02,   5.80275078e-03,\n",
      "         3.03457527e-03]), array([ -1.25014420e-01,  -8.48891372e-03,   2.61565637e+00,\n",
      "        -3.80893856e-05,   6.01611804e-06,  -3.11232577e-01,\n",
      "         2.10219154e-01,   6.21124542e-03,  -1.33806856e-03,\n",
      "         2.45434118e-01,  -9.82103872e-01,  -4.74737106e-03,\n",
      "         1.31124544e-02]), array([ -6.44467325e-03,   7.47216480e-04,   1.60883054e+00,\n",
      "         6.13261033e-07,  -3.72727571e-06,   1.34993732e-02,\n",
      "         4.72646591e-01,  -1.79317663e-02,  -1.03306100e-03,\n",
      "        -1.61394916e-02,  -1.64445023e+00,   3.67520988e-03,\n",
      "         1.70513509e-03]), array([ -2.00200164e-03,   2.13008147e-02,   2.24220619e+01,\n",
      "         5.36200844e-05,  -8.23377958e-05,  -2.75639471e-01,\n",
      "         8.92554812e+00,   2.83314474e-01,  -1.63005292e-01,\n",
      "        -4.18189887e-02,  -2.95390254e+01,  -4.94116156e-02,\n",
      "         6.26479359e-02]), array([ -2.76237308e-01,   1.06464341e-02,   3.10995577e-01,\n",
      "         1.25581331e-04,  -1.06956980e-04,  -1.27317777e-01,\n",
      "        -2.47348663e-01,  -7.40671143e-02,  -1.22636959e-01,\n",
      "        -4.85527984e-02,  -7.60546226e-02,   3.40715511e-02,\n",
      "         2.54263809e-02]), array([ -5.20421563e-02,   1.33487295e-03,  -2.25537085e+00,\n",
      "        -1.63623974e-05,  -5.81803736e-08,  -2.28024049e-02,\n",
      "         5.62890284e-03,  -7.80619755e-03,   1.36403199e-02,\n",
      "         4.08805106e-03,   9.30675514e-01,   3.61732878e-03,\n",
      "         3.60053009e-03])]\n",
      "Value at Risk(VaR) 5%: -88.3620679765\n",
      "Conditional Value at Risk(CVaR) 5%: -110.046603439\n",
      "VaR confidence interval:  (-88.437484364097642, -88.437484364097642)\n",
      "CVaR confidence interval:  (-110.38755850815944, -109.42209772840505)\n",
      "num failures: 89\n",
      "Kupiec test p-value:  0.00335526878023\n"
     ]
    }
   ],
   "source": [
    "wholeRun(120, factorsReturns, factorMeans, factorCov)"
   ]
  },
  {
   "cell_type": "markdown",
   "metadata": {},
   "source": [
    "<div class=\"answer\">\n",
    "\n",
    "PUT YOUR ANSWER HERE !\n",
    "\n",
    "</div>"
   ]
  },
  {
   "cell_type": "markdown",
   "metadata": {},
   "source": [
    "![](https://farm2.staticflickr.com/1604/24934700445_833f0a5649_t.jpg)"
   ]
  },
  {
   "cell_type": "markdown",
   "metadata": {},
   "source": [
    "<div class='anchor' ></div>\n",
    "### Question 10\n",
    "\n",
    "In the previous questions, we used the normal distributions to sample the factors returns.\n",
    "\n",
    "Try to study how results vary when selecting other probability distributions: our goal is to improve the result of our MCS."
   ]
  },
  {
   "cell_type": "markdown",
   "metadata": {},
   "source": [
    "Before going any further, I would like to adress an issue that bothered me a bit. We train our model with the data over 5 years, and then validate it with the same dataset. If it was a correct way of validating then we could run this piece of code to have a perfect model:"
   ]
  },
  {
   "cell_type": "code",
   "execution_count": 34,
   "metadata": {
    "collapsed": false
   },
   "outputs": [
    {
     "name": "stdout",
     "output_type": "stream",
     "text": [
      "Var:  -45.68002000000004\n",
      "num failures: 64\n",
      "Kupiec test p-value:  0.923677398232\n"
     ]
    }
   ],
   "source": [
    "newVar = fivePercentVaR(sc.parallelize(portfolioReturns,4))\n",
    "print(\"Var: \" , newVar)\n",
    "print(\"Kupiec test p-value: \" , kupiecTestPValue(stocksReturns, newVar, 0.05))"
   ]
  },
  {
   "cell_type": "markdown",
   "metadata": {},
   "source": [
    "# 6. Summary\n",
    "In this lecture, we studied the Monte Carlo Simulation method and its application to estimate financial risk. To apply it, first, we needed to define the relationship between market factors and the instruments' returns. In such step, you must define the model which maps the market factors' values to the instruments' values: in our use case, we used a linear regression function for building our model. Next, we also had to find the parameters of our model, which are the weights of the factors we considered. Then, we had to study the distribution of each market factor. A good way to do that is using Kernel density estimation to smooth the distribution and plot it. Depending on the shape of each figure, we had to guess the best fit distribution for each factor: in our use case, we used a very simple approach, and decided that our smoothed distributions all looked normal distributions. \n",
    "\n",
    "Then, the idea of Monte Carlo simulation was to generate many possible values for each factors and calculate the corresponding outcomes by a well defined model in each trial. After many trials, we were able to calculate VaR from the sequences of outcome's values. When the number of trials is large enough, the VaR converges to reasonable values, that we could validate using well-known statistica"
   ]
  },
  {
   "cell_type": "markdown",
   "metadata": {
    "collapsed": true
   },
   "source": [
    "# References\n",
    "- The example in section 2 is inspired from [this article](http://www.solver.com/monte-carlo-simulation-example).\n",
    "- [Backtesting Value-at-Risk models](https://aaltodoc.aalto.fi/bitstream/handle/123456789/181/hse_ethesis_12049.pdf?sequence=1) (Kansantaloustiede, 2009) - (A good reference to study Backtesting).\n"
   ]
  },
  {
   "cell_type": "code",
   "execution_count": null,
   "metadata": {
    "collapsed": true
   },
   "outputs": [],
   "source": []
  }
 ],
 "metadata": {
  "kernelspec": {
   "display_name": "Python 3",
   "language": "python",
   "name": "python3"
  },
  "language_info": {
   "codemirror_mode": {
    "name": "ipython",
    "version": 3
   },
   "file_extension": ".py",
   "mimetype": "text/x-python",
   "name": "python",
   "nbconvert_exporter": "python",
   "pygments_lexer": "ipython3",
   "version": "3.5.1"
  }
 },
 "nbformat": 4,
 "nbformat_minor": 0
}
