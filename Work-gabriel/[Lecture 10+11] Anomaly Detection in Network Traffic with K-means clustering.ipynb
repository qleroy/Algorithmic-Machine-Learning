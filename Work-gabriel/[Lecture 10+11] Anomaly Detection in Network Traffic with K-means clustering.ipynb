{
 "cells": [
  {
   "cell_type": "markdown",
   "metadata": {},
   "source": [
    "<div>\n",
    "<h1>Run the cell below to generate the road map (do not modify it)</h1></div>"
   ]
  },
  {
   "cell_type": "code",
   "execution_count": 18,
   "metadata": {
    "collapsed": false
   },
   "outputs": [
    {
     "data": {
      "application/javascript": [
       "var kernel = IPython.notebook.kernel;var thename = window.document.getElementById(\"notebook_name\").innerHTML;var command = \"THE_NOTEBOOK = \" + \"'\"+thename+\"'\";kernel.execute(command);command=\"os.environ['THE_NOTEBOOK'] = THE_NOTEBOOK\";kernel.execute(command);var cell = IPython.notebook.get_cell(2);cell.execute();IPython.notebook.get_cell(3).focus_cell();var x = $('.code_cell');$(x[1]).children('.input').hide();"
      ],
      "text/plain": [
       "<IPython.core.display.Javascript object>"
      ]
     },
     "metadata": {},
     "output_type": "display_data"
    }
   ],
   "source": [
    "%%javascript\n",
    "var kernel = IPython.notebook.kernel;var thename = window.document.getElementById(\"notebook_name\").innerHTML;var command = \"THE_NOTEBOOK = \" + \"'\"+thename+\"'\";kernel.execute(command);command=\"os.environ['THE_NOTEBOOK'] = THE_NOTEBOOK\";kernel.execute(command);var cell = IPython.notebook.get_cell(2);cell.execute();IPython.notebook.get_cell(3).focus_cell();var x = $('.code_cell');$(x[1]).children('.input').hide();"
   ]
  },
  {
   "cell_type": "code",
   "execution_count": 19,
   "metadata": {
    "collapsed": false,
    "scrolled": false
   },
   "outputs": [
    {
     "data": {
      "text/html": [
       "\n",
       "   <script src=\"http://code.jquery.com/jquery-latest.min.js\" type=\"text/javascript\"></script>\n",
       "   <script>\n",
       "      (function($){\n",
       "         $(document).ready(function(){\n",
       "\n",
       "         $('#cssmenu li.active').addClass('open').children('ul').show();\n",
       "            $('#cssmenu li.has-sub>a').on('click', function(){\n",
       "               $(this).removeAttr('href');\n",
       "               var margin_left = parseInt($(this).css('padding-left').replace('px', ''));\n",
       "               var element = $(this).parent('li');\n",
       "               if (element.hasClass('open')) {\n",
       "                  element.removeClass('open');\n",
       "                  element.find('li').removeClass('open');\n",
       "                  element.find('ul').slideUp(200);\n",
       "               }\n",
       "               else {\n",
       "                  element.addClass('open');\n",
       "                  element.children('ul').slideDown(200);\n",
       "                  element.siblings('li').children('ul').slideUp(200);\n",
       "                  element.siblings('li').removeClass('open');\n",
       "                  element.siblings('li').find('li').removeClass('open');\n",
       "                  element.siblings('li').find('ul').slideUp(200);\n",
       "                  element.children().find('a').css('padding-left', margin_left + 16 + \"px\");\n",
       "               }\n",
       "            });\n",
       "\n",
       "            var screen_height = $(window).height(); \n",
       "            var headerHeight = $(\"#header\").outerHeight();\n",
       "            var max_height_menu = screen_height - headerHeight;\n",
       "            $(\"#cssmenu\").css('max-height', max_height_menu + 'px');\n",
       "            $(\"#cssmenu\").css('top', headerHeight + 'px');\n",
       "            $(\"#menu-activator\").css('top', headerHeight + 'px');\n",
       "            $(\"#cssmenu\").show();\n",
       "            $(\"#menu-activator\").hide();\n",
       "\n",
       "\n",
       "            $(\"#menu-activator\").mouseover(function(){\n",
       "              $(\"#cssmenu\").show();\n",
       "              $(\"#menu-activator\").hide();\n",
       "            });\n",
       "\n",
       "\n",
       "            $(\"#cssmenu\").mouseleave(function(){\n",
       "              $(\"#cssmenu\").hide();\n",
       "              $(\"#menu-activator\").show();\n",
       "            });\n",
       "\n",
       "            $(\"div.anchor\").parent('div').addClass('bcolor');\n",
       "\n",
       "         });\n",
       "      })(jQuery);\n",
       "   </script>\n",
       "   <style>\n",
       "      @import url(http://fonts.googleapis.com/css?family=Raleway:400,200);\n",
       "      #cssmenu,\n",
       "      #cssmenu ul,\n",
       "      #cssmenu ul li,\n",
       "      #cssmenu ul li a {\n",
       "        margin: 0;\n",
       "        padding: 0;\n",
       "        border: 0;\n",
       "        list-style: none;\n",
       "        line-height: 1;\n",
       "        display: block;\n",
       "        position: relative;\n",
       "        -webkit-box-sizing: border-box;\n",
       "        -moz-box-sizing: border-box;\n",
       "        box-sizing: border-box;\n",
       "      }\n",
       "      #cssmenu {\n",
       "        width: 220px;\n",
       "        font-family: Raleway, sans-serif;\n",
       "        color: #ffffff;\n",
       "        max-height:600px;\n",
       "        overflow-y:scroll;\n",
       "        overflow-x:hidden;\n",
       "        position:fixed;\n",
       "        top:130px;\n",
       "        left:0px;\n",
       "      }\n",
       "      #cssmenu ul ul {\n",
       "        display: none;\n",
       "      }\n",
       "      #cssmenu > ul > li.active > ul {\n",
       "        display: block;\n",
       "      }\n",
       "      .align-right {\n",
       "        float: right;\n",
       "      }\n",
       "      #cssmenu > ul > li > a {\n",
       "        padding: 16px 22px;\n",
       "        cursor: pointer;\n",
       "        z-index: 2;\n",
       "        font-size: 16px;\n",
       "        text-decoration: none;\n",
       "        color: #ffffff;\n",
       "        background: #565656;\n",
       "        -webkit-transition: color .2s ease;\n",
       "        -o-transition: color .2s ease;\n",
       "        transition: color .2s ease;\n",
       "      }\n",
       "      #cssmenu > ul > li > a:hover {\n",
       "        color: #d8f3f0;\n",
       "      }\n",
       "      #cssmenu ul > li.has-sub > a:after {\n",
       "        position: absolute;\n",
       "        right: 26px;\n",
       "        top: 19px;\n",
       "        z-index: 5;\n",
       "        display: block;\n",
       "        height: 10px;\n",
       "        width: 2px;\n",
       "        background: #ffffff;\n",
       "        content: \"\";\n",
       "        -webkit-transition: all 0.1s ease-out;\n",
       "        -moz-transition: all 0.1s ease-out;\n",
       "        -ms-transition: all 0.1s ease-out;\n",
       "        -o-transition: all 0.1s ease-out;\n",
       "        transition: all 0.1s ease-out;\n",
       "      }\n",
       "      #cssmenu ul > li.has-sub > a:before {\n",
       "        position: absolute;\n",
       "        right: 22px;\n",
       "        top: 23px;\n",
       "        display: block;\n",
       "        width: 10px;\n",
       "        height: 2px;\n",
       "        background: #ffffff;\n",
       "        content: \"\";\n",
       "        -webkit-transition: all 0.1s ease-out;\n",
       "        -moz-transition: all 0.1s ease-out;\n",
       "        -ms-transition: all 0.1s ease-out;\n",
       "        -o-transition: all 0.1s ease-out;\n",
       "        transition: all 0.1s ease-out;\n",
       "      }\n",
       "      #cssmenu ul > li.has-sub.open > a:after,\n",
       "      #cssmenu ul > li.has-sub.open > a:before {\n",
       "        -webkit-transform: rotate(45deg);\n",
       "        -moz-transform: rotate(45deg);\n",
       "        -ms-transform: rotate(45deg);\n",
       "        -o-transform: rotate(45deg);\n",
       "        transform: rotate(45deg);\n",
       "      }\n",
       "      #cssmenu ul ul li a {\n",
       "        padding: 14px 22px;\n",
       "        cursor: pointer;\n",
       "        z-index: 2;\n",
       "        font-size: 14px;\n",
       "        text-decoration: none;\n",
       "        color: #dddddd;\n",
       "        background: #49505a;\n",
       "        -webkit-transition: color .2s ease;\n",
       "        -o-transition: color .2s ease;\n",
       "        transition: color .2s ease;\n",
       "      }\n",
       "      #cssmenu ul ul ul li a {\n",
       "        /*padding-left: 32px;*/\n",
       "      }\n",
       "      #cssmenu ul ul li a:hover {\n",
       "        color: #ffffff;\n",
       "      }\n",
       "      #cssmenu ul ul > li.has-sub > a:after {\n",
       "        top: 16px;\n",
       "        right: 26px;\n",
       "        background: #dddddd;\n",
       "      }\n",
       "      #cssmenu ul ul > li.has-sub > a:before {\n",
       "        top: 20px;\n",
       "        background: #dddddd;\n",
       "      }\n",
       "      #menu-activator {\n",
       "        position: fixed;\n",
       "        top: 130px;\n",
       "        left: 0px;\n",
       "        width: 60px;\n",
       "        padding: 16px 20px;\n",
       "        display: block;\n",
       "        background-color: #565656;\n",
       "        font-size: 16px;\n",
       "        color: white;\n",
       "      }\n",
       "\n",
       "      div.bcolor, span.bcolor {\n",
       "      \tborder-radius: 15px; \n",
       "      \tbackground: rgb(224,239,130);\n",
       "      \tpadding:10px;\n",
       "      }\n",
       "\n",
       "      div.answer, div.comment, div.note {\n",
       "        background-color: rgb(255, 235, 218);\n",
       "        padding: 10px;\n",
       "        border-radius: 5px;\n",
       "      }\n",
       "\n",
       "      div.comment::before, div.answer::before, div.note::before {\n",
       "          background-color: yellow;\n",
       "          color: red;\n",
       "          font-weight: bold;\n",
       "          margin-right:5px;\n",
       "          padding:3px;\n",
       "      }\n",
       "\n",
       "      div.comment::before {\n",
       "        content: \"Comment:\";\n",
       "      }\n",
       "\n",
       "      div.answer::before {\n",
       "        content: \"Answer:\";\n",
       "      }\n",
       "\n",
       "      div.note::before {\n",
       "        content: \"Note:\";\n",
       "      }\n",
       "\n",
       "      @media print{\n",
       "      \t#cssmenu {\n",
       "      \t\tdisplay:none;\n",
       "      \t}\n",
       "      }\n",
       "   </style>\n",
       "   <title>Roadmap</title>\n",
       "</head>\n",
       "<body>\n",
       "<div id=\"menu-activator\">O</div>\n",
       "<div id='cssmenu'>\n",
       "<ul>\n",
       "<li class='has-sub'><a href=\"#\">ROADMAP</a>\n",
       "<ul><li class='has-sub'><a href='#Anomaly-Detection-in-Network-Traffic-with-K-means-clustering'>Anomaly Detection in Network Traffic with K-means clustering</a><ul><li><a href='#Goals'>Goals</a></li><li><a href='#Steps'>Steps</a></li></ul></li><li class='has-sub'><a href='#1.-K-means'>1. K-means</a><ul><li><a href='#1.1.-Introduction'>1.1. Introduction</a></li><li><a href='#1.2.-How-does-it-work-?'>1.2. How does it work ?</a></li><li class='has-sub'><a href='#1.3.-Illustrative-example'>1.3. Illustrative example</a><ul><li class='has-sub'><a href='#Question-1'>Question 1</a><ul><li><a href='#Question-1.1'>Question 1.1</a></li><li><a href='#Question-1.2'>Question 1.2</a></li><li><a href='#Question-1.3'>Question 1.3</a></li><li><a href='#Question-1.4'>Question 1.4</a></li><li><a href='#Question-1.5'>Question 1.5</a></li><li><a href='#Question-1.6'>Question 1.6</a></li><li><a href='#Question-1.7'>Question 1.7</a></li></ul></li></ul></li></ul></li><li class='has-sub'><a href='#2.-Usecase:-Network-Intrusion'>2. Usecase: Network Intrusion</a><ul><li><a href='#2.1.-Data'>2.1. Data</a></li><li class='has-sub'><a href='#2.2.-Clustering-without-using-categorical-features'>2.2. Clustering without using categorical features</a><ul><li class='has-sub'><a href='#2.2.1.-Loading-data'>2.2.1. Loading data</a><ul><li><a href='#Question-2'>Question 2</a></li><li><a href='#Question-3'>Question 3</a></li></ul></li><li class='has-sub'><a href='#2.2.3.-Evaluating-model'>2.2.3. Evaluating model</a><ul><li><a href='#Question-4'>Question 4</a></li><li><a href='#Question-5'>Question 5</a></li></ul></li><li class='has-sub'><a href='#2.2.4.-Choosing-K'>2.2.4. Choosing K</a><ul><li><a href='#Question-6'>Question 6</a></li></ul></li><li class='has-sub'><a href='#2.2.5-Normalizing-features'>2.2.5 Normalizing features</a><ul><li><a href='#Question-7'>Question 7</a></li><li><a href='#Question-8'>Question 8</a></li><li><a href='#Question-9'>Question 9</a></li></ul></li></ul></li><li class='has-sub'><a href='#2.3.-Clustering-using-categorical-features'>2.3. Clustering using categorical features</a><ul><li class='has-sub'><a href='#2.3.1-Loading-data'>2.3.1 Loading data</a><ul><li><a href='#Question-10'>Question 10</a></li></ul></li><li class='has-sub'><a href='#2.3.2.-Building-models'>2.3.2. Building models</a><ul><li><a href='#Question-11'>Question 11</a></li></ul></li></ul></li><li class='has-sub'><a href='#2.4.-Anomaly-detection'>2.4. Anomaly detection</a><ul><li><a href='#Question-12'>Question 12</a></li><li><a href='#Question-13'>Question 13</a></li><li><a href='#Question-14'>Question 14</a></li></ul></li></ul></li></ul>\n",
       "</li>\n",
       "<li class='has-sub'><a href=\"#\">QUESTIONS</a>\n",
       "<ul><li class='has-sub'><a href='#Question-1'>Question 1</a><ul><li><a href='#Question-1.1'>Question 1.1</a></li><li><a href='#Question-1.2'>Question 1.2</a></li><li><a href='#Question-1.3'>Question 1.3</a></li><li><a href='#Question-1.4'>Question 1.4</a></li><li><a href='#Question-1.5'>Question 1.5</a></li><li><a href='#Question-1.6'>Question 1.6</a></li><li><a href='#Question-1.7'>Question 1.7</a></li></ul></li><li><a href='#Question-2'>Question 2</a></li><li><a href='#Question-3'>Question 3</a></li><li><a href='#Question-4'>Question 4</a></li><li><a href='#Question-5'>Question 5</a></li><li><a href='#Question-6'>Question 6</a></li><li><a href='#Question-7'>Question 7</a></li><li><a href='#Question-8'>Question 8</a></li><li><a href='#Question-9'>Question 9</a></li><li><a href='#Question-10'>Question 10</a></li><li><a href='#Question-11'>Question 11</a></li><li><a href='#Question-12'>Question 12</a></li><li><a href='#Question-13'>Question 13</a></li><li><a href='#Question-14'>Question 14</a></li></ul>\n",
       "</li>\n",
       "</ul>\n",
       "</div>\n",
       "\n"
      ],
      "text/plain": [
       "<IPython.core.display.HTML object>"
      ]
     },
     "execution_count": 19,
     "metadata": {},
     "output_type": "execute_result"
    }
   ],
   "source": [
    "outputdir = \"/tmp/tools/\"\n",
    "!mkdir -p $outputdir\n",
    "!wget \"https://www.dropbox.com/s/4g0pigmro4vo1b4/menutemplate?dl=0\" -O /tmp/tools/menutemplate >> /tmp/toollog 2>&1 \n",
    "!wget \"https://www.dropbox.com/s/3flttpzhsja8td7/construct_menu.py?dl=0\" -O /tmp/tools/construct_menu.py >> /tmp/toollog 2>&1 \n",
    "!python /tmp/tools/construct_menu.py \"{THE_NOTEBOOK}.ipynb\" {outputdir}\n",
    "from IPython.core.display import HTML\n",
    "output_file_name = outputdir + THE_NOTEBOOK.replace(\" \", \"\").replace(\"[\", \"\").replace(\"]\", \"\") + \".ipynb.html\"\n",
    "with open(output_file_name) as fp:\n",
    "    html = fp.read()\n",
    "HTML(html)"
   ]
  },
  {
   "cell_type": "markdown",
   "metadata": {},
   "source": [
    "# Anomaly Detection in Network Traffic with K-means clustering\n",
    "\n",
    "We can categorize machine learning algorithms into two main groups: **supervised learning** and **unsupervised learning**. With supervised learning algorithms, in order to predict unknown values for new data, we have to know the target value for many previously-seen examples. In contrast, unsupervised learning algorithms explore the data which has no target attribute to find some intrinsic structures in them.\n",
    "\n",
    "Clustering is a technique for finding similar groups in data, called **clusters**. Clustering is often called an unsupervised learning task as no class values denoting an a priori grouping of the data instances are given.\n",
    "\n",
    "In this notebook, we will use K-means, a very well known clustering algorithm to detect anomaly network connections based on statistics about each of them. For a thorough overview of K-means clustering, from a research perspective, have a look at this wonderful [tutorial](http://theory.stanford.edu/~sergei/slides/kdd10-thclust.pdf)."
   ]
  },
  {
   "cell_type": "markdown",
   "metadata": {},
   "source": [
    "## Goals\n",
    "We expect students to:\n",
    "* Learn (or revise) and understand the K-means algorithm\n",
    "* Implement a simple K-means algorithm\n",
    "* Use K-means to detect anomalies network connection data"
   ]
  },
  {
   "cell_type": "markdown",
   "metadata": {},
   "source": [
    "## Steps\n",
    "\n",
    "1. In section 1, we will have an overview about K-means then implement a simple version of it.\n",
    "2. In section 2, we build models with and without categorical features.\n",
    "3. Finally, in the last section, using our models, we will detect unsual connections."
   ]
  },
  {
   "cell_type": "markdown",
   "metadata": {},
   "source": [
    "# 1. K-means\n",
    "## 1.1. Introduction\n",
    "Clustering is a typical and well-known type of unsupervised learning. Clustering algorithms try to find natural groupings in data. Similar data points (according to some notion of similarity) are considered in the same group. We call these groups **clusters**.\n",
    "\n",
    "K-Means clustering is a simple and widely-used clustering algorithm. Given value of $k$, it tries to build $k$ clusters from samples in the dataset. Therefore, $k$ is an hyperparameter of the model. The right value of $k$ is not easy to determine, as it highly depends on the data set and the way that data is featurized.\n",
    "\n",
    "To measue the similarity between any two data points, K-means requires the definition of a distance funtion between data points. What is a distance? It is a value that indicates how close two data points are in their space. In particular, when data points lie in a $d$-dimensional space, the Euclidean distance is a good choice of a distance function, and is supported by MLLIB.\n",
    "\n",
    "In K-means, a cluster is a group of points, with a representative entity called a centroid. A centroid is also a point in the data space: the center of all the points that make up the cluster. It's defined to be the arithmetic mean of the points. In general, when working with K-means, each data sample is represented in a $d$-dimensional numeric vector, for which it is easier to define an appropriate distance function. As a consequence, in some applications, the original data must be transformed into a different representation, to fit the requirements of K-means.\n",
    "\n",
    "## 1.2. How does it work ?\n",
    "Given $k$, the K-means algorithm works as follows:\n",
    "\n",
    "1. Randomly choose $k$ data points (seeds) to be the initial centroids\n",
    "2. Assign each data point to the **closest centroid**\n",
    "3. Re-compute (update) the centroids using the current cluster memberships\n",
    "4. If a convergence criterion is not met, go to step 2\n",
    "\n",
    "We can also terminate the algorithm when it reaches an iteration budget, which yields an approximate result.\n",
    "From the pseudo-code of the algorithm, we can see that K-means clustering results can be sensitive to the order in which data samples in the data set are explored. A sensible practice would be to run the analysis several times, randomizing objects order; then, average the cluster centres of those runs and input the centres as initial ones for one final run of the analysis."
   ]
  },
  {
   "cell_type": "markdown",
   "metadata": {},
   "source": [
    "## 1.3. Illustrative example\n",
    "One of the best ways to study an algorithm is trying implement it.\n",
    "In this section, we will go step by step to implement a simple K-means algorithm."
   ]
  },
  {
   "cell_type": "markdown",
   "metadata": {},
   "source": [
    "![](https://farm2.staticflickr.com/1604/24934700445_833f0a5649_t.jpg)"
   ]
  },
  {
   "cell_type": "markdown",
   "metadata": {},
   "source": [
    "<div class='anchor' ></div>\n",
    "### Question 1\n",
    "\n",
    "#### Question 1.1\n",
    "Complete the below function to calculate an euclidean distance between any two points in $d$-dimensional data space"
   ]
  },
  {
   "cell_type": "markdown",
   "metadata": {},
   "source": [
    "```python\n",
    "import numpy as np\n",
    "\n",
    "# calculate distance between two d-dimensional points\n",
    "def euclidean_distance(p1, p2):\n",
    "    return ...\n",
    "\n",
    "# test our function\n",
    "assert (round(euclidean_distance([1,2,3] , [10,18,12]), 2) == 20.45), \"Function's wrong\"\n",
    "```"
   ]
  },
  {
   "cell_type": "code",
   "execution_count": 20,
   "metadata": {
    "collapsed": false
   },
   "outputs": [],
   "source": [
    "import numpy as np\n",
    "\n",
    "# calculate distance between two d-dimensional points\n",
    "def euclidean_distance(p1, p2):\n",
    "    return np.sqrt(np.sum([(c1 - c2)**2 for c1, c2 in zip(p1, p2)]))\n",
    "\n",
    "# test our function\n",
    "assert (round(euclidean_distance([1,2,3] , [10,18,12]), 2) == 20.45), \"Function's wrong\""
   ]
  },
  {
   "cell_type": "markdown",
   "metadata": {},
   "source": [
    "<div class='anchor' ></div>\n",
    "\n",
    "#### Question 1.2\n",
    "Given a data point and the current set of centroids, complete the function below to find the index of the closest centroid for that data point."
   ]
  },
  {
   "cell_type": "markdown",
   "metadata": {},
   "source": [
    "```python\n",
    "def find_closest_centroid(datapoint, centroids):\n",
    "    # find the index of the closest centroid of the given data point.\n",
    "    ...\n",
    "\n",
    "assert(find_closest_centroid( [1,1,1], [ [2,1,2], [1,2,1], [3,1,2] ] ) == 1), \"Function's wrong\"\n",
    "```"
   ]
  },
  {
   "cell_type": "code",
   "execution_count": 21,
   "metadata": {
    "collapsed": false
   },
   "outputs": [],
   "source": [
    "def find_closest_centroid(datapoint, centroids):\n",
    "    # find the index of the closest centroid of the given data point.\n",
    "    return min(enumerate(centroids), key=lambda x: euclidean_distance(datapoint, x[1]))[0]\n",
    "\n",
    "assert(find_closest_centroid( [1,1,1], [ [2,1,2], [1,2,1], [3,1,2] ] ) == 1), \"Function's wrong\""
   ]
  },
  {
   "cell_type": "markdown",
   "metadata": {},
   "source": [
    "<div class='anchor' ></div>\n",
    "\n",
    "#### Question 1.3\n",
    "Write a function to randomize $k$ initial centroids."
   ]
  },
  {
   "cell_type": "markdown",
   "metadata": {},
   "source": [
    "```python\n",
    "np.random.seed(22324)\n",
    "\n",
    "# randomize initial centroids\n",
    "def randomize_centroids(data, k):\n",
    "    centroids = ...\n",
    "    ...\n",
    "    return centroids\n",
    "\n",
    "assert(len(\n",
    "    randomize_centroids(\n",
    "        np.array([ \n",
    "            np.array([2,1,2]), \n",
    "            np.array([1,2,1]), \n",
    "            np.array([3,1,2]) \n",
    "             ]), \n",
    "        2)) == 2), \"Wrong function\"\n",
    "```"
   ]
  },
  {
   "cell_type": "code",
   "execution_count": 22,
   "metadata": {
    "collapsed": false
   },
   "outputs": [],
   "source": [
    "np.random.seed(22324)\n",
    "\n",
    "# randomize initial centroids\n",
    "def randomize_centroids(data, k):\n",
    "    random_indices = np.arange(len(data))\n",
    "    np.random.shuffle(random_indices)\n",
    "    random_indices = random_indices[:k]\n",
    "    centroids = [data[i] for i in range(len(data)) if i in random_indices]\n",
    "    return centroids\n",
    "\n",
    "assert(len(\n",
    "    randomize_centroids(\n",
    "        np.array([ \n",
    "            np.array([2,1,2]), \n",
    "            np.array([1,2,1]), \n",
    "            np.array([3,1,2]) \n",
    "             ]), \n",
    "        2)) == 2), \"Wrong function\""
   ]
  },
  {
   "cell_type": "markdown",
   "metadata": {},
   "source": [
    "<div class='anchor' ></div>\n",
    "\n",
    "#### Question 1.4\n",
    "Write function `check_converge` to check the stop creteria of the algorithm."
   ]
  },
  {
   "cell_type": "markdown",
   "metadata": {},
   "source": [
    "```python\n",
    "MAX_ITERATIONS = ...\n",
    "\n",
    "# return True if clusters have converged , otherwise, return False  \n",
    "def check_converge(centroids, old_centroids, num_iterations, threshold=0):\n",
    "    # if it reaches an iteration budget\n",
    "    ...\n",
    "    # check if the centroids don't move (or very slightly)\n",
    "    ...\n",
    "```"
   ]
  },
  {
   "cell_type": "code",
   "execution_count": 23,
   "metadata": {
    "collapsed": true
   },
   "outputs": [],
   "source": [
    "MAX_ITERATIONS = 10\n",
    "\n",
    "# return True if clusters have converged , otherwise, return False  \n",
    "def check_converge(centroids, old_centroids, num_iterations, threshold=0):\n",
    "    # if it reaches an iteration budget\n",
    "    if num_iterations > MAX_ITERATIONS:\n",
    "        return True\n",
    "    # check if the centroids don't move (or very slightly)\n",
    "    distances = np.array([euclidean_distance(c, o) for c, o in zip(centroids, old_centroids)])\n",
    "    if (distances <= threshold).all():\n",
    "        return True\n",
    "    return False"
   ]
  },
  {
   "cell_type": "markdown",
   "metadata": {},
   "source": [
    "<div class='anchor' ></div>\n",
    "\n",
    "#### Question 1.5\n",
    "Write function `update_centroid` to update the new positions for the current centroids based on the position of their members."
   ]
  },
  {
   "cell_type": "markdown",
   "metadata": {},
   "source": [
    "```python\n",
    "# centroids: a list of centers\n",
    "# cluster: a list of k elements. Each element i-th is a list of data points that are assigned to center i-th\n",
    "def update_centroids(centroids, cluster):\n",
    "    ...\n",
    "    return centroids\n",
    "```"
   ]
  },
  {
   "cell_type": "code",
   "execution_count": 24,
   "metadata": {
    "collapsed": true
   },
   "outputs": [],
   "source": [
    "# centroids: a list of centers\n",
    "# clusters: a list of k elements. Each element i-th is a list of data points that are assigned to center i-th\n",
    "def update_centroids(centroids, clusters):\n",
    "    assert(len(centroids) == len(clusters))\n",
    "    clusters = np.array(clusters)\n",
    "    for i, cluster in enumerate(clusters):\n",
    "        centroids[i] = sum(cluster)/len(cluster)\n",
    "    return centroids"
   ]
  },
  {
   "cell_type": "markdown",
   "metadata": {},
   "source": [
    "<div class='anchor' ></div>\n",
    "\n",
    "#### Question 1.6\n",
    "Complete the K-means algorithm scheleton below, with the functions you wrote above."
   ]
  },
  {
   "cell_type": "markdown",
   "metadata": {},
   "source": [
    "```python\n",
    "# data : set of data points\n",
    "# k : number of clusters\n",
    "# centroids: initial list of centroids\n",
    "def kmeans(data, k=2, centroids=None):\n",
    "    \n",
    "    # randomize the centroids if they are not given\n",
    "    if not centroids:\n",
    "        centroids = ...\n",
    "\n",
    "    old_centroids = centroids[:]\n",
    "\n",
    "    iterations = 0\n",
    "    while True:\n",
    "        iterations += 1\n",
    "\n",
    "        # init empty clusters\n",
    "        clusters = [[] for i in range(k)]\n",
    "\n",
    "        # assign each data point to the closest centroid\n",
    "        for ...:\n",
    "            # find the closest center of each data point\n",
    "            centroid_idx = ...\n",
    "            \n",
    "            # assign datapoint to the closest cluster\n",
    "            clusters...\n",
    "        \n",
    "        # keep the current position of centroids before changing them\n",
    "        old_centroids = ...\n",
    "        \n",
    "        # update centroids\n",
    "        centroids = ...\n",
    "        \n",
    "        # if the stop criteria are met, stop the algorithm\n",
    "        if ...\n",
    "            ...\n",
    "    \n",
    "    return centroids\n",
    "```\n"
   ]
  },
  {
   "cell_type": "code",
   "execution_count": 25,
   "metadata": {
    "collapsed": true
   },
   "outputs": [],
   "source": [
    "# data : set of data points\n",
    "# k : number of clusters\n",
    "# centroids: initial list of centroids\n",
    "def kmeans(data, k=2, centroids=None):\n",
    "    \n",
    "    data = np.array(data)\n",
    "    # randomize the centroids if they are not given\n",
    "    if not centroids:\n",
    "        centroids = randomize_centroids(data, k)\n",
    "\n",
    "    old_centroids = centroids[:]\n",
    "\n",
    "    iterations = 0\n",
    "    while True:\n",
    "        iterations += 1\n",
    "\n",
    "        # init empty clusters\n",
    "        clusters = [[] for i in range(k)]\n",
    "\n",
    "        # assign each data point to the closest centroid\n",
    "        for datapoint in data:\n",
    "            # find the closest center of each data point\n",
    "            centroid_idx = find_closest_centroid(datapoint, centroids)\n",
    "            \n",
    "            # assign datapoint to the closest cluster\n",
    "            clusters[centroid_idx].append(datapoint)\n",
    "        \n",
    "        # keep the current position of centroids before changing them\n",
    "        old_centroids = centroids[:]\n",
    "        \n",
    "        # update centroids\n",
    "        centroids = update_centroids(centroids, clusters)\n",
    "        \n",
    "        # if the stop criteria are met, stop the algorithm\n",
    "        if check_converge(centroids, old_centroids, iterations):\n",
    "            break\n",
    "    \n",
    "    return centroids"
   ]
  },
  {
   "cell_type": "markdown",
   "metadata": {},
   "source": [
    "Next, we will test our algorithm on [Fisher's Iris dataset](http://en.wikipedia.org/wiki/Iris_flower_data_set), and plot the resulting clusters in 3D."
   ]
  },
  {
   "cell_type": "markdown",
   "metadata": {},
   "source": [
    "<div class='anchor' ></div>\n",
    "\n",
    "#### Question 1.7\n",
    "The code below can be used to test your algorithm with three different datasets: Iris, Moon and Blob.\n",
    "Run your algorithm to cluster datapoints in these datasets, plot the results and discuss about them. Do you think that our algorithm works well? Why?"
   ]
  },
  {
   "cell_type": "code",
   "execution_count": 26,
   "metadata": {
    "collapsed": false,
    "scrolled": false
   },
   "outputs": [
    {
     "name": "stderr",
     "output_type": "stream",
     "text": [
      "/opt/conda/lib/python3.4/site-packages/matplotlib/collections.py:590: FutureWarning: elementwise comparison failed; returning scalar instead, but in the future will perform elementwise comparison\n",
      "  if self._edgecolors == str('face'):\n"
     ]
    },
    {
     "data": {
      "image/png": "[encoded data removed]",
      "text/plain": [
       "<matplotlib.figure.Figure at 0x7fcc744cc240>"
      ]
     },
     "metadata": {},
     "output_type": "display_data"
    }
   ],
   "source": [
    "# the sourcecode in this cell is inspired from \n",
    "# https://gist.github.com/bbarrilleaux/9841297\n",
    "\n",
    "%matplotlib inline\n",
    "\n",
    "from sklearn import datasets, cluster\n",
    "import numpy as np\n",
    "import matplotlib.pyplot as plt\n",
    "from mpl_toolkits.mplot3d import Axes3D\n",
    "\n",
    "\n",
    "# load data\n",
    "iris = datasets.load_iris()\n",
    "X_iris = iris.data\n",
    "y_iris = iris.target\n",
    "# do the clustering\n",
    "centers = kmeans(X_iris, k=3)\n",
    "labels = [find_closest_centroid(p, centers) for p in X_iris]\n",
    "\n",
    "#plot the clusters in color\n",
    "fig = plt.figure(1, figsize=(8, 8))\n",
    "plt.clf()\n",
    "ax = Axes3D(fig, rect=[0, 0, 1, 1], elev=8, azim=200)\n",
    "plt.cla()\n",
    "ax.scatter(X_iris[:, 3], X_iris[:, 0], X_iris[:, 2], c=labels)\n",
    "\n",
    "# moon\n",
    "# np.random.seed(0)\n",
    "# X, y = datasets.make_moons(2000, noise=0.2)\n",
    "\n",
    "# blob\n",
    "# np.random.seed(0)\n",
    "# X, y = datasets.make_blobs(n_samples=2000, centers=3, n_features=20, random_state=0)\n",
    "\n",
    "# centers = kmeans(X, k=3)\n",
    "# labels = [find_closest_centroid(p, centers) for p in X]\n",
    "\n",
    "# fig = plt.figure(1, figsize=(8, 8))\n",
    "# plt.clf()\n",
    "# plt.scatter(X[:,0], X[:,1], s=40, c=labels, cmap=plt.cm.Spectral)\n",
    "\n",
    "ax.w_xaxis.set_ticklabels([])\n",
    "ax.w_yaxis.set_ticklabels([])\n",
    "ax.w_zaxis.set_ticklabels([])\n",
    "ax.set_xlabel('Petal width')\n",
    "ax.set_ylabel('Sepal length')\n",
    "ax.set_zlabel('Petal length')\n",
    "\n",
    "plt.show()\n",
    "\n",
    "# Here we use sci-kit learn implementation of K-means\n",
    "# centers =cluster.KMeans(n_clusters=3)\n",
    "# centers.fit(X_iris) \n",
    "# labels = centers2.labels_\n"
   ]
  },
  {
   "cell_type": "markdown",
   "metadata": {},
   "source": [
    "<div class=\"comment\">\n",
    "3 of the 4 features were chosen to do the plot, maybe those features have been chosen because they are the most informative. Indeed the \"Petal length\" feature seems to seperate very well the blue and the green/red clusters. There seems to be a plane dividing the red and green datasets. Though it is not so easy to tell if the points of the clusters green/red are well clustered because they seem to belong to a single group. Maybe the 4th feature have more importance in this separation than the 3 features we're seeing right now. Visualising is not sufficient, we could either compare the clustering result with the correct labels (Wikipedia tells that there are 3 different labels, hence the choice k=3), or use an arbitrary  measurement.\n",
    "</div>"
   ]
  },
  {
   "cell_type": "markdown",
   "metadata": {},
   "source": [
    "That's enough about K-means for now. In the next section, we will apply MMLIB's K-means on Spark to deal with a large data in the real usecase.\n"
   ]
  },
  {
   "cell_type": "markdown",
   "metadata": {},
   "source": [
    "# 2. Usecase: Network Intrusion \n",
    "\n",
    "Some attacks attempt to flood a computer with network traffic. In some other cases, attacks attempt to exploit flaws in networking software in order to gain unauthorized access to a computer. Detecting an exploit in an incredibly large haystack of network requests is not easy.\n",
    "\n",
    "Some exploit behaviors follow known patterns such as scanning every port in a short of time, sending a burst of request to a port... However, the biggest threat may be the one that has never been detected and classified yet. Part of detecting potential network intrusions is detecting anomalies. These are connections that aren't known to be attacks, but, do not resemble connections that have been observed in the past.\n",
    "\n",
    "In this notebook, K-means is used to detect anomalous network connections based on statistics about each of them.\n",
    "\n",
    "\n",
    "## 2.1. Data\n",
    "The data comes from [KDD Cup 1999](http://kdd.ics.uci.edu/databases/kddcup99/kddcup99.html). The dataset is about 708MB and contains about 4.9M connections. For each connection, the data set contains information like the number of bytes sent, login attempts, TCP errors, and so on. Each connection is one line of CSV-formatted data, containing 38 features: back, buffer_overflow, ftp_write, guess_passwd, imap, ipsweep, land, loadmodule, multihop, neptune, nmap, normal, perl, phf, pod, portsweep, rootkit, satan, smurf, spy, teardrop, warezclient, warezmaster. For more details about each features, please follow this [link](http://kdd.ics.uci.edu/databases/kddcup99/kddcup99.html).\n",
    "\n",
    "Many features take on the value 0 or 1, indicating the presence or absence of a behavior such as `su_attempted` in the 15th column. Some features are counts, like `num_file_creations` in the 17th columns. Some others are the number of sent and received bytes."
   ]
  },
  {
   "cell_type": "markdown",
   "metadata": {},
   "source": [
    "## 2.2. Clustering without using categorical features\n",
    "\n",
    "First, we need to import some packages that are used in this notebook."
   ]
  },
  {
   "cell_type": "code",
   "execution_count": 27,
   "metadata": {
    "collapsed": true
   },
   "outputs": [],
   "source": [
    "import os\n",
    "import sys\n",
    "import re\n",
    "import time\n",
    "from pyspark import SparkContext\n",
    "from pyspark import SparkContext\n",
    "from pyspark.sql import SQLContext\n",
    "from pyspark.sql.types import *\n",
    "from pyspark.sql import Row\n",
    "# from pyspark.sql.functions import *\n",
    "%matplotlib inline\n",
    "import matplotlib.pyplot as plt\n",
    "import pandas as pd\n",
    "import numpy as np\n",
    "import pyspark.sql.functions as func\n",
    "import matplotlib.patches as mpatches\n",
    "from operator import add\n",
    "from pyspark.mllib.clustering import KMeans, KMeansModel\n",
    "from operator import add\n",
    "from pyspark.mllib.tree import DecisionTree, DecisionTreeModel\n",
    "from pyspark.mllib.util import MLUtils\n",
    "from pyspark.mllib.regression import LabeledPoint\n",
    "import itertools\n",
    "\n",
    "input_path = \"/datasets/k-means/kddcup.data\"\n",
    "# input_path = \"/Users/quentinleroy/Documents/Eurecom/AML/Lab10+11/data/kddcup.data_10_percent\"\n",
    "raw_data = sc.textFile(input_path, 12)"
   ]
  },
  {
   "cell_type": "markdown",
   "metadata": {
    "collapsed": false
   },
   "source": [
    "### 2.2.1. Loading data"
   ]
  },
  {
   "cell_type": "markdown",
   "metadata": {},
   "source": [
    "There are two types of features: numerical features and categorical features.\n",
    "Currently, to get familiar with the data and the problem, we only use numerical features. In our data, we also have pre-defined groups for each connection, which we can use later as our \"ground truth\" for verifying our results.\n",
    "\n",
    "**Note 1**: we don't use the labels in the training phase !!!\n",
    "\n",
    "**Note 2**: in general, since clustering is un-supervised, you don't have access to ground truth. For this reason, several metrics to judge the quality of clustering have been devised. For a short overview of such metrics, follow this [link](https://en.wikipedia.org/wiki/Cluster_analysis#Internal_evaluation). Note that computing such metrics, that is trying to assess the quality of your clustering results, is as computationally intensive as computing the clustering itself!"
   ]
  },
  {
   "cell_type": "markdown",
   "metadata": {},
   "source": [
    "![](https://farm2.staticflickr.com/1604/24934700445_833f0a5649_t.jpg)"
   ]
  },
  {
   "cell_type": "markdown",
   "metadata": {},
   "source": [
    "<div class='anchor' ></div>\n",
    "\n",
    "#### Question 2\n",
    "Write function `parseLine` to construct a tuple of `(label, vector)` for each connection, extract the data that contains only the data points (without label), then print the number of connections.\n",
    "\n",
    "Where,\n",
    "\n",
    "* `label` is the pre-defined label of each connection\n",
    "* `vector` is a numpy array that contains values of all features, but the label and the categorial features at index `1,2,3` of each connection. Each `vector` is a data point."
   ]
  },
  {
   "cell_type": "markdown",
   "metadata": {},
   "source": [
    "```python\n",
    "def parseLine(line):\n",
    "    cols = line...\n",
    "    # label is the last column\n",
    "    label = ...\n",
    "    \n",
    "    # vector is every column, except the label\n",
    "    vector = ...\n",
    "    \n",
    "    # delete values of columns that have index 1->3 (categorical features)\n",
    "    ...\n",
    "    \n",
    "    # convert each value from string to float\n",
    "    vector = np.array(...)\n",
    "    \n",
    "    return (label, vector)\n",
    "\n",
    "labelsAndData = raw_data.map(...)\n",
    "\n",
    "# we only need the data, not the label\n",
    "data = labelsAndData...cache()\n",
    "\n",
    "# number of connections\n",
    "n = data....\n",
    "```"
   ]
  },
  {
   "cell_type": "code",
   "execution_count": 28,
   "metadata": {
    "collapsed": false
   },
   "outputs": [],
   "source": [
    "def parseLine(line):\n",
    "    cols = line.split(',')\n",
    "    # label is the last column\n",
    "    label = cols[-1]\n",
    "    \n",
    "    # vector is every column, except the label\n",
    "    vector = cols[:-1]\n",
    "    \n",
    "    # delete values of columns that have index 1->3 (categorical features)\n",
    "    vector = [element for i, element in enumerate(vector) if i not in [1, 2, 3]]\n",
    "    \n",
    "    # convert each value from string to float\n",
    "    vector = np.array(vector, dtype=np.float)\n",
    "    \n",
    "    return (label, vector)\n",
    "\n",
    "labelsAndData = raw_data.map(parseLine).cache()\n",
    "\n",
    "# we only need the data, not the label\n",
    "data = labelsAndData.map(lambda row: row[1]).cache()\n",
    "\n",
    "# number of connections\n",
    "n = data.count()"
   ]
  },
  {
   "cell_type": "code",
   "execution_count": 29,
   "metadata": {
    "collapsed": false
   },
   "outputs": [
    {
     "data": {
      "text/plain": [
       "4898431"
      ]
     },
     "execution_count": 29,
     "metadata": {},
     "output_type": "execute_result"
    }
   ],
   "source": [
    "n"
   ]
  },
  {
   "cell_type": "code",
   "execution_count": 30,
   "metadata": {
    "collapsed": false
   },
   "outputs": [
    {
     "data": {
      "text/plain": [
       "38"
      ]
     },
     "execution_count": 30,
     "metadata": {},
     "output_type": "execute_result"
    }
   ],
   "source": [
    "len(data.first())"
   ]
  },
  {
   "cell_type": "markdown",
   "metadata": {},
   "source": [
    "<div class='comment'>\n",
    "We work here with an enormous dataset. In addition to having several millions entries, we also have 38 dimensions. We have to be careful with the algorithm that we use and how we use it. Or we could end up with an overwhelming computation time.\n",
    "</div>"
   ]
  },
  {
   "cell_type": "markdown",
   "metadata": {},
   "source": [
    "![](https://farm2.staticflickr.com/1604/24934700445_833f0a5649_t.jpg)"
   ]
  },
  {
   "cell_type": "markdown",
   "metadata": {},
   "source": [
    "<div class='anchor' ></div>\n",
    "\n",
    "#### Question 3\n",
    "Using K-means algorithm of MLLIB, cluster the connections into two groups then plot the result. Why two groups? In this case, we are just warming up, we're testing things around, so \"two groups\" has no particular meaning.\n",
    "\n",
    "You can use the following parameters:\n",
    "\n",
    "* `maxIterations=10`\n",
    "* `runs=10`\n",
    "* `initializationMode=\"random\"`\n",
    "\n",
    "Discuss the result from your figure."
   ]
  },
  {
   "cell_type": "markdown",
   "metadata": {},
   "source": [
    "```python\n",
    "clusters = KMeans....\n",
    "```"
   ]
  },
  {
   "cell_type": "code",
   "execution_count": 31,
   "metadata": {
    "collapsed": false,
    "scrolled": false
   },
   "outputs": [
    {
     "name": "stdout",
     "output_type": "stream",
     "text": [
      "23.791318655014038\n"
     ]
    }
   ],
   "source": [
    "t1 = time.time()\n",
    "clusters = KMeans.train(data, 2, maxIterations=10, runs=10, initializationMode=\"random\")\n",
    "print(time.time() - t1)"
   ]
  },
  {
   "cell_type": "markdown",
   "metadata": {},
   "source": [
    "We will print some data (not all the points) projected on three dimensions. We will not do any PCA but just choose 3 out of the 38 features. A lot of features take only 0/1 values, these features are probably not representative enough. We want to see how each feature varies, we will use the 3 features that vary the most."
   ]
  },
  {
   "cell_type": "code",
   "execution_count": 32,
   "metadata": {
    "collapsed": true
   },
   "outputs": [],
   "source": [
    "def getVars(data):\n",
    "    n = data.count()\n",
    "    means = data.reduce(add) / n\n",
    "    vars_ = data.map(lambda x: (x - means)**2).reduce(add) / n\n",
    "    return vars_\n",
    "\n",
    "vars_ = getVars(data)"
   ]
  },
  {
   "cell_type": "code",
   "execution_count": 7,
   "metadata": {
    "collapsed": false
   },
   "outputs": [
    {
     "data": {
      "text/plain": [
       "array([  5.23205909e+05,   8.86292287e+11,   4.16040826e+11,\n",
       "         5.71608336e-06,   1.83649380e-03,   5.20574220e-05,\n",
       "         2.19940474e-01,   5.32813401e-05,   1.22928440e-01,\n",
       "         1.48724429e+01,   6.81804492e-05,   6.53256901e-05,\n",
       "         1.55084339e+01,   1.54220970e-02,   7.63454566e-05,\n",
       "         1.26099403e-03,   0.00000000e+00,   4.08293836e-07,\n",
       "         8.34467881e-04,   4.49400827e+04,   6.05124011e+04,\n",
       "         1.45828938e-01,   1.46118156e-01,   5.39414093e-02,\n",
       "         5.41308521e-02,   1.51551218e-01,   6.84170094e-03,\n",
       "         1.97569872e-02,   4.09867958e+03,   1.12175120e+04,\n",
       "         1.69073904e-01,   1.17816269e-02,   2.31349138e-01,\n",
       "         1.70236904e-03,   1.45800386e-01,   1.46059565e-01,\n",
       "         5.33345749e-02,   5.33506914e-02])"
      ]
     },
     "execution_count": 7,
     "metadata": {},
     "output_type": "execute_result"
    }
   ],
   "source": [
    "vars_"
   ]
  },
  {
   "cell_type": "markdown",
   "metadata": {},
   "source": [
    "The second feature seems to vary really a lot. The three first features (those that have the greatest variance) are :\n",
    "- duration: continuous.\n",
    "- src_bytes: continuous.\n",
    "- dst_bytes: continuous."
   ]
  },
  {
   "cell_type": "code",
   "execution_count": 33,
   "metadata": {
    "collapsed": false
   },
   "outputs": [
    {
     "name": "stdout",
     "output_type": "stream",
     "text": [
      "4499\n"
     ]
    }
   ],
   "source": [
    "mean = data.map(lambda x: x[1]).reduce(add) / n\n",
    "print(data.filter(lambda x: x[1] > 10*mean).count())"
   ]
  },
  {
   "cell_type": "markdown",
   "metadata": {},
   "source": [
    "Indeed a small proportion of points have very high value for the second feature."
   ]
  },
  {
   "cell_type": "markdown",
   "metadata": {},
   "source": [
    "We will select only these 3 features to do the plot, and on 1% of the whole dataset."
   ]
  },
  {
   "cell_type": "code",
   "execution_count": 34,
   "metadata": {
    "collapsed": false
   },
   "outputs": [],
   "source": [
    "# take the indices of the features that vary the most\n",
    "indices_to_project = [t[0] for t in sorted(enumerate(vars_), key=lambda x: x[1])[-3:]] \n",
    "# select only a small percentage of the data in order to be able to plot\n",
    "data_to_project = data.randomSplit([10, 90])[0]\n",
    "# separate into two rdds\n",
    "rdd0 = data.filter(lambda point: clusters.predict(point)==0)\n",
    "rdd1 = data.filter(lambda point: clusters.predict(point)==1)"
   ]
  },
  {
   "cell_type": "markdown",
   "metadata": {},
   "source": [
    "Collect the data:"
   ]
  },
  {
   "cell_type": "code",
   "execution_count": 35,
   "metadata": {
    "collapsed": false
   },
   "outputs": [],
   "source": [
    "center0 = clusters.centers[0]\n",
    "center1 = clusters.centers[1]\n",
    "cluster0 = rdd0.take(5)\n",
    "cluster1 = rdd1.take(5)"
   ]
  },
  {
   "cell_type": "markdown",
   "metadata": {},
   "source": [
    "Project the data:"
   ]
  },
  {
   "cell_type": "code",
   "execution_count": 36,
   "metadata": {
    "collapsed": false
   },
   "outputs": [],
   "source": [
    "cluster0_projected = np.array([[point[i] for i in indices_to_project] for point in cluster0])\n",
    "cluster1_projected = np.array([[point[i] for i in indices_to_project] for point in cluster1])"
   ]
  },
  {
   "cell_type": "markdown",
   "metadata": {},
   "source": [
    "Take the extrema values:"
   ]
  },
  {
   "cell_type": "code",
   "execution_count": 37,
   "metadata": {
    "collapsed": false
   },
   "outputs": [],
   "source": [
    "M = max(max(cluster1_projected.flatten()), max(cluster0_projected.flatten()))\n",
    "m = min(min(cluster1_projected.flatten()), min(cluster0_projected.flatten()))"
   ]
  },
  {
   "cell_type": "markdown",
   "metadata": {},
   "source": [
    "Finally do the plot:"
   ]
  },
  {
   "cell_type": "code",
   "execution_count": 38,
   "metadata": {
    "collapsed": false,
    "scrolled": false
   },
   "outputs": [
    {
     "name": "stderr",
     "output_type": "stream",
     "text": [
      "/opt/conda/lib/python3.4/site-packages/matplotlib/collections.py:590: FutureWarning: elementwise comparison failed; returning scalar instead, but in the future will perform elementwise comparison\n",
      "  if self._edgecolors == str('face'):\n"
     ]
    },
    {
     "data": {
      "text/plain": [
       "<matplotlib.legend.Legend at 0x7fcbf4064fd0>"
      ]
     },
     "execution_count": 38,
     "metadata": {},
     "output_type": "execute_result"
    },
    {
     "data": {
      "image/png": "[encoded data removed]",
      "text/plain": [
       "<matplotlib.figure.Figure at 0x7fcbf45dd240>"
      ]
     },
     "metadata": {},
     "output_type": "display_data"
    }
   ],
   "source": [
    "fig = plt.figure(figsize=(8, 8))\n",
    "ax = fig.add_subplot(111, projection='3d')\n",
    "ax.scatter(cluster0_projected[:, 0], cluster0_projected[:, 1], cluster0_projected[:, 2], c=\"b\")\n",
    "ax.scatter(cluster1_projected[:, 0], cluster1_projected[:, 1], cluster1_projected[:, 2], c=\"r\")\n",
    "ax.set_xlim(m, M)\n",
    "ax.set_ylim(m, M)\n",
    "ax.set_zlim(m, M)\n",
    "ax.legend([\"cluster 0\", \"cluster 1\"])"
   ]
  },
  {
   "cell_type": "markdown",
   "metadata": {},
   "source": [
    "<div class=\"answer\">\n",
    "Cluster 0/1 does not have much data, not more than ten points, whereas Cluster 1/0 has the vast majority of points. In the plots we can see that all the points of Cluster 0/1 has gathered in a very small place at the scale of the figure. The points of Cluster 0/1 are really far away (because of feature #2 for example), hence these points have made the centroid move really far away of its initial position. To put it differenty those few points are responsible for the very unbalanced clusters.\n",
    "</div>"
   ]
  },
  {
   "cell_type": "markdown",
   "metadata": {},
   "source": [
    "### 2.2.3. Evaluating model"
   ]
  },
  {
   "cell_type": "markdown",
   "metadata": {},
   "source": [
    "![](https://farm2.staticflickr.com/1604/24934700445_833f0a5649_t.jpg)"
   ]
  },
  {
   "cell_type": "markdown",
   "metadata": {},
   "source": [
    "<div class='anchor' ></div>\n",
    "\n",
    "#### Question 4\n",
    "\n",
    "One of the simplest method to evaluate our result is calculate the Within Set Sum of Squared Errors (WSSSE), or simply, 'Sum of Squared Errors'. An error of a data point is defined as it's distance to the closest cluster center.\n"
   ]
  },
  {
   "cell_type": "markdown",
   "metadata": {},
   "source": [
    "```python\n",
    "from operator import add\n",
    "\n",
    "# Evaluate clustering by computing Within Set Sum of Squared Errors\n",
    "def error(clusters, point):\n",
    "    closest_center = ...\n",
    "    return ...\n",
    "\n",
    "WSSSE = data.map(...).reduce(...)\n",
    "print(\"Within Set Sum of Squared Error = \" + str(WSSSE))\n",
    "```"
   ]
  },
  {
   "cell_type": "markdown",
   "metadata": {},
   "source": [
    "We will now use a version of euclidean_distance that assumes the arguments to be numpy arrays, which is really faster, it will come to be useful because this function will be use several million times."
   ]
  },
  {
   "cell_type": "code",
   "execution_count": 39,
   "metadata": {
    "collapsed": true
   },
   "outputs": [],
   "source": [
    "def euclidean_distance(a, b):\n",
    "    c = a - b\n",
    "    return np.sqrt(c.T.dot(c))"
   ]
  },
  {
   "cell_type": "code",
   "execution_count": 40,
   "metadata": {
    "collapsed": false
   },
   "outputs": [
    {
     "name": "stdout",
     "output_type": "stream",
     "text": [
      "Within Set Sum of Squared Error = 3.05254895755e+18\n",
      "15.861504316329956\n"
     ]
    }
   ],
   "source": [
    "from operator import add\n",
    "t1 = time.time()\n",
    "# Evaluate clustering by computing Within Set Sum of Squared Errors\n",
    "def error(clusters, point):\n",
    "    closest_center = clusters.centers[clusters.predict(point)]\n",
    "    return euclidean_distance(closest_center, point)**2\n",
    "\n",
    "WSSSE = data.map(lambda point: error(clusters, point)).reduce(add)\n",
    "print(\"Within Set Sum of Squared Error = \" + str(WSSSE))\n",
    "print(time.time() - t1)"
   ]
  },
  {
   "cell_type": "markdown",
   "metadata": {},
   "source": [
    "Tentative to make it faster:"
   ]
  },
  {
   "cell_type": "code",
   "execution_count": 41,
   "metadata": {
    "collapsed": false
   },
   "outputs": [
    {
     "name": "stdout",
     "output_type": "stream",
     "text": [
      "Within Set Sum of Squared Error = 3.05254895755e+18\n",
      "14.585188865661621\n"
     ]
    }
   ],
   "source": [
    "def error(iterator, clusters):\n",
    "    error = 0\n",
    "    for point in iterator:\n",
    "        closest_center = clusters.centers[clusters.predict(point)]\n",
    "        error += euclidean_distance(closest_center, point)**2\n",
    "    yield error\n",
    "    \n",
    "def getWSSSE(data, clusters):\n",
    "    bClusters = sc.broadcast(clusters)\n",
    "    acc = sc.accumulator(0)\n",
    "    data.mapPartitions(lambda iterator: error(iterator, bClusters.value)).foreach(lambda x: acc.add(x))\n",
    "    return acc.value\n",
    "\n",
    "t1 = time.time()\n",
    "WSSSE = getWSSSE(data, clusters)\n",
    "print(\"Within Set Sum of Squared Error = \" + str(WSSSE))\n",
    "print(time.time() - t1)"
   ]
  },
  {
   "cell_type": "markdown",
   "metadata": {},
   "source": [
    "Use the built-in function clusters.computeCost()"
   ]
  },
  {
   "cell_type": "code",
   "execution_count": 42,
   "metadata": {
    "collapsed": false
   },
   "outputs": [
    {
     "name": "stdout",
     "output_type": "stream",
     "text": [
      "5.303266525268555\n"
     ]
    }
   ],
   "source": [
    "from operator import add\n",
    "t1 = time.time()\n",
    "clusters.computeCost(data)\n",
    "print(time.time() - t1)"
   ]
  },
  {
   "cell_type": "markdown",
   "metadata": {},
   "source": [
    "<div class='comment'>\n",
    "This is the fastest method.\n",
    "</div>"
   ]
  },
  {
   "cell_type": "markdown",
   "metadata": {},
   "source": [
    "![](https://farm2.staticflickr.com/1604/24934700445_833f0a5649_t.jpg)"
   ]
  },
  {
   "cell_type": "markdown",
   "metadata": {},
   "source": [
    "<div class='anchor' ></div>\n",
    "\n",
    "#### Question 5\n",
    "This is a good opportunity to use the given labels to get an intuitive sense of what went into these two clusters, by counting the labels within each cluster. Complete the following code that uses the model to assign each data point to a cluster, and counts occurrences of cluster and label pairs.\n",
    "What do you think about the result ?"
   ]
  },
  {
   "cell_type": "markdown",
   "metadata": {},
   "source": [
    "```python\n",
    "clusterLabelCount = ...\n",
    "\n",
    "for item in clusterLabelCount:\n",
    "    print(item)\n",
    "```"
   ]
  },
  {
   "cell_type": "code",
   "execution_count": 83,
   "metadata": {
    "collapsed": false
   },
   "outputs": [
    {
     "name": "stdout",
     "output_type": "stream",
     "text": [
      "((0, 'rootkit.'), 10)\n",
      "((0, 'multihop.'), 7)\n",
      "((0, 'normal.'), 972781)\n",
      "((0, 'phf.'), 4)\n",
      "((0, 'nmap.'), 2316)\n",
      "((0, 'pod.'), 264)\n",
      "((0, 'back.'), 2203)\n",
      "((0, 'ftp_write.'), 8)\n",
      "((0, 'spy.'), 2)\n",
      "((0, 'warezmaster.'), 20)\n",
      "((1, 'portsweep.'), 5)\n",
      "((0, 'perl.'), 3)\n",
      "((0, 'land.'), 21)\n",
      "((0, 'portsweep.'), 10408)\n",
      "((0, 'smurf.'), 2807886)\n",
      "((0, 'ipsweep.'), 12481)\n",
      "((0, 'imap.'), 12)\n",
      "((0, 'warezclient.'), 1020)\n",
      "((0, 'loadmodule.'), 9)\n",
      "((0, 'guess_passwd.'), 53)\n",
      "((0, 'neptune.'), 1072017)\n",
      "((0, 'teardrop.'), 979)\n",
      "((0, 'buffer_overflow.'), 30)\n",
      "((0, 'satan.'), 15892)\n"
     ]
    }
   ],
   "source": [
    "clusterLabelCount = labelsAndData.map(lambda row: ((clusters.predict(row[1]), row[0]), 1)).reduceByKey(add)\n",
    "\n",
    "for item in clusterLabelCount.collect():\n",
    "    print(item)"
   ]
  },
  {
   "cell_type": "markdown",
   "metadata": {},
   "source": [
    "<div class='comment' >\n",
    "It confirms the comments on Q3. The two clusters are really unbalanced, a small number of datapoints make a good clustering impossible without a preliminar rescale, and the choice of k=2 is not relevant given the disparity of the whole dataset. We could think that k should be at least greater than 23 because there are 23 different labels, the points that share the same label a priori share characteristics that the features would reveal, but for the features to reveal the characteristics the points would better be put in another space (that is change the features to select, and transform them).\n",
    "</div>"
   ]
  },
  {
   "cell_type": "markdown",
   "metadata": {},
   "source": [
    "### 2.2.4. Choosing K\n",
    "\n",
    "How many clusters are appropriate for a dataset? In particular, for our own dataset, it's clear that there are 23 distinct behavior patterns in the data, so it seems that k could be at least 23, or likely, even more. In other cases, we even don't have any information about the number of patterns at all (remember, generally your data is not labelled!). Our task now is finding a good value of $k$. For doing that, we have to build and evaluate models with different values of $k$. A clustering could be considered good if each data point were near to its closest centroid. One of the ways to evaluate a model is calculating the Mean of Squared Errors of all data points."
   ]
  },
  {
   "cell_type": "markdown",
   "metadata": {},
   "source": [
    "![](https://farm2.staticflickr.com/1604/24934700445_833f0a5649_t.jpg)"
   ]
  },
  {
   "cell_type": "markdown",
   "metadata": {},
   "source": [
    "<div class='anchor' ></div>\n",
    "\n",
    "#### Question 6\n",
    "Complete the function below to calculate the MSE of each model that is corresponding to each value of $k$.\n",
    "Plot the results. From the obtained result, what is the best value for $k$ ? Why ?"
   ]
  },
  {
   "cell_type": "markdown",
   "metadata": {},
   "source": [
    "```python\n",
    "# k: the number of clusters\n",
    "def clusteringScore(data, k):\n",
    "    clusters = KMeans....\n",
    "    # calculate mean square error\n",
    "    return ...\n",
    "\n",
    "scores = ...\n",
    "for score in scores:\n",
    "    print(score)\n",
    "    \n",
    "# plot results\n",
    "plt...\n",
    "```"
   ]
  },
  {
   "cell_type": "code",
   "execution_count": 22,
   "metadata": {
    "collapsed": false,
    "scrolled": false
   },
   "outputs": [
    {
     "name": "stdout",
     "output_type": "stream",
     "text": [
      "203180867410.17664\n",
      "197212695108.3952\n",
      "168362743810.1947\n",
      "197205266640.06128\n",
      "197208496981.73676\n",
      "197204082381.91348\n",
      "168293832370.86035\n"
     ]
    },
    {
     "data": {
      "text/plain": [
       "<matplotlib.text.Text at 0x7f951c8fab38>"
      ]
     },
     "execution_count": 22,
     "metadata": {},
     "output_type": "execute_result"
    },
    {
     "data": {
      "image/png": "[encoded data removed]",
      "text/plain": [
       "<matplotlib.figure.Figure at 0x7f951c9b87b8>"
      ]
     },
     "metadata": {},
     "output_type": "display_data"
    }
   ],
   "source": [
    "# k: the number of clusters\n",
    "k_range = range(5, 126, 20)\n",
    "\n",
    "def clusteringScore(data, k):\n",
    "    clusters = KMeans.train(data, k, maxIterations=10, runs=10, initializationMode=\"random\")\n",
    "    # calculate mean square error\n",
    "#     WSSSE = data.map(lambda point: error(clusters, point)).reduce(add)\n",
    "    WSSSE = clusters.computeCost(data)\n",
    "    return WSSSE\n",
    "\n",
    "scores = [clusteringScore(data, k) for k in k_range]\n",
    "for score in scores:\n",
    "    print(score)\n",
    "    \n",
    "# plot results\n",
    "plt.scatter(k_range, scores)\n",
    "plt.xlabel('k')\n",
    "plt.ylabel('clustering score')"
   ]
  },
  {
   "cell_type": "markdown",
   "metadata": {},
   "source": [
    "<div class=\"answer\">\n",
    "The clustering score is supposed to decrease as k increases. Let's say we get clusters centers for k = 50, when we get clusters centers for k=51, we can put 50 of those points at the same place as before. That is why by incrreasing k, the score should be at least as good as before. Here it's abvious that the algorithm does't find the optimal centroids. So it's very difficult to interpret the results of an algorithm that we don't trust. To solve this, we could increase the number of runs or change the initialization method of the centroids.\n",
    "</div>"
   ]
  },
  {
   "cell_type": "markdown",
   "metadata": {},
   "source": [
    "### 2.2.5 Normalizing features\n",
    "\n",
    "K-means clustering treats equally all dimensions/directions of the space and therefore tends to produce more or less spherical (rather than elongated) clusters. In this situation, leaving variances uneven is equivalent to putting more weight on variables with smaller variance, so clusters will tend to be separated along variables with greater variance.\n",
    "\n",
    "In our notebook, since Euclidean distance is used, the clusters will be influenced strongly by the magnitudes of the variables, especially by outliers. Normalizing will remove this bias. \n",
    "\n",
    "Each feature can be normalized by converting it to a standard score. This means subtracting the mean of the feature’s values from each value, and dividing by the standard deviation\n",
    "\n",
    "$normalize_i=\\frac{feature_i - \\mu_i}{\\sigma_i}$\n",
    "\n",
    "Where,\n",
    "\n",
    "* $normalize_i$ is the normalized value of feature $i$\n",
    "* $\\mu_i$ is the mean of feature $i$\n",
    "* $\\sigma_i$ is the standard deviation of feature $i$\n"
   ]
  },
  {
   "cell_type": "markdown",
   "metadata": {},
   "source": [
    "![](https://farm2.staticflickr.com/1604/24934700445_833f0a5649_t.jpg)"
   ]
  },
  {
   "cell_type": "markdown",
   "metadata": {},
   "source": [
    "<div class='anchor' ></div>\n",
    "#### Question 7\n",
    "\n",
    "Complete the code below to normalize the data. Print the first 5 lines of the new data.\n",
    "\n",
    "HINT: If $\\sigma_i = 0$ then $normalize_i=feature_i - \\mu_i$"
   ]
  },
  {
   "cell_type": "markdown",
   "metadata": {},
   "source": [
    "```python\n",
    "def normalizeData(data):\n",
    "    # number of connections\n",
    "    n = ...\n",
    "\n",
    "    # calculate the sum of each feature\n",
    "    sums = ...\n",
    "    print(sums)\n",
    "\n",
    "    # calculate means\n",
    "    means = ...\n",
    "\n",
    "    # calculate the sum square of each feature\n",
    "    sumSquares = ...\n",
    "    print(sumSquares)\n",
    "\n",
    "    # calculate standard deviation of each feature\n",
    "    stdevs = ...\n",
    "    print(stdevs)\n",
    "\n",
    "    def normalize(point):\n",
    "        return ...\n",
    "\n",
    "    return data.map(normalize)\n",
    "\n",
    "normalizedData = normalizeData(data).cache()\n",
    "print(normalizedData.take(5))\n",
    "```"
   ]
  },
  {
   "cell_type": "code",
   "execution_count": 47,
   "metadata": {
    "collapsed": false,
    "scrolled": false
   },
   "outputs": [
    {
     "name": "stdout",
     "output_type": "stream",
     "text": [
      "[array([ -6.68331854e-02,  -1.72038228e-03,   6.81884351e-02,\n",
      "        -2.39084686e-03,  -1.51391734e-02,  -1.10348462e-03,\n",
      "        -2.65207600e-02,  -4.39091558e-03,   2.44279187e+00,\n",
      "        -2.09732783e-03,  -8.25770840e-03,  -4.54646139e-03,\n",
      "        -3.28458917e-03,  -9.57233922e-03,  -8.50457842e-03,\n",
      "        -2.87561127e-02,   0.00000000e+00,  -6.38979005e-04,\n",
      "        -2.89113034e-02,  -1.57541507e+00,  -1.19624324e+00,\n",
      "        -4.66042614e-01,  -4.65755574e-01,  -2.48285775e-01,\n",
      "        -2.48130352e-01,   5.39733093e-01,  -2.56056520e-01,\n",
      "        -2.01059296e-01,  -3.63913926e+00,  -1.78651044e+00,\n",
      "        -1.83302273e+00,  -2.82939000e-01,  -1.25793664e+00,\n",
      "        -1.56668488e-01,  -4.66404784e-01,  -4.65453641e-01,\n",
      "        -2.50831829e-01,  -2.49631966e-01]), array([ -6.68331854e-02,  -1.77667956e-03,   5.32451452e-03,\n",
      "        -2.39084686e-03,  -1.51391734e-02,  -1.10348462e-03,\n",
      "        -2.65207600e-02,  -4.39091558e-03,   2.44279187e+00,\n",
      "        -2.09732783e-03,  -8.25770840e-03,  -4.54646139e-03,\n",
      "        -3.28458917e-03,  -9.57233922e-03,  -8.50457842e-03,\n",
      "        -2.87561127e-02,   0.00000000e+00,  -6.38979005e-04,\n",
      "        -2.89113034e-02,  -1.57069789e+00,  -1.19217808e+00,\n",
      "        -4.66042614e-01,  -4.65755574e-01,  -2.48285775e-01,\n",
      "        -2.48130352e-01,   5.39733093e-01,  -2.56056520e-01,\n",
      "        -2.01059296e-01,  -3.62351937e+00,  -1.77706870e+00,\n",
      "         5.98966843e-01,  -2.82939000e-01,   8.21118739e-01,\n",
      "        -1.56668488e-01,  -4.66404784e-01,  -4.65453641e-01,\n",
      "        -2.50831829e-01,  -2.49631966e-01])]\n",
      "[array([  0.00000000e+00,   2.15000000e+02,   4.50760000e+04,\n",
      "         0.00000000e+00,   0.00000000e+00,   0.00000000e+00,\n",
      "         0.00000000e+00,   0.00000000e+00,   1.00000000e+00,\n",
      "         0.00000000e+00,   0.00000000e+00,   0.00000000e+00,\n",
      "         0.00000000e+00,   0.00000000e+00,   0.00000000e+00,\n",
      "         0.00000000e+00,   0.00000000e+00,   0.00000000e+00,\n",
      "         0.00000000e+00,   1.00000000e+00,   1.00000000e+00,\n",
      "         0.00000000e+00,   0.00000000e+00,   0.00000000e+00,\n",
      "         0.00000000e+00,   1.00000000e+00,   0.00000000e+00,\n",
      "         0.00000000e+00,   0.00000000e+00,   0.00000000e+00,\n",
      "         0.00000000e+00,   0.00000000e+00,   0.00000000e+00,\n",
      "         0.00000000e+00,   0.00000000e+00,   0.00000000e+00,\n",
      "         0.00000000e+00,   0.00000000e+00]), array([  0.00000000e+00,   1.62000000e+02,   4.52800000e+03,\n",
      "         0.00000000e+00,   0.00000000e+00,   0.00000000e+00,\n",
      "         0.00000000e+00,   0.00000000e+00,   1.00000000e+00,\n",
      "         0.00000000e+00,   0.00000000e+00,   0.00000000e+00,\n",
      "         0.00000000e+00,   0.00000000e+00,   0.00000000e+00,\n",
      "         0.00000000e+00,   0.00000000e+00,   0.00000000e+00,\n",
      "         0.00000000e+00,   2.00000000e+00,   2.00000000e+00,\n",
      "         0.00000000e+00,   0.00000000e+00,   0.00000000e+00,\n",
      "         0.00000000e+00,   1.00000000e+00,   0.00000000e+00,\n",
      "         0.00000000e+00,   1.00000000e+00,   1.00000000e+00,\n",
      "         1.00000000e+00,   0.00000000e+00,   1.00000000e+00,\n",
      "         0.00000000e+00,   0.00000000e+00,   0.00000000e+00,\n",
      "         0.00000000e+00,   0.00000000e+00])]\n"
     ]
    }
   ],
   "source": [
    "def normalizeData(data):\n",
    "    # number of connections\n",
    "    n = data.count()\n",
    "\n",
    "    # calculate the sum of each feature\n",
    "#     sums = data.reduce(add)\n",
    "\n",
    "    # calculate means\n",
    "#     means = sums / n\n",
    "\n",
    "    # calculate the sum square of each feature\n",
    "#     sumSquares = np.array(data.map(lambda v: v**2).reduce(add))\n",
    "\n",
    "    # calculate standard deviation of each feature\n",
    "#     stdevs = sumSquares / n - means ** 2\n",
    "    \n",
    "    means = data.reduce(add) / n\n",
    "    \n",
    "    vars_ = data.map(lambda x: (x - means)**2).reduce(add) / n\n",
    "    stdevs = np.sqrt(vars_)\n",
    "    \n",
    "    stdevs[stdevs==0] = 1\n",
    "\n",
    "    def normalize(point):\n",
    "        return (point - means) / stdevs\n",
    "    return data.map(normalize)\n",
    "\n",
    "normalizedData = normalizeData(data).cache()\n",
    "print(normalizedData.take(2))\n",
    "print(data.take(2))"
   ]
  },
  {
   "cell_type": "code",
   "execution_count": 59,
   "metadata": {
    "collapsed": true
   },
   "outputs": [],
   "source": [
    "def normalizeData2(data, data2):\n",
    "    # number of connections\n",
    "    n = data.count()\n",
    "\n",
    "    means = data.reduce(add) / n\n",
    "    \n",
    "    vars_ = data.map(lambda x: (x - means)**2).reduce(add) / n\n",
    "    stdevs = np.sqrt(vars_)\n",
    "    \n",
    "    stdevs[stdevs==0] = 1\n",
    "\n",
    "    def normalize(point):\n",
    "        return (point - means) / stdevs\n",
    "    return data2.map(normalize)"
   ]
  },
  {
   "cell_type": "markdown",
   "metadata": {},
   "source": [
    "![](https://farm2.staticflickr.com/1604/24934700445_833f0a5649_t.jpg)"
   ]
  },
  {
   "cell_type": "markdown",
   "metadata": {},
   "source": [
    "<div class='anchor' ></div>\n",
    "\n",
    "#### Question 8\n",
    "Using the new data, build different models with different values of $k \\in [60,70,80,90,100,110]$. Evaluate the results by plotting them and choose the best value of $k$."
   ]
  },
  {
   "cell_type": "markdown",
   "metadata": {},
   "source": [
    "```python\n",
    "scores = ...\n",
    "for score in scores:\n",
    "    print(score)\n",
    "\n",
    "plt...\n",
    "```"
   ]
  },
  {
   "cell_type": "code",
   "execution_count": 25,
   "metadata": {
    "collapsed": false
   },
   "outputs": [
    {
     "name": "stdout",
     "output_type": "stream",
     "text": [
      "13428.588817861917\n",
      "26586.44539596379\n",
      "18520.0580113469\n",
      "10282.671313141745\n",
      "12240.257631897006\n",
      "12229.312684687848\n"
     ]
    },
    {
     "data": {
      "text/plain": [
       "[<matplotlib.lines.Line2D at 0x7f951c746198>]"
      ]
     },
     "execution_count": 25,
     "metadata": {},
     "output_type": "execute_result"
    },
    {
     "data": {
      "image/png": "[encoded data removed]",
      "text/plain": [
       "<matplotlib.figure.Figure at 0x7f951c7b3898>"
      ]
     },
     "metadata": {},
     "output_type": "display_data"
    }
   ],
   "source": [
    "k_range = range(60, 111, 10)\n",
    "\n",
    "scores = [clusteringScore(normalizedData, k) for k in k_range]\n",
    "for score in scores:\n",
    "    print(score)\n",
    "\n",
    "plt.plot(k_range, scores)"
   ]
  },
  {
   "cell_type": "markdown",
   "metadata": {},
   "source": [
    "<div class='answer'>\n",
    "Random initialization and number of runs to have a global minimum of the error and not a local minimum. Trying different values of k randomly is definitely not a good idea to choose k, the measurement is not good.\n",
    "But we cannot those result because the error is suppose to decrease if k increases. Because the centroids of a model with a bigger k can have the same positions as the centroids of a lower k. And there is still some centroids to place to even decrease the error. Here it's not the case. We can conclude that the algorithm doesn't find the best centroids. To avoid this issue, we can increase the number of runs of change the initialisation strategy for the centroids (the current one is \"random\") \n",
    "</div>"
   ]
  },
  {
   "cell_type": "markdown",
   "metadata": {},
   "source": [
    "![](https://farm2.staticflickr.com/1604/24934700445_833f0a5649_t.jpg)"
   ]
  },
  {
   "cell_type": "markdown",
   "metadata": {},
   "source": [
    "<div class='anchor' ></div>\n",
    "\n",
    "#### Question 9\n",
    "Plot the clustering result to see the difference between before and after normalizing features. Discuss about the difference and explain why and if normalization was useful."
   ]
  },
  {
   "cell_type": "markdown",
   "metadata": {},
   "source": [
    "We will see later a better way to choose k."
   ]
  },
  {
   "cell_type": "code",
   "execution_count": 44,
   "metadata": {
    "collapsed": true
   },
   "outputs": [],
   "source": [
    "bestK = 90"
   ]
  },
  {
   "cell_type": "markdown",
   "metadata": {},
   "source": [
    "We will use the same plotting method than in Q3, except than now we have more than 2 clusters. And it could be a mess to plot such a number of clusters in the same plots (can we distinguish 100 hundred different colors at a first glance?). We would like to plot several points from each clusters, let's say 10 points per cluster, but the other constraint and more important is to plot the same points before and after normalization and it is likely that a given set of points will not be clustered the same way. So the first step will be to take some samples of the whole datasets (let's say 0.1% which is ~5k points) and plot these points before and after normalization."
   ]
  },
  {
   "cell_type": "markdown",
   "metadata": {},
   "source": [
    "We have computed the variances already in Q3"
   ]
  },
  {
   "cell_type": "code",
   "execution_count": null,
   "metadata": {
    "collapsed": true
   },
   "outputs": [],
   "source": [
    "vars_ = getVars(data)\n",
    "# take the indices of the features that vary the most\n",
    "indices_to_project = [t[0] for t in sorted(enumerate(vars_), key=lambda x: x[1])[-3:]]"
   ]
  },
  {
   "cell_type": "markdown",
   "metadata": {},
   "source": [
    "Select a small percentage of the data"
   ]
  },
  {
   "cell_type": "code",
   "execution_count": 62,
   "metadata": {
    "collapsed": false,
    "scrolled": true
   },
   "outputs": [],
   "source": [
    "data_to_project = data.randomSplit([1, 999])[0].cache()"
   ]
  },
  {
   "cell_type": "markdown",
   "metadata": {},
   "source": [
    "Before normalization"
   ]
  },
  {
   "cell_type": "code",
   "execution_count": 63,
   "metadata": {
    "collapsed": false,
    "scrolled": false
   },
   "outputs": [
    {
     "name": "stderr",
     "output_type": "stream",
     "text": [
      "/opt/conda/lib/python3.4/site-packages/matplotlib/collections.py:590: FutureWarning: elementwise comparison failed; returning scalar instead, but in the future will perform elementwise comparison\n",
      "  if self._edgecolors == str('face'):\n"
     ]
    },
    {
     "data": {
      "text/plain": [
       "<matplotlib.text.Text at 0x7fcbf26b5390>"
      ]
     },
     "execution_count": 63,
     "metadata": {},
     "output_type": "execute_result"
    },
    {
     "data": {
      "image/png": "[encoded data removed]",
      "text/plain": [
       "<matplotlib.figure.Figure at 0x7fcc54e379e8>"
      ]
     },
     "metadata": {},
     "output_type": "display_data"
    }
   ],
   "source": [
    "clusters = KMeans.train(data, bestK, maxIterations=10, runs=10, initializationMode=\"random\")\n",
    "\n",
    "data_to_project_list = data_to_project.collect()\n",
    "data_projected = np.array([[point[i] for i in indices_to_project] for point in data_to_project_list])\n",
    "labels = [clusters.predict(point) for point in data_to_project_list]\n",
    "\n",
    "# Take the extrema values\n",
    "M = max(data_projected.flatten())\n",
    "m = min(data_projected.flatten())\n",
    "\n",
    "# Do the plot\n",
    "fig = plt.figure(figsize=(8, 8))\n",
    "ax = fig.add_subplot(111, projection='3d')\n",
    "ax.scatter(data_projected[:, 0], data_projected[:, 1], data_projected[:, 2], c=labels)\n",
    "ax.set_xlim(m, M)\n",
    "ax.set_ylim(m, M)\n",
    "ax.set_zlim(m, M)\n",
    "ax.set_title(\"Before normalization\")"
   ]
  },
  {
   "cell_type": "markdown",
   "metadata": {},
   "source": [
    "After normalization:"
   ]
  },
  {
   "cell_type": "code",
   "execution_count": 84,
   "metadata": {
    "collapsed": false
   },
   "outputs": [
    {
     "name": "stderr",
     "output_type": "stream",
     "text": [
      "/opt/conda/lib/python3.4/site-packages/matplotlib/collections.py:590: FutureWarning: elementwise comparison failed; returning scalar instead, but in the future will perform elementwise comparison\n",
      "  if self._edgecolors == str('face'):\n"
     ]
    },
    {
     "data": {
      "text/plain": [
       "<matplotlib.text.Text at 0x7fcc54caa710>"
      ]
     },
     "execution_count": 84,
     "metadata": {},
     "output_type": "execute_result"
    },
    {
     "data": {
      "image/png": "[encoded data removed]",
      "text/plain": [
       "<matplotlib.figure.Figure at 0x7fcc54c78eb8>"
      ]
     },
     "metadata": {},
     "output_type": "display_data"
    }
   ],
   "source": [
    "clusters = KMeans.train(normalizedData, bestK, maxIterations=10, runs=10, initializationMode=\"random\")\n",
    "\n",
    "data_to_project_normed = normalizeData2(data, data_to_project).cache()\n",
    "data_to_project_normed = data_to_project_normed.collect()\n",
    "data_projected = np.array([[point[i] for i in indices_to_project] for point in data_to_project_normed])\n",
    "labels = [clusters.predict(point) for point in data_to_project_normed]\n",
    "\n",
    "# Take the extrema values\n",
    "M = max(data_projected.flatten())\n",
    "m = min(data_projected.flatten())\n",
    "\n",
    "# Do the plot\n",
    "fig = plt.figure(figsize=(8, 8))\n",
    "ax = fig.add_subplot(111, projection='3d')\n",
    "ax.scatter(data_projected[:, 0], data_projected[:, 1], data_projected[:, 2], c=labels)\n",
    "ax.set_xlim(m, M)\n",
    "ax.set_ylim(m, M)\n",
    "ax.set_zlim(m, M)\n",
    "ax.set_title(\"After normalization\")"
   ]
  },
  {
   "cell_type": "markdown",
   "metadata": {},
   "source": [
    "<div class=\"comment\">\n",
    "Before normalization, a dimension has a very high variance. Because of that, the KMeans algorithm gives a lot more importance to this dimension than the others. we can see that only two points are blue and a lot more are yellow. And also that it's determined only based on one dimension. <br>\n",
    "<br>\n",
    "But now we see that even if some points look close to each other, they belong to different clusters because this time, other dimensions (that we don't see here in our plot) are taken into account. So this time, all the features matter.\n",
    "</div>"
   ]
  },
  {
   "cell_type": "markdown",
   "metadata": {},
   "source": [
    "## 2.3. Clustering using categorical features"
   ]
  },
  {
   "cell_type": "markdown",
   "metadata": {},
   "source": [
    "### 2.3.1 Loading data\n",
    "\n",
    "In the previous section, we ignored the categorical features of our data: this is not a good idea, since these categorical features can be important in providing useful information for clustering.\n",
    "The problem is that K-means (or at least, the one we have developed and the one we use from MLLib) only work with data points in a metric space. Informally, this means that operations such as addition, substraction and computing the mean of data points are trivial and well defined. For a more formal definition of what a metric space is, follow this [link](https://en.wikipedia.org/wiki/Metric_space#Definition).\n",
    "\n",
    "What we will do next is to transform each categorical features into one or more numerical features. This approach is very widespread: imagine for example you wanted to use K-means to cluster text data. Then, the idea is to transform text data in $d$-dimensional vectors, and a nice way to do it is to use [word2vec](http://deeplearning4j.org/word2vec). If you're interested, follow this link to a nice [blog post](http://bigdatasciencebootcamp.com/posts/Part_3/clustering_news.html) on the problem.\n",
    "\n",
    "There are two approaches:\n",
    "\n",
    "* **Approach 1**: mapping **one** categorial feature to **one** numerical feature. The values in each categorical feature are encoded into unique numbers of the new numerical feature. For example, ['VERY HOT','HOT', 'COOL', 'COLD', 'VERY COLD'] will be encoded into [0,1,2,3,4,5]. However, by using this method, we implicit assume that the value of 'VERY HOT' is smaller than 'HOT'... This is not generally true.\n",
    "\n",
    "* **Approach 2**: mapping mapping **one** categorial feature to **multiple** numerical features. Basically, a single variable with $n$ observations and $d$ distinct values, to $d$ binary variables with $n$ observations each. Each observation indicating the presence (1) or absence (0) of the $d^{th}$ binary variable. For example, ['house', 'car', 'tooth', 'car'] becomes \n",
    "```\n",
    "[\n",
    "[1,0,0,0],\n",
    "[0,1,0,0],\n",
    "[0,0,1,0],\n",
    "[0,0,0,1],\n",
    "]\n",
    "```\n",
    "\n",
    "We call the second approach \"one-hot encoding\". By using this approach, we keep the same role for all values of categorical features.\n",
    "\n"
   ]
  },
  {
   "cell_type": "markdown",
   "metadata": {},
   "source": [
    "![](https://farm2.staticflickr.com/1604/24934700445_833f0a5649_t.jpg)"
   ]
  },
  {
   "cell_type": "markdown",
   "metadata": {},
   "source": [
    "<div class='anchor' ></div>\n",
    "\n",
    "#### Question 10\n",
    "Calculate the number of distinct categorical features value (at index `1,2,3`). Then construct a new input data using one-hot encoding for these categorical features (don't throw away numerical features!)."
   ]
  },
  {
   "cell_type": "markdown",
   "metadata": {},
   "source": [
    "```python\n",
    "def parseLineWithHotEncoding(line):\n",
    "    cols = line...\n",
    "    # label is the last column\n",
    "    label = ...\n",
    "    \n",
    "    vector = cols[0:-1]\n",
    "    \n",
    "    # the binary features that are encoded from the first categorial feature\n",
    "    featureOfCol1 = ...\n",
    "    # the binary features that are encoded from the second categorial feature\n",
    "    featureOfCol2 = ...\n",
    "    # the binary features that are encoded from the third categorial feature\n",
    "    featureOfCol3 = ...\n",
    "    \n",
    "    # construct the new vector\n",
    "    vector = ([vector[0]] + featureOfCol1 + featureOfCol2 + \n",
    "        featureOfCol3 + vector[4:])\n",
    "    \n",
    "    # convert each value from string to float\n",
    "    vector = np.array(...)\n",
    "    \n",
    "    return (label, vector)\n",
    "\n",
    "labelsAndData = raw_data.map(parseLine)\n",
    "\n",
    "# we only need the data, not the label\n",
    "data = labelsAndData.values().cache()\n",
    "\n",
    "\n",
    "normalizedData = normalizeData(data).cache()\n",
    "```"
   ]
  },
  {
   "cell_type": "markdown",
   "metadata": {},
   "source": [
    "First, we need to know the different distinct values that each categorical feature can take, and especially how many:"
   ]
  },
  {
   "cell_type": "code",
   "execution_count": 491,
   "metadata": {
    "collapsed": false
   },
   "outputs": [],
   "source": [
    "featureCol1 = raw_data.map(lambda line: line.split(\",\")[1]).distinct().collect()\n",
    "featureCol2 = raw_data.map(lambda line: line.split(\",\")[2]).distinct().collect()\n",
    "featureCol3 = raw_data.map(lambda line: line.split(\",\")[3]).distinct().collect()"
   ]
  },
  {
   "cell_type": "code",
   "execution_count": 23,
   "metadata": {
    "collapsed": false
   },
   "outputs": [
    {
     "name": "stdout",
     "output_type": "stream",
     "text": [
      "[  0.00000000e+00   2.48680000e+04   3.50832000e+05   0.00000000e+00\n",
      "   0.00000000e+00   0.00000000e+00   1.00000000e+00   0.00000000e+00\n",
      "   1.01000000e+02   0.00000000e+00   0.00000000e+00   0.00000000e+00\n",
      "   0.00000000e+00   0.00000000e+00   0.00000000e+00   0.00000000e+00\n",
      "   0.00000000e+00   0.00000000e+00   0.00000000e+00   7.79000000e+02\n",
      "   1.03300000e+03   0.00000000e+00   0.00000000e+00   0.00000000e+00\n",
      "   0.00000000e+00   1.01000000e+02   0.00000000e+00   5.51000000e+00\n",
      "   7.78300000e+03   2.26050000e+04   1.01000000e+02   0.00000000e+00\n",
      "   9.05000000e+00   3.15000000e+00   0.00000000e+00   0.00000000e+00\n",
      "   0.00000000e+00   0.00000000e+00]\n"
     ]
    }
   ],
   "source": [
    "def parseLineWithHotEncoding(line):\n",
    "    cols = line.split(',')\n",
    "    # label is the last column\n",
    "    label = cols[-1]\n",
    "    \n",
    "    vector = cols[0:-1]\n",
    "    \n",
    "    # the binary features that are encoded from the first categorial feature\n",
    "    featureOfCol1 = [0]*len(featureCol1)\n",
    "    featureOfCol1[featureCol1.index(vector[1])] = 1\n",
    "    # the binary features that are encoded from the second categorial feature\n",
    "    featureOfCol2 = [0]*len(featureCol2)\n",
    "    featureOfCol2[featureCol1.index(vector[2])] = 1\n",
    "    # the binary features that are encoded from the third categorial feature\n",
    "    featureOfCol3 = [0]*len(featureCol3)\n",
    "    featureOfCol3[featureCol1.index(vector[3])] = 1\n",
    "    \n",
    "    # construct the new vector\n",
    "    vector = ([vector[0]] + featureOfCol1 + featureOfCol2 + \n",
    "        featureOfCol3 + vector[4:])\n",
    "    \n",
    "    # convert each value from string to float\n",
    "    vector = np.array(vector, dtype=np.float)\n",
    "    \n",
    "    return (label, vector)\n",
    "\n",
    "labelsAndData = raw_data.map(parseLineWithHotEncoding)\n",
    "\n",
    "# we only need the data, not the label\n",
    "data = labelsAndData.values().cache()\n",
    "\n",
    "normalizedData = normalizeData(data).cache()"
   ]
  },
  {
   "cell_type": "code",
   "execution_count": null,
   "metadata": {
    "collapsed": true
   },
   "outputs": [],
   "source": [
    "len(normalizeData.first())"
   ]
  },
  {
   "cell_type": "markdown",
   "metadata": {},
   "source": [
    "We have to be careful here since there are a lot more dimentions than before"
   ]
  },
  {
   "cell_type": "markdown",
   "metadata": {},
   "source": [
    "### 2.3.2. Building models"
   ]
  },
  {
   "cell_type": "markdown",
   "metadata": {},
   "source": [
    "![](https://farm2.staticflickr.com/1604/24934700445_833f0a5649_t.jpg)"
   ]
  },
  {
   "cell_type": "markdown",
   "metadata": {},
   "source": [
    "<div class='anchor' ></div>\n",
    "#### Question 11\n",
    "Using the new data, cluster the connections with different values of $k \\in [80,90,100,110,120,130,140,150,160]$.\n",
    "Evaluate the results and choose the best value of $k$ as previous questions."
   ]
  },
  {
   "cell_type": "markdown",
   "metadata": {},
   "source": [
    "```python\n",
    "scores = list(...)\n",
    "plt....\n",
    "```"
   ]
  },
  {
   "cell_type": "code",
   "execution_count": null,
   "metadata": {
    "collapsed": true
   },
   "outputs": [],
   "source": [
    "k_range = range(80, 161, 10)\n",
    "\n",
    "scores = [clusteringScore(normalizedData, k) for k in k_range]\n",
    "plt.plot(k_range, scores)"
   ]
  },
  {
   "cell_type": "markdown",
   "metadata": {},
   "source": [
    "<div class=\"answer\">\n",
    "Here, knowing that we have nearly 4 millions entries, more that a hundred dimentions, around a hundred cluster every time and that the KMeans algorithm as a complexity proportional to those 3 values, it'll take a very long time to compute this. We stopped after half an hour. We'll try later if we have the time.\n",
    "\n",
    "</div>"
   ]
  },
  {
   "cell_type": "markdown",
   "metadata": {
    "collapsed": false
   },
   "source": [
    "## 2.4. Anomaly detection\n",
    "When we have a new connection data (e.g., one that we never saw before), we simply find the closest cluster for it, and use this information as a proxy to indicate whether the data point is anomalous or not. A simple approach to decide wheter there is an anomaly or not, amounts to measuring the new data point’s distance to its nearest centroid. If this distance exceeds some thresholds, it is anomalous."
   ]
  },
  {
   "cell_type": "markdown",
   "metadata": {},
   "source": [
    "![](https://farm2.staticflickr.com/1604/24934700445_833f0a5649_t.jpg)"
   ]
  },
  {
   "cell_type": "markdown",
   "metadata": {},
   "source": [
    "<div class='anchor' ></div>\n",
    "\n",
    "#### Question 12\n",
    "Build your model with the best value of $k$ in your opinion. Then, detect the anomalous connections in our data. Plot and discuss your result.\n",
    "\n",
    "HINT: The threshold has strong impact on the result. Be careful when choosing it! A simple way to choose the threshold's value is picking up a distance of a data point from among known data. For example, the 100th-farthest data point distance can be an option."
   ]
  },
  {
   "cell_type": "code",
   "execution_count": 25,
   "metadata": {
    "collapsed": false,
    "scrolled": true
   },
   "outputs": [
    {
     "name": "stderr",
     "output_type": "stream",
     "text": [
      "C:\\spark-1.6.1-bin-hadoop2.6\\python\\pyspark\\mllib\\clustering.py:176: UserWarning: Support for runs is deprecated in 1.6.0. This param will have no effect in 1.7.0.\n",
      "  \"Support for runs is deprecated in 1.6.0. This param will have no effect in 1.7.0.\")\n"
     ]
    },
    {
     "data": {
      "text/plain": [
       "[<matplotlib.lines.Line2D at 0x2b5e994bb70>]"
      ]
     },
     "execution_count": 25,
     "metadata": {},
     "output_type": "execute_result"
    },
    {
     "data": {
      "image/png": "[encoded data removed]",
      "text/plain": [
       "<matplotlib.figure.Figure at 0x2b5e975d438>"
      ]
     },
     "metadata": {},
     "output_type": "display_data"
    }
   ],
   "source": [
    "clusters = KMeans.train(data, 100, maxIterations=10, runs=10, initializationMode=\"random\")\n",
    "\n",
    "anomalous = normalizedData.map(lambda point: (point, error(clusters, point))).takeOrdered(100, lambda key: key[1])\n",
    "plt.plot([anomaly[1] for anomaly in anomalous])"
   ]
  },
  {
   "cell_type": "markdown",
   "metadata": {},
   "source": [
    "Based on this graph, there are several floors that we can use to choose the threshold: <br>\n",
    "75200 and there would be ~10 anomalous connections<br>\n",
    "75900 and there would be ~35 anomalous connections<br>\n",
    "78200 and there would be ~65 anomalous connections<br>\n",
    "78800 and there would be ~78 anomalous connections<br>\n",
    "82800 and there would be ~95 anomalous connections<br>\n",
    "<br>\n",
    "<br>\n",
    "In this case, we would choose the threshold depending on the manpower we have to check by hand all the anomalies.<br>\n",
    "Because we don't have anything exept for the labels to tell us if we're doing good or not. <br>\n",
    "We'll see how to use the labels in the next question.<br>"
   ]
  },
  {
   "cell_type": "markdown",
   "metadata": {},
   "source": [
    "![](https://farm2.staticflickr.com/1604/24934700445_833f0a5649_t.jpg)"
   ]
  },
  {
   "cell_type": "markdown",
   "metadata": {
    "collapsed": true
   },
   "source": [
    "<div class='anchor' ></div>\n",
    "\n",
    "#### Question 13\n",
    "Try other methods to find the best value for $k$ such as `silhouette`, `entropy`... In particular, with this data, you can take advantage of predefined labels to calculate the quality of model using entropy... However, we suggest you to try with `silhouette`. It's more general and can work with any dataset (with and without predefined labels).\n",
    "\n",
    "Here are some additional information about the metrics we suggest to use:\n",
    "- [Silhouette](https://en.wikipedia.org/wiki/Silhouette_(clustering))\n",
    "- [Hack approach to Silhouette](http://scikit-learn.org/stable/auto_examples/cluster/plot_kmeans_silhouette_analysis.html)\n",
    "- [Entropy](http://scikit-learn.org/stable/modules/clustering.html) [Lookup for entropy]\n",
    "\n",
    "Note: you are free to play with any relevant evaluation metric you think appropriate for your work!"
   ]
  },
  {
   "cell_type": "markdown",
   "metadata": {},
   "source": [
    "We need to define a *euclidean_distance* function faster than before"
   ]
  },
  {
   "cell_type": "code",
   "execution_count": 542,
   "metadata": {
    "collapsed": true
   },
   "outputs": [],
   "source": [
    "def euclidean_distance(a, b):\n",
    "    c = a - b\n",
    "    return np.sqrt(c.T.dot(c))"
   ]
  },
  {
   "cell_type": "code",
   "execution_count": 34,
   "metadata": {
    "collapsed": true
   },
   "outputs": [],
   "source": [
    "import time\n",
    "\n",
    "def get_s(a,b): return (b-a)/np.max([a,b])\n",
    "\n",
    "def silhouetteDistributed(data, centroids):\n",
    "    t1 = time.time()\n",
    "    bCentroids = sc.broadcast(centroids)\n",
    "    dataWithIndexes = data.zipWithIndex()\n",
    "    cart = dataWithIndexes.cartesian(data)\n",
    "    \n",
    "    # Now cart is a rdd of ((point 1, index point 1),point 2)\n",
    "    \n",
    "    # We find the clusters to which the points belong, and the distance\n",
    "    pointsClustersDistances = cart.map(lambda x: \\\n",
    "        (x[0][1], bCentroids.value.predict(x[0][0]),bCentroids.value.predict(x[1]), euclidean_distance(x[0][0], x[1])))\n",
    "    \n",
    "    # Now the rdd contain the following tuple:\n",
    "    # (index point 1, cluster of point 1, cluster of point 2, distance)\n",
    "    \n",
    "    # Now we use as key the first point index and the second cluster to do a reduceByKey operation.\n",
    "    preparedRDD = pointsClustersDistances.map(lambda x: ((x[0],x[1],x[2]),np.array((x[3],1))))\n",
    "    \n",
    "    #reduceByKey\n",
    "    sumDistances = preparedRDD.reduceByKey(add)\n",
    "    \n",
    "    # map to get the average dissimilarity\n",
    "    means = sumDistances.map(lambda x: x[0] + (x[1][0]/x[1][1],))\n",
    "    \n",
    "    # The RDD means contain: (index point 1, cluster of point 1, cluster of point 2, average dissimilarity to cluster 2 )\n",
    "    \n",
    "    # separate rdd into two\n",
    "    kv_rdd = means.map(lambda x: (x, x[1]==x[2]))\n",
    "    kv_rdd.cache()\n",
    "\n",
    "    rdd1 = kv_rdd.filter(lambda kv: kv[1]).keys()\n",
    "    rdd2 = kv_rdd.filter(lambda kv: not kv[1]).keys()\n",
    "    \n",
    "    # Now we find the minimum for each point:\n",
    "    pointAsKey = rdd2.map(lambda x: (x[0],x[3]))\n",
    "    b = pointAsKey.reduceByKey(lambda v1,v2: np.min((v1,v2)))\n",
    "    a = rdd1.map(lambda x:(x[0],x[3]))\n",
    "    \n",
    "    # join by point\n",
    "    \n",
    "    a_And_b = a.join(b).values()\n",
    "    \n",
    "    # calculate s(i)  (map operation)\n",
    "    s = a_And_b.map(lambda x: get_s(x[0], x[1]))\n",
    "    \n",
    "    result = s.mean()\n",
    "    kv_rdd.unpersist()\n",
    "    \n",
    "    print(time.time() - t1, \"secondes\")\n",
    "    return result"
   ]
  },
  {
   "cell_type": "markdown",
   "metadata": {},
   "source": [
    "Since it has a great complexity, we'll run it on 500 connections to see how fast this distributed version of silhouette is."
   ]
  },
  {
   "cell_type": "code",
   "execution_count": 36,
   "metadata": {
    "collapsed": false,
    "scrolled": true
   },
   "outputs": [
    {
     "name": "stdout",
     "output_type": "stream",
     "text": [
      "First map done\n",
      "First reduce done\n",
      "Second map done\n",
      "((5, 22, 18, 279.04838361832526), False)\n",
      "Split done\n",
      "(0, 498.96092291881939)\n",
      "(83, 0.0)\n",
      "Third map done\n",
      "Join done\n",
      "(0.0, 498.96092291881939)\n",
      "1.0\n",
      "3004.2015936374664 secondes\n"
     ]
    },
    {
     "data": {
      "text/plain": [
       "0.85477430966497303"
      ]
     },
     "execution_count": 36,
     "metadata": {},
     "output_type": "execute_result"
    }
   ],
   "source": [
    "silhouetteDistributed(data, clusters)"
   ]
  },
  {
   "cell_type": "markdown",
   "metadata": {},
   "source": [
    "Since it takes 3000 seconds to run it on only 500 connections, we won't try to use it with the full dataset. <br>\n",
    "Instead, we'll code this algorithm so that it can run locally, without the spark overhead it's quite possible that it'll be faster. "
   ]
  },
  {
   "cell_type": "code",
   "execution_count": 21,
   "metadata": {
    "collapsed": true
   },
   "outputs": [],
   "source": [
    "def getClosestCentroid(centroides, point):\n",
    "    # Get the distances between the centroides and the point\n",
    "    distances = [euclidean_distance(centroid,point) for centroid in centroides]\n",
    "    index = np.argmin(distances)\n",
    "    distance = np.min(distances)\n",
    "    centroid = centroides[int(index)]\n",
    "    return centroid, distance, index\n",
    "\n",
    "\n",
    "\n",
    "def averageDissimilarity(point, pointsInCluster):\n",
    "    distances = [euclidean_distance(point, pointOfCluster) for pointOfCluster in pointsInCluster]\n",
    "    return np.mean(distances)\n",
    "\n",
    "def silhouette(data, centroids):\n",
    "    t1 = time.time()\n",
    "    listPoints = data.collect()\n",
    "    centers = centroids.centers\n",
    "    \n",
    "    clustersDict = dict()\n",
    "    for i in range(len(centers)):\n",
    "        clustersDict[i] = []\n",
    "    \n",
    "    pointsAndCluster = []\n",
    "    print(\"first part\")\n",
    "    for point in listPoints:\n",
    "        cluster = getClosestCentroid(centers, point)[2]\n",
    "        pointsAndCluster += [(point, cluster)]\n",
    "        clustersDict[cluster] += [point]\n",
    "        \n",
    "    s = []\n",
    "    \n",
    "    print(\"second part\")\n",
    "    for point, cluster in pointsAndCluster:\n",
    "        a = averageDissimilarity(point, clustersDict[cluster])\n",
    "        b = float(\"inf\")\n",
    "        for key, value in clustersDict.items():\n",
    "            if key!=cluster:\n",
    "                dissimilarity = averageDissimilarity(point, value)\n",
    "                if dissimilarity < b:\n",
    "                    b = dissimilarity\n",
    "        s += [get_s(a,b)]\n",
    "        \n",
    "    print(time.time() - t1, \"secondes\")\n",
    "    print(s[0])\n",
    "    return np.mean(s)"
   ]
  },
  {
   "cell_type": "code",
   "execution_count": null,
   "metadata": {
    "collapsed": false,
    "scrolled": false
   },
   "outputs": [
    {
     "name": "stdout",
     "output_type": "stream",
     "text": [
      "first part\n",
      "second part\n",
      "8.465025186538696 secondes\n",
      "0.920948783583\n"
     ]
    },
    {
     "data": {
      "text/plain": [
       "0.90733873033946144"
      ]
     },
     "execution_count": 22,
     "metadata": {},
     "output_type": "execute_result"
    }
   ],
   "source": [
    "silhouette(data, clusters)"
   ]
  },
  {
   "cell_type": "markdown",
   "metadata": {},
   "source": [
    "it takes 10 seconds to run with 500 connections. So, same as the the distributed version, we won't try to use it with the full dataset."
   ]
  },
  {
   "cell_type": "markdown",
   "metadata": {},
   "source": [
    "We see here how the entropy vary for different values of k:"
   ]
  },
  {
   "cell_type": "code",
   "execution_count": 90,
   "metadata": {
    "collapsed": true
   },
   "outputs": [],
   "source": [
    "# This is for the non-distributed version\n",
    "def update_count(dictionary, label):\n",
    "    if label in dictionary:\n",
    "        dictionary[label] += 1\n",
    "    else:\n",
    "        dictionary[label] = 1\n",
    "    return dictionary\n",
    "\n",
    "import math\n",
    "def get_partial_H(count, nbOfPointsInCluster):\n",
    "    p = count/nbOfPointsInCluster\n",
    "    return -p*np.log2(p)\n",
    "\n",
    "def entropyDistributed(labelsAndData, clusters, see = 0, weighted = True):\n",
    "    bClusters = sc.broadcast(clusters)\n",
    "    preparedRDD = labelsAndData.map(lambda x: ((x[0], bClusters.value.predict(x[1])),1) )\n",
    "    labelsAndClustersCount = preparedRDD.reduceByKey(add).cache()\n",
    "    # Our RDD has the following tuple: ((label, cluster), count)\n",
    "    \n",
    "    if see !=0:\n",
    "        print(labelsAndClustersCount.take(see))\n",
    "    \n",
    "    # Now we need to know how much points there is in each clusters:\n",
    "    clustersCount = labelsAndClustersCount.map(lambda x: (x[0][1], x[1])).reduceByKey(add).collect()\n",
    "    clusterCountDict = {key: value for key, value in clustersCount}\n",
    "    bClusterCountDict = sc.broadcast(clusterCountDict)\n",
    "    \n",
    "    # We compute the entropy generated by each label\n",
    "    partialEntropy = labelsAndClustersCount.map(lambda x: (x[0][1], get_partial_H(x[1], bClusterCountDict.value[x[0][1]]))   )\n",
    "    \n",
    "    clustersEntropy = partialEntropy.reduceByKey(add)\n",
    "    \n",
    "    if weighted:\n",
    "        rdd1 = clustersEntropy.map(lambda x: np.array((x[1]*bClusterCountDict.value[x[0]], bClusterCountDict.value[x[0]])))\n",
    "        scores_nbPoints = rdd1.reduce(add)\n",
    "        result = scores_nbPoints[0]/scores_nbPoints[1]\n",
    "    else:\n",
    "        result = clustersEntropy.values().mean()\n",
    "    \n",
    "    labelsAndClustersCount.unpersist()\n",
    "    return result"
   ]
  },
  {
   "cell_type": "code",
   "execution_count": 85,
   "metadata": {
    "collapsed": true
   },
   "outputs": [],
   "source": [
    "clusters = KMeans.train(data, 50, maxIterations=10, runs=10, initializationMode=\"random\")"
   ]
  },
  {
   "cell_type": "code",
   "execution_count": 91,
   "metadata": {
    "collapsed": false,
    "scrolled": false
   },
   "outputs": [
    {
     "data": {
      "text/plain": [
       "0.1440406626485374"
      ]
     },
     "execution_count": 91,
     "metadata": {},
     "output_type": "execute_result"
    }
   ],
   "source": [
    "entropyDistributed(labelsAndData, clusters,weighted = False)"
   ]
  },
  {
   "cell_type": "markdown",
   "metadata": {},
   "source": [
    "Now we'll try to get the lowest entropy possible. We can do this by using decision trees to do feature selection.<br>\n",
    "We do believe it's possible that some of the features are actually useless to cluster the sames attacks together.<br> By placing ourselves in a space where attacks of a certain type are close to each other, it'll make more sense to detect outliers. Because we'll be in a space were the positions of the connections have meaning."
   ]
  },
  {
   "cell_type": "code",
   "execution_count": 67,
   "metadata": {
    "collapsed": true
   },
   "outputs": [],
   "source": [
    "def toInts(row,categories):\n",
    "    mylist = []\n",
    "    mylist.append(float(row[0]))\n",
    "    mylist.append(categories[0].index(row[1]))\n",
    "    mylist.append(categories[1].index(row[2]))\n",
    "    mylist.append(categories[2].index(row[3]))\n",
    "    for string in row[4:-1]:\n",
    "        mylist.append(float(string))\n",
    "    return categories[3].index(row[-1]), mylist\n",
    "    \n",
    "    \n",
    "def map_to_ints(labelsAndData):\n",
    "    featureCol1 = labelsAndData.map(lambda line: line.split(\",\")[1]).distinct().collect()\n",
    "    featureCol2 = labelsAndData.map(lambda line: line.split(\",\")[2]).distinct().collect()\n",
    "    featureCol3 = labelsAndData.map(lambda line: line.split(\",\")[3]).distinct().collect()\n",
    "    labels = labelsAndData.map(lambda line: line.split(\",\")[-1]).distinct().collect()\n",
    "    b = sc.broadcast((featureCol1, featureCol2, featureCol3, labels))\n",
    "    return labelsAndData.map(lambda x: toInts(x.split(\",\"), b.value))"
   ]
  },
  {
   "cell_type": "code",
   "execution_count": 68,
   "metadata": {
    "collapsed": true
   },
   "outputs": [],
   "source": [
    "def create_labeled_point(rdd_row, feature_selection):\n",
    "    new_array = []\n",
    "    array = rdd_row[1]\n",
    "    for value, take in zip(array,feature_selection):\n",
    "        if take:\n",
    "            new_array.append(value)\n",
    "            \n",
    "    return LabeledPoint(rdd_row[0], new_array)\n",
    "\n",
    "def get_dictionnary(feature_selection):\n",
    "    lenghts = [(1,3),(2,70),(3,11)]\n",
    "    if feature_selection[0]:\n",
    "        start = 0\n",
    "    else:\n",
    "        start = 1\n",
    "        \n",
    "    return {(value[0] - start):value[1] for value, take in zip(lenghts, feature_selection[1:4])}"
   ]
  },
  {
   "cell_type": "markdown",
   "metadata": {},
   "source": [
    "We need a function that takes the debug_string (output of the decision tree) as parameter and returns the number of features that have been used."
   ]
  },
  {
   "cell_type": "code",
   "execution_count": 31,
   "metadata": {
    "collapsed": true
   },
   "outputs": [],
   "source": [
    "import re\n",
    "def find_nb_features(debug_string):\n",
    "    return len(np.unique(np.array(re.findall(r'feature [0-9]*', debug_string))))"
   ]
  },
  {
   "cell_type": "markdown",
   "metadata": {},
   "source": [
    "We will now train our decision tree to see if it is possible to select less features and still get a good classification."
   ]
  },
  {
   "cell_type": "code",
   "execution_count": 32,
   "metadata": {
    "collapsed": true
   },
   "outputs": [],
   "source": [
    "new_data1 = map_to_ints(raw_data)\n",
    "new_data = new_data1.map(lambda x: LabeledPoint(x[0],x[1])).cache()\n",
    "\n",
    "model = DecisionTree.trainClassifier(new_data, numClasses=23, categoricalFeaturesInfo=get_dictionnary([True]*41),\n",
    "                                     impurity='entropy', maxDepth=15, maxBins=70)\n",
    "predictions = model.predict(new_data.map(lambda x: x.features))\n",
    "labelsAndPredictions = new_data.map(lambda lp: lp.label).zip(predictions)\n",
    "testErr = labelsAndPredictions.filter(lambda x: x[0] != x[1]).count()/new_data.count()"
   ]
  },
  {
   "cell_type": "code",
   "execution_count": 33,
   "metadata": {
    "collapsed": false
   },
   "outputs": [
    {
     "data": {
      "text/plain": [
       "35"
      ]
     },
     "execution_count": 33,
     "metadata": {},
     "output_type": "execute_result"
    }
   ],
   "source": [
    "find_nb_features(model.toDebugString())"
   ]
  },
  {
   "cell_type": "code",
   "execution_count": 35,
   "metadata": {
    "collapsed": false
   },
   "outputs": [
    {
     "data": {
      "text/plain": [
       "99.99812184758753"
      ]
     },
     "execution_count": 35,
     "metadata": {},
     "output_type": "execute_result"
    }
   ],
   "source": [
    "100-testErr*100"
   ]
  },
  {
   "cell_type": "markdown",
   "metadata": {},
   "source": [
    "So we can classify the connnections with a 99.99% accuracy with only 35 features. It's really encouraging and it tells us that not all the features are important to understand the meaning of a connection."
   ]
  },
  {
   "cell_type": "code",
   "execution_count": 38,
   "metadata": {
    "collapsed": true
   },
   "outputs": [],
   "source": [
    "def run_decision_trees(raw_data):\n",
    "    \n",
    "    result = []\n",
    "    new_data1 = map_to_ints(raw_data)\n",
    "    new_data = new_data1.map(lambda x: LabeledPoint(x[0],x[1])).cache()\n",
    "    \n",
    "    for i in range(2,25):\n",
    "        \n",
    "        model = DecisionTree.trainClassifier(new_data, numClasses=23, categoricalFeaturesInfo=get_dictionnary([True]*41),\n",
    "                                             impurity='entropy', maxDepth=i, maxBins=70)\n",
    "        predictions = model.predict(new_data.map(lambda x: x.features))\n",
    "        labelsAndPredictions = new_data.map(lambda lp: lp.label).zip(predictions)\n",
    "        testErr = labelsAndPredictions.filter(lambda x: x[0] != x[1]).count()/new_data.count()\n",
    "        nbFeatures = find_nb_features(model.toDebugString())\n",
    "        result.append((i,nbFeatures, testErr))\n",
    "        \n",
    "    return result"
   ]
  },
  {
   "cell_type": "code",
   "execution_count": 39,
   "metadata": {
    "collapsed": false
   },
   "outputs": [],
   "source": [
    "list_results = run_decision_trees(raw_data)"
   ]
  },
  {
   "cell_type": "code",
   "execution_count": 44,
   "metadata": {
    "collapsed": false,
    "scrolled": true
   },
   "outputs": [
    {
     "data": {
      "text/plain": [
       "[(2, 3, 0.01208938127330976),\n",
       " (3, 6, 0.010009531623493318),\n",
       " (4, 7, 0.006923849697995133),\n",
       " (5, 12, 0.00378774346316198),\n",
       " (6, 20, 0.0006634777544074828),\n",
       " (7, 23, 0.000395841035629572),\n",
       " (8, 25, 0.00035909457538546525),\n",
       " (9, 28, 0.00011187255674316939),\n",
       " (10, 30, 8.410856455873319e-05),\n",
       " (11, 29, 6.532704043396753e-05),\n",
       " (12, 32, 3.552157823596984e-05),\n",
       " (13, 33, 2.9397168195285387e-05),\n",
       " (14, 33, 2.4089346160025526e-05),\n",
       " (15, 33, 2.1843729145107892e-05),\n",
       " (16, 31, 1.1023938073232021e-05),\n",
       " (17, 32, 7.145145047465198e-06),\n",
       " (18, 34, 6.124410040684456e-06),\n",
       " (19, 35, 5.716116037972159e-06),\n",
       " (20, 33, 5.5119690366160105e-06),\n",
       " (21, 34, 5.5119690366160105e-06),\n",
       " (22, 32, 8.37002705560209e-06),\n",
       " (23, 34, 5.716116037972159e-06),\n",
       " (24, 32, 5.716116037972159e-06)]"
      ]
     },
     "execution_count": 44,
     "metadata": {},
     "output_type": "execute_result"
    }
   ],
   "source": [
    "list_results"
   ]
  },
  {
   "cell_type": "code",
   "execution_count": 43,
   "metadata": {
    "collapsed": false,
    "scrolled": false
   },
   "outputs": [
    {
     "data": {
      "text/plain": [
       "[<matplotlib.lines.Line2D at 0x7f9571a02c18>]"
      ]
     },
     "execution_count": 43,
     "metadata": {},
     "output_type": "execute_result"
    },
    {
     "data": {
      "image/png": "[encoded data removed]",
      "text/plain": [
       "<matplotlib.figure.Figure at 0x7f951c78f7f0>"
      ]
     },
     "metadata": {},
     "output_type": "display_data"
    }
   ],
   "source": [
    "plt.plot([x[1] for x in list_results],[x[2] for x in list_results])"
   ]
  },
  {
   "cell_type": "markdown",
   "metadata": {},
   "source": [
    "We see here very encouraging results. But earlier, we saw that some attacks had only less than 10 connections associated. Our decision tree could classifie badly those connections and still have a very high 0/1 error score. To get a space that has some sense, it has to separate spacially all the labels without putting a label aside. We'll check that with a confusion matrix."
   ]
  },
  {
   "cell_type": "code",
   "execution_count": 86,
   "metadata": {
    "collapsed": false
   },
   "outputs": [],
   "source": [
    "new_data1 = map_to_ints(raw_data)\n",
    "new_data = new_data1.map(lambda x: LabeledPoint(x[0],x[1])).cache()\n",
    "model = DecisionTree.trainClassifier(new_data, numClasses=23, categoricalFeaturesInfo=get_dictionnary([True]*41),\n",
    "                                             impurity='entropy', maxDepth=17, maxBins=70)\n",
    "predictions = model.predict(new_data.map(lambda x: x.features))\n",
    "labelsAndPredictions = new_data.map(lambda lp: lp.label).zip(predictions)"
   ]
  },
  {
   "cell_type": "code",
   "execution_count": 87,
   "metadata": {
    "collapsed": true
   },
   "outputs": [],
   "source": [
    "def partition_mapping(iterator):\n",
    "    conf_mat = np.zeros([23,23])\n",
    "    for label, prediction in iterator:\n",
    "        conf_mat[prediction, label] += 1\n",
    "        \n",
    "    yield conf_mat\n",
    "\n",
    "def confusion_matrix(labelsAndPredictions):\n",
    "     return labelsAndPredictions.mapPartitions(partition_mapping).reduce(add)"
   ]
  },
  {
   "cell_type": "code",
   "execution_count": 88,
   "metadata": {
    "collapsed": false
   },
   "outputs": [],
   "source": [
    "conf_mat = confusion_matrix(labelsAndPredictions)"
   ]
  },
  {
   "cell_type": "code",
   "execution_count": 89,
   "metadata": {
    "collapsed": false
   },
   "outputs": [
    {
     "data": {
      "text/html": [
       "<div>\n",
       "<table border=\"1\" class=\"dataframe\">\n",
       "  <thead>\n",
       "    <tr style=\"text-align: right;\">\n",
       "      <th></th>\n",
       "      <th>0</th>\n",
       "      <th>1</th>\n",
       "      <th>2</th>\n",
       "      <th>3</th>\n",
       "      <th>4</th>\n",
       "      <th>5</th>\n",
       "      <th>6</th>\n",
       "      <th>7</th>\n",
       "      <th>8</th>\n",
       "      <th>9</th>\n",
       "      <th>10</th>\n",
       "      <th>11</th>\n",
       "    </tr>\n",
       "  </thead>\n",
       "  <tbody>\n",
       "    <tr>\n",
       "      <th>0</th>\n",
       "      <td>979</td>\n",
       "      <td>0</td>\n",
       "      <td>0</td>\n",
       "      <td>0</td>\n",
       "      <td>0</td>\n",
       "      <td>0</td>\n",
       "      <td>0</td>\n",
       "      <td>0</td>\n",
       "      <td>0</td>\n",
       "      <td>0</td>\n",
       "      <td>0</td>\n",
       "      <td>0</td>\n",
       "    </tr>\n",
       "    <tr>\n",
       "      <th>1</th>\n",
       "      <td>0</td>\n",
       "      <td>1015</td>\n",
       "      <td>0</td>\n",
       "      <td>0</td>\n",
       "      <td>0</td>\n",
       "      <td>0</td>\n",
       "      <td>0</td>\n",
       "      <td>0</td>\n",
       "      <td>0</td>\n",
       "      <td>0</td>\n",
       "      <td>12</td>\n",
       "      <td>0</td>\n",
       "    </tr>\n",
       "    <tr>\n",
       "      <th>2</th>\n",
       "      <td>0</td>\n",
       "      <td>0</td>\n",
       "      <td>2807886</td>\n",
       "      <td>0</td>\n",
       "      <td>0</td>\n",
       "      <td>0</td>\n",
       "      <td>0</td>\n",
       "      <td>0</td>\n",
       "      <td>0</td>\n",
       "      <td>0</td>\n",
       "      <td>0</td>\n",
       "      <td>0</td>\n",
       "    </tr>\n",
       "    <tr>\n",
       "      <th>3</th>\n",
       "      <td>0</td>\n",
       "      <td>0</td>\n",
       "      <td>0</td>\n",
       "      <td>3</td>\n",
       "      <td>0</td>\n",
       "      <td>0</td>\n",
       "      <td>0</td>\n",
       "      <td>0</td>\n",
       "      <td>0</td>\n",
       "      <td>0</td>\n",
       "      <td>0</td>\n",
       "      <td>0</td>\n",
       "    </tr>\n",
       "    <tr>\n",
       "      <th>4</th>\n",
       "      <td>0</td>\n",
       "      <td>0</td>\n",
       "      <td>0</td>\n",
       "      <td>0</td>\n",
       "      <td>21</td>\n",
       "      <td>0</td>\n",
       "      <td>0</td>\n",
       "      <td>0</td>\n",
       "      <td>0</td>\n",
       "      <td>0</td>\n",
       "      <td>5</td>\n",
       "      <td>0</td>\n",
       "    </tr>\n",
       "    <tr>\n",
       "      <th>5</th>\n",
       "      <td>0</td>\n",
       "      <td>0</td>\n",
       "      <td>0</td>\n",
       "      <td>0</td>\n",
       "      <td>0</td>\n",
       "      <td>12</td>\n",
       "      <td>0</td>\n",
       "      <td>0</td>\n",
       "      <td>0</td>\n",
       "      <td>0</td>\n",
       "      <td>0</td>\n",
       "      <td>0</td>\n",
       "    </tr>\n",
       "    <tr>\n",
       "      <th>6</th>\n",
       "      <td>0</td>\n",
       "      <td>0</td>\n",
       "      <td>0</td>\n",
       "      <td>0</td>\n",
       "      <td>0</td>\n",
       "      <td>0</td>\n",
       "      <td>2</td>\n",
       "      <td>0</td>\n",
       "      <td>0</td>\n",
       "      <td>0</td>\n",
       "      <td>0</td>\n",
       "      <td>0</td>\n",
       "    </tr>\n",
       "    <tr>\n",
       "      <th>7</th>\n",
       "      <td>0</td>\n",
       "      <td>0</td>\n",
       "      <td>0</td>\n",
       "      <td>0</td>\n",
       "      <td>0</td>\n",
       "      <td>0</td>\n",
       "      <td>0</td>\n",
       "      <td>264</td>\n",
       "      <td>0</td>\n",
       "      <td>0</td>\n",
       "      <td>3</td>\n",
       "      <td>0</td>\n",
       "    </tr>\n",
       "    <tr>\n",
       "      <th>8</th>\n",
       "      <td>0</td>\n",
       "      <td>0</td>\n",
       "      <td>0</td>\n",
       "      <td>0</td>\n",
       "      <td>0</td>\n",
       "      <td>0</td>\n",
       "      <td>0</td>\n",
       "      <td>0</td>\n",
       "      <td>53</td>\n",
       "      <td>0</td>\n",
       "      <td>0</td>\n",
       "      <td>0</td>\n",
       "    </tr>\n",
       "    <tr>\n",
       "      <th>9</th>\n",
       "      <td>0</td>\n",
       "      <td>0</td>\n",
       "      <td>0</td>\n",
       "      <td>0</td>\n",
       "      <td>0</td>\n",
       "      <td>0</td>\n",
       "      <td>0</td>\n",
       "      <td>0</td>\n",
       "      <td>0</td>\n",
       "      <td>4</td>\n",
       "      <td>0</td>\n",
       "      <td>0</td>\n",
       "    </tr>\n",
       "    <tr>\n",
       "      <th>10</th>\n",
       "      <td>0</td>\n",
       "      <td>5</td>\n",
       "      <td>0</td>\n",
       "      <td>0</td>\n",
       "      <td>0</td>\n",
       "      <td>0</td>\n",
       "      <td>0</td>\n",
       "      <td>0</td>\n",
       "      <td>0</td>\n",
       "      <td>0</td>\n",
       "      <td>972758</td>\n",
       "      <td>1</td>\n",
       "    </tr>\n",
       "    <tr>\n",
       "      <th>11</th>\n",
       "      <td>0</td>\n",
       "      <td>0</td>\n",
       "      <td>0</td>\n",
       "      <td>0</td>\n",
       "      <td>0</td>\n",
       "      <td>0</td>\n",
       "      <td>0</td>\n",
       "      <td>0</td>\n",
       "      <td>0</td>\n",
       "      <td>0</td>\n",
       "      <td>1</td>\n",
       "      <td>2305</td>\n",
       "    </tr>\n",
       "    <tr>\n",
       "      <th>12</th>\n",
       "      <td>0</td>\n",
       "      <td>0</td>\n",
       "      <td>0</td>\n",
       "      <td>0</td>\n",
       "      <td>0</td>\n",
       "      <td>0</td>\n",
       "      <td>0</td>\n",
       "      <td>0</td>\n",
       "      <td>0</td>\n",
       "      <td>0</td>\n",
       "      <td>0</td>\n",
       "      <td>0</td>\n",
       "    </tr>\n",
       "    <tr>\n",
       "      <th>13</th>\n",
       "      <td>0</td>\n",
       "      <td>0</td>\n",
       "      <td>0</td>\n",
       "      <td>0</td>\n",
       "      <td>0</td>\n",
       "      <td>0</td>\n",
       "      <td>0</td>\n",
       "      <td>0</td>\n",
       "      <td>0</td>\n",
       "      <td>0</td>\n",
       "      <td>1</td>\n",
       "      <td>0</td>\n",
       "    </tr>\n",
       "    <tr>\n",
       "      <th>14</th>\n",
       "      <td>0</td>\n",
       "      <td>0</td>\n",
       "      <td>0</td>\n",
       "      <td>0</td>\n",
       "      <td>0</td>\n",
       "      <td>0</td>\n",
       "      <td>0</td>\n",
       "      <td>0</td>\n",
       "      <td>0</td>\n",
       "      <td>0</td>\n",
       "      <td>0</td>\n",
       "      <td>0</td>\n",
       "    </tr>\n",
       "    <tr>\n",
       "      <th>15</th>\n",
       "      <td>0</td>\n",
       "      <td>0</td>\n",
       "      <td>0</td>\n",
       "      <td>0</td>\n",
       "      <td>0</td>\n",
       "      <td>0</td>\n",
       "      <td>0</td>\n",
       "      <td>0</td>\n",
       "      <td>0</td>\n",
       "      <td>0</td>\n",
       "      <td>0</td>\n",
       "      <td>0</td>\n",
       "    </tr>\n",
       "    <tr>\n",
       "      <th>16</th>\n",
       "      <td>0</td>\n",
       "      <td>0</td>\n",
       "      <td>0</td>\n",
       "      <td>0</td>\n",
       "      <td>0</td>\n",
       "      <td>0</td>\n",
       "      <td>0</td>\n",
       "      <td>0</td>\n",
       "      <td>0</td>\n",
       "      <td>0</td>\n",
       "      <td>1</td>\n",
       "      <td>0</td>\n",
       "    </tr>\n",
       "    <tr>\n",
       "      <th>17</th>\n",
       "      <td>0</td>\n",
       "      <td>0</td>\n",
       "      <td>0</td>\n",
       "      <td>0</td>\n",
       "      <td>0</td>\n",
       "      <td>0</td>\n",
       "      <td>0</td>\n",
       "      <td>0</td>\n",
       "      <td>0</td>\n",
       "      <td>0</td>\n",
       "      <td>0</td>\n",
       "      <td>0</td>\n",
       "    </tr>\n",
       "    <tr>\n",
       "      <th>18</th>\n",
       "      <td>0</td>\n",
       "      <td>0</td>\n",
       "      <td>0</td>\n",
       "      <td>0</td>\n",
       "      <td>0</td>\n",
       "      <td>0</td>\n",
       "      <td>0</td>\n",
       "      <td>0</td>\n",
       "      <td>0</td>\n",
       "      <td>0</td>\n",
       "      <td>0</td>\n",
       "      <td>0</td>\n",
       "    </tr>\n",
       "    <tr>\n",
       "      <th>19</th>\n",
       "      <td>0</td>\n",
       "      <td>0</td>\n",
       "      <td>0</td>\n",
       "      <td>0</td>\n",
       "      <td>0</td>\n",
       "      <td>0</td>\n",
       "      <td>0</td>\n",
       "      <td>0</td>\n",
       "      <td>0</td>\n",
       "      <td>0</td>\n",
       "      <td>0</td>\n",
       "      <td>0</td>\n",
       "    </tr>\n",
       "    <tr>\n",
       "      <th>20</th>\n",
       "      <td>0</td>\n",
       "      <td>0</td>\n",
       "      <td>0</td>\n",
       "      <td>0</td>\n",
       "      <td>0</td>\n",
       "      <td>0</td>\n",
       "      <td>0</td>\n",
       "      <td>0</td>\n",
       "      <td>0</td>\n",
       "      <td>0</td>\n",
       "      <td>0</td>\n",
       "      <td>10</td>\n",
       "    </tr>\n",
       "    <tr>\n",
       "      <th>21</th>\n",
       "      <td>0</td>\n",
       "      <td>0</td>\n",
       "      <td>0</td>\n",
       "      <td>0</td>\n",
       "      <td>0</td>\n",
       "      <td>0</td>\n",
       "      <td>0</td>\n",
       "      <td>0</td>\n",
       "      <td>0</td>\n",
       "      <td>0</td>\n",
       "      <td>0</td>\n",
       "      <td>0</td>\n",
       "    </tr>\n",
       "    <tr>\n",
       "      <th>22</th>\n",
       "      <td>0</td>\n",
       "      <td>0</td>\n",
       "      <td>0</td>\n",
       "      <td>0</td>\n",
       "      <td>0</td>\n",
       "      <td>0</td>\n",
       "      <td>0</td>\n",
       "      <td>0</td>\n",
       "      <td>0</td>\n",
       "      <td>0</td>\n",
       "      <td>0</td>\n",
       "      <td>0</td>\n",
       "    </tr>\n",
       "  </tbody>\n",
       "</table>\n",
       "</div>"
      ],
      "text/plain": [
       "     0     1        2   3   4   5   6    7   8   9       10    11\n",
       "0   979     0        0   0   0   0   0    0   0   0       0     0\n",
       "1     0  1015        0   0   0   0   0    0   0   0      12     0\n",
       "2     0     0  2807886   0   0   0   0    0   0   0       0     0\n",
       "3     0     0        0   3   0   0   0    0   0   0       0     0\n",
       "4     0     0        0   0  21   0   0    0   0   0       5     0\n",
       "5     0     0        0   0   0  12   0    0   0   0       0     0\n",
       "6     0     0        0   0   0   0   2    0   0   0       0     0\n",
       "7     0     0        0   0   0   0   0  264   0   0       3     0\n",
       "8     0     0        0   0   0   0   0    0  53   0       0     0\n",
       "9     0     0        0   0   0   0   0    0   0   4       0     0\n",
       "10    0     5        0   0   0   0   0    0   0   0  972758     1\n",
       "11    0     0        0   0   0   0   0    0   0   0       1  2305\n",
       "12    0     0        0   0   0   0   0    0   0   0       0     0\n",
       "13    0     0        0   0   0   0   0    0   0   0       1     0\n",
       "14    0     0        0   0   0   0   0    0   0   0       0     0\n",
       "15    0     0        0   0   0   0   0    0   0   0       0     0\n",
       "16    0     0        0   0   0   0   0    0   0   0       1     0\n",
       "17    0     0        0   0   0   0   0    0   0   0       0     0\n",
       "18    0     0        0   0   0   0   0    0   0   0       0     0\n",
       "19    0     0        0   0   0   0   0    0   0   0       0     0\n",
       "20    0     0        0   0   0   0   0    0   0   0       0    10\n",
       "21    0     0        0   0   0   0   0    0   0   0       0     0\n",
       "22    0     0        0   0   0   0   0    0   0   0       0     0"
      ]
     },
     "execution_count": 89,
     "metadata": {},
     "output_type": "execute_result"
    }
   ],
   "source": [
    "import pandas as pd\n",
    "pd.DataFrame(conf_mat[:,:12])"
   ]
  },
  {
   "cell_type": "code",
   "execution_count": 90,
   "metadata": {
    "collapsed": false
   },
   "outputs": [
    {
     "data": {
      "text/html": [
       "<div>\n",
       "<table border=\"1\" class=\"dataframe\">\n",
       "  <thead>\n",
       "    <tr style=\"text-align: right;\">\n",
       "      <th></th>\n",
       "      <th>0</th>\n",
       "      <th>1</th>\n",
       "      <th>2</th>\n",
       "      <th>3</th>\n",
       "      <th>4</th>\n",
       "      <th>5</th>\n",
       "      <th>6</th>\n",
       "      <th>7</th>\n",
       "      <th>8</th>\n",
       "      <th>9</th>\n",
       "      <th>10</th>\n",
       "    </tr>\n",
       "  </thead>\n",
       "  <tbody>\n",
       "    <tr>\n",
       "      <th>0</th>\n",
       "      <td>0</td>\n",
       "      <td>0</td>\n",
       "      <td>0</td>\n",
       "      <td>0</td>\n",
       "      <td>0</td>\n",
       "      <td>0</td>\n",
       "      <td>0</td>\n",
       "      <td>0</td>\n",
       "      <td>0</td>\n",
       "      <td>0</td>\n",
       "      <td>0</td>\n",
       "    </tr>\n",
       "    <tr>\n",
       "      <th>1</th>\n",
       "      <td>0</td>\n",
       "      <td>0</td>\n",
       "      <td>0</td>\n",
       "      <td>0</td>\n",
       "      <td>0</td>\n",
       "      <td>0</td>\n",
       "      <td>0</td>\n",
       "      <td>0</td>\n",
       "      <td>0</td>\n",
       "      <td>0</td>\n",
       "      <td>0</td>\n",
       "    </tr>\n",
       "    <tr>\n",
       "      <th>2</th>\n",
       "      <td>0</td>\n",
       "      <td>0</td>\n",
       "      <td>0</td>\n",
       "      <td>0</td>\n",
       "      <td>0</td>\n",
       "      <td>0</td>\n",
       "      <td>0</td>\n",
       "      <td>0</td>\n",
       "      <td>0</td>\n",
       "      <td>0</td>\n",
       "      <td>0</td>\n",
       "    </tr>\n",
       "    <tr>\n",
       "      <th>3</th>\n",
       "      <td>0</td>\n",
       "      <td>0</td>\n",
       "      <td>0</td>\n",
       "      <td>0</td>\n",
       "      <td>0</td>\n",
       "      <td>0</td>\n",
       "      <td>0</td>\n",
       "      <td>0</td>\n",
       "      <td>0</td>\n",
       "      <td>0</td>\n",
       "      <td>0</td>\n",
       "    </tr>\n",
       "    <tr>\n",
       "      <th>4</th>\n",
       "      <td>0</td>\n",
       "      <td>0</td>\n",
       "      <td>0</td>\n",
       "      <td>0</td>\n",
       "      <td>0</td>\n",
       "      <td>0</td>\n",
       "      <td>0</td>\n",
       "      <td>0</td>\n",
       "      <td>0</td>\n",
       "      <td>0</td>\n",
       "      <td>0</td>\n",
       "    </tr>\n",
       "    <tr>\n",
       "      <th>5</th>\n",
       "      <td>0</td>\n",
       "      <td>0</td>\n",
       "      <td>0</td>\n",
       "      <td>0</td>\n",
       "      <td>0</td>\n",
       "      <td>0</td>\n",
       "      <td>0</td>\n",
       "      <td>0</td>\n",
       "      <td>0</td>\n",
       "      <td>0</td>\n",
       "      <td>0</td>\n",
       "    </tr>\n",
       "    <tr>\n",
       "      <th>6</th>\n",
       "      <td>0</td>\n",
       "      <td>0</td>\n",
       "      <td>0</td>\n",
       "      <td>0</td>\n",
       "      <td>0</td>\n",
       "      <td>0</td>\n",
       "      <td>0</td>\n",
       "      <td>0</td>\n",
       "      <td>0</td>\n",
       "      <td>0</td>\n",
       "      <td>0</td>\n",
       "    </tr>\n",
       "    <tr>\n",
       "      <th>7</th>\n",
       "      <td>0</td>\n",
       "      <td>0</td>\n",
       "      <td>0</td>\n",
       "      <td>0</td>\n",
       "      <td>0</td>\n",
       "      <td>0</td>\n",
       "      <td>0</td>\n",
       "      <td>0</td>\n",
       "      <td>0</td>\n",
       "      <td>0</td>\n",
       "      <td>0</td>\n",
       "    </tr>\n",
       "    <tr>\n",
       "      <th>8</th>\n",
       "      <td>0</td>\n",
       "      <td>0</td>\n",
       "      <td>0</td>\n",
       "      <td>0</td>\n",
       "      <td>0</td>\n",
       "      <td>0</td>\n",
       "      <td>0</td>\n",
       "      <td>0</td>\n",
       "      <td>0</td>\n",
       "      <td>0</td>\n",
       "      <td>0</td>\n",
       "    </tr>\n",
       "    <tr>\n",
       "      <th>9</th>\n",
       "      <td>0</td>\n",
       "      <td>0</td>\n",
       "      <td>0</td>\n",
       "      <td>0</td>\n",
       "      <td>0</td>\n",
       "      <td>0</td>\n",
       "      <td>0</td>\n",
       "      <td>0</td>\n",
       "      <td>0</td>\n",
       "      <td>0</td>\n",
       "      <td>0</td>\n",
       "    </tr>\n",
       "    <tr>\n",
       "      <th>10</th>\n",
       "      <td>0</td>\n",
       "      <td>1</td>\n",
       "      <td>0</td>\n",
       "      <td>0</td>\n",
       "      <td>2</td>\n",
       "      <td>0</td>\n",
       "      <td>1</td>\n",
       "      <td>1</td>\n",
       "      <td>0</td>\n",
       "      <td>0</td>\n",
       "      <td>0</td>\n",
       "    </tr>\n",
       "    <tr>\n",
       "      <th>11</th>\n",
       "      <td>0</td>\n",
       "      <td>0</td>\n",
       "      <td>0</td>\n",
       "      <td>0</td>\n",
       "      <td>0</td>\n",
       "      <td>0</td>\n",
       "      <td>0</td>\n",
       "      <td>0</td>\n",
       "      <td>7</td>\n",
       "      <td>0</td>\n",
       "      <td>0</td>\n",
       "    </tr>\n",
       "    <tr>\n",
       "      <th>12</th>\n",
       "      <td>20</td>\n",
       "      <td>0</td>\n",
       "      <td>0</td>\n",
       "      <td>0</td>\n",
       "      <td>0</td>\n",
       "      <td>0</td>\n",
       "      <td>0</td>\n",
       "      <td>0</td>\n",
       "      <td>0</td>\n",
       "      <td>0</td>\n",
       "      <td>0</td>\n",
       "    </tr>\n",
       "    <tr>\n",
       "      <th>13</th>\n",
       "      <td>0</td>\n",
       "      <td>9</td>\n",
       "      <td>0</td>\n",
       "      <td>0</td>\n",
       "      <td>0</td>\n",
       "      <td>0</td>\n",
       "      <td>0</td>\n",
       "      <td>0</td>\n",
       "      <td>0</td>\n",
       "      <td>0</td>\n",
       "      <td>0</td>\n",
       "    </tr>\n",
       "    <tr>\n",
       "      <th>14</th>\n",
       "      <td>0</td>\n",
       "      <td>0</td>\n",
       "      <td>2203</td>\n",
       "      <td>0</td>\n",
       "      <td>0</td>\n",
       "      <td>0</td>\n",
       "      <td>0</td>\n",
       "      <td>0</td>\n",
       "      <td>0</td>\n",
       "      <td>0</td>\n",
       "      <td>0</td>\n",
       "    </tr>\n",
       "    <tr>\n",
       "      <th>15</th>\n",
       "      <td>0</td>\n",
       "      <td>0</td>\n",
       "      <td>0</td>\n",
       "      <td>8</td>\n",
       "      <td>0</td>\n",
       "      <td>0</td>\n",
       "      <td>0</td>\n",
       "      <td>0</td>\n",
       "      <td>0</td>\n",
       "      <td>0</td>\n",
       "      <td>0</td>\n",
       "    </tr>\n",
       "    <tr>\n",
       "      <th>16</th>\n",
       "      <td>0</td>\n",
       "      <td>0</td>\n",
       "      <td>0</td>\n",
       "      <td>0</td>\n",
       "      <td>15890</td>\n",
       "      <td>0</td>\n",
       "      <td>0</td>\n",
       "      <td>0</td>\n",
       "      <td>0</td>\n",
       "      <td>0</td>\n",
       "      <td>0</td>\n",
       "    </tr>\n",
       "    <tr>\n",
       "      <th>17</th>\n",
       "      <td>0</td>\n",
       "      <td>0</td>\n",
       "      <td>0</td>\n",
       "      <td>0</td>\n",
       "      <td>0</td>\n",
       "      <td>1072017</td>\n",
       "      <td>0</td>\n",
       "      <td>0</td>\n",
       "      <td>0</td>\n",
       "      <td>0</td>\n",
       "      <td>0</td>\n",
       "    </tr>\n",
       "    <tr>\n",
       "      <th>18</th>\n",
       "      <td>0</td>\n",
       "      <td>0</td>\n",
       "      <td>0</td>\n",
       "      <td>0</td>\n",
       "      <td>0</td>\n",
       "      <td>0</td>\n",
       "      <td>8</td>\n",
       "      <td>0</td>\n",
       "      <td>0</td>\n",
       "      <td>0</td>\n",
       "      <td>0</td>\n",
       "    </tr>\n",
       "    <tr>\n",
       "      <th>19</th>\n",
       "      <td>0</td>\n",
       "      <td>0</td>\n",
       "      <td>0</td>\n",
       "      <td>0</td>\n",
       "      <td>0</td>\n",
       "      <td>0</td>\n",
       "      <td>0</td>\n",
       "      <td>6</td>\n",
       "      <td>0</td>\n",
       "      <td>0</td>\n",
       "      <td>0</td>\n",
       "    </tr>\n",
       "    <tr>\n",
       "      <th>20</th>\n",
       "      <td>0</td>\n",
       "      <td>0</td>\n",
       "      <td>0</td>\n",
       "      <td>0</td>\n",
       "      <td>0</td>\n",
       "      <td>0</td>\n",
       "      <td>0</td>\n",
       "      <td>0</td>\n",
       "      <td>12474</td>\n",
       "      <td>2</td>\n",
       "      <td>0</td>\n",
       "    </tr>\n",
       "    <tr>\n",
       "      <th>21</th>\n",
       "      <td>0</td>\n",
       "      <td>0</td>\n",
       "      <td>0</td>\n",
       "      <td>0</td>\n",
       "      <td>0</td>\n",
       "      <td>0</td>\n",
       "      <td>0</td>\n",
       "      <td>0</td>\n",
       "      <td>0</td>\n",
       "      <td>10411</td>\n",
       "      <td>0</td>\n",
       "    </tr>\n",
       "    <tr>\n",
       "      <th>22</th>\n",
       "      <td>0</td>\n",
       "      <td>0</td>\n",
       "      <td>0</td>\n",
       "      <td>0</td>\n",
       "      <td>0</td>\n",
       "      <td>0</td>\n",
       "      <td>0</td>\n",
       "      <td>0</td>\n",
       "      <td>0</td>\n",
       "      <td>0</td>\n",
       "      <td>30</td>\n",
       "    </tr>\n",
       "  </tbody>\n",
       "</table>\n",
       "</div>"
      ],
      "text/plain": [
       "    0   1     2   3      4        5   6   7      8      9   10\n",
       "0    0   0     0   0      0        0   0   0      0      0   0\n",
       "1    0   0     0   0      0        0   0   0      0      0   0\n",
       "2    0   0     0   0      0        0   0   0      0      0   0\n",
       "3    0   0     0   0      0        0   0   0      0      0   0\n",
       "4    0   0     0   0      0        0   0   0      0      0   0\n",
       "5    0   0     0   0      0        0   0   0      0      0   0\n",
       "6    0   0     0   0      0        0   0   0      0      0   0\n",
       "7    0   0     0   0      0        0   0   0      0      0   0\n",
       "8    0   0     0   0      0        0   0   0      0      0   0\n",
       "9    0   0     0   0      0        0   0   0      0      0   0\n",
       "10   0   1     0   0      2        0   1   1      0      0   0\n",
       "11   0   0     0   0      0        0   0   0      7      0   0\n",
       "12  20   0     0   0      0        0   0   0      0      0   0\n",
       "13   0   9     0   0      0        0   0   0      0      0   0\n",
       "14   0   0  2203   0      0        0   0   0      0      0   0\n",
       "15   0   0     0   8      0        0   0   0      0      0   0\n",
       "16   0   0     0   0  15890        0   0   0      0      0   0\n",
       "17   0   0     0   0      0  1072017   0   0      0      0   0\n",
       "18   0   0     0   0      0        0   8   0      0      0   0\n",
       "19   0   0     0   0      0        0   0   6      0      0   0\n",
       "20   0   0     0   0      0        0   0   0  12474      2   0\n",
       "21   0   0     0   0      0        0   0   0      0  10411   0\n",
       "22   0   0     0   0      0        0   0   0      0      0  30"
      ]
     },
     "execution_count": 90,
     "metadata": {},
     "output_type": "execute_result"
    }
   ],
   "source": [
    "pd.DataFrame(conf_mat[:,12:])"
   ]
  },
  {
   "cell_type": "markdown",
   "metadata": {},
   "source": [
    "The confusion matrix is showing us that our decision tree classifies well even the labels with the small number of connections (\\<100). This allow us to be confident that this tree use enough features to create a meaningful space. "
   ]
  },
  {
   "cell_type": "code",
   "execution_count": 91,
   "metadata": {
    "collapsed": true
   },
   "outputs": [],
   "source": [
    "def find_indices_features(debug_string):\n",
    "    f = re.findall(r'feature [0-9]*', debug_string)\n",
    "    return np.unique(np.array([int(re.findall(r'[0-9]*', a)[-2]) for a in f]))"
   ]
  },
  {
   "cell_type": "code",
   "execution_count": 92,
   "metadata": {
    "collapsed": true
   },
   "outputs": [],
   "source": [
    "features_to_use = find_indices_features(model.toDebugString())"
   ]
  },
  {
   "cell_type": "code",
   "execution_count": 93,
   "metadata": {
    "collapsed": false
   },
   "outputs": [
    {
     "data": {
      "text/plain": [
       "array([ 0,  1,  2,  3,  4,  5,  6,  7,  9, 11, 12, 13, 15, 16, 17, 18, 21,\n",
       "       22, 23, 24, 26, 28, 29, 30, 31, 32, 33, 34, 35, 36, 37, 38, 39])"
      ]
     },
     "execution_count": 93,
     "metadata": {},
     "output_type": "execute_result"
    }
   ],
   "source": [
    "features_to_use"
   ]
  },
  {
   "cell_type": "code",
   "execution_count": 94,
   "metadata": {
    "collapsed": false
   },
   "outputs": [
    {
     "data": {
      "text/plain": [
       "33"
      ]
     },
     "execution_count": 94,
     "metadata": {},
     "output_type": "execute_result"
    }
   ],
   "source": [
    "len(features_to_use)"
   ]
  },
  {
   "cell_type": "markdown",
   "metadata": {},
   "source": [
    "We could try again to run the entropy algoritme with a cluster selected only with those 33 features. It would possibly speed up computation and give a better entropy than before at the same time. But we can't do it by lack of time."
   ]
  },
  {
   "cell_type": "markdown",
   "metadata": {
    "collapsed": true
   },
   "source": [
    "![](https://farm2.staticflickr.com/1604/24934700445_833f0a5649_t.jpg)"
   ]
  },
  {
   "cell_type": "markdown",
   "metadata": {},
   "source": [
    "<div class='anchor' ></div>\n",
    "\n",
    "#### Question 14\n",
    "Implement K-means on Spark so that It can work with large datasets in parallel. Test your algorithm with our dataset in this notebook. Compare our algorithm with the algorithm from MLLIB.\n",
    "\n",
    "Let's clarify the meaning of this question: what we want is for students to design the K-means algorithm for the parallel programming model exposed by Spark. You are strongly invited to use the Python API (pyspark). So, at the end of the day, you will operate on RDDs, and implement a \"map/reduce\" algorithm that performs the two phases of the standard K-means algorithm, i.e. the assignment step and the update step."
   ]
  },
  {
   "cell_type": "markdown",
   "metadata": {},
   "source": [
    "We will use mapPartitions and an accumulator to avoid shuffling. The centroids are broadcasted at each iteration. The euclidean_distance function was optimized at most. We have extensively used %timeit to optimize every piece of code. Still, it is not as good as MLLib's implementation."
   ]
  },
  {
   "cell_type": "code",
   "execution_count": 95,
   "metadata": {
    "collapsed": false
   },
   "outputs": [],
   "source": [
    "import random\n",
    "\n",
    "# Given a point and centroids, the function gives \n",
    "# the closest centroid, the distance to this centroid and the index of the centroid in the list\n",
    "#def getClosestCentroid(centroids, point):\n",
    "    # Get the distances between the centroids and the point\n",
    "    #distances = np.array([euclidean_distance(centroid,point) for centroid in centroids])\n",
    "    #index = np.argmin(distances)\n",
    "    #distance = np.min(distances)\n",
    "    #centroid = centroids[int(index)]\n",
    "    #return centroid, distance, index\n",
    "\n",
    "def getDistance(centroids, point):\n",
    "    i = find_closest_centroid(point, centroids)\n",
    "    return euclidean_distance(centroids[i], point)\n",
    "\n",
    "# Calculate the mean of the distance of each point to its closest centroid\n",
    "def getError(centroids, data):\n",
    "    bCentroids = sc.broadcast(centroids)\n",
    "    # errors = data.map(lambda point: getClosestCentroid(bCentroids.value, point)[1])\n",
    "    errors = data.map(lambda point: getDistance(bCentroids.value, point)**2)\n",
    "    error = errors.reduce(add)\n",
    "    return error\n",
    "\n",
    "def addTuple(v1,v2): return tuple(a+b for a,b in zip(v1,v2))"
   ]
  },
  {
   "cell_type": "code",
   "execution_count": 96,
   "metadata": {
    "collapsed": true
   },
   "outputs": [],
   "source": [
    "from pyspark import AccumulatorParam\n",
    "class VectorAccumulatorParam(AccumulatorParam):\n",
    "    def zero(self, initialAcc):\n",
    "        l = len(initialAcc)\n",
    "        sums = np.zeros([l, 38])\n",
    "        counts = np.zeros(l)\n",
    "        return [sums, counts]\n",
    "\n",
    "    def addInPlace(self, v1, v2):\n",
    "        v1[0] += v2[0]\n",
    "        v1[1] += v2[1]\n",
    "        return v1\n",
    "\n",
    "def mappingPartitions(iterator, centers):\n",
    "    l = len(centers)\n",
    "    sums = np.zeros([l, 38])\n",
    "    counts = np.zeros(l)\n",
    "    for point in iterator:\n",
    "        i = find_closest_centroid(point, centers)\n",
    "        sums[i] += point\n",
    "        counts[i] += 1\n",
    "    acc.add([sums, counts])\n",
    "    yield"
   ]
  },
  {
   "cell_type": "code",
   "execution_count": 97,
   "metadata": {
    "collapsed": false
   },
   "outputs": [],
   "source": [
    "def KMeansTrain(data, nbCentroids=2, runs=1, maxIterations=10):\n",
    "    t1 = time.time()\n",
    "    bestError = float(\"inf\")\n",
    "    l = nbCentroids\n",
    "    sums = np.zeros([l, 38])\n",
    "    counts = np.zeros(l)\n",
    "    initialAcc =  [sums, counts]\n",
    "    for i in range(runs):\n",
    "        print(\"Run: \",i)\n",
    "        \n",
    "        # We initialise the centroids\n",
    "        randomCentroids = data.map(lambda x: (x, random.uniform(0,1))).takeOrdered(nbCentroids, lambda x: x[1])\n",
    "        centroids = np.array([x[0] for x in randomCentroids])\n",
    "        bestCentroids = centroids\n",
    "        \n",
    "        for iteration in range(maxIterations):\n",
    "            bCentroids = sc.broadcast(centroids)\n",
    "            acc = sc.accumulator(initialAcc, VectorAccumulatorParam())\n",
    "            \n",
    "            aggregations = data.mapPartitions(lambda iterator: mappingPartitions(iterator, bCentroids.value))            \n",
    "            # value = aggregations.reduce(lambda v1, v2: (v1[0] + v2[0], v1[1] + v2[1]))\n",
    "\n",
    "            # aggregations.foreach(lambda x: acc.add(x))\n",
    "            \n",
    "            # centroids1 = np.array([t[0]/t[1] for t in value])\n",
    "            centroids1 = np.array([s/c for s, c in zip(acc.value[0], acc.value[1])])\n",
    "            \n",
    "            # if the stop criteria are met, stop the algorithm\n",
    "            if check_converge(centroids1, centroids, 0):\n",
    "                centroids = centroids1\n",
    "                break\n",
    "                \n",
    "            centroids = centroids1\n",
    "            \n",
    "            \n",
    "        # We check if it was better than before\n",
    "        error = getError(centroids, data)\n",
    "        if error < bestError:\n",
    "            bestError = error\n",
    "            bestCentroids = centroids\n",
    "    print(time.time() - t1, \"seconds\")\n",
    "    return bestCentroids"
   ]
  },
  {
   "cell_type": "code",
   "execution_count": 98,
   "metadata": {
    "collapsed": false,
    "scrolled": false
   },
   "outputs": [
    {
     "name": "stdout",
     "output_type": "stream",
     "text": [
      "Run:  0\n",
      "37.978856325149536 seconds\n"
     ]
    }
   ],
   "source": [
    "clusters = KMeansTrain(data, 2, maxIterations=3, runs=1)"
   ]
  },
  {
   "cell_type": "code",
   "execution_count": 99,
   "metadata": {
    "collapsed": false
   },
   "outputs": [
    {
     "name": "stdout",
     "output_type": "stream",
     "text": [
      "15.378705024719238 seconds\n"
     ]
    }
   ],
   "source": [
    "t1 = time.time()\n",
    "clustersSpark = KMeans.train(data, 2, maxIterations=3, runs=1)\n",
    "print(time.time() - t1, \"seconds\")"
   ]
  },
  {
   "cell_type": "markdown",
   "metadata": {},
   "source": [
    "Our first attempt was is a simple map and reduce in a \"for\" loop with a broadcast for the centroids. It took aproximatly 300 seconds to run. Then we changed the map function for a mapPartitions and added an acumulator. This made us gain a few seconds. After that, we spent a bit of time on the Spark UI to see where was the problem. Our function did spend a lot of time on computation. Then we noticed the problem. The euclidean_distance function asked us to work with lists (because of the assert after it that was done with lists). We then modified it to work only with numpy arrays. By doing this:<br>"
   ]
  },
  {
   "cell_type": "markdown",
   "metadata": {},
   "source": [
    "```python\n",
    "def euclidean_distance(a, b):\n",
    "    c = a - b\n",
    "    return np.sqrt(c.T.dot(c))\n",
    "```"
   ]
  },
  {
   "cell_type": "markdown",
   "metadata": {},
   "source": [
    "we gain all C-language optimisations of the numpy package. We were able then to lower the running time to 37 secondes. We then tried to read the code of KMeans package in scala, but it wasn't really helpful since our code looked quite similar already."
   ]
  }
 ],
 "metadata": {
  "kernelspec": {
   "display_name": "Python 3",
   "language": "python",
   "name": "python3"
  },
  "language_info": {
   "codemirror_mode": {
    "name": "ipython",
    "version": 3
   },
   "file_extension": ".py",
   "mimetype": "text/x-python",
   "name": "python",
   "nbconvert_exporter": "python",
   "pygments_lexer": "ipython3",
   "version": "3.4.4"
  }
 },
 "nbformat": 4,
 "nbformat_minor": 0
}
