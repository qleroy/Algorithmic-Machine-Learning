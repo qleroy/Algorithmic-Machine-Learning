{
 "cells": [
  {
   "cell_type": "code",
   "execution_count": 24,
   "metadata": {
    "collapsed": false
   },
   "outputs": [
    {
     "data": {
      "text/plain": [
       "3600"
      ]
     },
     "execution_count": 24,
     "metadata": {},
     "output_type": "execute_result"
    }
   ],
   "source": [
    "filename = \"/Users/quentinleroy/Desktop/alice.txt\"\n",
    "text = sc.textFile(filename, use_unicode=False)\n",
    "text.count()"
   ]
  },
  {
   "cell_type": "code",
   "execution_count": 44,
   "metadata": {
    "collapsed": false
   },
   "outputs": [
    {
     "data": {
      "text/plain": [
       "[(1507, 'the'),\n",
       " (714, 'and'),\n",
       " (703, 'to'),\n",
       " (606, 'a'),\n",
       " (490, 'of'),\n",
       " (484, 'she'),\n",
       " (416, 'said'),\n",
       " (346, 'it'),\n",
       " (345, 'in'),\n",
       " (328, 'was')]"
      ]
     },
     "execution_count": 44,
     "metadata": {},
     "output_type": "execute_result"
    }
   ],
   "source": [
    "word = words.flatMap(lambda line: line.split()).map(lambda w: (w,1)).reduceByKey(add).map(lambda t: (t[1],t[0])).sortByKey(False).take(10)\n",
    "word"
   ]
  },
  {
   "cell_type": "markdown",
   "metadata": {},
   "source": [
    "There are two type of functions in Spark: **transformation** and **action**. All functions `map`, `flatMap`, `reduceByKey`, `sortByKey`, `groupBy`, `groupByKey?`, `mapValues?` are transformation functions. They are not executed right away when called. Indeed, Spark is lazy, so nothing will get executed unless you call some actions such as count, take, collect, *first?*, *takeOrdered?..."
   ]
  },
  {
   "cell_type": "code",
   "execution_count": 56,
   "metadata": {
    "collapsed": false
   },
   "outputs": [
    {
     "data": {
      "text/plain": [
       "\"Alice's Adventures in Wonderland\""
      ]
     },
     "execution_count": 56,
     "metadata": {},
     "output_type": "execute_result"
    }
   ],
   "source": [
    "words.first()"
   ]
  },
  {
   "cell_type": "code",
   "execution_count": 64,
   "metadata": {
    "collapsed": false
   },
   "outputs": [
    {
     "data": {
      "text/plain": [
       "['Rabbit-Hole',\n",
       " 'conversations',\n",
       " \"conversation?'\",\n",
       " 'considering',\n",
       " 'daisy-chain',\n",
       " 'afterwards,',\n",
       " 'waistcoat-pocket,',\n",
       " 'fortunately',\n",
       " 'rabbit-hole',\n",
       " 'considering']"
      ]
     },
     "execution_count": 64,
     "metadata": {},
     "output_type": "execute_result"
    }
   ],
   "source": [
    "words.flatMap(lambda line:line.split()).filter(lambda w:len(w)>10).take(10)"
   ]
  },
  {
   "cell_type": "code",
   "execution_count": 63,
   "metadata": {
    "collapsed": false
   },
   "outputs": [
    {
     "data": {
      "text/plain": [
       "pyspark.rdd.RDD"
      ]
     },
     "execution_count": 63,
     "metadata": {},
     "output_type": "execute_result"
    }
   ],
   "source": [
    "type(words.cache())"
   ]
  },
  {
   "cell_type": "code",
   "execution_count": 66,
   "metadata": {
    "collapsed": true
   },
   "outputs": [],
   "source": [
    "words.groupBy?"
   ]
  },
  {
   "cell_type": "code",
   "execution_count": 80,
   "metadata": {
    "collapsed": true
   },
   "outputs": [
    {
     "data": {
      "text/plain": [
       "[(0, <pyspark.resultiterable.ResultIterable at 0x110f87290>),\n",
       " (1, <pyspark.resultiterable.ResultIterable at 0x110f87f10>)]"
      ]
     },
     "execution_count": 80,
     "metadata": {},
     "output_type": "execute_result"
    }
   ],
   "source": [
    "rdd = sc.parallelize([1,1,2,3,5,8])\n",
    "result = rdd.groupBy(lambda x: x%2).collect()\n",
    "result"
   ]
  },
  {
   "cell_type": "markdown",
   "metadata": {},
   "source": [
    "# Spark SQL"
   ]
  },
  {
   "cell_type": "code",
   "execution_count": 1,
   "metadata": {
    "collapsed": true
   },
   "outputs": [],
   "source": [
    "from pyspark.sql import SQLContext\n",
    "from pyspark.sql.types import *\n",
    "\n",
    "filename = \"/Users/quentinleroy/tmp/kaggle/titanic/data/train.csv\"\n",
    "\n",
    "sqlContext = SQLContext(sc)\n",
    "text = sc.textFile(filename, use_unicode=False)\n",
    "header = text.first()"
   ]
  },
  {
   "cell_type": "code",
   "execution_count": 92,
   "metadata": {
    "collapsed": false
   },
   "outputs": [],
   "source": [
    "header = text.first()\n",
    "data = text.filter(lambda line: line!=header)\n",
    "data_schema = StructType([\\\n",
    "                         StructField(\"PassengerId\", IntegerType(), True)\\\n",
    "                         StructField(\"Survived\", IntegerType(), True)\\\n",
    "                         StructField(\"Pclass\", IntegerType(), True)\\\n",
    "                         StructField(\"Name\", StringType(), True)\\\n",
    "                         StructField(\"Sex\", StringType(), True)\\\n",
    "                         StructField(\"Age\", IntegerType(), True)\n",
    "                         StructField(\"SibSp\", IntegerType(), True)\\\n",
    "                         StructField(\"Parch\", StringType(), True)\n",
    "                         StructField(\"Ticket\", StringType(), True)\n",
    "                         StructField(\"Fare\", FloatType(), True)\\\n",
    "                         StructField(\"Cabin\", StringType(), True)\\\n",
    "                         StructField(\"Embarked\", StringType(), True)])"
   ]
  },
  {
   "cell_type": "code",
   "execution_count": 96,
   "metadata": {
    "collapsed": false
   },
   "outputs": [
    {
     "data": {
      "text/plain": [
       "'PassengerId,Survived,Pclass,Name,Sex,Age,SibSp,Parch,Ticket,Fare,Cabin,Embarked'"
      ]
     },
     "execution_count": 96,
     "metadata": {},
     "output_type": "execute_result"
    }
   ],
   "source": [
    "header"
   ]
  },
  {
   "cell_type": "code",
   "execution_count": 100,
   "metadata": {
    "collapsed": false
   },
   "outputs": [
    {
     "data": {
      "text/plain": [
       "['1,0,3,\"Braund, Mr. Owen Harris\",male,22,1,0,A/5 21171,7.25,,S',\n",
       " '2,1,1,\"Cumings, Mrs. John Bradley (Florence Briggs Thayer)\",female,38,1,0,PC 17599,71.2833,C85,C']"
      ]
     },
     "execution_count": 100,
     "metadata": {},
     "output_type": "execute_result"
    }
   ],
   "source": [
    "data.take(2)"
   ]
  },
  {
   "cell_type": "code",
   "execution_count": 101,
   "metadata": {
    "collapsed": true
   },
   "outputs": [],
   "source": [
    "StructType?"
   ]
  },
  {
   "cell_type": "code",
   "execution_count": 2,
   "metadata": {
    "collapsed": false
   },
   "outputs": [],
   "source": [
    "filename = \"/Users/quentinleroy/tmp/kaggle/titanic/data/train.csv\"\n",
    "df = sqlContext.read.load(filename, \n",
    "                          format=\"com.databricks.spark.csv\", \n",
    "                          header=\"true\", \n",
    "                          inferSchema=\"true\", \n",
    "                          nullValue=\"NA\")"
   ]
  },
  {
   "cell_type": "code",
   "execution_count": null,
   "metadata": {
    "collapsed": true
   },
   "outputs": [],
   "source": []
  }
 ],
 "metadata": {
  "kernelspec": {
   "display_name": "Python 2",
   "language": "python",
   "name": "python2"
  },
  "language_info": {
   "codemirror_mode": {
    "name": "ipython",
    "version": 2
   },
   "file_extension": ".py",
   "mimetype": "text/x-python",
   "name": "python",
   "nbconvert_exporter": "python",
   "pygments_lexer": "ipython2",
   "version": "2.7.11"
  }
 },
 "nbformat": 4,
 "nbformat_minor": 0
}
