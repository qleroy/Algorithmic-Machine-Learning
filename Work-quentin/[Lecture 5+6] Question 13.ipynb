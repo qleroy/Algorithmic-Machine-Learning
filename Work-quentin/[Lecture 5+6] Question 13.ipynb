{
 "cells": [
  {
   "cell_type": "markdown",
   "metadata": {},
   "source": [
    "# Question 13\n",
    "In this notebook we address question 3 of Lab5+6. For this purpose we will explore the data over years to confirm or nuance the observations we made on year 1994. We will then gather more data, data about the airports (state and zip code), about the planes,  daily weather data (at airports) and maybe more."
   ]
  },
  {
   "cell_type": "markdown",
   "metadata": {},
   "source": [
    "# Part 3\n",
    "# Period 1993-1996, data exploration"
   ]
  },
  {
   "cell_type": "code",
   "execution_count": 119,
   "metadata": {
    "collapsed": true
   },
   "outputs": [],
   "source": [
    "import os\n",
    "import sys\n",
    "import re\n",
    "from pyspark import SparkContext\n",
    "from pyspark import SparkContext\n",
    "from pyspark.sql import SQLContext\n",
    "from pyspark.sql.types import *\n",
    "from pyspark.sql import Row\n",
    "from pyspark.sql.functions import *\n",
    "%matplotlib inline\n",
    "import matplotlib.pyplot as plt\n",
    "import pandas as pd\n",
    "import numpy as np\n",
    "import pyspark.sql.functions as func\n",
    "import matplotlib.patches as mpatches\n",
    "import time as time\n",
    "\n",
    "from pyspark.mllib.tree import DecisionTree, DecisionTreeModel\n",
    "from pyspark.mllib.util import MLUtils\n",
    "from pyspark.mllib.regression import LabeledPoint\n",
    "from pyspark.mllib.tree import RandomForest, RandomForestModel\n",
    "\n",
    "# to start testing, we can focus on a single year\n",
    "base = \"/datasets/airline/\"\n",
    "# base = \"/Users/quentinleroy/Documents/Eurecom/AML/Lab5+6/air_delays/\"\n",
    "raw_data = sc.textFile(base + \"1994.csv\")\n",
    "#raw_data_1993 = sc.textFile(base + \"1993.csv\")\n",
    "#raw_data_1994 = sc.textFile(base + \"1994.csv\")\n",
    "#raw_data_1995 = sc.textFile(base + \"1995.csv\")\n",
    "#raw_data_1996 = sc.textFile(base + \"1996.csv\")"
   ]
  },
  {
   "cell_type": "code",
   "execution_count": 65,
   "metadata": {
    "collapsed": false
   },
   "outputs": [],
   "source": [
    "#raw_data = raw_data_1993.union(raw_data_1994).union(raw_data_1995).union(raw_data_1996)"
   ]
  },
  {
   "cell_type": "code",
   "execution_count": 120,
   "metadata": {
    "collapsed": false
   },
   "outputs": [],
   "source": [
    "# extract the header\n",
    "header = raw_data.first()\n",
    "\n",
    "def deleteNA(row):\n",
    "    line = row.split(\",\")\n",
    "    for (i,col) in enumerate(line):\n",
    "        if col=='NA':\n",
    "            line[i]=''\n",
    "    return ','.join(line)\n",
    "\n",
    "# replace invalid data with NULL and remove header\n",
    "cleaned_data = (raw_data\\\n",
    "        # filter out the header\n",
    "        .filter(lambda row: row!=header)\n",
    "        # replace the missing values with empty characters\n",
    "        .map(lambda row: deleteNA(row))\n",
    "        )\n",
    "        \n",
    "#print(\"number of rows after cleaning:\", raw_data.count())"
   ]
  },
  {
   "cell_type": "code",
   "execution_count": 121,
   "metadata": {
    "collapsed": false
   },
   "outputs": [],
   "source": [
    "sqlContext = SQLContext(sc)\n",
    "# Declare the data schema\n",
    "# see http://stat-computing.org/dataexpo/2009/the-data.html\n",
    "# for more information\n",
    "airline_data_schema = StructType([ \\\n",
    "    #StructField( name, dataType, nullable)\n",
    "    StructField(\"year\",                     IntegerType(), True), \\\n",
    "    StructField(\"month\",                    IntegerType(), True), \\\n",
    "    StructField(\"day_of_month\",             IntegerType(), True), \\\n",
    "    StructField(\"day_of_week\",              IntegerType(), True), \\\n",
    "    StructField(\"departure_time\",           IntegerType(), True), \\\n",
    "    StructField(\"scheduled_departure_time\", IntegerType(), True), \\\n",
    "    StructField(\"arrival_time\",             IntegerType(), True), \\\n",
    "    StructField(\"scheduled_arrival_time\",   IntegerType(), True), \\\n",
    "    StructField(\"carrier\",                  StringType(),  True), \\\n",
    "    StructField(\"flight_number\",            StringType(),  True), \\\n",
    "    StructField(\"tail_number\",              StringType(), True), \\\n",
    "    StructField(\"actual_elapsed_time\",      IntegerType(), True), \\\n",
    "    StructField(\"scheduled_elapsed_time\",   IntegerType(), True), \\\n",
    "    StructField(\"air_time\",                 IntegerType(), True), \\\n",
    "    StructField(\"arrival_delay\",            IntegerType(), True), \\\n",
    "    StructField(\"departure_delay\",          IntegerType(), True), \\\n",
    "    StructField(\"src_airport\",              StringType(),  True), \\\n",
    "    StructField(\"dest_airport\",             StringType(),  True), \\\n",
    "    StructField(\"distance\",                 IntegerType(), True), \\\n",
    "    StructField(\"taxi_in_time\",             IntegerType(), True), \\\n",
    "    StructField(\"taxi_out_time\",            IntegerType(), True), \\\n",
    "    StructField(\"cancelled\",                StringType(),  True), \\\n",
    "    StructField(\"cancellation_code\",        StringType(),  True), \\\n",
    "    StructField(\"diverted\",                 StringType(),  True), \\\n",
    "    StructField(\"carrier_delay\",            IntegerType(), True), \\\n",
    "    StructField(\"weather_delay\",            IntegerType(), True), \\\n",
    "    StructField(\"nas_delay\",                IntegerType(), True), \\\n",
    "    StructField(\"security_delay\",           IntegerType(), True), \\\n",
    "    StructField(\"late_aircraft_delay\",      IntegerType(), True)\\\n",
    "])"
   ]
  },
  {
   "cell_type": "code",
   "execution_count": 122,
   "metadata": {
    "collapsed": false
   },
   "outputs": [],
   "source": [
    "# convert each line into a tuple of features (columns)\n",
    "\n",
    "cleaned_data_to_columns = cleaned_data.map(lambda l: l.split(\",\"))\\\n",
    "    .map(lambda cols: (\n",
    "            int(cols[0])  if cols[0] else None,\n",
    "            int(cols[1])  if cols[1] else None,\n",
    "            int(cols[2])  if cols[2] else None,\n",
    "            int(cols[3])  if cols[3] else None,\n",
    "            int(cols[4])  if cols[4] else None,\n",
    "            int(cols[5])  if cols[5] else None,\n",
    "            int(cols[6])  if cols[6] else None,\n",
    "            int(cols[7])  if cols[7] else None,\n",
    "            cols[8]       if cols[8] else None,\n",
    "            cols[9]       if cols[9] else None,\n",
    "            cols[10]      if cols[10] else None,\n",
    "            int(cols[11]) if cols[11] else None,\n",
    "            int(cols[12]) if cols[12] else None,\n",
    "            int(cols[13]) if cols[13] else None,\n",
    "            int(cols[14]) if cols[14] else None,\n",
    "            int(cols[15]) if cols[15] else None,\n",
    "            cols[16]      if cols[16] else None,\n",
    "            cols[17]      if cols[17] else None,\n",
    "            int(cols[18]) if cols[18] else None,\n",
    "            int(cols[19]) if cols[19] else None,\n",
    "            int(cols[20]) if cols[20] else None,\n",
    "            cols[21]      if cols[21] else None,\n",
    "            cols[22]      if cols[22] else None,\n",
    "            cols[23]      if cols[23] else None,\n",
    "            int(cols[24]) if cols[24] else None,\n",
    "            int(cols[25]) if cols[25] else None,\n",
    "            int(cols[26]) if cols[26] else None,\n",
    "            int(cols[27]) if cols[27] else None,\n",
    "            int(cols[28]) if cols[28] else None\n",
    "         ))"
   ]
  },
  {
   "cell_type": "code",
   "execution_count": 123,
   "metadata": {
    "collapsed": false
   },
   "outputs": [],
   "source": [
    "# create dataframe df\n",
    "df = (sqlContext.createDataFrame(cleaned_data_to_columns, schema = airline_data_schema)\n",
    "        .select([\"year\", \"month\", \"day_of_month\", \"day_of_week\", \\\n",
    "                \"departure_time\", \"scheduled_departure_time\",\"arrival_time\",\\\n",
    "                 \"scheduled_arrival_time\",\"arrival_delay\", \"departure_delay\",\\\n",
    "                 \"src_airport\", \"dest_airport\", \"carrier\", \"distance\", \"tail_number\"])\n",
    "        .cache()\n",
    "    )\n",
    "\n",
    "# print(\"number of rows before cleaning:\", df.count())"
   ]
  },
  {
   "cell_type": "code",
   "execution_count": 124,
   "metadata": {
    "collapsed": false
   },
   "outputs": [
    {
     "name": "stdout",
     "output_type": "stream",
     "text": [
      "During period 1995, among  5180048  flights\n",
      "\t 31063 flights departed more than 120 minutes late\n",
      "\t 3778 flight departed more than 10 minutes early\n",
      "\t 37987 flights arrived more than 120 minutes late\n",
      "\t 560869 flight arrived more than 10 minutes early\n"
     ]
    }
   ],
   "source": [
    "total_flights = df.count()\n",
    "print(\"During period 1995, among \", total_flights, \" flights\")\n",
    "print(\"\\t\", df[df.departure_delay>120].count(), \"flights departed more than 120 minutes late\")\n",
    "print(\"\\t\", df[df.departure_delay<-10].count(), \"flight departed more than 10 minutes early\")\n",
    "print(\"\\t\", df[df.arrival_delay>120].count(), \"flights arrived more than 120 minutes late\")\n",
    "print(\"\\t\", df[df.arrival_delay<-10].count(), \"flight arrived more than 10 minutes early\")"
   ]
  },
  {
   "cell_type": "code",
   "execution_count": 125,
   "metadata": {
    "collapsed": false
   },
   "outputs": [],
   "source": [
    "df = df.filter(~df.year.isNull())\n",
    "df = df.filter(~df.month.isNull())\n",
    "df = df.filter(~df.day_of_month.isNull())\n",
    "df = df.filter(~df.day_of_week.isNull())\n",
    "df = df.filter(~df.departure_time.isNull())\n",
    "df = df.filter(~df.arrival_time.isNull())\n",
    "df = df.filter(~df.scheduled_arrival_time.isNull())\n",
    "df = df.filter(~df.arrival_delay.isNull())\n",
    "df = df.filter(~df.departure_delay.isNull())\n",
    "df = df.filter(~df.src_airport.isNull())\n",
    "df = df.filter(~df.dest_airport.isNull())\n",
    "df = df.filter(~df.carrier.isNull())\n",
    "df = df.filter(~df.distance.isNull())\n",
    "# df = df.filter(~df.tail_number.isNull())"
   ]
  },
  {
   "cell_type": "markdown",
   "metadata": {},
   "source": [
    "## Add some columns"
   ]
  },
  {
   "cell_type": "code",
   "execution_count": 126,
   "metadata": {
    "collapsed": true
   },
   "outputs": [],
   "source": [
    "def time_to_minutes(hour_minutes):\n",
    "    hour = round(hour_minutes/100, 0)\n",
    "    minutes = hour_minutes - 100*hour\n",
    "    return 60*hour + minutes"
   ]
  },
  {
   "cell_type": "code",
   "execution_count": 127,
   "metadata": {
    "collapsed": false
   },
   "outputs": [],
   "source": [
    "df = df.withColumn('hour', round(df.scheduled_departure_time/100, 0))\n",
    "df = df.withColumn('is_delay', when(df[\"arrival_delay\"] >= 15, 1).otherwise(0))\n",
    "df = df.withColumn(\"scheduled_departure_minutes\", time_to_minutes(df.scheduled_departure_time))\n",
    "df = df.withColumn(\"scheduled_arrival_minutes\", time_to_minutes(df.scheduled_arrival_time))\n",
    "df = df.withColumn(\"is_WedThuFri\", when((df[\"day_of_week\"]>=3) & (df[\"day_of_week\"]<=5), 1).otherwise(0))\n",
    "df = df.withColumn(\"is_weekend\", when((df[\"day_of_week\"]>=6) & (df[\"day_of_week\"]<=7), 1).otherwise(0))\n",
    "df = df.withColumn(\"air_delay\", df.arrival_delay-df.departure_delay)"
   ]
  },
  {
   "cell_type": "markdown",
   "metadata": {},
   "source": [
    "# Some work about the airports"
   ]
  },
  {
   "cell_type": "code",
   "execution_count": 128,
   "metadata": {
    "collapsed": true
   },
   "outputs": [],
   "source": [
    "src_airports = df.select(\"src_airport\").distinct().collect()\n",
    "dest_airports = df.select(\"dest_airport\").distinct().collect()\n",
    "src_airports.sort()\n",
    "dest_airports.sort()\n",
    "src_airports = [iata.src_airport for iata in src_airports]\n",
    "dest_airports = [iata.dest_airport for iata in dest_airports]"
   ]
  },
  {
   "cell_type": "code",
   "execution_count": 129,
   "metadata": {
    "collapsed": false
   },
   "outputs": [],
   "source": [
    "import csv\n",
    "# airports_filename = \"/Users/quentinleroy/Documents/Eurecom/AML/Lab5+6/data/airports.csv\"\n",
    "airports_filename = \"/user/group07/airports.csv\"\n",
    "airports_data = sc.textFile(airports_filename)\n",
    "header_airports = airports_data.first()\n",
    "airports_clean_data = airports_data.filter(lambda row: row!=header_airports).map(lambda row: deleteNA(row))\n",
    "\n",
    "airport_data_schema = StructType([\n",
    "        StructField(\"src_airport_iata\", StringType(), True),\n",
    "        StructField(\"dest_airport_iata\", StringType(), True),\n",
    "        StructField(\"src_airport\", StringType(), True),\n",
    "        StructField(\"dest_airport\", StringType(), True),\n",
    "        StructField(\"src_airport_city\", StringType(), True), \n",
    "        StructField(\"dest_airport_city\", StringType(), True), \n",
    "        StructField(\"src_airport_state\", StringType(), True),\n",
    "        StructField(\"dest_airport_state\", StringType(), True),\n",
    "        StructField(\"src_airport_country\", StringType(), True),\n",
    "        StructField(\"dest_airport_country\", StringType(), True),\n",
    "        StructField(\"src_airport_lat\", FloatType(), True),\n",
    "        StructField(\"dest_airport_lat\", FloatType(), True),\n",
    "        StructField(\"src_airport_long\", FloatType(), True),\n",
    "        StructField(\"dest_airport_long\", FloatType(), True)\n",
    "    ])\n",
    "\n",
    "airports_clean_data_to_columns = airports_clean_data.map(lambda l: list(csv.reader([l]))[0])\\\n",
    "    .map(lambda cols: (cols[0] if cols[0] else None,\n",
    "                       cols[0] if cols[0] else None,\n",
    "                       cols[1] if cols[1] else None,\n",
    "                       cols[1] if cols[1] else None, \n",
    "                       cols[2] if cols[2] else None, \n",
    "                       cols[2] if cols[2] else None,\n",
    "                       cols[3] if cols[3] else None,\n",
    "                       cols[3] if cols[3] else None,\n",
    "                       cols[4] if cols[4] else None,\n",
    "                       cols[4] if cols[4] else None,\n",
    "                       float(cols[5]) if cols[5] else None,\n",
    "                       float(cols[5]) if cols[5] else None,\n",
    "                       float(cols[6]) if cols[6] else None,\n",
    "                       float(cols[6]) if cols[6] else None\n",
    "        ))\n",
    "    \n",
    "df_airports = sqlContext.createDataFrame(airports_clean_data_to_columns, schema=airport_data_schema).cache()\n",
    "\n",
    "df_src_airports = df_airports.select([\"src_airport_iata\", \"src_airport_city\", \"src_airport_state\", \n",
    "                                      \"src_airport_country\", \"src_airport_lat\", \"src_airport_long\"])\n",
    "df_dest_airports = df_airports.select([\"dest_airport_iata\", \"dest_airport_city\", \"dest_airport_state\", \n",
    "                                      \"dest_airport_country\", \"dest_airport_lat\", \"dest_airport_long\"])\n",
    "\n",
    "df_src_airports = df_src_airports.filter(df_src_airports.src_airport_iata.isin(src_airports))\n",
    "df_dest_airports = df_dest_airports.filter(df_dest_airports.dest_airport_iata.isin(dest_airports))\n",
    "\n",
    "df = df.join(df_src_airports, df.src_airport==df_src_airports.src_airport_iata)\n",
    "df = df.join(df_dest_airports, df.dest_airport==df_dest_airports.dest_airport_iata)"
   ]
  },
  {
   "cell_type": "code",
   "execution_count": 130,
   "metadata": {
    "collapsed": true
   },
   "outputs": [],
   "source": [
    "df = df.filter(~df.src_airport_state.isNull())\n",
    "df = df.filter(~df.dest_airport_state.isNull())"
   ]
  },
  {
   "cell_type": "markdown",
   "metadata": {},
   "source": [
    "# Working with plane data"
   ]
  },
  {
   "cell_type": "code",
   "execution_count": 131,
   "metadata": {
    "collapsed": false
   },
   "outputs": [],
   "source": [
    "plane_data_filename = \"/user/group07/plane-data-n_number-type_aircraft-type_engine.csv\"\n",
    "planes_data = sc.textFile(plane_data_filename)\n",
    "header_plane_data = planes_data.first()\n",
    "planes_clean_data = planes_data.filter(lambda row: row!=header_plane_data).map(lambda row: deleteNA(row))\n",
    "\n",
    "plane_data_schema = StructType([\n",
    "        StructField(\"n_number\", StringType(), True),\n",
    "        StructField(\"type_aircraft\", IntegerType(), True),\n",
    "        StructField(\"type_engine\", IntegerType(), True),\n",
    "    ])\n",
    "\n",
    "planes_clean_data_to_columns = planes_clean_data.map(lambda l: list(csv.reader([l]))[0])\\\n",
    "    .map(lambda cols: (\"N\"+cols[0].strip() if cols[0] else None,\n",
    "                       int(cols[1]) if cols[1] else None,\n",
    "                       int(cols[2]) if cols[2] else None,\n",
    "                       \n",
    "        ))\n",
    "    \n",
    "df_planes = sqlContext.createDataFrame(planes_clean_data_to_columns, schema=plane_data_schema).cache()\n",
    "df = df.join(df_planes, on=df.tail_number==df_planes.n_number, how='left')"
   ]
  },
  {
   "cell_type": "markdown",
   "metadata": {},
   "source": [
    "# Working with severe weather data\n",
    "The state in the following csv file is not specified as a code (\"Alabama\" instead of \"AL\"), load states_codes.csv before and then join with storm_events"
   ]
  },
  {
   "cell_type": "code",
   "execution_count": 132,
   "metadata": {
    "collapsed": false
   },
   "outputs": [],
   "source": [
    "states_codes_filename = \"/user/group07/states_codes.csv\"\n",
    "# states_codes_filename= \"/Users/quentinleroy/Documents/Eurecom/Algorithmic-Machine-Learning/data/states_codes.csv\"\n",
    "states_codes_data = sc.textFile(states_codes_filename)\n",
    "header_states_codes = states_codes_data.first()\n",
    "states_codes_clean_data = states_codes_data.filter(lambda row: row!=header_states_codes)\n",
    "\n",
    "states_codes_data_schema = StructType([\n",
    "        StructField(\"state\", StringType(), True),\n",
    "        StructField(\"state_code\", StringType(), True)\n",
    "    ])\n",
    "\n",
    "states_codes_clean_data_to_columns = states_codes_clean_data.map(lambda l: list(csv.reader([l]))[0])\\\n",
    "    .map(lambda cols: ( cols[0].upper() if cols[0] else None,\n",
    "                        cols[1] if cols[1] else None,\n",
    "                       ))\n",
    "    \n",
    "df_states_codes = sqlContext.createDataFrame(states_codes_clean_data_to_columns, schema=states_codes_data_schema)"
   ]
  },
  {
   "cell_type": "code",
   "execution_count": 133,
   "metadata": {
    "collapsed": false
   },
   "outputs": [],
   "source": [
    "map_month_name_to_month = {\"JAN\": 1, \"FEB\": 2, \"MAR\": 3, \"APR\": 4, \"MAY\": 5, \"JUN\": 6, \"JUL\": 7, \"AUG\": 8,\n",
    "                          \"SEP\": 9, \"OCT\": 10, \"NOV\": 11, \"DEC\": 12}\n",
    "\n",
    "def date_time_parse_before_2000(date_time):\n",
    "    front = date_time.split(\" \")[0]\n",
    "    back = date_time.split(\" \")[1]\n",
    "    year = int(\"19\"+front.split(\"-\")[2]) # year\n",
    "    month = map_month_name_to_month[front.split(\"-\")[1]] #month\n",
    "    day_of_month = int(front.split(\"-\")[0]) #day_of_month\n",
    "    hour = int(back.split(\":\")[0]) #hour\n",
    "    minute = int(back.split(\":\")[1]) #minute\n",
    "    return {\"year\": year, \"month\": month, \"day_of_month\": day_of_month, \n",
    "            \"hour\": hour, \"minute\": minute, \"minutes\": hour*60+minute}\n"
   ]
  },
  {
   "cell_type": "code",
   "execution_count": 134,
   "metadata": {
    "collapsed": false
   },
   "outputs": [],
   "source": [
    "import csv\n",
    "storm_event_filename = \"/user/group07/storm_events.csv\"\n",
    "# storm_event_filename = \"/Users/quentinleroy/Documents/Eurecom/Algorithmic-Machine-Learning/data/storm_events.csv\"\n",
    "storm_events_data = sc.textFile(storm_event_filename)\n",
    "header_storm_event_data = storm_events_data.first()\n",
    "storm_events_clean_data = storm_events_data.filter(lambda row: row!=header_storm_event_data).map(lambda row: deleteNA(row))\n",
    "\n",
    "\"\"\"storm_event_data_schema = StructType([\n",
    "        StructField(\"begin_yearmonth\", StringType(), True), # important 0 \n",
    "        StructField(\"begin_day\", StringType(), True), # important 1\n",
    "        StructField(\"begin_time\", StringType(), True), # important 2\n",
    "        StructField(\"end_yearmonth\", StringType(), True), # important 3\n",
    "        StructField(\"end_day\", StringType(), True), # important 4\n",
    "        StructField(\"end_time\", StringType(), True), # important 5\n",
    "        StructField(\"episode_id\", StringType(), True),\n",
    "        StructField(\"event_id\", StringType(), True),\n",
    "        StructField(\"state\", StringType(), True), # important 6\n",
    "        StructField(\"state_fips\", StringType(), True),\n",
    "        StructField(\"year\", StringType(), True), # important 7\n",
    "        StructField(\"month_name\", StringType(), True), # important 8\n",
    "        StructField(\"event_type\", StringType(), True),\n",
    "        StructField(\"cz_type\", StringType(), True),\n",
    "        StructField(\"cz_fips\", StringType(), True),\n",
    "        StructField(\"cz_name\", StringType(), True),\n",
    "        StructField(\"wfo\", StringType(), True),\n",
    "        StructField(\"begin_date_time\", StringType(), True), # important 9\n",
    "        StructField(\"cz_timezone\", StringType(), True),\n",
    "        StructField(\"end_date_time\", StringType(), True), # important 10\n",
    "        StructField(\"injuries_direct\", StringType(), True),\n",
    "        StructField(\"injuries_indirect\", StringType(), True),\n",
    "        StructField(\"deaths_direct\", StringType(), True),\n",
    "        StructField(\"deaths_indirect\", StringType(), True),\n",
    "        StructField(\"damage_property\", StringType(), True),\n",
    "        StructField(\"damage_crops\", StringType(), True),\n",
    "        StructField(\"source\", StringType(), True),\n",
    "        StructField(\"magnitude\", StringType(), True), # important 11\n",
    "        StructField(\"magnitude_type\", StringType(), True),\n",
    "        StructField(\"flood_cause\", StringType(), True),\n",
    "        StructField(\"category\", StringType(), True), # important 12\n",
    "        StructField(\"tor_f_scale\", StringType(), True),\n",
    "        StructField(\"tor_length\", StringType(), True),\n",
    "        StructField(\"tor_width\", StringType(), True),\n",
    "        StructField(\"tor_other_wfo\", StringType(), True),\n",
    "        StructField(\"tor_other_cz_state\", StringType(), True),\n",
    "        StructField(\"tor_other_cz_fips\", StringType(), True),\n",
    "        StructField(\"tor_other_cz_name\", StringType(), True),\n",
    "        StructField(\"begin_range\", StringType(), True),\n",
    "        StructField(\"begin_azimuth\", StringType(), True),\n",
    "        StructField(\"begin_location\", StringType(), True),\n",
    "        StructField(\"end_range\", StringType(), True),\n",
    "        StructField(\"end_azimuth\", StringType(), True),\n",
    "        StructField(\"end_location\", StringType(), True),\n",
    "        StructField(\"begin_lat\", StringType(), True), # important 13\n",
    "        StructField(\"begin_lon\", StringType(), True), # important 14\n",
    "        StructField(\"end_lat\", StringType(), True), # important 15\n",
    "        StructField(\"end_lon\", StringType(), True), # # important 16\n",
    "        StructField(\"episode_narrative\", StringType(), True),\n",
    "        StructField(\"event_narrative\", StringType(), True),\n",
    "        StructField(\"data_source\", StringType(), True)\n",
    "    ])\"\"\"\n",
    "\n",
    "storm_event_data_schema = StructType([\n",
    "        StructField(\"state\", StringType(), True), \n",
    "        StructField(\"event_type\", StringType(), True),\n",
    "        StructField(\"begin_year\", IntegerType(), True), \n",
    "        StructField(\"begin_month\", IntegerType(), True), \n",
    "        StructField(\"begin_day_of_month\", IntegerType(), True), \n",
    "        StructField(\"begin_minutes\", IntegerType(), True), \n",
    "        StructField(\"end_year\", IntegerType(), True), \n",
    "        StructField(\"end_month\", IntegerType(), True), \n",
    "        StructField(\"end_day_of_month\", IntegerType(), True), \n",
    "        StructField(\"end_minutes\", IntegerType(), True), \n",
    "        StructField(\"magnitude\", StringType(), True), \n",
    "        StructField(\"magnitude_type\", StringType(), True)\n",
    "    ])\n",
    "storm_events_clean_data_to_columns = storm_events_clean_data.map(lambda l: list(csv.reader([l]))[0])\\\n",
    "    .map(lambda cols: ( cols[8] if cols[8] else None, # state\n",
    "                        cols[12] if cols[12] else None, # event_type\n",
    "                        date_time_parse_before_2000(cols[17])[\"year\"] if cols[17] else None, # begin_year\n",
    "                        date_time_parse_before_2000(cols[17])[\"month\"] if cols[17] else None, # begin_month\n",
    "                        date_time_parse_before_2000(cols[17])[\"day_of_month\"] if cols[17] else None, # begin_day_of_month\n",
    "                        date_time_parse_before_2000(cols[17])[\"minutes\"] if cols[17] else None, # begin_minutes\n",
    "                        date_time_parse_before_2000(cols[19])[\"year\"] if cols[19] else None, # end_year\n",
    "                        date_time_parse_before_2000(cols[19])[\"month\"] if cols[19] else None, # end_month\n",
    "                        date_time_parse_before_2000(cols[19])[\"day_of_month\"] if cols[19] else None, # end_day_of_month\n",
    "                        date_time_parse_before_2000(cols[19])[\"minutes\"] if cols[19] else None, # end_minutes\n",
    "                        float(cols[27]) if cols[27] else None, #magnitude\n",
    "                        float(cols[28]) if cols[28] else None  #magnitude_type\n",
    "                      ))\n",
    "\n",
    "\"\"\"storm_events_clean_data_to_columns = storm_events_clean_data.map(lambda l: list(csv.reader([l]))[0])\\\n",
    "    .map(lambda cols: ( cols[0] if cols[0] else None,\n",
    "                        cols[1] if cols[1] else None,\n",
    "                        cols[2] if cols[2] else None,\n",
    "                        cols[3] if cols[3] else None,\n",
    "                        cols[4] if cols[4] else None,\n",
    "                        cols[5] if cols[5] else None,\n",
    "                        cols[6] if cols[6] else None,\n",
    "                        cols[7] if cols[7] else None,\n",
    "                        cols[8] if cols[8] else None,\n",
    "                        cols[9] if cols[9] else None,\n",
    "                        cols[10] if cols[10] else None,\n",
    "                        cols[11] if cols[11] else None,\n",
    "                        cols[12] if cols[12] else None,\n",
    "                        cols[13] if cols[13] else None,\n",
    "                        cols[14] if cols[14] else None,\n",
    "                        cols[15] if cols[15] else None,\n",
    "                        cols[16] if cols[16] else None,\n",
    "                        cols[17] if cols[17] else None,\n",
    "                        cols[18] if cols[18] else None,\n",
    "                        cols[19] if cols[19] else None,\n",
    "                        cols[20] if cols[20] else None,\n",
    "                        cols[21] if cols[21] else None,\n",
    "                        cols[22] if cols[22] else None,\n",
    "                        cols[23] if cols[23] else None,\n",
    "                        cols[24] if cols[24] else None,\n",
    "                        cols[25] if cols[25] else None,\n",
    "                        cols[26] if cols[26] else None,\n",
    "                        cols[27] if cols[27] else None,\n",
    "                        cols[28] if cols[28] else None,\n",
    "                        cols[29] if cols[29] else None,\n",
    "                        cols[30] if cols[30] else None,\n",
    "                        cols[31] if cols[31] else None,\n",
    "                        cols[32] if cols[32] else None,\n",
    "                        cols[33] if cols[33] else None,\n",
    "                        cols[34] if cols[34] else None,\n",
    "                        cols[35] if cols[35] else None,\n",
    "                        cols[36] if cols[36] else None,\n",
    "                        cols[37] if cols[37] else None,\n",
    "                        cols[38] if cols[38] else None,\n",
    "                        cols[39] if cols[39] else None,\n",
    "                        cols[40] if cols[40] else None,\n",
    "                        cols[41] if cols[41] else None,\n",
    "                        cols[42] if cols[42] else None,\n",
    "                        cols[43] if cols[43] else None,\n",
    "                        cols[44] if cols[44] else None,\n",
    "                        cols[45] if cols[45] else None,\n",
    "                        cols[46] if cols[46] else None,\n",
    "                        cols[47] if cols[47] else None,\n",
    "                        cols[48] if cols[48] else None,\n",
    "                        cols[49] if cols[49] else None,\n",
    "                        cols[50] if cols[50] else None\n",
    "                       \n",
    "        ))\"\"\"\n",
    "    \n",
    "df_storm_events = sqlContext.createDataFrame(storm_events_clean_data_to_columns, schema=storm_event_data_schema).cache()\n",
    "\n",
    "# Finally join df_storm_events and df_states_codes on state\n",
    "df_storm_events = df_storm_events.join(df_states_codes, on=(df_storm_events.state==df_states_codes.state))"
   ]
  },
  {
   "cell_type": "code",
   "execution_count": 101,
   "metadata": {
    "collapsed": false
   },
   "outputs": [
    {
     "data": {
      "text/plain": [
       "Row(state='CONNECTICUT', event_type='Thunderstorm Wind', begin_year=1994, begin_month=5, begin_day_of_month=6, begin_minutes=769, end_year=1994, end_month=5, end_day_of_month=6, end_minutes=769, magnitude='0.0', magnitude_type=None, state='CONNECTICUT', state_code='CT')"
      ]
     },
     "execution_count": 101,
     "metadata": {},
     "output_type": "execute_result"
    }
   ],
   "source": [
    "df_storm_events.first()"
   ]
  },
  {
   "cell_type": "code",
   "execution_count": 89,
   "metadata": {
    "collapsed": false
   },
   "outputs": [
    {
     "data": {
      "text/plain": [
       "15616"
      ]
     },
     "execution_count": 89,
     "metadata": {},
     "output_type": "execute_result"
    }
   ],
   "source": [
    "df_storm_events.count()"
   ]
  },
  {
   "cell_type": "code",
   "execution_count": 99,
   "metadata": {
    "collapsed": true
   },
   "outputs": [],
   "source": [
    "df.print"
   ]
  },
  {
   "cell_type": "markdown",
   "metadata": {},
   "source": [
    "## Join df with df_storm_events on {src,dest}_airport_state and day of year (year, month, day_of_month)"
   ]
  },
  {
   "cell_type": "code",
   "execution_count": 135,
   "metadata": {
    "collapsed": false
   },
   "outputs": [],
   "source": [
    "cond = [df.src_airport_state==(df_storm_events.state_code),\\\n",
    "        df.year==(df_storm_events.begin_year), \\\n",
    "        df.month==(df_storm_events.begin_month), \\\n",
    "        df.day_of_month==(df_storm_events.begin_day_of_month)]"
   ]
  },
  {
   "cell_type": "code",
   "execution_count": null,
   "metadata": {
    "collapsed": false
   },
   "outputs": [
    {
     "data": {
      "text/plain": [
       "Row(year=1994, month=4, day_of_month=6, day_of_week=3, departure_time=1048, scheduled_departure_time=1050, arrival_time=1117, scheduled_arrival_time=1127, arrival_delay=-10, departure_delay=-2, src_airport='JNU', dest_airport='SIT', carrier='AS', distance=95, tail_number=None, hour=11.0, is_delay=0, scheduled_departure_minutes=610.0, scheduled_arrival_minutes=687.0, is_WedThuFri=1, is_weekend=0, air_delay=-8, src_airport_iata='JNU', src_airport_city='Juneau', src_airport_state='AK', src_airport_country='USA', src_airport_lat=58.35496139526367, src_airport_long=-134.57627868652344, dest_airport_iata='SIT', dest_airport_city='Sitka', dest_airport_state='AK', dest_airport_country='USA', dest_airport_lat=57.04713821411133, dest_airport_long=-135.36160278320312, n_number=None, type_aircraft=None, type_engine=None, state=None, event_type=None, begin_year=None, begin_month=None, begin_day_of_month=None, begin_minutes=None, end_year=None, end_month=None, end_day_of_month=None, end_minutes=None, magnitude=None, magnitude_type=None, state=None, state_code=None)"
      ]
     },
     "execution_count": 137,
     "metadata": {},
     "output_type": "execute_result"
    }
   ],
   "source": [
    "df_with_storm_events.first()"
   ]
  },
  {
   "cell_type": "code",
   "execution_count": 118,
   "metadata": {
    "collapsed": false
   },
   "outputs": [
    {
     "data": {
      "text/plain": [
       "Row(state='ALABAMA', event_type='Tornado', begin_year=1994, begin_month=3, begin_day_of_month=27, begin_minutes=692, end_year=1994, end_month=3, end_day_of_month=27, end_minutes=692, magnitude='0.0', magnitude_type=None, state='ALABAMA', state_code='AL')"
      ]
     },
     "execution_count": 118,
     "metadata": {},
     "output_type": "execute_result"
    }
   ],
   "source": [
    "df_storm_events.first()"
   ]
  },
  {
   "cell_type": "code",
   "execution_count": 136,
   "metadata": {
    "collapsed": false
   },
   "outputs": [],
   "source": [
    "df_with_storm_events = df.join(df_storm_events, on=cond, how=\"left\")"
   ]
  },
  {
   "cell_type": "code",
   "execution_count": null,
   "metadata": {
    "collapsed": false
   },
   "outputs": [],
   "source": [
    "df_with_storm_events[~df_with_storm_events.event_type.isNull()].collect()"
   ]
  },
  {
   "cell_type": "code",
   "execution_count": 116,
   "metadata": {
    "collapsed": false
   },
   "outputs": [
    {
     "name": "stdout",
     "output_type": "stream",
     "text": [
      "0 year:int\n",
      "1 month:int\n",
      "2 day_of_month:int\n",
      "3 day_of_week:int\n",
      "4 departure_time:int\n",
      "5 scheduled_departure_time:int\n",
      "6 arrival_time:int\n",
      "7 scheduled_arrival_time:int\n",
      "8 arrival_delay:int\n",
      "9 departure_delay:int\n",
      "10 src_airport:string\n",
      "11 dest_airport:string\n",
      "12 carrier:string\n",
      "13 distance:int\n",
      "14 tail_number:string\n",
      "15 hour:double\n",
      "16 is_delay:int\n",
      "17 scheduled_departure_minutes:double\n",
      "18 scheduled_arrival_minutes:double\n",
      "19 is_WedThuFri:int\n",
      "20 is_weekend:int\n",
      "21 air_delay:int\n",
      "22 src_airport_iata:string\n",
      "23 src_airport_city:string\n",
      "24 src_airport_state:string\n",
      "25 src_airport_country:string\n",
      "26 src_airport_lat:float\n",
      "27 src_airport_long:float\n",
      "28 dest_airport_iata:string\n",
      "29 dest_airport_city:string\n",
      "30 dest_airport_state:string\n",
      "31 dest_airport_country:string\n",
      "32 dest_airport_lat:float\n",
      "33 dest_airport_long:float\n",
      "34 n_number:string\n",
      "35 type_aircraft:int\n",
      "36 type_engine:int\n",
      "37 state:string\n",
      "38 event_type:string\n",
      "39 begin_year:int\n",
      "40 begin_month:int\n",
      "41 begin_day_of_month:int\n",
      "42 begin_minutes:int\n",
      "43 end_year:int\n",
      "44 end_month:int\n",
      "45 end_day_of_month:int\n",
      "46 end_minutes:int\n",
      "47 magnitude:string\n",
      "48 magnitude_type:string\n",
      "49 state:string\n",
      "50 state_code:string\n"
     ]
    }
   ],
   "source": [
    "for (i,field) in enumerate(df_with_storm_events.schema.fields):\n",
    "    print(i, field.simpleString())"
   ]
  },
  {
   "cell_type": "code",
   "execution_count": 103,
   "metadata": {
    "collapsed": false
   },
   "outputs": [
    {
     "name": "stdout",
     "output_type": "stream",
     "text": [
      "0 state:string\n",
      "1 event_type:string\n",
      "2 begin_year:int\n",
      "3 begin_month:int\n",
      "4 begin_day_of_month:int\n",
      "5 begin_minutes:int\n",
      "6 end_year:int\n",
      "7 end_month:int\n",
      "8 end_day_of_month:int\n",
      "9 end_minutes:int\n",
      "10 magnitude:string\n",
      "11 magnitude_type:string\n",
      "12 state:string\n",
      "13 state_code:string\n"
     ]
    }
   ],
   "source": [
    "full_storm_events_schema = df_storm_events.schema\n",
    "for (i,field) in enumerate(full_storm_events_schema.fields):\n",
    "    print(i, field.simpleString())"
   ]
  },
  {
   "cell_type": "markdown",
   "metadata": {},
   "source": [
    "## Print df schema"
   ]
  },
  {
   "cell_type": "code",
   "execution_count": 102,
   "metadata": {
    "collapsed": false
   },
   "outputs": [
    {
     "name": "stdout",
     "output_type": "stream",
     "text": [
      "0 year:int\n",
      "1 month:int\n",
      "2 day_of_month:int\n",
      "3 day_of_week:int\n",
      "4 departure_time:int\n",
      "5 scheduled_departure_time:int\n",
      "6 arrival_time:int\n",
      "7 scheduled_arrival_time:int\n",
      "8 arrival_delay:int\n",
      "9 departure_delay:int\n",
      "10 src_airport:string\n",
      "11 dest_airport:string\n",
      "12 carrier:string\n",
      "13 distance:int\n",
      "14 tail_number:string\n",
      "15 hour:double\n",
      "16 is_delay:int\n",
      "17 scheduled_departure_minutes:double\n",
      "18 scheduled_arrival_minutes:double\n",
      "19 is_WedThuFri:int\n",
      "20 is_weekend:int\n",
      "21 air_delay:int\n",
      "22 src_airport_iata:string\n",
      "23 src_airport_city:string\n",
      "24 src_airport_state:string\n",
      "25 src_airport_country:string\n",
      "26 src_airport_lat:float\n",
      "27 src_airport_long:float\n",
      "28 dest_airport_iata:string\n",
      "29 dest_airport_city:string\n",
      "30 dest_airport_state:string\n",
      "31 dest_airport_country:string\n",
      "32 dest_airport_lat:float\n",
      "33 dest_airport_long:float\n",
      "34 n_number:string\n",
      "35 type_aircraft:int\n",
      "36 type_engine:int\n"
     ]
    }
   ],
   "source": [
    "for (i,field) in enumerate(df.schema.fields):\n",
    "    print(i, field.simpleString())"
   ]
  },
  {
   "cell_type": "markdown",
   "metadata": {},
   "source": [
    "# Descriptive statistics"
   ]
  },
  {
   "cell_type": "code",
   "execution_count": 8,
   "metadata": {
    "collapsed": false
   },
   "outputs": [
    {
     "name": "stdout",
     "output_type": "stream",
     "text": [
      "finish in 28.827329 seconds\n"
     ]
    }
   ],
   "source": [
    "t0 = time.time()\n",
    "statistic_month = df.groupBy(\"month\").count().collect()\n",
    "t1 = time.time()\n",
    "print(\"finish in %f seconds\" % (t1-t0))"
   ]
  },
  {
   "cell_type": "code",
   "execution_count": 89,
   "metadata": {
    "collapsed": false,
    "scrolled": true
   },
   "outputs": [
    {
     "data": {
      "image/png": "[encoded data removed]",
      "text/plain": [
       "<matplotlib.figure.Figure at 0x7f47ec98d198>"
      ]
     },
     "metadata": {},
     "output_type": "display_data"
    }
   ],
   "source": [
    "pdf = pd.DataFrame(data=statistic_month)\n",
    "plt.xlabel(\"Months\")\n",
    "plt.ylabel(\"Number of flights\")\n",
    "plt.title('Figure 1: The change of number flights over months, 1993-1996')\n",
    "plt.grid(True,which=\"both\",ls=\"-\")\n",
    "plt.plot(pdf[0], pdf[1])\n",
    "plt.xlim(1,12)\n",
    "plt.xticks(range(1,13), [\"Jan\", \"Feb\", \"Mar\", \"Apr\", \"May\", \"Jun\", \"Jul\", \"Aug\", \"Sep\", \"Oct\", \"Nov\", \"Dec\"])\n",
    "plt.show()"
   ]
  },
  {
   "cell_type": "code",
   "execution_count": 68,
   "metadata": {
    "collapsed": false
   },
   "outputs": [
    {
     "name": "stdout",
     "output_type": "stream",
     "text": [
      "finish in 8.808654 seconds\n"
     ]
    }
   ],
   "source": [
    "t0 = time.time()\n",
    "statistic_day_of_week = df.groupBy(\"day_of_week\").count().collect()\n",
    "t1 = time.time()\n",
    "print(\"finish in %f seconds\" % (t1-t0))"
   ]
  },
  {
   "cell_type": "code",
   "execution_count": 72,
   "metadata": {
    "collapsed": false
   },
   "outputs": [
    {
     "data": {
      "image/png": "[encoded data removed]",
      "text/plain": [
       "<matplotlib.figure.Figure at 0x112ad8a20>"
      ]
     },
     "metadata": {},
     "output_type": "display_data"
    }
   ],
   "source": [
    "#statistic_day_of_week.show()\n",
    "pdf = pd.DataFrame(data=statistic_day_of_week)\n",
    "plt.xlabel(\"Days of week\")\n",
    "plt.ylabel(\"Number of flights\")\n",
    "plt.title('Figure 2: The change of number flights over days of week, 1993-1996')\n",
    "plt.grid(True,which=\"both\",ls=\"-\")\n",
    "map_int_into_day = { 1:\"Mon\", 2:\"Tue\", 3:\"Wed\", 4:\"Thu\", 5:\"Fri\", 6:\"Sat\", 7:\"Sun\" }\n",
    "day_of_week_label = pdf[0].map(lambda i: map_int_into_day[i])\n",
    "\n",
    "# plot bar chart\n",
    "plt.bar(pdf[0], pdf[1], align=\"center\", alpha = 0.4)\n",
    "\n",
    "plt.xticks(pdf[0], day_of_week_label)\n",
    "plt.show()\n"
   ]
  },
  {
   "cell_type": "code",
   "execution_count": 70,
   "metadata": {
    "collapsed": false
   },
   "outputs": [
    {
     "name": "stdout",
     "output_type": "stream",
     "text": [
      "finish in 7.629210 seconds\n"
     ]
    }
   ],
   "source": [
    "t0 = time.time()\n",
    "statistic_day_of_month = df.groupBy(\"day_of_month\").count().collect()\n",
    "t1 = time.time()\n",
    "print(\"finish in %f seconds\" % (t1-t0))"
   ]
  },
  {
   "cell_type": "code",
   "execution_count": 73,
   "metadata": {
    "collapsed": false
   },
   "outputs": [
    {
     "data": {
      "image/png": "[encoded data removed]",
      "text/plain": [
       "<matplotlib.figure.Figure at 0x113d26c18>"
      ]
     },
     "metadata": {},
     "output_type": "display_data"
    }
   ],
   "source": [
    "#statistic_day_of_month.show()\n",
    "pdf = pd.DataFrame(data=statistic_day_of_month)\n",
    "# plot bar chart\n",
    "plt.bar(pdf[0], pdf[1], align = 'center', alpha = 0.4)\n",
    "plt.xlim(1,31)\n",
    "plt.title(\"Figure 3: The change of number flights over days of month, 1993-1996\")\n",
    "plt.grid(True, which=\"both\", ls=\"-\")\n",
    "plt.xlabel(\"Day of month\")\n",
    "plt.ylabel(\"Number of flights\")\n",
    "plt.show()"
   ]
  },
  {
   "cell_type": "code",
   "execution_count": 74,
   "metadata": {
    "collapsed": false
   },
   "outputs": [
    {
     "name": "stdout",
     "output_type": "stream",
     "text": [
      "finish in 9.714251 seconds\n"
     ]
    }
   ],
   "source": [
    "t0 = time.time()\n",
    "statistic_hour_of_day = df.groupBy(\"hour\").count().collect()\n",
    "t1 = time.time()\n",
    "print(\"finish in %f seconds\" % (t1-t0))"
   ]
  },
  {
   "cell_type": "code",
   "execution_count": 76,
   "metadata": {
    "collapsed": false
   },
   "outputs": [
    {
     "data": {
      "image/png": "[encoded data removed]",
      "text/plain": [
       "<matplotlib.figure.Figure at 0x112a066a0>"
      ]
     },
     "metadata": {},
     "output_type": "display_data"
    }
   ],
   "source": [
    "#statistic_hour_of_day.show()\n",
    "pdf = pd.DataFrame(data=statistic_hour_of_day)\n",
    "\n",
    "#plot char chart\n",
    "plt.bar(pdf[0], pdf[1], align=\"center\", alpha=0.4)\n",
    "\n",
    "plt.title('Figure 3bis.2: The change of number flights over hours of day, 1993-1996')\n",
    "plt.xlabel(\"Hour of day\")\n",
    "plt.ylabel(\"Number of flights\")\n",
    "plt.xlim(0,24)\n",
    "plt.xticks()\n",
    "plt.show()"
   ]
  },
  {
   "cell_type": "code",
   "execution_count": 78,
   "metadata": {
    "collapsed": true
   },
   "outputs": [],
   "source": [
    "# group by year and hour\n",
    "statistic_delay_hour = df.groupBy(\"hour\")\n",
    "\n",
    "# calculate the delay ratio and create a new column\n",
    "delay_ratio_per_hour = statistic_delay_hour.agg(\n",
    "    (func.sum('is_delay')/func.count('*')).alias('delay_ratio')\n",
    ")\n",
    "\n",
    "    \n",
    "# order the result by hour\n",
    "delay_ratio_per_hour = (\n",
    "            delay_ratio_per_hour\n",
    "                .orderBy('hour')\n",
    "                .select(['hour', 'delay_ratio'])\n",
    "    )\n",
    "\n",
    "pdf_delay_ratio_per_hour = pd.DataFrame(data=delay_ratio_per_hour.collect())"
   ]
  },
  {
   "cell_type": "code",
   "execution_count": 80,
   "metadata": {
    "collapsed": false
   },
   "outputs": [
    {
     "data": {
      "image/png": "[encoded data removed]",
      "text/plain": [
       "<matplotlib.figure.Figure at 0x1128ca668>"
      ]
     },
     "metadata": {},
     "output_type": "display_data"
    }
   ],
   "source": [
    "# plot a bar chart\n",
    "plt.bar(pdf_delay_ratio_per_hour[0], pdf_delay_ratio_per_hour[1], align=\"center\", alpha=0.4)\n",
    "plt.xlim(0,24)\n",
    "plt.xlabel('Hour')\n",
    "plt.ylabel('Delay ratio')\n",
    "plt.grid(True,which=\"both\",ls=\"-\")\n",
    "plt.xticks(range(0,25,2), [str(i) for i in range(0,25,2)])\n",
    "plt.title('Figure 4: The ratio of delay over hours in day, 1993-1996')\n",
    "plt.show()"
   ]
  },
  {
   "cell_type": "code",
   "execution_count": 84,
   "metadata": {
    "collapsed": false
   },
   "outputs": [
    {
     "data": {
      "image/png": "[encoded data removed]",
      "text/plain": [
       "<matplotlib.figure.Figure at 0x112a915f8>"
      ]
     },
     "metadata": {},
     "output_type": "display_data"
    }
   ],
   "source": [
    "mean_delay_per_hour = statistic_delay_hour.agg(\n",
    "    (func.mean('arrival_delay')).alias('mean_delay')\n",
    ")\n",
    "    \n",
    "mean_delay_per_hour = (\n",
    "    mean_delay_per_hour\n",
    "        .orderBy('hour')\n",
    "        .select(['hour', 'mean_delay'])\n",
    "    )\n",
    "    \n",
    "pdf_mean_delay_per_hour = pd.DataFrame(data=mean_delay_per_hour.collect())\n",
    "\n",
    "plt.bar(pdf_mean_delay_per_hour[0], pdf_mean_delay_per_hour[1], align=\"center\", alpha=0.4)\n",
    "plt.xlim(0,24)\n",
    "plt.xlabel('Hour')\n",
    "plt.ylabel('Mean delay')\n",
    "plt.grid(True,which=\"both\",ls=\"-\")\n",
    "plt.xticks(range(0,25,2), [str(i) for i in range(0,25,2)])\n",
    "plt.title('Figure 5: The delay over hours in day, 1993-1996')\n",
    "plt.show()"
   ]
  },
  {
   "cell_type": "code",
   "execution_count": 83,
   "metadata": {
    "collapsed": false
   },
   "outputs": [
    {
     "data": {
      "image/png": "[encoded data removed]",
      "text/plain": [
       "<matplotlib.figure.Figure at 0x113d598d0>"
      ]
     },
     "metadata": {},
     "output_type": "display_data"
    }
   ],
   "source": [
    "#pdf2 = pd.DataFrame(data=mean_delay_per_hour.collect())\n",
    "plt.xlabel(\"Hours\")\n",
    "plt.ylabel(\"Ratio of delay\")\n",
    "plt.title('Figure 6: The radio of delay over hours in day, 1993-1996')\n",
    "plt.grid(True,which=\"both\",ls=\"-\")\n",
    "bars = plt.bar(pdf_delay_ratio_per_hour[0], pdf_delay_ratio_per_hour[1], align='center', edgecolor = \"black\")\n",
    "for i in range(0, len(bars)):\n",
    "    color = 'red'\n",
    "    if pdf_mean_delay_per_hour[1][i] < 0:\n",
    "        color = 'lightgreen'\n",
    "    elif pdf_mean_delay_per_hour[1][i] < 2:\n",
    "        color = 'green'\n",
    "    elif pdf_mean_delay_per_hour[1][i] < 4:\n",
    "        color = 'yellow'\n",
    "    elif pdf_mean_delay_per_hour[1][i] < 8:\n",
    "        color = 'orange'\n",
    "    bars[i].set_color(color)\n",
    "        \n",
    "patch1 = mpatches.Patch(color='lightgreen', label='delay < 0 minutes')\n",
    "patch2 = mpatches.Patch(color='green', label='delay < 2 minutes')\n",
    "patch3 = mpatches.Patch(color='yellow', label='delay < 4 minutes')\n",
    "patch4 = mpatches.Patch(color='orange', label='delay < 8 minutes')\n",
    "patch5 = mpatches.Patch(color='red', label='delay >= 8 minutes')\n",
    "\n",
    "plt.legend(handles=[patch1, patch2, patch3, patch4, patch5], bbox_to_anchor=(1.05, 1), loc=2, borderaxespad=0.)\n",
    "plt.xlim(0,24)\n",
    "plt.xticks(range(0,25,2), [str(i) for i in range(0,25,2)])\n",
    "plt.show()"
   ]
  },
  {
   "cell_type": "code",
   "execution_count": 86,
   "metadata": {
    "collapsed": false
   },
   "outputs": [
    {
     "data": {
      "image/png": "[encoded data removed]",
      "text/plain": [
       "<matplotlib.figure.Figure at 0x113d4bd30>"
      ]
     },
     "metadata": {},
     "output_type": "display_data"
    }
   ],
   "source": [
    "####### The changes of delay ratio over days of month ########\n",
    "# calculate the delay ratio in each day of month\n",
    "statistic_day_of_month = (\n",
    "    df\n",
    "        .groupBy(\"day_of_month\")\n",
    "        .agg((func.sum('is_delay')/func.count('*')).alias('delay_ratio'))\n",
    "        # order by day_of_month\n",
    "        .orderBy(\"day_of_month\")\n",
    "    )\n",
    "    \n",
    "# collect data and plot\n",
    "pdf_day_of_month = pd.DataFrame(data=statistic_day_of_month.collect())\n",
    "plt.bar(pdf_day_of_month[0], pdf_day_of_month[1], align=\"center\", alpha=0.4)\n",
    "plt.grid(True,which=\"both\",ls=\"-\")\n",
    "plt.xlabel(\"Day of month\")\n",
    "plt.ylabel(\"Ratio of delay\")\n",
    "plt.title('Figure 7: The radio of delay over days of month, 1993-1996')\n",
    "plt.xlim(1,31)\n",
    "plt.show()"
   ]
  },
  {
   "cell_type": "code",
   "execution_count": 88,
   "metadata": {
    "collapsed": false
   },
   "outputs": [
    {
     "data": {
      "text/html": [
       "<div>\n",
       "<table border=\"1\" class=\"dataframe\">\n",
       "  <thead>\n",
       "    <tr style=\"text-align: right;\">\n",
       "      <th></th>\n",
       "      <th>0</th>\n",
       "      <th>1</th>\n",
       "    </tr>\n",
       "  </thead>\n",
       "  <tbody>\n",
       "    <tr>\n",
       "      <th>0</th>\n",
       "      <td>1</td>\n",
       "      <td>0.173002</td>\n",
       "    </tr>\n",
       "    <tr>\n",
       "      <th>1</th>\n",
       "      <td>2</td>\n",
       "      <td>0.176019</td>\n",
       "    </tr>\n",
       "    <tr>\n",
       "      <th>2</th>\n",
       "      <td>3</td>\n",
       "      <td>0.180677</td>\n",
       "    </tr>\n",
       "    <tr>\n",
       "      <th>3</th>\n",
       "      <td>4</td>\n",
       "      <td>0.174695</td>\n",
       "    </tr>\n",
       "    <tr>\n",
       "      <th>4</th>\n",
       "      <td>5</td>\n",
       "      <td>0.184183</td>\n",
       "    </tr>\n",
       "    <tr>\n",
       "      <th>5</th>\n",
       "      <td>6</td>\n",
       "      <td>0.183185</td>\n",
       "    </tr>\n",
       "    <tr>\n",
       "      <th>6</th>\n",
       "      <td>7</td>\n",
       "      <td>0.184383</td>\n",
       "    </tr>\n",
       "    <tr>\n",
       "      <th>7</th>\n",
       "      <td>8</td>\n",
       "      <td>0.191018</td>\n",
       "    </tr>\n",
       "    <tr>\n",
       "      <th>8</th>\n",
       "      <td>9</td>\n",
       "      <td>0.189649</td>\n",
       "    </tr>\n",
       "    <tr>\n",
       "      <th>9</th>\n",
       "      <td>10</td>\n",
       "      <td>0.188676</td>\n",
       "    </tr>\n",
       "    <tr>\n",
       "      <th>10</th>\n",
       "      <td>11</td>\n",
       "      <td>0.180531</td>\n",
       "    </tr>\n",
       "    <tr>\n",
       "      <th>11</th>\n",
       "      <td>12</td>\n",
       "      <td>0.194346</td>\n",
       "    </tr>\n",
       "    <tr>\n",
       "      <th>12</th>\n",
       "      <td>13</td>\n",
       "      <td>0.181466</td>\n",
       "    </tr>\n",
       "    <tr>\n",
       "      <th>13</th>\n",
       "      <td>14</td>\n",
       "      <td>0.186639</td>\n",
       "    </tr>\n",
       "    <tr>\n",
       "      <th>14</th>\n",
       "      <td>15</td>\n",
       "      <td>0.206631</td>\n",
       "    </tr>\n",
       "    <tr>\n",
       "      <th>15</th>\n",
       "      <td>16</td>\n",
       "      <td>0.205927</td>\n",
       "    </tr>\n",
       "    <tr>\n",
       "      <th>16</th>\n",
       "      <td>17</td>\n",
       "      <td>0.212989</td>\n",
       "    </tr>\n",
       "    <tr>\n",
       "      <th>17</th>\n",
       "      <td>18</td>\n",
       "      <td>0.199149</td>\n",
       "    </tr>\n",
       "    <tr>\n",
       "      <th>18</th>\n",
       "      <td>19</td>\n",
       "      <td>0.204462</td>\n",
       "    </tr>\n",
       "    <tr>\n",
       "      <th>19</th>\n",
       "      <td>20</td>\n",
       "      <td>0.210062</td>\n",
       "    </tr>\n",
       "    <tr>\n",
       "      <th>20</th>\n",
       "      <td>21</td>\n",
       "      <td>0.215148</td>\n",
       "    </tr>\n",
       "    <tr>\n",
       "      <th>21</th>\n",
       "      <td>22</td>\n",
       "      <td>0.205729</td>\n",
       "    </tr>\n",
       "    <tr>\n",
       "      <th>22</th>\n",
       "      <td>23</td>\n",
       "      <td>0.193958</td>\n",
       "    </tr>\n",
       "    <tr>\n",
       "      <th>23</th>\n",
       "      <td>24</td>\n",
       "      <td>0.182328</td>\n",
       "    </tr>\n",
       "    <tr>\n",
       "      <th>24</th>\n",
       "      <td>25</td>\n",
       "      <td>0.176552</td>\n",
       "    </tr>\n",
       "    <tr>\n",
       "      <th>25</th>\n",
       "      <td>26</td>\n",
       "      <td>0.201156</td>\n",
       "    </tr>\n",
       "    <tr>\n",
       "      <th>26</th>\n",
       "      <td>27</td>\n",
       "      <td>0.204203</td>\n",
       "    </tr>\n",
       "    <tr>\n",
       "      <th>27</th>\n",
       "      <td>28</td>\n",
       "      <td>0.194598</td>\n",
       "    </tr>\n",
       "    <tr>\n",
       "      <th>28</th>\n",
       "      <td>29</td>\n",
       "      <td>0.184736</td>\n",
       "    </tr>\n",
       "    <tr>\n",
       "      <th>29</th>\n",
       "      <td>30</td>\n",
       "      <td>0.174036</td>\n",
       "    </tr>\n",
       "    <tr>\n",
       "      <th>30</th>\n",
       "      <td>31</td>\n",
       "      <td>0.179342</td>\n",
       "    </tr>\n",
       "  </tbody>\n",
       "</table>\n",
       "</div>"
      ],
      "text/plain": [
       "     0         1\n",
       "0    1  0.173002\n",
       "1    2  0.176019\n",
       "2    3  0.180677\n",
       "3    4  0.174695\n",
       "4    5  0.184183\n",
       "5    6  0.183185\n",
       "6    7  0.184383\n",
       "7    8  0.191018\n",
       "8    9  0.189649\n",
       "9   10  0.188676\n",
       "10  11  0.180531\n",
       "11  12  0.194346\n",
       "12  13  0.181466\n",
       "13  14  0.186639\n",
       "14  15  0.206631\n",
       "15  16  0.205927\n",
       "16  17  0.212989\n",
       "17  18  0.199149\n",
       "18  19  0.204462\n",
       "19  20  0.210062\n",
       "20  21  0.215148\n",
       "21  22  0.205729\n",
       "22  23  0.193958\n",
       "23  24  0.182328\n",
       "24  25  0.176552\n",
       "25  26  0.201156\n",
       "26  27  0.204203\n",
       "27  28  0.194598\n",
       "28  29  0.184736\n",
       "29  30  0.174036\n",
       "30  31  0.179342"
      ]
     },
     "execution_count": 88,
     "metadata": {},
     "output_type": "execute_result"
    }
   ],
   "source": [
    "pdf_day_of_month"
   ]
  },
  {
   "cell_type": "code",
   "execution_count": 89,
   "metadata": {
    "collapsed": false
   },
   "outputs": [
    {
     "data": {
      "image/png": "[encoded data removed]",
      "text/plain": [
       "<matplotlib.figure.Figure at 0x111e878d0>"
      ]
     },
     "metadata": {},
     "output_type": "display_data"
    }
   ],
   "source": [
    "####### The changes of delay ratio over days of week ########\n",
    "# calculate the delay ratio in each day of week\n",
    "statistic_day_of_week = (\n",
    "    df\n",
    "        .groupBy(\"day_of_week\")\n",
    "        .agg((func.sum('is_delay')/func.count('*')).alias('delay_ratio'))\n",
    "        .orderBy(\"day_of_week\")\n",
    "    )\n",
    "    \n",
    "# collect data and plot\n",
    "pdf_day_of_week = pd.DataFrame(data=statistic_day_of_week.collect())\n",
    "map_int_into_day = { 1:\"Mon\", 2:\"Tue\", 3:\"Wed\", 4:\"Thu\", 5:\"Fri\", 6:\"Sat\", 7:\"Sun\" }\n",
    "day_of_week_label = pdf_day_of_week[0].map(lambda i: map_int_into_day[i])\n",
    "\n",
    "plt.bar(pdf_day_of_week[0], pdf_day_of_week[1], align=\"center\", alpha=0.4)\n",
    "plt.grid(True,which=\"both\",ls=\"-\")\n",
    "plt.xlabel(\"Day of week\")\n",
    "plt.ylabel(\"Ratio of delay\")\n",
    "plt.title('Figure 8: The radio of delay over days of week, 1993-1996')\n",
    "plt.xticks(pdf_day_of_week[0], day_of_week_label)\n",
    "plt.show()"
   ]
  },
  {
   "cell_type": "code",
   "execution_count": 90,
   "metadata": {
    "collapsed": false
   },
   "outputs": [
    {
     "data": {
      "image/png": "[encoded data removed]",
      "text/plain": [
       "<matplotlib.figure.Figure at 0x113d5b668>"
      ]
     },
     "metadata": {},
     "output_type": "display_data"
    }
   ],
   "source": [
    "####### The changes of delay ratio over months ########\n",
    "# calculate the delay ratio in month\n",
    "statistic_month = (\n",
    "    df\n",
    "    .groupBy(\"month\")\n",
    "    .agg((func.sum('is_delay')/func.count('*')).alias('delay_ratio'))\n",
    "    .orderBy(\"month\")\n",
    "    )\n",
    "    \n",
    "# collect data and plot\n",
    "pdf_month = pd.DataFrame(data=statistic_month.collect())\n",
    "plt.bar(pdf_month[0], pdf_month[1], align=\"center\", alpha=0.4)\n",
    "plt.grid(True,which=\"both\",ls=\"-\")\n",
    "plt.xlabel(\"Month\")\n",
    "plt.ylabel(\"Ratio of delay\")\n",
    "plt.xlim(1,12)\n",
    "plt.title('Figure 9: The radio of delay over months, 1993-1996')\n",
    "plt.xticks(range(1,13), [\"Jan\", \"Feb\", \"Mar\", \"Apr\", \"May\", \"Jun\", \"Jul\", \"Aug\", \"Sep\", \"Oct\", \"Nov\", \"Dec\"])\n",
    "plt.show()"
   ]
  },
  {
   "cell_type": "markdown",
   "metadata": {},
   "source": [
    "## Incidence of departure_delay over arrival_delay"
   ]
  },
  {
   "cell_type": "markdown",
   "metadata": {},
   "source": [
    "Here, we'll try to see if the delay is caused by incidents before the plane is leaving or if those incidents occures during the flight."
   ]
  },
  {
   "cell_type": "code",
   "execution_count": 9,
   "metadata": {
    "collapsed": false
   },
   "outputs": [],
   "source": [
    "delay_departure_by_minute = df.groupBy(\"departure_delay\")\n",
    "delay_ratio_per_departure_delay = delay_departure_by_minute.agg(\n",
    "    (func.sum('arrival_delay')/func.count('*')).alias('average_delay')\n",
    ")\n",
    "\n",
    "delay_ratio_per_departure_delay = (\n",
    "            delay_ratio_per_departure_delay\n",
    "                .orderBy('departure_delay')\n",
    "                .select(['departure_delay', 'average_delay'])\n",
    "    )\n",
    "\n",
    "pdf_delay_ratio_per_departure_delay = pd.DataFrame(data=delay_ratio_per_departure_delay.collect())"
   ]
  },
  {
   "cell_type": "code",
   "execution_count": 105,
   "metadata": {
    "collapsed": false,
    "scrolled": false
   },
   "outputs": [
    {
     "data": {
      "image/png": "[encoded data removed]",
      "text/plain": [
       "<matplotlib.figure.Figure at 0x114f4d6d8>"
      ]
     },
     "metadata": {},
     "output_type": "display_data"
    },
    {
     "data": {
      "image/png": "[encoded data removed]",
      "text/plain": [
       "<matplotlib.figure.Figure at 0x114df2fd0>"
      ]
     },
     "metadata": {},
     "output_type": "display_data"
    }
   ],
   "source": [
    "plt.plot(pdf_delay_ratio_per_departure_delay[0], pdf_delay_ratio_per_departure_delay[1], alpha=0.4)\n",
    "plt.xlabel('Delay at departure')\n",
    "plt.ylabel('Average delay')\n",
    "plt.grid(True,which=\"both\",ls=\"-\")\n",
    "#plt.xticks(range(-10,121,10), [str(i) for i in range(-10,121,10)])\n",
    "plt.title('Figure XXXX: Average delay by departure delay, 1993-1996')\n",
    "plt.show()\n",
    "\n",
    "plt.plot(pdf_delay_ratio_per_departure_delay[0], pdf_delay_ratio_per_departure_delay[1], alpha=0.4)\n",
    "plt.xlabel('Delay at departure')\n",
    "plt.ylabel('Average delay')\n",
    "plt.xlim(-10, 120)\n",
    "plt.ylim(-10, 120)\n",
    "plt.grid(True,which=\"both\",ls=\"-\")\n",
    "#plt.xticks(range(-10,121,10), [str(i) for i in range(-10,121,10)])\n",
    "plt.title('Figure XXXX: Average delay by departure delay, 1993-1996')\n",
    "plt.show()"
   ]
  },
  {
   "cell_type": "code",
   "execution_count": 57,
   "metadata": {
    "collapsed": true
   },
   "outputs": [],
   "source": [
    "statistic_departure_delay = df.groupBy(\"departure_delay\").count().orderBy(\"departure_delay\").collect()\n",
    "statistic_arrival_delay = df.groupBy(\"arrival_delay\").count().orderBy(\"arrival_delay\").collect()\n",
    "\n",
    "pdf_departure_delay = pd.DataFrame(data=statistic_departure_delay)\n",
    "pdf_arrival_delay = pd.DataFrame(data=statistic_departure_delay)"
   ]
  },
  {
   "cell_type": "code",
   "execution_count": 62,
   "metadata": {
    "collapsed": false
   },
   "outputs": [
    {
     "data": {
      "image/png": "[encoded data removed]",
      "text/plain": [
       "<matplotlib.figure.Figure at 0x7fe6e4fcbc18>"
      ]
     },
     "metadata": {},
     "output_type": "display_data"
    }
   ],
   "source": [
    "bar_width=0.3\n",
    "plt.bar(pdf_departure_delay[0], pdf_departure_delay[1], bar_width, align=\"center\", color=\"blue\", alpha=0.4)\n",
    "plt.bar(pdf_arrival_delay[0]+1.5*bar_width, pdf_arrival_delay[1], bar_width, align=\"center\", color=\"red\", alpha=0.4)\n",
    "\n",
    "plt.xlabel('Delay at {departure, arrival}')\n",
    "plt.ylabel('Average delay')\n",
    "plt.grid(True,which=\"both\",ls=\"-\")\n",
    "plt.xlim(180, 500)\n",
    "plt.ylim(0, 1000)\n",
    "# plt.xticks(range(-10,121,10), [str(i) for i in range(-10,121,10)])\n",
    "plt.title('Figure XXXX: Number of flights by departure delay, 1993-1996')\n",
    "plt.show()"
   ]
  },
  {
   "cell_type": "code",
   "execution_count": 63,
   "metadata": {
    "collapsed": false
   },
   "outputs": [
    {
     "name": "stdout",
     "output_type": "stream",
     "text": [
      "During period 1995, among  5219036  flights\n",
      "\t 40518 flights departed more than 120 minutes late\n",
      "\t 3938 flight departed more than 10 minutes early\n",
      "\t 46641 flights arrived more than 120 minutes late\n",
      "\t 583794 flight arrived more than 10 minutes early\n"
     ]
    }
   ],
   "source": [
    "total_flights = df.count()\n",
    "print(\"During period 1995, among \", total_flights, \" flights\")\n",
    "print(\"\\t\", df[df.departure_delay>120].count(), \"flights departed more than 120 minutes late\")\n",
    "print(\"\\t\", df[df.departure_delay<-10].count(), \"flight departed more than 10 minutes early\")\n",
    "print(\"\\t\", df[df.arrival_delay>120].count(), \"flights arrived more than 120 minutes late\")\n",
    "print(\"\\t\", df[df.arrival_delay<-10].count(), \"flight arrived more than 10 minutes early\")"
   ]
  },
  {
   "cell_type": "markdown",
   "metadata": {},
   "source": [
    "# Does the pilot catch up , 1999"
   ]
  },
  {
   "cell_type": "markdown",
   "metadata": {},
   "source": [
    "Now we'll try to see how much the plane can reduce the delay of the flight by going faster than usual."
   ]
  },
  {
   "cell_type": "code",
   "execution_count": 106,
   "metadata": {
    "collapsed": true
   },
   "outputs": [],
   "source": [
    "df = df.withColumn(\"delay_difference\", df.departure_delay-df.arrival_delay)\n",
    "# If delay_difference > 0 that means the pilot caught up"
   ]
  },
  {
   "cell_type": "code",
   "execution_count": 107,
   "metadata": {
    "collapsed": true
   },
   "outputs": [],
   "source": [
    "delay_difference_by_distance = df.groupBy(\"distance\")\n",
    "delay_difference_by_distance = delay_difference_by_distance.agg(\n",
    "    (func.sum('delay_difference')/func.count('*')).alias('average_delay_difference')\n",
    ")\n",
    "\n",
    "delay_difference_by_distance = (\n",
    "            delay_difference_by_distance\n",
    "                .orderBy('distance')\n",
    "                .select(['distance', 'average_delay_difference'])\n",
    "    )\n",
    "\n",
    "pdf_delay_difference_by_distance = pd.DataFrame(data=delay_difference_by_distance.collect())"
   ]
  },
  {
   "cell_type": "code",
   "execution_count": 108,
   "metadata": {
    "collapsed": false
   },
   "outputs": [
    {
     "data": {
      "image/png": "[encoded data removed]",
      "text/plain": [
       "<matplotlib.figure.Figure at 0x7f47e4d561d0>"
      ]
     },
     "metadata": {},
     "output_type": "display_data"
    }
   ],
   "source": [
    "# plot a bar chart\n",
    "plt.plot(pdf_delay_difference_by_distance[0], pdf_delay_difference_by_distance[1], alpha=0.4)\n",
    "plt.xlim(0,1000)\n",
    "plt.xlabel('Distance')\n",
    "plt.ylabel('Delay difference')\n",
    "plt.grid(True,which=\"both\",ls=\"-\")\n",
    "# plt.xticks(range(0,1000,50), [str(i) for i in range(0,1000,50)])\n",
    "plt.title('Figure 11: Difference in delay by distance, 1999')\n",
    "plt.show()"
   ]
  },
  {
   "cell_type": "markdown",
   "metadata": {},
   "source": [
    "# Delay over geographical region, 1999"
   ]
  },
  {
   "cell_type": "markdown",
   "metadata": {},
   "source": [
    "Here we'll try to see if some regions in the US impose more delay than others:"
   ]
  },
  {
   "cell_type": "code",
   "execution_count": 112,
   "metadata": {
    "collapsed": false
   },
   "outputs": [
    {
     "data": {
      "text/plain": [
       "[Row(src_airport_lat=17.701889038085938),\n",
       " Row(src_airport_lat=18.337305068969727),\n",
       " Row(src_airport_lat=18.439416885375977),\n",
       " Row(src_airport_lat=19.738765716552734),\n",
       " Row(src_airport_lat=20.898649215698242)]"
      ]
     },
     "execution_count": 112,
     "metadata": {},
     "output_type": "execute_result"
    }
   ],
   "source": [
    "df_src_airports.select(\"src_airport_lat\").orderBy(\"src_airport_lat\").take(5)"
   ]
  },
  {
   "cell_type": "code",
   "execution_count": 113,
   "metadata": {
    "collapsed": true
   },
   "outputs": [],
   "source": [
    "min_lat = df_src_airports.select(\"src_airport_lat\").orderBy(\"src_airport_lat\").first()\n",
    "max_lat = df_src_airports.select(\"src_airport_lat\").orderBy(\"src_airport_lat\", ascending=False).first()\n",
    "min_long = df_src_airports.select(\"src_airport_long\").orderBy(\"src_airport_long\").first()\n",
    "max_long = df_src_airports.select(\"src_airport_long\").orderBy(\"src_airport_long\", ascending=False).first()"
   ]
  },
  {
   "cell_type": "code",
   "execution_count": 114,
   "metadata": {
    "collapsed": false
   },
   "outputs": [
    {
     "name": "stdout",
     "output_type": "stream",
     "text": [
      "Row(src_airport_lat=17.701889038085938)\n",
      "Row(src_airport_lat=71.28544616699219)\n",
      "Row(src_airport_long=-166.5435028076172)\n",
      "Row(src_airport_long=-64.79855346679688)\n"
     ]
    }
   ],
   "source": [
    "print(min_lat)\n",
    "print(max_lat)\n",
    "print(min_long)\n",
    "print(max_long)"
   ]
  },
  {
   "cell_type": "code",
   "execution_count": 115,
   "metadata": {
    "collapsed": true
   },
   "outputs": [],
   "source": [
    "worst_airport = (df_with_airports.groupBy(\"src_airport\").\n",
    "                 agg(func.mean(\"departure_delay\").alias(\"mean_delay\")).orderBy(\"mean_delay\", ascending=False).\n",
    "                 first()\n",
    "                 )"
   ]
  },
  {
   "cell_type": "code",
   "execution_count": 116,
   "metadata": {
    "collapsed": false
   },
   "outputs": [
    {
     "data": {
      "text/plain": [
       "[Row(src_airport_iata='FCA', src_airport_city='Kalispell', src_airport_state='MT', src_airport_country='USA', src_airport_lat=48.311405181884766, src_airport_long=-114.25506591796875)]"
      ]
     },
     "execution_count": 116,
     "metadata": {},
     "output_type": "execute_result"
    }
   ],
   "source": [
    "df_src_airports[df_src_airports.src_airport_iata==\"FCA\"].collect()"
   ]
  },
  {
   "cell_type": "code",
   "execution_count": 55,
   "metadata": {
    "collapsed": false
   },
   "outputs": [
    {
     "name": "stderr",
     "output_type": "stream",
     "text": [
      "/opt/conda/lib/python3.4/site-packages/matplotlib/collections.py:590: FutureWarning: elementwise comparison failed; returning scalar instead, but in the future will perform elementwise comparison\n",
      "  if self._edgecolors == str('face'):\n"
     ]
    },
    {
     "data": {
      "image/png": "[encoded data removed]",
      "text/plain": [
       "<matplotlib.figure.Figure at 0x7fe6e5b05f60>"
      ]
     },
     "metadata": {},
     "output_type": "display_data"
    }
   ],
   "source": [
    "groupby_departure_airport = df.groupBy([\"src_airport_lat\", \"src_airport_long\"])\n",
    "mean_delay_per_airport = groupby_departure_airport.agg(\n",
    "    (func.mean('departure_delay')).alias('mean_delay')\n",
    ")\n",
    "    \n",
    "mean_delay_per_airport = (\n",
    "    mean_delay_per_airport\n",
    "        .orderBy('src_airport_lat')\n",
    "        .select(['src_airport_lat',\"src_airport_long\", 'mean_delay'])\n",
    "    )\n",
    "    \n",
    "# pdf_mean_delay_per_airport = pd.DataFrame(data=mean_delay_per_airport.collect())\n",
    "\n",
    "d = mean_delay_per_airport.mean_delay\n",
    "\n",
    "minimum = mean_delay_per_airport.select(\"mean_delay\").orderBy(\"mean_delay\").first().mean_delay\n",
    "maximum = mean_delay_per_airport.select(\"mean_delay\").orderBy(\"mean_delay\", ascending=False).first().mean_delay\n",
    "\n",
    "mean_delay_per_airport = mean_delay_per_airport[mean_delay_per_airport.mean_delay!=maximum] # ignoring worst airport\n",
    "mean_delay_per_airport = mean_delay_per_airport.withColumn(\"normalized_median_delay\", (d-minimum)/(maximum-minimum))\n",
    "pdf_mean_delay_per_airport = pd.DataFrame(data=mean_delay_per_airport.collect())\n",
    "x = pdf_mean_delay_per_airport[1]\n",
    "y = pdf_mean_delay_per_airport[0]\n",
    "area = np.pi * (15 * pdf_mean_delay_per_airport[3])**2  # 0 to 15 point radiuses\n",
    "\n",
    "plt.figure(figsize=(20,10))\n",
    "plt.scatter(x, y, s=area, alpha=0.5)\n",
    "plt.show()"
   ]
  },
  {
   "cell_type": "markdown",
   "metadata": {},
   "source": [
    "Here we'll try to understand a bit more the delay that can occure during the flight:"
   ]
  },
  {
   "cell_type": "code",
   "execution_count": 82,
   "metadata": {
    "collapsed": false
   },
   "outputs": [
    {
     "data": {
      "image/png": "[encoded data removed]",
      "text/plain": [
       "<matplotlib.figure.Figure at 0x112a8f630>"
      ]
     },
     "metadata": {},
     "output_type": "display_data"
    }
   ],
   "source": [
    "statistic_delay_during_flight = df.groupBy(\"delay_difference\").count().collect()\n",
    "# collect data and plot\n",
    "pdf_delay_during_flight = pd.DataFrame(data=statistic_delay_during_flight)\n",
    "plt.bar(pdf_delay_during_flight[0], pdf_delay_during_flight[1], align=\"center\", alpha=0.4)\n",
    "plt.grid(True,which=\"both\",ls=\"-\")\n",
    "plt.xlabel(\"Delay in flight\")\n",
    "plt.ylabel(\"Number of flights\")\n",
    "plt.title('Figure 11: Number of flights with their delay occuring during flight, 1999')\n",
    "plt.xlim(-20,60)\n",
    "plt.show()"
   ]
  },
  {
   "cell_type": "markdown",
   "metadata": {},
   "source": [
    "# Add a column n_flights\n",
    "## TO DO"
   ]
  },
  {
   "cell_type": "code",
   "execution_count": 51,
   "metadata": {
    "collapsed": false
   },
   "outputs": [
    {
     "data": {
      "text/plain": [
       "DataFrame[year: int, month: int, day_of_month: int, day_of_week: int, departure_time: int, scheduled_departure_time: int, arrival_time: int, scheduled_arrival_time: int, arrival_delay: int, departure_delay: int, src_airport: string, dest_airport: string, carrier: string, distance: int]"
      ]
     },
     "execution_count": 51,
     "metadata": {},
     "output_type": "execute_result"
    }
   ],
   "source": [
    "df_with_airports.groupBy([\"src_airport\", \"year\", \"month\", \"day_of_month\"])"
   ]
  },
  {
   "cell_type": "markdown",
   "metadata": {},
   "source": [
    "# Part 4"
   ]
  },
  {
   "cell_type": "markdown",
   "metadata": {},
   "source": [
    "# First approximation"
   ]
  },
  {
   "cell_type": "code",
   "execution_count": 16,
   "metadata": {
    "collapsed": true
   },
   "outputs": [],
   "source": [
    "# select distinct {source airports, destination airports, carriers} and map values to index\n",
    "# sort the {src_airport, dest_airport, carrier} by their frequency descending\n",
    "# so the most common {src_aiport, dest_airport, carrier} will be on the top\n",
    "stat_src = (\n",
    "    df\n",
    "        .groupBy(\"src_airport\")\n",
    "        .agg(func.count(\"*\").alias('count'))\n",
    "        .orderBy(desc('count'))\n",
    "    )\n",
    "\n",
    "stat_dest = (\n",
    "    df\n",
    "        .groupBy(\"dest_airport\")\n",
    "        .agg(func.count(\"*\").alias('count'))\n",
    "        .orderBy(desc('count'))\n",
    "    )\n",
    "\n",
    "stat_carrier = (\n",
    "    df\n",
    "        .groupBy(\"carrier\")\n",
    "        .agg(func.count(\"*\").alias('count'))\n",
    "        .orderBy(desc('count'))\n",
    "    )\n",
    "\n",
    "stat_src_state = (\n",
    "    df\n",
    "        .groupBy(\"src_airport_state\")\n",
    "        .agg(func.count(\"*\").alias('count'))\n",
    "        .orderBy(desc('count'))\n",
    "    )\n",
    "\n",
    "stat_dest_state = (\n",
    "    df\n",
    "        .groupBy(\"dest_airport_state\")\n",
    "        .agg(func.count(\"*\").alias('count'))\n",
    "        .orderBy(desc('count'))\n",
    "    )\n",
    "\n",
    "# extract the {src_airport, dest_airport, carrier} names from {stat_src, stat_dest, stat_carrier}\n",
    "src_airports = [item[0] for item in stat_src.collect()]\n",
    "dest_airports = [item[0] for item in stat_dest.collect()]\n",
    "carriers = [item[0] for item in stat_carrier.collect()]\n",
    "src_airport_states = [item[0] for item in stat_src_state.collect()]\n",
    "dest_airport_states = [item[0] for item in stat_dest_state.collect()]\n",
    "\n",
    "num_src_airports = len(src_airports)\n",
    "num_dest_airports = len(dest_airports)\n",
    "num_carriers = len(carriers)\n",
    "num_src_airport_states = len(src_airport_states)\n",
    "num_dest_airport_states = len(dest_airport_states)\n",
    "\n",
    "src_airport_idx = range(0, num_src_airports)\n",
    "dest_airport_idx = range(0, num_dest_airports)\n",
    "carrier_idx = range(0, num_carriers)\n",
    "src_airport_state_idx = range(0, num_dest_airport_states)\n",
    "dest_airport_state_idx = range(0, num_src_airports)\n",
    "\n",
    "map_src_airport_to_index = dict(zip(src_airports, src_airport_idx))\n",
    "map_dest_airport_to_index = dict(zip(dest_airports, dest_airport_idx))\n",
    "map_carrier_to_index = dict(zip(carriers, carrier_idx))\n",
    "map_src_airport_state_to_index = dict(zip(src_airport_states, src_airport_state_idx))\n",
    "map_dest_airport_state_to_index = dict(zip(dest_airport_states, dest_airport_state_idx))"
   ]
  },
  {
   "cell_type": "code",
   "execution_count": 17,
   "metadata": {
    "collapsed": false
   },
   "outputs": [
    {
     "name": "stdout",
     "output_type": "stream",
     "text": [
      "The most common month: 3\n",
      "The most common day of month: 26\n",
      "The most common day of week: 5\n",
      "The most common scheduled departure time: 0\n",
      "The most common scheduled arrival time: 0\n",
      "mean distance: 696.463770704015\n",
      "mean arrival delay: 7.02559304055385\n"
     ]
    }
   ],
   "source": [
    "the_most_common_month = (\n",
    "    df\n",
    "        .groupBy(\"month\")\n",
    "        .agg(func.count(\"*\").alias('count'))\n",
    "        .orderBy(desc('count'))\n",
    "    ).first()[0]\n",
    "\n",
    "the_most_common_day_of_month = (\n",
    "    df\n",
    "        .groupBy(\"day_of_month\")\n",
    "        .agg(func.count(\"*\").alias('count'))\n",
    "        .orderBy(desc('count'))\n",
    "    ).first()[0]\n",
    "\n",
    "the_most_common_day_of_week = (\n",
    "    df\n",
    "        .groupBy(\"day_of_week\")\n",
    "        .agg(func.count(\"*\").alias('count'))\n",
    "        .orderBy(desc('count'))\n",
    "    ).first()[0]\n",
    "\n",
    "the_most_common_s_departure_time = (df\n",
    "        .groupBy(\"scheduled_departure_time\")\n",
    "        .agg(func.count(\"*\").alias('count'))\n",
    "        .orderBy(desc('count'))\n",
    "    ).first()[0]\n",
    "\n",
    "the_most_common_s_arrival_time =  (df\n",
    "        .groupBy(\"scheduled_arrival_time\")\n",
    "        .agg(func.count(\"*\").alias('count'))\n",
    "        .orderBy(desc('count'))\n",
    "    ).first()[0]\n",
    "\n",
    "mean_distance = df.groupBy().agg((func.sum(\"distance\")/func.count(\"*\")).alias(\"mean\")).collect()[0].mean\n",
    "\n",
    "mean_arrival_delay = df.groupBy().agg((func.sum(\"arrival_delay\")/func.count(\"*\")).alias(\"mean\")).collect()[0].mean\n",
    "\n",
    "print(\"The most common month:\", the_most_common_month)\n",
    "print(\"The most common day of month:\", the_most_common_day_of_month)\n",
    "print(\"The most common day of week:\", the_most_common_day_of_week)\n",
    "print(\"The most common scheduled departure time:\", the_most_common_s_departure_time)\n",
    "print(\"The most common scheduled arrival time:\", the_most_common_s_arrival_time)\n",
    "print(\"mean distance:\", mean_distance)\n",
    "print(\"mean arrival delay:\", mean_arrival_delay)"
   ]
  },
  {
   "cell_type": "code",
   "execution_count": 15,
   "metadata": {
    "collapsed": false
   },
   "outputs": [
    {
     "name": "stdout",
     "output_type": "stream",
     "text": [
      "root\n",
      " |-- year: integer (nullable = true)\n",
      " |-- month: integer (nullable = true)\n",
      " |-- day_of_month: integer (nullable = true)\n",
      " |-- day_of_week: integer (nullable = true)\n",
      " |-- departure_time: integer (nullable = true)\n",
      " |-- scheduled_departure_time: integer (nullable = true)\n",
      " |-- arrival_time: integer (nullable = true)\n",
      " |-- scheduled_arrival_time: integer (nullable = true)\n",
      " |-- arrival_delay: integer (nullable = true)\n",
      " |-- departure_delay: integer (nullable = true)\n",
      " |-- src_airport: string (nullable = true)\n",
      " |-- dest_airport: string (nullable = true)\n",
      " |-- carrier: string (nullable = true)\n",
      " |-- distance: integer (nullable = true)\n",
      " |-- tail_number: string (nullable = true)\n",
      " |-- hour: double (nullable = true)\n",
      " |-- is_delay: integer (nullable = false)\n",
      " |-- scheduled_departure_minutes: double (nullable = true)\n",
      " |-- scheduled_arrival_minutes: double (nullable = true)\n",
      " |-- is_WedThuFri: integer (nullable = false)\n",
      " |-- is_weekend: integer (nullable = false)\n",
      " |-- air_delay: integer (nullable = true)\n",
      " |-- src_airport_iata: string (nullable = true)\n",
      " |-- src_airport_city: string (nullable = true)\n",
      " |-- src_airport_state: string (nullable = true)\n",
      " |-- src_airport_country: string (nullable = true)\n",
      " |-- src_airport_lat: float (nullable = true)\n",
      " |-- src_airport_long: float (nullable = true)\n",
      " |-- dest_airport_iata: string (nullable = true)\n",
      " |-- dest_airport_city: string (nullable = true)\n",
      " |-- dest_airport_state: string (nullable = true)\n",
      " |-- dest_airport_country: string (nullable = true)\n",
      " |-- dest_airport_lat: float (nullable = true)\n",
      " |-- dest_airport_long: float (nullable = true)\n",
      " |-- n_number: string (nullable = true)\n",
      " |-- type_aircraft: integer (nullable = true)\n",
      " |-- type_engine: integer (nullable = true)\n",
      "\n"
     ]
    }
   ],
   "source": [
    "df.printSchema()"
   ]
  },
  {
   "cell_type": "markdown",
   "metadata": {},
   "source": [
    "## First approximation : predict departure_delay"
   ]
  },
  {
   "cell_type": "markdown",
   "metadata": {},
   "source": [
    "### Test 1 features : day_of_week, scheduled_departure_minutes, carrier, src_airport, is_WedThuFri"
   ]
  },
  {
   "cell_type": "code",
   "execution_count": 233,
   "metadata": {
    "collapsed": false
   },
   "outputs": [],
   "source": [
    "data = (df.rdd)\\\n",
    "    .map(lambda row: \n",
    "        LabeledPoint( \n",
    "            int(row.departure_delay), \n",
    "            [\n",
    "                int(row.day_of_week), # day of week\n",
    "                int(row.scheduled_departure_minutes), # scheduled departure minutes\n",
    "                map_carrier_to_index[row.carrier],  # carrier\n",
    "                map_src_airport_to_index[row.src_airport],  # src_airport\n",
    "                int(row.is_WedThuFri) # is_WedThuFri\n",
    "            ]\n",
    "        )\n",
    "    )\n",
    "    \n",
    "\n",
    "# Split the data into training and test sets (30% held out for testing)\n",
    "(trainingData, testData) = data.randomSplit([0.7, 0.3])\n",
    "\n",
    "trainingData = trainingData.cache()\n",
    "testData = testData.cache()\n",
    "\n",
    "# declare information of categorical features\n",
    "# format:  feature_index : number_distinct_values\n",
    "categorical_info = {2 : num_carriers, 3: num_src_airports, 4: 2}"
   ]
  },
  {
   "cell_type": "code",
   "execution_count": 235,
   "metadata": {
    "collapsed": false
   },
   "outputs": [
    {
     "name": "stdout",
     "output_type": "stream",
     "text": [
      "Test Mean Squared Error = 456.8896610261764\n",
      "finish in 234.525602 seconds\n"
     ]
    }
   ],
   "source": [
    "t0 = time.time()\n",
    "# Train a RandomForest model.\n",
    "forest_model = RandomForest.trainRegressor(trainingData, categoricalFeaturesInfo=categorical_info,\n",
    "                                    numTrees=10, impurity='variance', maxDepth=14, maxBins=255)\n",
    "\n",
    "predictions_departure_delay = forest_model.predict(testData.map(lambda x: x.features))\n",
    "labelsAndPredictions = testData.map(lambda lp: lp.label).zip(predictions_departure_delay)\n",
    "bNum_test_data = sc.broadcast(testData.count())\n",
    "testMSE = labelsAndPredictions.map(\n",
    "    lambda p: (p[0]-p[1])**2/bNum_test_data.value).reduce(lambda v1,v2: v1+v2)\n",
    "print('Test Mean Squared Error = ' + str(testMSE))\n",
    "t1 = time.time()\n",
    "print(\"finish in %f seconds\" % (t1-t0))"
   ]
  },
  {
   "cell_type": "markdown",
   "metadata": {},
   "source": [
    "### Test 2 features : day_of_week, scheduled_departure_minutes, carrier, src_airport, is_WedThuFri, src_airport_lat, src_airport_long"
   ]
  },
  {
   "cell_type": "code",
   "execution_count": 68,
   "metadata": {
    "collapsed": true
   },
   "outputs": [],
   "source": [
    "data = (df.rdd)\\\n",
    "    .map(lambda row: \n",
    "        LabeledPoint( \n",
    "            int(row.departure_delay), \n",
    "            [\n",
    "                int(row.day_of_week), # day of week\n",
    "                int(row.scheduled_departure_minutes), # scheduled departure minutes\n",
    "                map_carrier_to_index[row.carrier],  # carrier\n",
    "                map_src_airport_to_index[row.src_airport],  # src_airport\n",
    "                int(row.is_WedThuFri), # is_WedThuFri\n",
    "                float(row.src_airport_lat),\n",
    "                float(row.src_airport_long)\n",
    "            ]\n",
    "        )\n",
    "    )\n",
    "    \n",
    "\n",
    "# Split the data into training and test sets (30% held out for testing)\n",
    "(trainingData, testData) = data.randomSplit([0.7, 0.3])\n",
    "\n",
    "trainingData = trainingData.cache()\n",
    "testData = testData.cache()\n",
    "\n",
    "# declare information of categorical features\n",
    "# format:  feature_index : number_distinct_values\n",
    "categorical_info = {2 : num_carriers, 3: num_src_airports, 4: 2}"
   ]
  },
  {
   "cell_type": "code",
   "execution_count": 79,
   "metadata": {
    "collapsed": false
   },
   "outputs": [
    {
     "name": "stdout",
     "output_type": "stream",
     "text": [
      "Test Mean Squared Error = 612.135151549906\n",
      "finish in 320.115255 seconds\n"
     ]
    }
   ],
   "source": [
    "from pyspark.mllib.tree import RandomForest, RandomForestModel\n",
    "t0 = time.time()\n",
    "# Train a RandomForest model.\n",
    "forest_model = RandomForest.trainRegressor(trainingData, categoricalFeaturesInfo=categorical_info,\n",
    "                                    numTrees=10, impurity='variance', maxDepth=14, maxBins=255)\n",
    "\n",
    "predictions_departure_delay = forest_model.predict(testData.map(lambda x: x.features))\n",
    "labelsAndPredictions = testData.map(lambda lp: lp.label).zip(predictions_departure_delay)\n",
    "bNum_test_data = sc.broadcast(testData.count())\n",
    "testMSE = labelsAndPredictions.map(\n",
    "    lambda p: (p[0]-p[1])**2/bNum_test_data.value).reduce(lambda v1,v2: v1+v2)\n",
    "print('Test Mean Squared Error = ' + str(testMSE))\n",
    "t1 = time.time()\n",
    "print(\"finish in %f seconds\" % (t1-t0))"
   ]
  },
  {
   "cell_type": "code",
   "execution_count": 69,
   "metadata": {
    "collapsed": false
   },
   "outputs": [
    {
     "name": "stdout",
     "output_type": "stream",
     "text": [
      "Test Mean Squared Error = 626.0064283880163\n",
      "finish in 45.693095 seconds\n"
     ]
    }
   ],
   "source": [
    "from pyspark.mllib.tree import RandomForest, RandomForestModel\n",
    "t0 = time.time()\n",
    "# Train a RandomForest model.\n",
    "forest_model = RandomForest.trainRegressor(trainingData, categoricalFeaturesInfo=categorical_info,\n",
    "                                    numTrees=10, impurity='variance', maxDepth=3, maxBins=255)\n",
    "\n",
    "predictions_departure_delay = forest_model.predict(testData.map(lambda x: x.features))\n",
    "labelsAndPredictions = testData.map(lambda lp: lp.label).zip(predictions_departure_delay)\n",
    "bNum_test_data = sc.broadcast(testData.count())\n",
    "testMSE = labelsAndPredictions.map(\n",
    "    lambda p: (p[0]-p[1])**2/bNum_test_data.value).reduce(lambda v1,v2: v1+v2)\n",
    "print('Test Mean Squared Error = ' + str(testMSE))\n",
    "t1 = time.time()\n",
    "print(\"finish in %f seconds\" % (t1-t0))"
   ]
  },
  {
   "cell_type": "markdown",
   "metadata": {},
   "source": [
    "### Test 3 features : day_of_week, scheduled_departure_minutes, carrier, src_airport, src_airport_lat, src_airport_long"
   ]
  },
  {
   "cell_type": "code",
   "execution_count": 50,
   "metadata": {
    "collapsed": true
   },
   "outputs": [],
   "source": [
    "data = (df.rdd)\\\n",
    "    .map(lambda row: \n",
    "        LabeledPoint( \n",
    "            int(row.departure_delay), \n",
    "            [\n",
    "                int(row.day_of_week), # day of week\n",
    "                int(row.scheduled_departure_minutes), # scheduled departure minutes\n",
    "                map_carrier_to_index[row.carrier],  # carrier\n",
    "                map_src_airport_to_index[row.src_airport],  # src_airport\n",
    "                float(row.src_airport_lat),\n",
    "                float(row.src_airport_long)\n",
    "            ]\n",
    "        )\n",
    "    )\n",
    "    \n",
    "\n",
    "# Split the data into training and test sets (30% held out for testing)\n",
    "(trainingData, testData) = data.randomSplit([0.7, 0.3])\n",
    "\n",
    "trainingData = trainingData.cache()\n",
    "testData = testData.cache()\n",
    "\n",
    "# declare information of categorical features\n",
    "# format:  feature_index : number_distinct_values\n",
    "categorical_info = {2 : num_carriers, 3: num_src_airports}"
   ]
  },
  {
   "cell_type": "code",
   "execution_count": 51,
   "metadata": {
    "collapsed": false
   },
   "outputs": [
    {
     "name": "stdout",
     "output_type": "stream",
     "text": [
      "Test Mean Squared Error = 613.9091152264838\n",
      "finish in 272.688847 seconds\n"
     ]
    }
   ],
   "source": [
    "from pyspark.mllib.tree import RandomForest, RandomForestModel\n",
    "t0 = time.time()\n",
    "# Train a RandomForest model.\n",
    "forest_model = RandomForest.trainRegressor(trainingData, categoricalFeaturesInfo=categorical_info,\n",
    "                                    numTrees=10, impurity='variance', maxDepth=14, maxBins=255)\n",
    "\n",
    "predictions_departure_delay = forest_model.predict(testData.map(lambda x: x.features))\n",
    "labelsAndPredictions = testData.map(lambda lp: lp.label).zip(predictions_departure_delay)\n",
    "bNum_test_data = sc.broadcast(testData.count())\n",
    "testMSE = labelsAndPredictions.map(\n",
    "    lambda p: (p[0]-p[1])**2/bNum_test_data.value).reduce(lambda v1,v2: v1+v2)\n",
    "print('Test Mean Squared Error = ' + str(testMSE))\n",
    "t1 = time.time()\n",
    "print(\"finish in %f seconds\" % (t1-t0))"
   ]
  },
  {
   "cell_type": "code",
   "execution_count": 52,
   "metadata": {
    "collapsed": true
   },
   "outputs": [],
   "source": [
    "data = (df.rdd)\\\n",
    "    .map(lambda row: \n",
    "        LabeledPoint( \n",
    "            int(row.departure_delay), \n",
    "            [\n",
    "                int(row.day_of_week), # day of week\n",
    "                int(row.scheduled_departure_minutes), # scheduled departure minutes\n",
    "                map_carrier_to_index[row.carrier],  # carrier\n",
    "                map_src_airport_to_index[row.src_airport],  # src_airport\n",
    "                float(row.src_airport_lat),\n",
    "                float(row.src_airport_long)\n",
    "            ]\n",
    "        )\n",
    "    )\n",
    "    \n",
    "\n",
    "# Split the data into training and test sets (30% held out for testing)\n",
    "(trainingData, testData) = data.randomSplit([0.7, 0.3])\n",
    "\n",
    "trainingData = trainingData.cache()\n",
    "testData = testData.cache()\n",
    "\n",
    "# declare information of categorical features\n",
    "# format:  feature_index : number_distinct_values\n",
    "categorical_info = {2 : num_carriers, 3: num_src_airports}"
   ]
  },
  {
   "cell_type": "code",
   "execution_count": 53,
   "metadata": {
    "collapsed": false
   },
   "outputs": [
    {
     "name": "stdout",
     "output_type": "stream",
     "text": [
      "Test Mean Squared Error = 626.2481677286484\n",
      "finish in 662.282170 seconds\n"
     ]
    }
   ],
   "source": [
    "t0 = time.time()\n",
    "# Train a RandomForest model.\n",
    "forest_model = RandomForest.trainRegressor(trainingData, categoricalFeaturesInfo=categorical_info,\n",
    "                                    numTrees=10, impurity='variance', maxDepth=30, maxBins=255)\n",
    "\n",
    "predictions_departure_delay = forest_model.predict(testData.map(lambda x: x.features))\n",
    "labelsAndPredictions = testData.map(lambda lp: lp.label).zip(predictions_departure_delay)\n",
    "bNum_test_data = sc.broadcast(testData.count())\n",
    "testMSE = labelsAndPredictions.map(\n",
    "    lambda p: (p[0]-p[1])**2/bNum_test_data.value).reduce(lambda v1,v2: v1+v2)\n",
    "print('Test Mean Squared Error = ' + str(testMSE))\n",
    "t1 = time.time()\n",
    "print(\"finish in %f seconds\" % (t1-t0))"
   ]
  },
  {
   "cell_type": "markdown",
   "metadata": {},
   "source": [
    "### Test 4 features : day_of_week, scheduled_departure_minutes, carrier, src_airport, src_airport_state"
   ]
  },
  {
   "cell_type": "code",
   "execution_count": 18,
   "metadata": {
    "collapsed": false
   },
   "outputs": [],
   "source": [
    "data = (df.rdd)\\\n",
    "    .map(lambda row: \n",
    "        LabeledPoint( \n",
    "            int(row.departure_delay), \n",
    "            [\n",
    "                int(row.day_of_week), # day of week\n",
    "                int(row.scheduled_departure_minutes), # scheduled departure minutes\n",
    "                map_carrier_to_index[row.carrier],  # carrier\n",
    "                map_src_airport_to_index[row.src_airport],  # src_airport\n",
    "                map_src_airport_state_to_index[row.src_airport_state],  # src_airport_state\n",
    "            ]\n",
    "        )\n",
    "    )\n",
    "    \n",
    "\n",
    "# Split the data into training and test sets (30% held out for testing)\n",
    "(trainingData, testData) = data.randomSplit([0.7, 0.3])\n",
    "\n",
    "trainingData = trainingData.cache()\n",
    "testData = testData.cache()\n",
    "\n",
    "# declare information of categorical features\n",
    "# format:  feature_index : number_distinct_values\n",
    "categorical_info = {2 : num_carriers, 3: num_src_airports, 4: num_src_airport_states}"
   ]
  },
  {
   "cell_type": "code",
   "execution_count": 257,
   "metadata": {
    "collapsed": false
   },
   "outputs": [
    {
     "name": "stdout",
     "output_type": "stream",
     "text": [
      "Test Mean Squared Error = 447.3793826854714\n",
      "finish in 329.196377 seconds\n"
     ]
    }
   ],
   "source": [
    "from pyspark.mllib.tree import RandomForest, RandomForestModel\n",
    "t0 = time.time()\n",
    "# Train a RandomForest model.\n",
    "forest_model = RandomForest.trainRegressor(trainingData, categoricalFeaturesInfo=categorical_info,\n",
    "                                    numTrees=10, impurity='variance', maxDepth=14, maxBins=255)\n",
    "\n",
    "predictions_departure_delay = forest_model.predict(testData.map(lambda x: x.features))\n",
    "labelsAndPredictions = testData.map(lambda lp: lp.label).zip(predictions_departure_delay)\n",
    "bNum_test_data = sc.broadcast(testData.count())\n",
    "testMSE = labelsAndPredictions.map(\n",
    "    lambda p: (p[0]-p[1])**2/bNum_test_data.value).reduce(lambda v1,v2: v1+v2)\n",
    "print('Test Mean Squared Error = ' + str(testMSE))\n",
    "t1 = time.time()\n",
    "print(\"finish in %f seconds\" % (t1-t0))"
   ]
  },
  {
   "cell_type": "code",
   "execution_count": 19,
   "metadata": {
    "collapsed": false
   },
   "outputs": [
    {
     "name": "stdout",
     "output_type": "stream",
     "text": [
      "Test Mean Squared Error = 641.3511921700017\n",
      "finish in 61.098859 seconds\n"
     ]
    }
   ],
   "source": [
    "from pyspark.mllib.tree import RandomForest, RandomForestModel\n",
    "t0 = time.time()\n",
    "# Train a RandomForest model.\n",
    "forest_model = RandomForest.trainRegressor(trainingData, categoricalFeaturesInfo=categorical_info,\n",
    "                                    numTrees=10, impurity='variance', maxDepth=4, maxBins=255)\n",
    "\n",
    "predictions_departure_delay = forest_model.predict(testData.map(lambda x: x.features))\n",
    "labelsAndPredictions = testData.map(lambda lp: lp.label).zip(predictions_departure_delay)\n",
    "bNum_test_data = sc.broadcast(testData.count())\n",
    "testMSE = labelsAndPredictions.map(\n",
    "    lambda p: (p[0]-p[1])**2/bNum_test_data.value).reduce(lambda v1,v2: v1+v2)\n",
    "print('Test Mean Squared Error = ' + str(testMSE))\n",
    "t1 = time.time()\n",
    "print(\"finish in %f seconds\" % (t1-t0))"
   ]
  },
  {
   "cell_type": "markdown",
   "metadata": {},
   "source": [
    "## Second approximation : predict air_delay"
   ]
  },
  {
   "cell_type": "markdown",
   "metadata": {},
   "source": [
    "### Test 5 features : day_of_week, scheduled_arrival_minutes, dest_airport, is_WedThuFri, distance"
   ]
  },
  {
   "cell_type": "code",
   "execution_count": 47,
   "metadata": {
    "collapsed": true
   },
   "outputs": [],
   "source": [
    "data = (df.rdd)\\\n",
    "    .map(lambda row: \n",
    "        LabeledPoint( \n",
    "            int(row.air_delay), \n",
    "            [\n",
    "                int(row.day_of_week), # day of week\n",
    "                int(row.scheduled_arrival_minutes), # scheduled arrival minutes\n",
    "                int(row.distance),  # distance\n",
    "                map_dest_airport_to_index[row.dest_airport],  # dest_airport\n",
    "                int(row.is_WedThuFri) # is_WedThuFri\n",
    "            ]\n",
    "        )\n",
    "    )\n",
    "    \n",
    "\n",
    "# Split the data into training and test sets (30% held out for testing)\n",
    "(trainingData, testData) = data.randomSplit([0.7, 0.3])\n",
    "\n",
    "trainingData = trainingData.cache()\n",
    "testData = testData.cache()\n",
    "\n",
    "# declare information of categorical features\n",
    "# format:  feature_index : number_distinct_values\n",
    "categorical_info = {3: num_dest_airports, 4: 2}"
   ]
  },
  {
   "cell_type": "code",
   "execution_count": 48,
   "metadata": {
    "collapsed": false
   },
   "outputs": [
    {
     "name": "stdout",
     "output_type": "stream",
     "text": [
      "Test Mean Squared Error = 239.1927702319496\n",
      "finish in 243.781696 seconds\n"
     ]
    }
   ],
   "source": [
    "t0 = time.time()\n",
    "# Train a RandomForest model.\n",
    "forest_model = RandomForest.trainRegressor(trainingData, categoricalFeaturesInfo=categorical_info,\n",
    "                                    numTrees=10, impurity='variance', maxDepth=14, maxBins=255)\n",
    "\n",
    "predictions_air_delay = forest_model.predict(testData.map(lambda x: x.features))\n",
    "labelsAndPredictions = testData.map(lambda lp: lp.label).zip(predictions_air_delay)\n",
    "bNum_test_data = sc.broadcast(testData.count())\n",
    "testMSE = labelsAndPredictions.map(\n",
    "    lambda p: (p[0]-p[1])**2/bNum_test_data.value).reduce(lambda v1,v2: v1+v2)\n",
    "print('Test Mean Squared Error = ' + str(testMSE))\n",
    "t1 = time.time()\n",
    "print(\"finish in %f seconds\" % (t1-t0))"
   ]
  },
  {
   "cell_type": "markdown",
   "metadata": {},
   "source": [
    "## In the cells below we use some new features about plane data, therefore we need to work on a year posterior to 1994 (year 1994 does not include tail_number), we have chosen year 1995"
   ]
  },
  {
   "cell_type": "markdown",
   "metadata": {},
   "source": [
    "### Test 6 features : day_of_week, scheduled_arrival_minutes, dest_airport, is_WedThuFri, type_engine, type_aircraft"
   ]
  },
  {
   "cell_type": "code",
   "execution_count": 212,
   "metadata": {
    "collapsed": true
   },
   "outputs": [],
   "source": [
    "data = (df.rdd)\\\n",
    "    .map(lambda row: \n",
    "        LabeledPoint( \n",
    "            int(row.air_delay), \n",
    "            [\n",
    "                int(row.day_of_week), # day of week\n",
    "                int(row.scheduled_arrival_minutes), # scheduled arrival minutes\n",
    "                int(row.distance),  # distance\n",
    "                map_dest_airport_to_index[row.dest_airport],  # dest_airport\n",
    "                int(row.is_WedThuFri), # is_WedThuFri\n",
    "                0 if (row.type_engine==None) else int(row.type_engine), # type_engine\n",
    "                0 if (row.type_aircraft==None) else int(row.type_aircraft)-3 # type_aircraft\n",
    "            ]\n",
    "        )\n",
    "    )\n",
    "    \n",
    "\n",
    "# Split the data into training and test sets (30% held out for testing)\n",
    "(trainingData, testData) = data.randomSplit([0.7, 0.3])\n",
    "\n",
    "trainingData = trainingData.cache()\n",
    "testData = testData.cache()\n",
    "\n",
    "# declare information of categorical features\n",
    "# format:  feature_index : number_distinct_values\n",
    "categorical_info = {3: num_dest_airports, 4: 2, 5: 12, 6: 3}"
   ]
  },
  {
   "cell_type": "code",
   "execution_count": 213,
   "metadata": {
    "collapsed": false
   },
   "outputs": [
    {
     "name": "stdout",
     "output_type": "stream",
     "text": [
      "Test Mean Squared Error = 245.93803446626373\n",
      "finish in 268.223931 seconds\n"
     ]
    }
   ],
   "source": [
    "t0 = time.time()\n",
    "# Train a RandomForest model.\n",
    "forest_model = RandomForest.trainRegressor(trainingData, categoricalFeaturesInfo=categorical_info,\n",
    "                                    numTrees=10, impurity='variance', maxDepth=14, maxBins=255)\n",
    "\n",
    "predictions_air_delay = forest_model.predict(testData.map(lambda x: x.features))\n",
    "labelsAndPredictions = testData.map(lambda lp: lp.label).zip(predictions_air_delay)\n",
    "bNum_test_data = sc.broadcast(testData.count())\n",
    "testMSE = labelsAndPredictions.map(\n",
    "    lambda p: (p[0]-p[1])**2/bNum_test_data.value).reduce(lambda v1,v2: v1+v2)\n",
    "print('Test Mean Squared Error = ' + str(testMSE))\n",
    "t1 = time.time()\n",
    "print(\"finish in %f seconds\" % (t1-t0))"
   ]
  },
  {
   "cell_type": "markdown",
   "metadata": {},
   "source": [
    "### Test 7 features : day_of_week, scheduled_arrival_minutes, distance, dest_airport, is_WedThuFri, type_engine, type_aircraft, dest_airport_state"
   ]
  },
  {
   "cell_type": "code",
   "execution_count": 229,
   "metadata": {
    "collapsed": true
   },
   "outputs": [],
   "source": [
    "data = (df.rdd)\\\n",
    "    .map(lambda row: \n",
    "        LabeledPoint( \n",
    "            int(row.air_delay), \n",
    "            [\n",
    "                int(row.day_of_week), # day of week\n",
    "                int(row.scheduled_arrival_minutes), # scheduled arrival minutes\n",
    "                int(row.distance),  # distance\n",
    "                map_dest_airport_to_index[row.dest_airport],  # dest_airport\n",
    "                int(row.is_WedThuFri), # is_WedThuFri\n",
    "                0 if (row.type_engine==None) else int(row.type_engine), # type_engine\n",
    "                0 if (row.type_aircraft==None) else int(row.type_aircraft)-3, # type_aircraft\n",
    "                map_dest_airport_state_to_index[row.dest_airport_state]\n",
    "            ]\n",
    "        )\n",
    "    )\n",
    "    \n",
    "\n",
    "# Split the data into training and test sets (30% held out for testing)\n",
    "(trainingData, testData) = data.randomSplit([0.7, 0.3])\n",
    "\n",
    "trainingData = trainingData.cache()\n",
    "testData = testData.cache()\n",
    "\n",
    "# declare information of categorical features\n",
    "# format:  feature_index : number_distinct_values\n",
    "categorical_info = {3: num_dest_airports, 4: 2, 5: 12, 6: 3, 7: num_dest_airport_states}"
   ]
  },
  {
   "cell_type": "code",
   "execution_count": 230,
   "metadata": {
    "collapsed": false
   },
   "outputs": [
    {
     "name": "stdout",
     "output_type": "stream",
     "text": [
      "Test Mean Squared Error = 237.6697641749721\n",
      "finish in 291.635124 seconds\n"
     ]
    }
   ],
   "source": [
    "t0 = time.time()\n",
    "# Train a RandomForest model.\n",
    "forest_model = RandomForest.trainRegressor(trainingData, categoricalFeaturesInfo=categorical_info,\n",
    "                                    numTrees=10, impurity='variance', maxDepth=14, maxBins=255)\n",
    "\n",
    "predictions_air_delay = forest_model.predict(testData.map(lambda x: x.features))\n",
    "labelsAndPredictions = testData.map(lambda lp: lp.label).zip(predictions_air_delay)\n",
    "bNum_test_data = sc.broadcast(testData.count())\n",
    "testMSE = labelsAndPredictions.map(\n",
    "    lambda p: (p[0]-p[1])**2/bNum_test_data.value).reduce(lambda v1,v2: v1+v2)\n",
    "print('Test Mean Squared Error = ' + str(testMSE))\n",
    "t1 = time.time()\n",
    "print(\"finish in %f seconds\" % (t1-t0))"
   ]
  },
  {
   "cell_type": "markdown",
   "metadata": {},
   "source": [
    "### Test 8 features : day_of_week, scheduled_arrival_minutes, distance, dest_airport, is_WedThuFri, type_engine, type_aircraft, dest_airport_lat, dest_airport_long"
   ]
  },
  {
   "cell_type": "code",
   "execution_count": 20,
   "metadata": {
    "collapsed": true
   },
   "outputs": [],
   "source": [
    "data = (df.rdd)\\\n",
    "    .map(lambda row: \n",
    "        LabeledPoint( \n",
    "            int(row.air_delay), \n",
    "            [\n",
    "                int(row.day_of_week), # day of week\n",
    "                int(row.scheduled_arrival_minutes), # scheduled arrival minutes\n",
    "                int(row.distance),  # distance\n",
    "                map_dest_airport_to_index[row.dest_airport],  # dest_airport\n",
    "                int(row.is_WedThuFri), # is_WedThuFri\n",
    "                0 if (row.type_engine==None) else int(row.type_engine), # type_engine\n",
    "                0 if (row.type_aircraft==None) else int(row.type_aircraft)-3, # type_aircraft\n",
    "                float(row.dest_airport_lat), # dest_airport_lat\n",
    "                float(row.dest_airport_long) # dest_airport_long\n",
    "            ]\n",
    "        )\n",
    "    )\n",
    "    \n",
    "\n",
    "# Split the data into training and test sets (30% held out for testing)\n",
    "(trainingData, testData) = data.randomSplit([0.7, 0.3])\n",
    "\n",
    "trainingData = trainingData.cache()\n",
    "testData = testData.cache()\n",
    "\n",
    "# declare information of categorical features\n",
    "# format:  feature_index : number_distinct_values\n",
    "categorical_info = {3: num_dest_airports, 4: 2, 5: 12, 6: 3}"
   ]
  },
  {
   "cell_type": "code",
   "execution_count": 232,
   "metadata": {
    "collapsed": false
   },
   "outputs": [
    {
     "name": "stdout",
     "output_type": "stream",
     "text": [
      "Test Mean Squared Error = 241.06016105103953\n",
      "finish in 315.069328 seconds\n"
     ]
    }
   ],
   "source": [
    "t0 = time.time()\n",
    "# Train a RandomForest model.\n",
    "forest_model = RandomForest.trainRegressor(trainingData, categoricalFeaturesInfo=categorical_info,\n",
    "                                    numTrees=10, impurity='variance', maxDepth=14, maxBins=255)\n",
    "\n",
    "predictions_air_delay = forest_model.predict(testData.map(lambda x: x.features))\n",
    "labelsAndPredictions = testData.map(lambda lp: lp.label).zip(predictions_air_delay)\n",
    "bNum_test_data = sc.broadcast(testData.count())\n",
    "testMSE = labelsAndPredictions.map(\n",
    "    lambda p: (p[0]-p[1])**2/bNum_test_data.value).reduce(lambda v1,v2: v1+v2)\n",
    "print('Test Mean Squared Error = ' + str(testMSE))\n",
    "t1 = time.time()\n",
    "print(\"finish in %f seconds\" % (t1-t0))"
   ]
  },
  {
   "cell_type": "code",
   "execution_count": 21,
   "metadata": {
    "collapsed": false
   },
   "outputs": [
    {
     "name": "stdout",
     "output_type": "stream",
     "text": [
      "Test Mean Squared Error = 264.1403526721934\n",
      "finish in 50.674737 seconds\n"
     ]
    }
   ],
   "source": [
    "t0 = time.time()\n",
    "# Train a RandomForest model.\n",
    "forest_model = RandomForest.trainRegressor(trainingData, categoricalFeaturesInfo=categorical_info,\n",
    "                                    numTrees=10, impurity='variance', maxDepth=4, maxBins=255)\n",
    "\n",
    "predictions = forest_model.predict(testData.map(lambda x: x.features))\n",
    "labelsAndPredictions = testData.map(lambda lp: lp.label).zip(predictions)\n",
    "bNum_test_data = sc.broadcast(testData.count())\n",
    "testMSE = labelsAndPredictions.map(\n",
    "    lambda p: (p[0]-p[1])**2/bNum_test_data.value).reduce(lambda v1,v2: v1+v2)\n",
    "print('Test Mean Squared Error = ' + str(testMSE))\n",
    "t1 = time.time()\n",
    "print(\"finish in %f seconds\" % (t1-t0))"
   ]
  },
  {
   "cell_type": "markdown",
   "metadata": {},
   "source": [
    "### Test 9 features : day_of_week, scheduled_arrival_minutes, distance, dest_airport, type_engine, type_aircraft, is_weekend"
   ]
  },
  {
   "cell_type": "code",
   "execution_count": 96,
   "metadata": {
    "collapsed": true
   },
   "outputs": [],
   "source": [
    "data = (df.rdd)\\\n",
    "    .map(lambda row: \n",
    "        LabeledPoint( \n",
    "            int(row.air_delay), \n",
    "            [\n",
    "                int(row.day_of_week), # day of week\n",
    "                int(row.scheduled_arrival_minutes), # scheduled arrival minutes\n",
    "                int(row.distance),  # distance\n",
    "                map_dest_airport_to_index[row.dest_airport],  # dest_airport\n",
    "                int(row.is_WedThuFri), # is_WedThuFri\n",
    "                0 if (row.type_engine==None) else int(row.type_engine), # type_engine\n",
    "                0 if (row.type_aircraft==None) else int(row.type_aircraft)-3 # type_aircraft\n",
    "            ]\n",
    "        )\n",
    "    )\n",
    "    \n",
    "\n",
    "# Split the data into training and test sets (30% held out for testing)\n",
    "(trainingData, testData) = data.randomSplit([0.7, 0.3])\n",
    "\n",
    "trainingData = trainingData.cache()\n",
    "testData = testData.cache()\n",
    "\n",
    "# declare information of categorical features\n",
    "# format:  feature_index : number_distinct_values\n",
    "categorical_info = {3: num_dest_airports, 4: 2, 5: 12, 6: 3}"
   ]
  },
  {
   "cell_type": "code",
   "execution_count": 34,
   "metadata": {
    "collapsed": false
   },
   "outputs": [
    {
     "name": "stdout",
     "output_type": "stream",
     "text": [
      "Test Mean Squared Error = 243.65578096755576\n",
      "finish in 270.082523 seconds\n"
     ]
    }
   ],
   "source": [
    "t0 = time.time()\n",
    "# Train a RandomForest model.\n",
    "forest_model = RandomForest.trainRegressor(trainingData, categoricalFeaturesInfo=categorical_info,\n",
    "                                    numTrees=10, impurity='variance', maxDepth=14, maxBins=255)\n",
    "\n",
    "predictions_air_delay = forest_model.predict(testData.map(lambda x: x.features))\n",
    "labelsAndPredictions = testData.map(lambda lp: lp.label).zip(predictions_air_delay)\n",
    "bNum_test_data = sc.broadcast(testData.count())\n",
    "testMSE = labelsAndPredictions.map(\n",
    "    lambda p: (p[0]-p[1])**2/bNum_test_data.value).reduce(lambda v1,v2: v1+v2)\n",
    "print('Test Mean Squared Error = ' + str(testMSE))\n",
    "t1 = time.time()\n",
    "print(\"finish in %f seconds\" % (t1-t0))"
   ]
  },
  {
   "cell_type": "code",
   "execution_count": 97,
   "metadata": {
    "collapsed": false
   },
   "outputs": [
    {
     "name": "stdout",
     "output_type": "stream",
     "text": [
      "Test Mean Squared Error = 253.0267796417641\n",
      "finish in 47.134536 seconds\n"
     ]
    }
   ],
   "source": [
    "t0 = time.time()\n",
    "# Train a RandomForest model.\n",
    "forest_model = RandomForest.trainRegressor(trainingData, categoricalFeaturesInfo=categorical_info,\n",
    "                                    numTrees=10, impurity='variance', maxDepth=4, maxBins=255)\n",
    "\n",
    "predictions_air_delay = forest_model.predict(testData.map(lambda x: x.features))\n",
    "labelsAndPredictions = testData.map(lambda lp: lp.label).zip(predictions_air_delay)\n",
    "bNum_test_data = sc.broadcast(testData.count())\n",
    "testMSE = labelsAndPredictions.map(\n",
    "    lambda p: (p[0]-p[1])**2/bNum_test_data.value).reduce(lambda v1,v2: v1+v2)\n",
    "print('Test Mean Squared Error = ' + str(testMSE))\n",
    "t1 = time.time()\n",
    "print(\"finish in %f seconds\" % (t1-t0))"
   ]
  },
  {
   "cell_type": "markdown",
   "metadata": {},
   "source": [
    "### Test 10 features : scheduled_arrival_minutes, distance, dest_airport"
   ]
  },
  {
   "cell_type": "code",
   "execution_count": 19,
   "metadata": {
    "collapsed": false
   },
   "outputs": [
    {
     "name": "stdout",
     "output_type": "stream",
     "text": [
      "Test Mean Squared Error = 641.3511921700017\n",
      "finish in 61.098859 seconds\n"
     ]
    }
   ],
   "source": [
    "from pyspark.mllib.tree import RandomForest, RandomForestModel\n",
    "t0 = time.time()\n",
    "# Train a RandomForest model.\n",
    "forest_model = RandomForest.trainRegressor(trainingData, categoricalFeaturesInfo=categorical_info,\n",
    "                                    numTrees=10, impurity='variance', maxDepth=4, maxBins=255)\n",
    "\n",
    "predictions_departure_delay = forest_model.predict(testData.map(lambda x: x.features))\n",
    "labelsAndPredictions = testData.map(lambda lp: lp.label).zip(predictions_departure_delay)\n",
    "bNum_test_data = sc.broadcast(testData.count())\n",
    "testMSE = labelsAndPredictions.map(\n",
    "    lambda p: (p[0]-p[1])**2/bNum_test_data.value).reduce(lambda v1,v2: v1+v2)\n",
    "print('Test Mean Squared Error = ' + str(testMSE))\n",
    "t1 = time.time()\n",
    "print(\"finish in %f seconds\" % (t1-t0))"
   ]
  },
  {
   "cell_type": "code",
   "execution_count": 76,
   "metadata": {
    "collapsed": true
   },
   "outputs": [],
   "source": [
    "data = (df.rdd)\\\n",
    "    .map(lambda row: \n",
    "        LabeledPoint( \n",
    "            int(row.air_delay), \n",
    "            [\n",
    "                int(row.scheduled_arrival_minutes), # scheduled arrival minutes\n",
    "                int(row.distance),  # distance\n",
    "                map_dest_airport_to_index[row.dest_airport]  # dest_airport\n",
    "            ]\n",
    "        )\n",
    "    )\n",
    "    \n",
    "# Split the data into training and test sets (30% held out for testing)\n",
    "(trainingData, testData) = data.randomSplit([0.7, 0.3])\n",
    "\n",
    "trainingData = trainingData.cache()\n",
    "testData = testData.cache()\n",
    "\n",
    "# declare information of categorical features\n",
    "# format:  feature_index : number_distinct_values\n",
    "categorical_info = {2: num_dest_airports}"
   ]
  },
  {
   "cell_type": "code",
   "execution_count": 77,
   "metadata": {
    "collapsed": false
   },
   "outputs": [
    {
     "name": "stdout",
     "output_type": "stream",
     "text": [
      "Test Mean Squared Error = 250.01506384390868\n",
      "finish in 123.269305 seconds\n"
     ]
    }
   ],
   "source": [
    "t0 = time.time()\n",
    "# Train a RandomForest model.\n",
    "forest_model = RandomForest.trainRegressor(trainingData, categoricalFeaturesInfo=categorical_info,\n",
    "                                    numTrees=10, impurity='variance', maxDepth=14, maxBins=255)\n",
    "\n",
    "predictions_air_delay = forest_model.predict(testData.map(lambda x: x.features))\n",
    "labelsAndPredictions = testData.map(lambda lp: lp.label).zip(predictions_air_delay)\n",
    "bNum_test_data = sc.broadcast(testData.count())\n",
    "testMSE = labelsAndPredictions.map(\n",
    "    lambda p: (p[0]-p[1])**2/bNum_test_data.value).reduce(lambda v1,v2: v1+v2)\n",
    "print('Test Mean Squared Error = ' + str(testMSE))\n",
    "t1 = time.time()\n",
    "print(\"finish in %f seconds\" % (t1-t0))"
   ]
  },
  {
   "cell_type": "markdown",
   "metadata": {},
   "source": [
    "### Test 11 features : day_of_month"
   ]
  },
  {
   "cell_type": "code",
   "execution_count": 70,
   "metadata": {
    "collapsed": true
   },
   "outputs": [],
   "source": [
    "data = df.rdd\n",
    "\n",
    "data = (df.rdd)\\\n",
    "    .map(lambda row: \n",
    "        LabeledPoint( \n",
    "            int(row.air_delay), \n",
    "            [\n",
    "                int(row.day_of_month), # day_of_month\n",
    "            ]\n",
    "        )\n",
    "    )\n",
    "    \n",
    "# Split the data into training and test sets (30% held out for testing)\n",
    "(trainingData, testData) = data.randomSplit([0.7, 0.3])\n",
    "\n",
    "trainingData = trainingData.cache()\n",
    "testData = testData.cache()\n",
    "\n",
    "# declare information of categorical features\n",
    "# format:  feature_index : number_distinct_values\n",
    "categorical_info = {}"
   ]
  },
  {
   "cell_type": "code",
   "execution_count": 94,
   "metadata": {
    "collapsed": false
   },
   "outputs": [
    {
     "name": "stdout",
     "output_type": "stream",
     "text": [
      "Test Mean Squared Error = 249.122093057951\n",
      "finish in 38.663921 seconds\n"
     ]
    }
   ],
   "source": [
    "t0 = time.time()\n",
    "# Train a RandomForest model.\n",
    "forest_model = RandomForest.trainRegressor(trainingData, categoricalFeaturesInfo=categorical_info,\n",
    "                                    numTrees=10, impurity='variance', maxDepth=6, maxBins=255)\n",
    "\n",
    "predictions_air_delay = forest_model.predict(testData.map(lambda x: x.features))\n",
    "labelsAndPredictions = testData.map(lambda lp: lp.label).zip(predictions_air_delay)\n",
    "bNum_test_data = sc.broadcast(testData.count())\n",
    "testMSE = labelsAndPredictions.map(\n",
    "    lambda p: (p[0]-p[1])**2/bNum_test_data.value).reduce(lambda v1,v2: v1+v2)\n",
    "print('Test Mean Squared Error = ' + str(testMSE))\n",
    "t1 = time.time()\n",
    "print(\"finish in %f seconds\" % (t1-t0))"
   ]
  },
  {
   "cell_type": "markdown",
   "metadata": {},
   "source": [
    "blabla"
   ]
  },
  {
   "cell_type": "code",
   "execution_count": 71,
   "metadata": {
    "collapsed": false
   },
   "outputs": [
    {
     "name": "stdout",
     "output_type": "stream",
     "text": [
      "Test Mean Squared Error = 253.5227906566311\n",
      "finish in 38.432927 seconds\n"
     ]
    }
   ],
   "source": [
    "t0 = time.time()\n",
    "# Train a RandomForest model.\n",
    "forest_model = RandomForest.trainRegressor(trainingData, categoricalFeaturesInfo=categorical_info,\n",
    "                                    numTrees=10, impurity='variance', maxDepth=6, maxBins=255)\n",
    "\n",
    "predictions_air_delay = forest_model.predict(testData.map(lambda x: x.features))\n",
    "labelsAndPredictions = testData.map(lambda lp: lp.label).zip(predictions_air_delay)\n",
    "bNum_test_data = sc.broadcast(testData.count())\n",
    "testMSE = labelsAndPredictions.map(\n",
    "    lambda p: (p[0]-p[1])**2/bNum_test_data.value).reduce(lambda v1,v2: v1+v2)\n",
    "print('Test Mean Squared Error = ' + str(testMSE))\n",
    "t1 = time.time()\n",
    "print(\"finish in %f seconds\" % (t1-t0))"
   ]
  },
  {
   "cell_type": "markdown",
   "metadata": {},
   "source": [
    "## Prediction_departure + prediction_air"
   ]
  },
  {
   "cell_type": "code",
   "execution_count": 82,
   "metadata": {
    "collapsed": false
   },
   "outputs": [],
   "source": [
    "data = df.rdd\n",
    "(trainingData, testData) = data.randomSplit([0.7, 0.3])\n",
    "\n",
    "trainingData = trainingData.cache()\n",
    "testData = testData.cache()\n",
    "\n",
    "train_data_departure = (trainingData)\\\n",
    "    .map(lambda row: \n",
    "        LabeledPoint( \n",
    "            int(row.departure_delay), \n",
    "            [\n",
    "                int(row.day_of_week), # day of week\n",
    "                int(row.scheduled_departure_minutes), # scheduled departure minutes\n",
    "                map_carrier_to_index[row.carrier],  # carrier\n",
    "                map_src_airport_to_index[row.src_airport],  # src_airport\n",
    "                map_src_airport_state_to_index[row.src_airport_state],  # src_airport_state\n",
    "            ]\n",
    "        )\n",
    "    )\n",
    "    \n",
    "test_data_departure = (testData)\\\n",
    "    .map(lambda row: \n",
    "        LabeledPoint( \n",
    "            int(row.departure_delay), \n",
    "            [\n",
    "                int(row.day_of_week), # day of week\n",
    "                int(row.scheduled_departure_minutes), # scheduled departure minutes\n",
    "                map_carrier_to_index[row.carrier],  # carrier\n",
    "                map_src_airport_to_index[row.src_airport],  # src_airport\n",
    "                map_src_airport_state_to_index[row.src_airport_state],  # src_airport_state\n",
    "            ]\n",
    "        )\n",
    "    )\n",
    "\n",
    "# declare information of categorical features\n",
    "# format:  feature_index : number_distinct_values\n",
    "categorical_info = {2 : num_carriers, 3: num_src_airports, 4: num_src_airport_states}"
   ]
  },
  {
   "cell_type": "code",
   "execution_count": 83,
   "metadata": {
    "collapsed": false
   },
   "outputs": [
    {
     "name": "stdout",
     "output_type": "stream",
     "text": [
      "Test Mean Squared Error = 643.2690617627397\n",
      "finish in 54.831914 seconds\n"
     ]
    }
   ],
   "source": [
    "t0 = time.time()\n",
    "# Train a RandomForest model.\n",
    "forest_model = RandomForest.trainRegressor(train_data_departure, categoricalFeaturesInfo=categorical_info,\n",
    "                                    numTrees=10, impurity='variance', maxDepth=4, maxBins=255)\n",
    "\n",
    "predictions_departure_delay = forest_model.predict(test_data_departure.map(lambda x: x.features))\n",
    "labelsAndPredictions = test_data_departure.map(lambda lp: lp.label).zip(predictions_departure_delay)\n",
    "bNum_test_data = sc.broadcast(test_data_departure.count())\n",
    "testMSE = labelsAndPredictions.map(\n",
    "    lambda p: (p[0]-p[1])**2/bNum_test_data.value).reduce(lambda v1,v2: v1+v2)\n",
    "print('Test Mean Squared Error = ' + str(testMSE))\n",
    "t1 = time.time()\n",
    "print(\"finish in %f seconds\" % (t1-t0))"
   ]
  },
  {
   "cell_type": "code",
   "execution_count": 86,
   "metadata": {
    "collapsed": true
   },
   "outputs": [],
   "source": [
    "test_data_air = (testData)\\\n",
    "    .map(lambda row: \n",
    "        LabeledPoint( \n",
    "            int(row.air_delay), \n",
    "            [\n",
    "                int(row.day_of_month), # day_of_month\n",
    "            ]\n",
    "        )\n",
    "    )\n",
    "    \n",
    "training_data_air = (trainingData)\\\n",
    "    .map(lambda row: \n",
    "        LabeledPoint( \n",
    "            int(row.air_delay), \n",
    "            [\n",
    "                int(row.day_of_month), # day_of_month\n",
    "            ]\n",
    "        )\n",
    "    )\n",
    "    \n",
    "categorical_info = {}"
   ]
  },
  {
   "cell_type": "code",
   "execution_count": 87,
   "metadata": {
    "collapsed": false
   },
   "outputs": [
    {
     "name": "stdout",
     "output_type": "stream",
     "text": [
      "Test Mean Squared Error = 266.15117219031004\n",
      "finish in 24.373456 seconds\n"
     ]
    }
   ],
   "source": [
    "t0 = time.time()\n",
    "# Train a RandomForest model.\n",
    "forest_model = RandomForest.trainRegressor(training_data_air, categoricalFeaturesInfo=categorical_info,\n",
    "                                    numTrees=10, impurity='variance', maxDepth=6, maxBins=255)\n",
    "\n",
    "predictions_air_delay = forest_model.predict(test_data_air.map(lambda x: x.features))\n",
    "labelsAndPredictions = test_data_air.map(lambda lp: lp.label).zip(predictions_air_delay)\n",
    "bNum_test_data = sc.broadcast(test_data_air.count())\n",
    "testMSE = labelsAndPredictions.map(\n",
    "    lambda p: (p[0]-p[1])**2/bNum_test_data.value).reduce(lambda v1,v2: v1+v2)\n",
    "print('Test Mean Squared Error = ' + str(testMSE))\n",
    "t1 = time.time()\n",
    "print(\"finish in %f seconds\" % (t1-t0))"
   ]
  },
  {
   "cell_type": "code",
   "execution_count": 99,
   "metadata": {
    "collapsed": false
   },
   "outputs": [
    {
     "name": "stdout",
     "output_type": "stream",
     "text": [
      "Test Mean Squared Error = 668.2586313649962\n",
      "finish in 358.565121 seconds\n"
     ]
    }
   ],
   "source": [
    "t0 = time.time()\n",
    "predictions_total = predictions_air_delay.zip(predictions_departure_delay)\n",
    "predictions_total = predictions_total.map(lambda p: p[0]+p[1])\n",
    "labelsAndPredictions = testData.map(lambda lp: lp.arrival_delay).zip(predictions_total)\n",
    "bNum_test_data = sc.broadcast(testData.count())\n",
    "testMSE = labelsAndPredictions.map(\n",
    "    lambda p: (p[0]-p[1])**2/bNum_test_data.value).reduce(lambda v1,v2: v1+v2)\n",
    "print('Test Mean Squared Error = ' + str(testMSE))\n",
    "t1 = time.time()\n",
    "print(\"finish in %f seconds\" % (t1-t0))"
   ]
  },
  {
   "cell_type": "code",
   "execution_count": null,
   "metadata": {
    "collapsed": true
   },
   "outputs": [],
   "source": []
  },
  {
   "cell_type": "code",
   "execution_count": 56,
   "metadata": {
    "collapsed": false
   },
   "outputs": [
    {
     "name": "stderr",
     "output_type": "stream",
     "text": [
      "/opt/conda/lib/python3.4/site-packages/matplotlib/collections.py:590: FutureWarning: elementwise comparison failed; returning scalar instead, but in the future will perform elementwise comparison\n",
      "  if self._edgecolors == str('face'):\n"
     ]
    },
    {
     "data": {
      "image/png": "[encoded data removed]",
      "text/plain": [
       "<matplotlib.figure.Figure at 0x7fe6e751ce10>"
      ]
     },
     "metadata": {},
     "output_type": "display_data"
    }
   ],
   "source": [
    "mean_delay_per_airport = df.filter(df.departure_delay>=60).groupBy([\"src_airport_lat\", \"src_airport_long\"]).agg(\n",
    "    (func.mean('departure_delay')).alias('mean_delay')\n",
    ")\n",
    "    \n",
    "mean_delay_per_airport = (\n",
    "    mean_delay_per_airport\n",
    "        .orderBy('src_airport_lat')\n",
    "        .select(['src_airport_lat',\"src_airport_long\", 'mean_delay'])\n",
    "    )\n",
    "    \n",
    "# pdf_mean_delay_per_airport = pd.DataFrame(data=mean_delay_per_airport.collect())\n",
    "\n",
    "d = mean_delay_per_airport.mean_delay\n",
    "\n",
    "minimum = mean_delay_per_airport.select(\"mean_delay\").orderBy(\"mean_delay\").first().mean_delay\n",
    "maximum = mean_delay_per_airport.select(\"mean_delay\").orderBy(\"mean_delay\", ascending=False).first().mean_delay\n",
    "\n",
    "mean_delay_per_airport = mean_delay_per_airport[mean_delay_per_airport.mean_delay!=maximum] # ignoring worst airport\n",
    "mean_delay_per_airport = mean_delay_per_airport.withColumn(\"normalized_median_delay\", (d-minimum)/(maximum-minimum))\n",
    "pdf_mean_delay_per_airport = pd.DataFrame(data=mean_delay_per_airport.collect())\n",
    "x = pdf_mean_delay_per_airport[1]\n",
    "y = pdf_mean_delay_per_airport[0]\n",
    "area = np.pi * (15 * pdf_mean_delay_per_airport[3])**2  # 0 to 15 point radiuses\n",
    "\n",
    "plt.figure(figsize=(20,10))\n",
    "plt.scatter(x, y, s=area, alpha=0.5)\n",
    "plt.show()"
   ]
  },
  {
   "cell_type": "code",
   "execution_count": null,
   "metadata": {
    "collapsed": true
   },
   "outputs": [],
   "source": []
  }
 ],
 "metadata": {
  "kernelspec": {
   "display_name": "Python 3",
   "language": "python",
   "name": "python3"
  },
  "language_info": {
   "codemirror_mode": {
    "name": "ipython",
    "version": 3
   },
   "file_extension": ".py",
   "mimetype": "text/x-python",
   "name": "python",
   "nbconvert_exporter": "python",
   "pygments_lexer": "ipython3",
   "version": "3.4.4"
  }
 },
 "nbformat": 4,
 "nbformat_minor": 0
}
